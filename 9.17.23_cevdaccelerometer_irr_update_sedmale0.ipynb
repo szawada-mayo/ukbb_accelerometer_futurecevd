{
 "cells": [
  {
   "cell_type": "code",
   "execution_count": null,
   "id": "91c615a3-4394-4f26-8aa7-4b461fa87589",
   "metadata": {
    "tags": []
   },
   "outputs": [
    {
     "name": "stderr",
     "output_type": "stream",
     "text": [
      "Loading required package: foreign\n",
      "\n",
      "Loading required package: ggplot2\n",
      "\n",
      "Loading required package: MASS\n",
      "\n"
     ]
    }
   ],
   "source": [
    "require(foreign)\n",
    "require(ggplot2)\n",
    "require(MASS)"
   ]
  },
  {
   "cell_type": "code",
   "execution_count": null,
   "id": "1ce473cb-cb41-4f95-b6e6-174f68033f42",
   "metadata": {
    "tags": []
   },
   "outputs": [],
   "source": [
    "#use comorbid_sum to prevent collinearity"
   ]
  },
  {
   "cell_type": "code",
   "execution_count": null,
   "id": "d1312864-2dee-411b-9282-ad78e9a1a17b",
   "metadata": {
    "tags": []
   },
   "outputs": [],
   "source": [
    "import_file <- \"cevd_first_model.csv\"\n",
    "data <- read.csv(import_file)"
   ]
  },
  {
   "cell_type": "code",
   "execution_count": null,
   "id": "37130183-e64b-4018-896a-4ac275883a0a",
   "metadata": {
    "tags": []
   },
   "outputs": [],
   "source": [
    "#convert all PA behavior data to integers\n",
    "data$pa_sleep_convert <- as.integer(data$pa_sleep_convert)\n",
    "data$pa_sed_convert <- as.integer(data$pa_sed_convert)\n",
    "data$pa_light_convert <- as.integer(data$pa_light_convert)\n",
    "data$pa_mv_convert <- as.integer(data$pa_mv_convert)"
   ]
  },
  {
   "cell_type": "code",
   "execution_count": null,
   "id": "95ae91ed-18dd-49ae-9c1c-dd2ed4d0d208",
   "metadata": {
    "tags": []
   },
   "outputs": [
    {
     "name": "stdout",
     "output_type": "stream",
     "text": [
      "Number of future F01 diagnoses: 83 \n",
      "Number of future g45 diagnoses: 458 \n",
      "Number of future g46 diagnoses: 18 \n",
      "Number of future h34 diagnoses: 136 \n",
      "Number of future i60 diagnoses: 95 \n",
      "Number of future i61 diagnoses: 157 \n",
      "Number of future i62 diagnoses: 88 \n",
      "Number of future i63 diagnoses: 669 \n",
      "Number of future i64 diagnoses: 172 \n",
      "Number of future i65 diagnoses: 193 \n",
      "Number of future i66 diagnoses: 12 \n",
      "Number of future i67 diagnoses: 788 \n",
      "Number of future i68 diagnoses: 10 \n",
      "Number of future i69 diagnoses: 119 \n"
     ]
    }
   ],
   "source": [
    "#count number of future CeVD events by type\n",
    "data$f01_event <- as.integer(data$f01_event)\n",
    "count_events <- sum(data$f01_event == 1, na.rm = TRUE)\n",
    "cat(\"Number of future F01 diagnoses:\", count_events, \"\\n\")\n",
    "\n",
    "data$g45_event <- as.integer(data$g45_event)\n",
    "count_events <- sum(data$g45_event == 1, na.rm = TRUE)\n",
    "cat(\"Number of future g45 diagnoses:\", count_events, \"\\n\")\n",
    "\n",
    "data$g46_event <- as.integer(data$g46_event)\n",
    "count_events <- sum(data$g46_event == 1, na.rm = TRUE)\n",
    "cat(\"Number of future g46 diagnoses:\", count_events, \"\\n\")\n",
    "\n",
    "data$h34_event <- as.integer(data$h34_event)\n",
    "count_events <- sum(data$h34_event == 1, na.rm = TRUE)\n",
    "cat(\"Number of future h34 diagnoses:\", count_events, \"\\n\")\n",
    "\n",
    "data$i60_event <- as.integer(data$i60_event)\n",
    "count_events <- sum(data$i60_event == 1, na.rm = TRUE)\n",
    "cat(\"Number of future i60 diagnoses:\", count_events, \"\\n\")\n",
    "\n",
    "data$i61_event <- as.integer(data$i61_event)\n",
    "count_events <- sum(data$i61_event == 1, na.rm = TRUE)\n",
    "cat(\"Number of future i61 diagnoses:\", count_events, \"\\n\")\n",
    "\n",
    "data$i62_event <- as.integer(data$i62_event)\n",
    "count_events <- sum(data$i62_event == 1, na.rm = TRUE)\n",
    "cat(\"Number of future i62 diagnoses:\", count_events, \"\\n\")\n",
    "\n",
    "data$i63_event <- as.integer(data$i63_event)\n",
    "count_events <- sum(data$i63_event == 1, na.rm = TRUE)\n",
    "cat(\"Number of future i63 diagnoses:\", count_events, \"\\n\")\n",
    "\n",
    "data$i64_event <- as.integer(data$i64_event)\n",
    "count_events <- sum(data$i64_event == 1, na.rm = TRUE)\n",
    "cat(\"Number of future i64 diagnoses:\", count_events, \"\\n\")\n",
    "\n",
    "data$i65_event <- as.integer(data$i65_event)\n",
    "count_events <- sum(data$i65_event == 1, na.rm = TRUE)\n",
    "cat(\"Number of future i65 diagnoses:\", count_events, \"\\n\")\n",
    "\n",
    "data$i66_event <- as.integer(data$i66_event)\n",
    "count_events <- sum(data$i66_event == 1, na.rm = TRUE)\n",
    "cat(\"Number of future i66 diagnoses:\", count_events, \"\\n\")\n",
    "\n",
    "data$i67_event <- as.integer(data$i67_event)\n",
    "count_events <- sum(data$i67_event == 1, na.rm = TRUE)\n",
    "cat(\"Number of future i67 diagnoses:\", count_events, \"\\n\")\n",
    "\n",
    "data$i68_event <- as.integer(data$i68_event)\n",
    "count_events <- sum(data$i68_event == 1, na.rm = TRUE)\n",
    "cat(\"Number of future i68 diagnoses:\", count_events, \"\\n\")\n",
    "\n",
    "data$i69_event <- as.integer(data$i69_event)\n",
    "count_events <- sum(data$i69_event == 1, na.rm = TRUE)\n",
    "cat(\"Number of future i69 diagnoses:\", count_events, \"\\n\")"
   ]
  },
  {
   "cell_type": "code",
   "execution_count": null,
   "id": "277bfec7-ff12-46fd-8536-60704a2cee22",
   "metadata": {
    "tags": []
   },
   "outputs": [
    {
     "name": "stdout",
     "output_type": "stream",
     "text": [
      "Mean sleep - exp: 529.8271 \n",
      "Standard Deviation sleep - exp: 81.92366 \n",
      "Mean sleep - control: 526.8671 \n",
      "Standard Deviation sleep - control: 77.73739 \n",
      "Mean sed - exp': 572.7892 \n",
      "Standard Deviation sed - exp': 112.5437 \n",
      "Mean sed - control': 563.5803 \n",
      "Standard Deviation sed - control': 109.1571 \n",
      "Mean lpa - exp: 297.6648 \n",
      "Standard Deviation  lpa - exp: 102.0847 \n",
      "Mean of  lpa - control: 306.3444 \n",
      "Standard Deviation  lpa - control: 99.17302 \n",
      "Mean mvpa - exp: 37.75867 \n",
      "Standard Deviation mvpa - exp: 33.51769 \n",
      "Mean mvpa - control': 41.21821 \n",
      "Standard Deviation mvpa - control: 34.66285 \n"
     ]
    }
   ],
   "source": [
    "#sleep mean and sd\n",
    "mean_pa_sleep_convert <- mean(subset(data, cevd_event == 1)$pa_sleep_convert, na.rm = TRUE)\n",
    "sd_pa_sleep_convert <- sd(subset(data, cevd_event == 1)$pa_sleep_convert, na.rm = TRUE)\n",
    "cat(\"Mean sleep - exp:\", mean_pa_sleep_convert, \"\\n\")\n",
    "cat(\"Standard Deviation sleep - exp:\", sd_pa_sleep_convert, \"\\n\")\n",
    "mean_pa_sleep_convert <- mean(subset(data, cevd_event == 0)$pa_sleep_convert, na.rm = TRUE)\n",
    "sd_pa_sleep_convert <- sd(subset(data, cevd_event == 0)$pa_sleep_convert, na.rm = TRUE)\n",
    "cat(\"Mean sleep - control:\", mean_pa_sleep_convert, \"\\n\")\n",
    "cat(\"Standard Deviation sleep - control:\", sd_pa_sleep_convert, \"\\n\")\n",
    "#sed mean and sd\n",
    "mean_pa_sed_convert <- mean(subset(data, cevd_event == 1)$pa_sed_convert, na.rm = TRUE)\n",
    "sd_pa_sed_convert <- sd(subset(data, cevd_event == 1)$pa_sed_convert, na.rm = TRUE)\n",
    "cat(\"Mean sed - exp':\", mean_pa_sed_convert, \"\\n\")\n",
    "cat(\"Standard Deviation sed - exp':\", sd_pa_sed_convert, \"\\n\")\n",
    "mean_pa_sed_convert <- mean(subset(data, cevd_event == 0)$pa_sed_convert, na.rm = TRUE)\n",
    "sd_pa_sed_convert <- sd(subset(data, cevd_event == 0)$pa_sed_convert, na.rm = TRUE)\n",
    "cat(\"Mean sed - control':\", mean_pa_sed_convert, \"\\n\")\n",
    "cat(\"Standard Deviation sed - control':\", sd_pa_sed_convert, \"\\n\")\n",
    "#lpa mean and sd\n",
    "mean_pa_light_convert <- mean(subset(data, cevd_event == 1)$pa_light_convert, na.rm = TRUE)\n",
    "sd_pa_light_convert <- sd(subset(data, cevd_event == 1)$pa_light_convert, na.rm = TRUE)\n",
    "cat(\"Mean lpa - exp:\", mean_pa_light_convert, \"\\n\")\n",
    "cat(\"Standard Deviation  lpa - exp:\", sd_pa_light_convert, \"\\n\")\n",
    "mean_pa_light_convert <- mean(subset(data, cevd_event == 0)$pa_light_convert, na.rm = TRUE)\n",
    "sd_pa_light_convert <- sd(subset(data, cevd_event == 0)$pa_light_convert, na.rm = TRUE)\n",
    "cat(\"Mean of  lpa - control:\", mean_pa_light_convert, \"\\n\")\n",
    "cat(\"Standard Deviation  lpa - control:\", sd_pa_light_convert, \"\\n\")\n",
    "#mvpa mean and sd\n",
    "mean_pa_mv_convert <- mean(subset(data, cevd_event == 1)$pa_mv_convert, na.rm = TRUE)\n",
    "sd_pa_mv_convert <- sd(subset(data, cevd_event == 1)$pa_mv_convert, na.rm = TRUE)\n",
    "cat(\"Mean mvpa - exp:\", mean_pa_mv_convert, \"\\n\")\n",
    "cat(\"Standard Deviation mvpa - exp:\", sd_pa_mv_convert, \"\\n\")\n",
    "mean_pa_mv_convert <- mean(subset(data, cevd_event == 0)$pa_mv_convert, na.rm = TRUE)\n",
    "sd_pa_mv_convert <- sd(subset(data, cevd_event == 0)$pa_mv_convert, na.rm = TRUE)\n",
    "cat(\"Mean mvpa - control':\", mean_pa_mv_convert, \"\\n\")\n",
    "cat(\"Standard Deviation mvpa - control:\", sd_pa_mv_convert, \"\\n\")"
   ]
  },
  {
   "cell_type": "code",
   "execution_count": null,
   "id": "ba5e7ce6-1fa0-424a-9ee1-3bac866f4327",
   "metadata": {
    "tags": []
   },
   "outputs": [],
   "source": [
    "#create male subgroups\n",
    "data_male_0 <- data[data$male == 0, ]\n",
    "data_male_1 <- data[data$male == 1, ]"
   ]
  },
  {
   "cell_type": "code",
   "execution_count": null,
   "id": "4684e571-fc91-4f9e-bc50-b2f2d4df838d",
   "metadata": {
    "tags": []
   },
   "outputs": [
    {
     "data": {
      "text/plain": [
       "\n",
       "Call:\n",
       "glm.nb(formula = pa_sed_convert ~ cevd_event + male + alc_freq_filter + \n",
       "    smok_stat + bmi_filter + full_screen_time_filter + employ_status_array_filter + \n",
       "    comorb_sum + gov_assistance_filter + dep_diag_yes, data = data_male_0, \n",
       "    init.theta = 28.51974561, link = log)\n",
       "\n",
       "Coefficients: (1 not defined because of singularities)\n",
       "                             Estimate Std. Error  z value Pr(>|z|)    \n",
       "(Intercept)                 6.318e+00  3.221e-03 1961.288  < 2e-16 ***\n",
       "cevd_event                  7.182e-03  6.120e-03    1.174    0.241    \n",
       "male                               NA         NA       NA       NA    \n",
       "alc_freq_filter             1.166e-05  1.349e-03    0.009    0.993    \n",
       "smok_stat                   8.528e-03  1.523e-03    5.599 2.15e-08 ***\n",
       "bmi_filter                 -5.604e-02  1.907e-03  -29.389  < 2e-16 ***\n",
       "full_screen_time_filter    -3.237e-02  2.328e-03  -13.906  < 2e-16 ***\n",
       "employ_status_array_filter  1.839e-02  1.634e-03   11.251  < 2e-16 ***\n",
       "comorb_sum                  1.020e-02  1.483e-03    6.876 6.14e-12 ***\n",
       "gov_assistance_filter       6.004e-02  5.703e-03   10.528  < 2e-16 ***\n",
       "dep_diag_yes                4.650e-03  3.008e-03    1.546    0.122    \n",
       "---\n",
       "Signif. codes:  0 ‘***’ 0.001 ‘**’ 0.01 ‘*’ 0.05 ‘.’ 0.1 ‘ ’ 1\n",
       "\n",
       "(Dispersion parameter for Negative Binomial(28.5197) family taken to be 1)\n",
       "\n",
       "    Null deviance: 45915  on 43899  degrees of freedom\n",
       "Residual deviance: 44240  on 43890  degrees of freedom\n",
       "AIC: 532248\n",
       "\n",
       "Number of Fisher Scoring iterations: 1\n",
       "\n",
       "\n",
       "              Theta:  28.520 \n",
       "          Std. Err.:  0.202 \n",
       "\n",
       " 2 x log-likelihood:  -532225.621 "
      ]
     },
     "metadata": {},
     "output_type": "display_data"
    },
    {
     "name": "stderr",
     "output_type": "stream",
     "text": [
      "Waiting for profiling to be done...\n",
      "\n"
     ]
    },
    {
     "data": {
      "text/html": [
       "<table class=\"dataframe\">\n",
       "<caption>A matrix: 11 × 3 of type dbl</caption>\n",
       "<thead>\n",
       "\t<tr><th></th><th scope=col>Estimate</th><th scope=col>2.5 %</th><th scope=col>97.5 %</th></tr>\n",
       "</thead>\n",
       "<tbody>\n",
       "\t<tr><th scope=row>(Intercept)</th><td> 6.317819e+00</td><td> 6.311497569</td><td> 6.324141773</td></tr>\n",
       "\t<tr><th scope=row>cevd_event</th><td> 7.182274e-03</td><td>-0.004795760</td><td> 0.019201019</td></tr>\n",
       "\t<tr><th scope=row>male</th><td>           NA</td><td>          NA</td><td>          NA</td></tr>\n",
       "\t<tr><th scope=row>alc_freq_filter</th><td> 1.165928e-05</td><td>-0.002633570</td><td> 0.002657081</td></tr>\n",
       "\t<tr><th scope=row>smok_stat</th><td> 8.528419e-03</td><td> 0.005550257</td><td> 0.011508113</td></tr>\n",
       "\t<tr><th scope=row>bmi_filter</th><td>-5.604097e-02</td><td>-0.059782448</td><td>-0.052299919</td></tr>\n",
       "\t<tr><th scope=row>full_screen_time_filter</th><td>-3.236711e-02</td><td>-0.036930501</td><td>-0.027800283</td></tr>\n",
       "\t<tr><th scope=row>employ_status_array_filter</th><td> 1.838520e-02</td><td> 0.015158120</td><td> 0.021612559</td></tr>\n",
       "\t<tr><th scope=row>comorb_sum</th><td> 1.019665e-02</td><td> 0.007293848</td><td> 0.013102011</td></tr>\n",
       "\t<tr><th scope=row>gov_assistance_filter</th><td> 6.004002e-02</td><td> 0.048873537</td><td> 0.071239561</td></tr>\n",
       "\t<tr><th scope=row>dep_diag_yes</th><td> 4.650420e-03</td><td>-0.001239950</td><td> 0.010548819</td></tr>\n",
       "</tbody>\n",
       "</table>\n"
      ],
      "text/latex": [
       "A matrix: 11 × 3 of type dbl\n",
       "\\begin{tabular}{r|lll}\n",
       "  & Estimate & 2.5 \\% & 97.5 \\%\\\\\n",
       "\\hline\n",
       "\t(Intercept) &  6.317819e+00 &  6.311497569 &  6.324141773\\\\\n",
       "\tcevd\\_event &  7.182274e-03 & -0.004795760 &  0.019201019\\\\\n",
       "\tmale &            NA &           NA &           NA\\\\\n",
       "\talc\\_freq\\_filter &  1.165928e-05 & -0.002633570 &  0.002657081\\\\\n",
       "\tsmok\\_stat &  8.528419e-03 &  0.005550257 &  0.011508113\\\\\n",
       "\tbmi\\_filter & -5.604097e-02 & -0.059782448 & -0.052299919\\\\\n",
       "\tfull\\_screen\\_time\\_filter & -3.236711e-02 & -0.036930501 & -0.027800283\\\\\n",
       "\temploy\\_status\\_array\\_filter &  1.838520e-02 &  0.015158120 &  0.021612559\\\\\n",
       "\tcomorb\\_sum &  1.019665e-02 &  0.007293848 &  0.013102011\\\\\n",
       "\tgov\\_assistance\\_filter &  6.004002e-02 &  0.048873537 &  0.071239561\\\\\n",
       "\tdep\\_diag\\_yes &  4.650420e-03 & -0.001239950 &  0.010548819\\\\\n",
       "\\end{tabular}\n"
      ],
      "text/markdown": [
       "\n",
       "A matrix: 11 × 3 of type dbl\n",
       "\n",
       "| <!--/--> | Estimate | 2.5 % | 97.5 % |\n",
       "|---|---|---|---|\n",
       "| (Intercept) |  6.317819e+00 |  6.311497569 |  6.324141773 |\n",
       "| cevd_event |  7.182274e-03 | -0.004795760 |  0.019201019 |\n",
       "| male |            NA |           NA |           NA |\n",
       "| alc_freq_filter |  1.165928e-05 | -0.002633570 |  0.002657081 |\n",
       "| smok_stat |  8.528419e-03 |  0.005550257 |  0.011508113 |\n",
       "| bmi_filter | -5.604097e-02 | -0.059782448 | -0.052299919 |\n",
       "| full_screen_time_filter | -3.236711e-02 | -0.036930501 | -0.027800283 |\n",
       "| employ_status_array_filter |  1.838520e-02 |  0.015158120 |  0.021612559 |\n",
       "| comorb_sum |  1.019665e-02 |  0.007293848 |  0.013102011 |\n",
       "| gov_assistance_filter |  6.004002e-02 |  0.048873537 |  0.071239561 |\n",
       "| dep_diag_yes |  4.650420e-03 | -0.001239950 |  0.010548819 |\n",
       "\n"
      ],
      "text/plain": [
       "                           Estimate      2.5 %        97.5 %      \n",
       "(Intercept)                 6.317819e+00  6.311497569  6.324141773\n",
       "cevd_event                  7.182274e-03 -0.004795760  0.019201019\n",
       "male                                  NA           NA           NA\n",
       "alc_freq_filter             1.165928e-05 -0.002633570  0.002657081\n",
       "smok_stat                   8.528419e-03  0.005550257  0.011508113\n",
       "bmi_filter                 -5.604097e-02 -0.059782448 -0.052299919\n",
       "full_screen_time_filter    -3.236711e-02 -0.036930501 -0.027800283\n",
       "employ_status_array_filter  1.838520e-02  0.015158120  0.021612559\n",
       "comorb_sum                  1.019665e-02  0.007293848  0.013102011\n",
       "gov_assistance_filter       6.004002e-02  0.048873537  0.071239561\n",
       "dep_diag_yes                4.650420e-03 -0.001239950  0.010548819"
      ]
     },
     "metadata": {},
     "output_type": "display_data"
    },
    {
     "data": {
      "text/html": [
       "<table class=\"dataframe\">\n",
       "<caption>A matrix: 11 × 3 of type dbl</caption>\n",
       "<thead>\n",
       "\t<tr><th></th><th scope=col>Estimate</th><th scope=col>2.5 %</th><th scope=col>97.5 %</th></tr>\n",
       "</thead>\n",
       "<tbody>\n",
       "\t<tr><th scope=row>(Intercept)</th><td>554.3623324</td><td>550.8692960</td><td>557.8788214</td></tr>\n",
       "\t<tr><th scope=row>cevd_event</th><td>  1.0072081</td><td>  0.9952157</td><td>  1.0193865</td></tr>\n",
       "\t<tr><th scope=row>male</th><td>         NA</td><td>         NA</td><td>         NA</td></tr>\n",
       "\t<tr><th scope=row>alc_freq_filter</th><td>  1.0000117</td><td>  0.9973699</td><td>  1.0026606</td></tr>\n",
       "\t<tr><th scope=row>smok_stat</th><td>  1.0085649</td><td>  1.0055657</td><td>  1.0115746</td></tr>\n",
       "\t<tr><th scope=row>bmi_filter</th><td>  0.9455004</td><td>  0.9419694</td><td>  0.9490442</td></tr>\n",
       "\t<tr><th scope=row>full_screen_time_filter</th><td>  0.9681511</td><td>  0.9637431</td><td>  0.9725826</td></tr>\n",
       "\t<tr><th scope=row>employ_status_array_filter</th><td>  1.0185553</td><td>  1.0152736</td><td>  1.0218478</td></tr>\n",
       "\t<tr><th scope=row>comorb_sum</th><td>  1.0102488</td><td>  1.0073205</td><td>  1.0131882</td></tr>\n",
       "\t<tr><th scope=row>gov_assistance_filter</th><td>  1.0618790</td><td>  1.0500875</td><td>  1.0738384</td></tr>\n",
       "\t<tr><th scope=row>dep_diag_yes</th><td>  1.0046612</td><td>  0.9987608</td><td>  1.0106047</td></tr>\n",
       "</tbody>\n",
       "</table>\n"
      ],
      "text/latex": [
       "A matrix: 11 × 3 of type dbl\n",
       "\\begin{tabular}{r|lll}\n",
       "  & Estimate & 2.5 \\% & 97.5 \\%\\\\\n",
       "\\hline\n",
       "\t(Intercept) & 554.3623324 & 550.8692960 & 557.8788214\\\\\n",
       "\tcevd\\_event &   1.0072081 &   0.9952157 &   1.0193865\\\\\n",
       "\tmale &          NA &          NA &          NA\\\\\n",
       "\talc\\_freq\\_filter &   1.0000117 &   0.9973699 &   1.0026606\\\\\n",
       "\tsmok\\_stat &   1.0085649 &   1.0055657 &   1.0115746\\\\\n",
       "\tbmi\\_filter &   0.9455004 &   0.9419694 &   0.9490442\\\\\n",
       "\tfull\\_screen\\_time\\_filter &   0.9681511 &   0.9637431 &   0.9725826\\\\\n",
       "\temploy\\_status\\_array\\_filter &   1.0185553 &   1.0152736 &   1.0218478\\\\\n",
       "\tcomorb\\_sum &   1.0102488 &   1.0073205 &   1.0131882\\\\\n",
       "\tgov\\_assistance\\_filter &   1.0618790 &   1.0500875 &   1.0738384\\\\\n",
       "\tdep\\_diag\\_yes &   1.0046612 &   0.9987608 &   1.0106047\\\\\n",
       "\\end{tabular}\n"
      ],
      "text/markdown": [
       "\n",
       "A matrix: 11 × 3 of type dbl\n",
       "\n",
       "| <!--/--> | Estimate | 2.5 % | 97.5 % |\n",
       "|---|---|---|---|\n",
       "| (Intercept) | 554.3623324 | 550.8692960 | 557.8788214 |\n",
       "| cevd_event |   1.0072081 |   0.9952157 |   1.0193865 |\n",
       "| male |          NA |          NA |          NA |\n",
       "| alc_freq_filter |   1.0000117 |   0.9973699 |   1.0026606 |\n",
       "| smok_stat |   1.0085649 |   1.0055657 |   1.0115746 |\n",
       "| bmi_filter |   0.9455004 |   0.9419694 |   0.9490442 |\n",
       "| full_screen_time_filter |   0.9681511 |   0.9637431 |   0.9725826 |\n",
       "| employ_status_array_filter |   1.0185553 |   1.0152736 |   1.0218478 |\n",
       "| comorb_sum |   1.0102488 |   1.0073205 |   1.0131882 |\n",
       "| gov_assistance_filter |   1.0618790 |   1.0500875 |   1.0738384 |\n",
       "| dep_diag_yes |   1.0046612 |   0.9987608 |   1.0106047 |\n",
       "\n"
      ],
      "text/plain": [
       "                           Estimate    2.5 %       97.5 %     \n",
       "(Intercept)                554.3623324 550.8692960 557.8788214\n",
       "cevd_event                   1.0072081   0.9952157   1.0193865\n",
       "male                                NA          NA          NA\n",
       "alc_freq_filter              1.0000117   0.9973699   1.0026606\n",
       "smok_stat                    1.0085649   1.0055657   1.0115746\n",
       "bmi_filter                   0.9455004   0.9419694   0.9490442\n",
       "full_screen_time_filter      0.9681511   0.9637431   0.9725826\n",
       "employ_status_array_filter   1.0185553   1.0152736   1.0218478\n",
       "comorb_sum                   1.0102488   1.0073205   1.0131882\n",
       "gov_assistance_filter        1.0618790   1.0500875   1.0738384\n",
       "dep_diag_yes                 1.0046612   0.9987608   1.0106047"
      ]
     },
     "metadata": {},
     "output_type": "display_data"
    },
    {
     "name": "stderr",
     "output_type": "stream",
     "text": [
      "Waiting for profiling to be done...\n",
      "\n"
     ]
    },
    {
     "data": {
      "text/html": [
       "<table class=\"dataframe\">\n",
       "<caption>A matrix: 11 × 2 of type dbl</caption>\n",
       "<thead>\n",
       "\t<tr><th></th><th scope=col>0.2 %</th><th scope=col>99.8 %</th></tr>\n",
       "</thead>\n",
       "<tbody>\n",
       "\t<tr><th scope=row>(Intercept)</th><td>549.3127407</td><td>559.4610801</td></tr>\n",
       "\t<tr><th scope=row>cevd_event</th><td>  0.9899051</td><td>  1.0249010</td></tr>\n",
       "\t<tr><th scope=row>male</th><td>         NA</td><td>         NA</td></tr>\n",
       "\t<tr><th scope=row>alc_freq_filter</th><td>  0.9961893</td><td>  1.0038491</td></tr>\n",
       "\t<tr><th scope=row>smok_stat</th><td>  1.0042261</td><td>  1.0129257</td></tr>\n",
       "\t<tr><th scope=row>bmi_filter</th><td>  0.9403925</td><td>  0.9506352</td></tr>\n",
       "\t<tr><th scope=row>full_screen_time_filter</th><td>  0.9617769</td><td>  0.9745746</td></tr>\n",
       "\t<tr><th scope=row>employ_status_array_filter</th><td>  1.0138076</td><td>  1.0233257</td></tr>\n",
       "\t<tr><th scope=row>comorb_sum</th><td>  1.0060129</td><td>  1.0145080</td></tr>\n",
       "\t<tr><th scope=row>gov_assistance_filter</th><td>  1.0448612</td><td>  1.0792488</td></tr>\n",
       "\t<tr><th scope=row>dep_diag_yes</th><td>  0.9961325</td><td>  1.0132800</td></tr>\n",
       "</tbody>\n",
       "</table>\n"
      ],
      "text/latex": [
       "A matrix: 11 × 2 of type dbl\n",
       "\\begin{tabular}{r|ll}\n",
       "  & 0.2 \\% & 99.8 \\%\\\\\n",
       "\\hline\n",
       "\t(Intercept) & 549.3127407 & 559.4610801\\\\\n",
       "\tcevd\\_event &   0.9899051 &   1.0249010\\\\\n",
       "\tmale &          NA &          NA\\\\\n",
       "\talc\\_freq\\_filter &   0.9961893 &   1.0038491\\\\\n",
       "\tsmok\\_stat &   1.0042261 &   1.0129257\\\\\n",
       "\tbmi\\_filter &   0.9403925 &   0.9506352\\\\\n",
       "\tfull\\_screen\\_time\\_filter &   0.9617769 &   0.9745746\\\\\n",
       "\temploy\\_status\\_array\\_filter &   1.0138076 &   1.0233257\\\\\n",
       "\tcomorb\\_sum &   1.0060129 &   1.0145080\\\\\n",
       "\tgov\\_assistance\\_filter &   1.0448612 &   1.0792488\\\\\n",
       "\tdep\\_diag\\_yes &   0.9961325 &   1.0132800\\\\\n",
       "\\end{tabular}\n"
      ],
      "text/markdown": [
       "\n",
       "A matrix: 11 × 2 of type dbl\n",
       "\n",
       "| <!--/--> | 0.2 % | 99.8 % |\n",
       "|---|---|---|\n",
       "| (Intercept) | 549.3127407 | 559.4610801 |\n",
       "| cevd_event |   0.9899051 |   1.0249010 |\n",
       "| male |          NA |          NA |\n",
       "| alc_freq_filter |   0.9961893 |   1.0038491 |\n",
       "| smok_stat |   1.0042261 |   1.0129257 |\n",
       "| bmi_filter |   0.9403925 |   0.9506352 |\n",
       "| full_screen_time_filter |   0.9617769 |   0.9745746 |\n",
       "| employ_status_array_filter |   1.0138076 |   1.0233257 |\n",
       "| comorb_sum |   1.0060129 |   1.0145080 |\n",
       "| gov_assistance_filter |   1.0448612 |   1.0792488 |\n",
       "| dep_diag_yes |   0.9961325 |   1.0132800 |\n",
       "\n"
      ],
      "text/plain": [
       "                           0.2 %       99.8 %     \n",
       "(Intercept)                549.3127407 559.4610801\n",
       "cevd_event                   0.9899051   1.0249010\n",
       "male                                NA          NA\n",
       "alc_freq_filter              0.9961893   1.0038491\n",
       "smok_stat                    1.0042261   1.0129257\n",
       "bmi_filter                   0.9403925   0.9506352\n",
       "full_screen_time_filter      0.9617769   0.9745746\n",
       "employ_status_array_filter   1.0138076   1.0233257\n",
       "comorb_sum                   1.0060129   1.0145080\n",
       "gov_assistance_filter        1.0448612   1.0792488\n",
       "dep_diag_yes                 0.9961325   1.0132800"
      ]
     },
     "metadata": {},
     "output_type": "display_data"
    },
    {
     "name": "stdout",
     "output_type": "stream",
     "text": [
      "                                 0.2 %      99.8 %\n",
      "(Intercept)                549.3127407 559.4610801\n",
      "cevd_event                   0.9899051   1.0249010\n",
      "male                                NA          NA\n",
      "alc_freq_filter              0.9961893   1.0038491\n",
      "smok_stat                    1.0042261   1.0129257\n",
      "bmi_filter                   0.9403925   0.9506352\n",
      "full_screen_time_filter      0.9617769   0.9745746\n",
      "employ_status_array_filter   1.0138076   1.0233257\n",
      "comorb_sum                   1.0060129   1.0145080\n",
      "gov_assistance_filter        1.0448612   1.0792488\n",
      "dep_diag_yes                 0.9961325   1.0132800\n"
     ]
    }
   ],
   "source": [
    "summary(m1 <- glm.nb(pa_sed_convert ~ cevd_event + male + alc_freq_filter + smok_stat + bmi_filter + full_screen_time_filter + employ_status_array_filter + comorb_sum + gov_assistance_filter + dep_diag_yes, data = data_male_0))\n",
    "(est <- cbind(Estimate = coef(m1), confint(m1)))\n",
    "exp(est)\n",
    "#Bonferroni-correction\n",
    "alpha <- 0.05\n",
    "cum_coef <- length(coef(m1)) \n",
    "alpha_mod <- alpha / cum_coef\n",
    "ci <- confint(m1, level = 1 - alpha_mod)\n",
    "exp(ci)\n",
    "summary_m1 <- summary(m1)\n",
    "adjusted_p_values <- summary_m1$coefficients[, \"Pr(>|z|)\"]\n",
    "print(exp(ci))"
   ]
  },
  {
   "cell_type": "code",
   "execution_count": null,
   "id": "080af791-8af4-4e04-9854-f7512e49a016",
   "metadata": {},
   "outputs": [],
   "source": []
  }
 ],
 "metadata": {
  "kernelspec": {
   "display_name": "R",
   "language": "R",
   "name": "ir"
  },
  "language_info": {
   "codemirror_mode": "r",
   "file_extension": ".r",
   "mimetype": "text/x-r-source",
   "name": "R",
   "pygments_lexer": "r",
   "version": "4.3.1"
  }
 },
 "nbformat": 4,
 "nbformat_minor": 5
}
