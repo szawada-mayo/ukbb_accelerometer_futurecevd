{
 "cells": [
  {
   "cell_type": "code",
   "execution_count": 1,
   "id": "91c615a3-4394-4f26-8aa7-4b461fa87589",
   "metadata": {
    "tags": []
   },
   "outputs": [
    {
     "name": "stderr",
     "output_type": "stream",
     "text": [
      "Loading required package: foreign\n",
      "\n",
      "Loading required package: ggplot2\n",
      "\n",
      "Loading required package: MASS\n",
      "\n"
     ]
    }
   ],
   "source": [
    "require(foreign)\n",
    "require(ggplot2)\n",
    "require(MASS)"
   ]
  },
  {
   "cell_type": "code",
   "execution_count": 2,
   "id": "1ce473cb-cb41-4f95-b6e6-174f68033f42",
   "metadata": {
    "tags": []
   },
   "outputs": [],
   "source": [
    "#use comorbid_sum to prevent collinearity"
   ]
  },
  {
   "cell_type": "code",
   "execution_count": 3,
   "id": "d1312864-2dee-411b-9282-ad78e9a1a17b",
   "metadata": {
    "tags": []
   },
   "outputs": [],
   "source": [
    "import_file <- \"cevd_first_model_sa.csv\"\n",
    "data <- read.csv(import_file)"
   ]
  },
  {
   "cell_type": "code",
   "execution_count": 4,
   "id": "37130183-e64b-4018-896a-4ac275883a0a",
   "metadata": {
    "tags": []
   },
   "outputs": [],
   "source": [
    "#convert all PA behavior data to integers\n",
    "data$pa_sleep_convert <- as.integer(data$pa_sleep_convert)\n",
    "data$pa_sed_convert <- as.integer(data$pa_sed_convert)\n",
    "data$pa_light_convert <- as.integer(data$pa_light_convert)\n",
    "data$pa_mv_convert <- as.integer(data$pa_mv_convert)"
   ]
  },
  {
   "cell_type": "code",
   "execution_count": 5,
   "id": "95ae91ed-18dd-49ae-9c1c-dd2ed4d0d208",
   "metadata": {
    "tags": []
   },
   "outputs": [
    {
     "name": "stdout",
     "output_type": "stream",
     "text": [
      "Number of future F01 diagnoses: 37 \n",
      "Number of future g45 diagnoses: 225 \n",
      "Number of future g46 diagnoses: 10 \n",
      "Number of future h34 diagnoses: 70 \n",
      "Number of future i60 diagnoses: 58 \n",
      "Number of future i61 diagnoses: 84 \n",
      "Number of future i62 diagnoses: 45 \n",
      "Number of future i63 diagnoses: 321 \n",
      "Number of future i64 diagnoses: 79 \n",
      "Number of future i65 diagnoses: 83 \n",
      "Number of future i66 diagnoses: 6 \n",
      "Number of future i67 diagnoses: 358 \n",
      "Number of future i68 diagnoses: 6 \n",
      "Number of future i69 diagnoses: 61 \n"
     ]
    }
   ],
   "source": [
    "#count number of future CeVD events by type\n",
    "data$f01_event <- as.integer(data$f01_event)\n",
    "count_events <- sum(data$f01_event == 1, na.rm = TRUE)\n",
    "cat(\"Number of future F01 diagnoses:\", count_events, \"\\n\")\n",
    "\n",
    "data$g45_event <- as.integer(data$g45_event)\n",
    "count_events <- sum(data$g45_event == 1, na.rm = TRUE)\n",
    "cat(\"Number of future g45 diagnoses:\", count_events, \"\\n\")\n",
    "\n",
    "data$g46_event <- as.integer(data$g46_event)\n",
    "count_events <- sum(data$g46_event == 1, na.rm = TRUE)\n",
    "cat(\"Number of future g46 diagnoses:\", count_events, \"\\n\")\n",
    "\n",
    "data$h34_event <- as.integer(data$h34_event)\n",
    "count_events <- sum(data$h34_event == 1, na.rm = TRUE)\n",
    "cat(\"Number of future h34 diagnoses:\", count_events, \"\\n\")\n",
    "\n",
    "data$i60_event <- as.integer(data$i60_event)\n",
    "count_events <- sum(data$i60_event == 1, na.rm = TRUE)\n",
    "cat(\"Number of future i60 diagnoses:\", count_events, \"\\n\")\n",
    "\n",
    "data$i61_event <- as.integer(data$i61_event)\n",
    "count_events <- sum(data$i61_event == 1, na.rm = TRUE)\n",
    "cat(\"Number of future i61 diagnoses:\", count_events, \"\\n\")\n",
    "\n",
    "data$i62_event <- as.integer(data$i62_event)\n",
    "count_events <- sum(data$i62_event == 1, na.rm = TRUE)\n",
    "cat(\"Number of future i62 diagnoses:\", count_events, \"\\n\")\n",
    "\n",
    "data$i63_event <- as.integer(data$i63_event)\n",
    "count_events <- sum(data$i63_event == 1, na.rm = TRUE)\n",
    "cat(\"Number of future i63 diagnoses:\", count_events, \"\\n\")\n",
    "\n",
    "data$i64_event <- as.integer(data$i64_event)\n",
    "count_events <- sum(data$i64_event == 1, na.rm = TRUE)\n",
    "cat(\"Number of future i64 diagnoses:\", count_events, \"\\n\")\n",
    "\n",
    "data$i65_event <- as.integer(data$i65_event)\n",
    "count_events <- sum(data$i65_event == 1, na.rm = TRUE)\n",
    "cat(\"Number of future i65 diagnoses:\", count_events, \"\\n\")\n",
    "\n",
    "data$i66_event <- as.integer(data$i66_event)\n",
    "count_events <- sum(data$i66_event == 1, na.rm = TRUE)\n",
    "cat(\"Number of future i66 diagnoses:\", count_events, \"\\n\")\n",
    "\n",
    "data$i67_event <- as.integer(data$i67_event)\n",
    "count_events <- sum(data$i67_event == 1, na.rm = TRUE)\n",
    "cat(\"Number of future i67 diagnoses:\", count_events, \"\\n\")\n",
    "\n",
    "data$i68_event <- as.integer(data$i68_event)\n",
    "count_events <- sum(data$i68_event == 1, na.rm = TRUE)\n",
    "cat(\"Number of future i68 diagnoses:\", count_events, \"\\n\")\n",
    "\n",
    "data$i69_event <- as.integer(data$i69_event)\n",
    "count_events <- sum(data$i69_event == 1, na.rm = TRUE)\n",
    "cat(\"Number of future i69 diagnoses:\", count_events, \"\\n\")"
   ]
  },
  {
   "cell_type": "code",
   "execution_count": 6,
   "id": "277bfec7-ff12-46fd-8536-60704a2cee22",
   "metadata": {
    "tags": []
   },
   "outputs": [
    {
     "name": "stdout",
     "output_type": "stream",
     "text": [
      "Mean sleep - exp: 524.8335 \n",
      "Standard Deviation sleep - exp: 76.19174 \n",
      "Mean sleep - control: 524.2752 \n",
      "Standard Deviation sleep - control: 75.812 \n",
      "Mean sed - exp': 561.1062 \n",
      "Standard Deviation sed - exp': 105.4636 \n",
      "Mean sed - control': 558.9365 \n",
      "Standard Deviation sed - control': 108.123 \n",
      "Mean lpa - exp: 310.1856 \n",
      "Standard Deviation  lpa - exp: 99.10797 \n",
      "Mean of  lpa - control: 311.142 \n",
      "Standard Deviation  lpa - control: 99.38578 \n",
      "Mean mvpa - exp: 41.91005 \n",
      "Standard Deviation mvpa - exp: 35.27923 \n",
      "Mean mvpa - control': 43.65817 \n",
      "Standard Deviation mvpa - control: 35.38779 \n"
     ]
    }
   ],
   "source": [
    "#sleep mean and sd\n",
    "mean_pa_sleep_convert <- mean(subset(data, cevd_event == 1)$pa_sleep_convert, na.rm = TRUE)\n",
    "sd_pa_sleep_convert <- sd(subset(data, cevd_event == 1)$pa_sleep_convert, na.rm = TRUE)\n",
    "cat(\"Mean sleep - exp:\", mean_pa_sleep_convert, \"\\n\")\n",
    "cat(\"Standard Deviation sleep - exp:\", sd_pa_sleep_convert, \"\\n\")\n",
    "mean_pa_sleep_convert <- mean(subset(data, cevd_event == 0)$pa_sleep_convert, na.rm = TRUE)\n",
    "sd_pa_sleep_convert <- sd(subset(data, cevd_event == 0)$pa_sleep_convert, na.rm = TRUE)\n",
    "cat(\"Mean sleep - control:\", mean_pa_sleep_convert, \"\\n\")\n",
    "cat(\"Standard Deviation sleep - control:\", sd_pa_sleep_convert, \"\\n\")\n",
    "#sed mean and sd\n",
    "mean_pa_sed_convert <- mean(subset(data, cevd_event == 1)$pa_sed_convert, na.rm = TRUE)\n",
    "sd_pa_sed_convert <- sd(subset(data, cevd_event == 1)$pa_sed_convert, na.rm = TRUE)\n",
    "cat(\"Mean sed - exp':\", mean_pa_sed_convert, \"\\n\")\n",
    "cat(\"Standard Deviation sed - exp':\", sd_pa_sed_convert, \"\\n\")\n",
    "mean_pa_sed_convert <- mean(subset(data, cevd_event == 0)$pa_sed_convert, na.rm = TRUE)\n",
    "sd_pa_sed_convert <- sd(subset(data, cevd_event == 0)$pa_sed_convert, na.rm = TRUE)\n",
    "cat(\"Mean sed - control':\", mean_pa_sed_convert, \"\\n\")\n",
    "cat(\"Standard Deviation sed - control':\", sd_pa_sed_convert, \"\\n\")\n",
    "#lpa mean and sd\n",
    "mean_pa_light_convert <- mean(subset(data, cevd_event == 1)$pa_light_convert, na.rm = TRUE)\n",
    "sd_pa_light_convert <- sd(subset(data, cevd_event == 1)$pa_light_convert, na.rm = TRUE)\n",
    "cat(\"Mean lpa - exp:\", mean_pa_light_convert, \"\\n\")\n",
    "cat(\"Standard Deviation  lpa - exp:\", sd_pa_light_convert, \"\\n\")\n",
    "mean_pa_light_convert <- mean(subset(data, cevd_event == 0)$pa_light_convert, na.rm = TRUE)\n",
    "sd_pa_light_convert <- sd(subset(data, cevd_event == 0)$pa_light_convert, na.rm = TRUE)\n",
    "cat(\"Mean of  lpa - control:\", mean_pa_light_convert, \"\\n\")\n",
    "cat(\"Standard Deviation  lpa - control:\", sd_pa_light_convert, \"\\n\")\n",
    "#mvpa mean and sd\n",
    "mean_pa_mv_convert <- mean(subset(data, cevd_event == 1)$pa_mv_convert, na.rm = TRUE)\n",
    "sd_pa_mv_convert <- sd(subset(data, cevd_event == 1)$pa_mv_convert, na.rm = TRUE)\n",
    "cat(\"Mean mvpa - exp:\", mean_pa_mv_convert, \"\\n\")\n",
    "cat(\"Standard Deviation mvpa - exp:\", sd_pa_mv_convert, \"\\n\")\n",
    "mean_pa_mv_convert <- mean(subset(data, cevd_event == 0)$pa_mv_convert, na.rm = TRUE)\n",
    "sd_pa_mv_convert <- sd(subset(data, cevd_event == 0)$pa_mv_convert, na.rm = TRUE)\n",
    "cat(\"Mean mvpa - control':\", mean_pa_mv_convert, \"\\n\")\n",
    "cat(\"Standard Deviation mvpa - control:\", sd_pa_mv_convert, \"\\n\")"
   ]
  },
  {
   "cell_type": "code",
   "execution_count": 7,
   "id": "59f16a73-c964-4202-931e-e786464b9222",
   "metadata": {
    "tags": []
   },
   "outputs": [
    {
     "data": {
      "text/html": [
       "<style>\n",
       ".list-inline {list-style: none; margin:0; padding: 0}\n",
       ".list-inline>li {display: inline-block}\n",
       ".list-inline>li:not(:last-child)::after {content: \"\\00b7\"; padding: 0 .5ex}\n",
       "</style>\n",
       "<ol class=list-inline><li>0</li><li>0</li><li>0</li><li>0</li><li>0</li><li>0</li></ol>\n"
      ],
      "text/latex": [
       "\\begin{enumerate*}\n",
       "\\item 0\n",
       "\\item 0\n",
       "\\item 0\n",
       "\\item 0\n",
       "\\item 0\n",
       "\\item 0\n",
       "\\end{enumerate*}\n"
      ],
      "text/markdown": [
       "1. 0\n",
       "2. 0\n",
       "3. 0\n",
       "4. 0\n",
       "5. 0\n",
       "6. 0\n",
       "\n",
       "\n"
      ],
      "text/plain": [
       "[1] 0 0 0 0 0 0"
      ]
     },
     "metadata": {},
     "output_type": "display_data"
    }
   ],
   "source": [
    "#create binary age variable\n",
    "data$age_i0 <- as.integer(data$age_i0, na.rm = TRUE)\n",
    "data$age_levels <- ifelse(data$age_i0 < 60, 0, 1)\n",
    "data$age_levels <- as.integer(data$age_levels)\n",
    "head(data$age_levels)"
   ]
  },
  {
   "cell_type": "code",
   "execution_count": 8,
   "id": "f7a54801-794b-491f-b67a-68face94909e",
   "metadata": {
    "tags": []
   },
   "outputs": [
    {
     "data": {
      "text/plain": [
       "\n",
       "Call:\n",
       "glm.nb(formula = pa_sleep_convert ~ cevd_event, data = data, \n",
       "    init.theta = 45.01659215, link = log)\n",
       "\n",
       "Coefficients:\n",
       "             Estimate Std. Error  z value Pr(>|z|)    \n",
       "(Intercept) 6.2620167  0.0006966 8988.848   <2e-16 ***\n",
       "cevd_event  0.0010644  0.0048545    0.219    0.826    \n",
       "---\n",
       "Signif. codes:  0 ‘***’ 0.001 ‘**’ 0.01 ‘*’ 0.05 ‘.’ 0.1 ‘ ’ 1\n",
       "\n",
       "(Dispersion parameter for Negative Binomial(45.0166) family taken to be 1)\n",
       "\n",
       "    Null deviance: 52225  on 50747  degrees of freedom\n",
       "Residual deviance: 52225  on 50746  degrees of freedom\n",
       "  (1 observation deleted due to missingness)\n",
       "AIC: 591070\n",
       "\n",
       "Number of Fisher Scoring iterations: 1\n",
       "\n",
       "\n",
       "              Theta:  45.017 \n",
       "          Std. Err.:  0.313 \n",
       "\n",
       " 2 x log-likelihood:  -591063.543 "
      ]
     },
     "metadata": {},
     "output_type": "display_data"
    },
    {
     "name": "stderr",
     "output_type": "stream",
     "text": [
      "Waiting for profiling to be done...\n",
      "\n"
     ]
    },
    {
     "data": {
      "text/html": [
       "<table class=\"dataframe\">\n",
       "<caption>A matrix: 2 × 3 of type dbl</caption>\n",
       "<thead>\n",
       "\t<tr><th></th><th scope=col>Estimate</th><th scope=col>2.5 %</th><th scope=col>97.5 %</th></tr>\n",
       "</thead>\n",
       "<tbody>\n",
       "\t<tr><th scope=row>(Intercept)</th><td>6.262016689</td><td> 6.26065156</td><td>6.26338235</td></tr>\n",
       "\t<tr><th scope=row>cevd_event</th><td>0.001064367</td><td>-0.00843808</td><td>0.01059121</td></tr>\n",
       "</tbody>\n",
       "</table>\n"
      ],
      "text/latex": [
       "A matrix: 2 × 3 of type dbl\n",
       "\\begin{tabular}{r|lll}\n",
       "  & Estimate & 2.5 \\% & 97.5 \\%\\\\\n",
       "\\hline\n",
       "\t(Intercept) & 6.262016689 &  6.26065156 & 6.26338235\\\\\n",
       "\tcevd\\_event & 0.001064367 & -0.00843808 & 0.01059121\\\\\n",
       "\\end{tabular}\n"
      ],
      "text/markdown": [
       "\n",
       "A matrix: 2 × 3 of type dbl\n",
       "\n",
       "| <!--/--> | Estimate | 2.5 % | 97.5 % |\n",
       "|---|---|---|---|\n",
       "| (Intercept) | 6.262016689 |  6.26065156 | 6.26338235 |\n",
       "| cevd_event | 0.001064367 | -0.00843808 | 0.01059121 |\n",
       "\n"
      ],
      "text/plain": [
       "            Estimate    2.5 %       97.5 %    \n",
       "(Intercept) 6.262016689  6.26065156 6.26338235\n",
       "cevd_event  0.001064367 -0.00843808 0.01059121"
      ]
     },
     "metadata": {},
     "output_type": "display_data"
    },
    {
     "data": {
      "text/html": [
       "<table class=\"dataframe\">\n",
       "<caption>A matrix: 2 × 3 of type dbl</caption>\n",
       "<thead>\n",
       "\t<tr><th></th><th scope=col>Estimate</th><th scope=col>2.5 %</th><th scope=col>97.5 %</th></tr>\n",
       "</thead>\n",
       "<tbody>\n",
       "\t<tr><th scope=row>(Intercept)</th><td>524.275175</td><td>523.5599575</td><td>524.991644</td></tr>\n",
       "\t<tr><th scope=row>cevd_event</th><td>  1.001065</td><td>  0.9915974</td><td>  1.010647</td></tr>\n",
       "</tbody>\n",
       "</table>\n"
      ],
      "text/latex": [
       "A matrix: 2 × 3 of type dbl\n",
       "\\begin{tabular}{r|lll}\n",
       "  & Estimate & 2.5 \\% & 97.5 \\%\\\\\n",
       "\\hline\n",
       "\t(Intercept) & 524.275175 & 523.5599575 & 524.991644\\\\\n",
       "\tcevd\\_event &   1.001065 &   0.9915974 &   1.010647\\\\\n",
       "\\end{tabular}\n"
      ],
      "text/markdown": [
       "\n",
       "A matrix: 2 × 3 of type dbl\n",
       "\n",
       "| <!--/--> | Estimate | 2.5 % | 97.5 % |\n",
       "|---|---|---|---|\n",
       "| (Intercept) | 524.275175 | 523.5599575 | 524.991644 |\n",
       "| cevd_event |   1.001065 |   0.9915974 |   1.010647 |\n",
       "\n"
      ],
      "text/plain": [
       "            Estimate   2.5 %       97.5 %    \n",
       "(Intercept) 524.275175 523.5599575 524.991644\n",
       "cevd_event    1.001065   0.9915974   1.010647"
      ]
     },
     "metadata": {},
     "output_type": "display_data"
    }
   ],
   "source": [
    "#unadjusted sleep IRR and CI and pvalue\n",
    "summary(m1 <- glm.nb(pa_sleep_convert ~ cevd_event, data = data))\n",
    "(est <- cbind(Estimate = coef(m1), confint(m1)))\n",
    "exp(est)"
   ]
  },
  {
   "cell_type": "code",
   "execution_count": 9,
   "id": "96849b4b-2cc3-4a77-b6ae-2b1d60f16aa5",
   "metadata": {
    "tags": []
   },
   "outputs": [
    {
     "data": {
      "text/plain": [
       "\n",
       "Call:\n",
       "glm.nb(formula = pa_sleep_convert ~ cevd_event + age_levels + \n",
       "    male + alc_freq_filter + smok_stat + bmi_filter + full_screen_time_filter + \n",
       "    employ_status_array_filter + comorb_sum + gov_assistance_filter + \n",
       "    dep_diag_yes, data = data, init.theta = 45.65478044, link = log)\n",
       "\n",
       "Coefficients: (2 not defined because of singularities)\n",
       "                            Estimate Std. Error  z value Pr(>|z|)    \n",
       "(Intercept)                 6.284166   0.002665 2358.245  < 2e-16 ***\n",
       "cevd_event                 -0.003751   0.004846   -0.774  0.43884    \n",
       "age_levels                  0.013705   0.001694    8.091  5.9e-16 ***\n",
       "male                       -0.016753   0.001436  -11.669  < 2e-16 ***\n",
       "alc_freq_filter            -0.005069   0.001034   -4.904  9.4e-07 ***\n",
       "smok_stat                   0.003162   0.001102    2.868  0.00413 ** \n",
       "bmi_filter                  0.002816   0.001410    1.997  0.04580 *  \n",
       "full_screen_time_filter    -0.017375   0.001761   -9.869  < 2e-16 ***\n",
       "employ_status_array_filter -0.013457   0.001443   -9.326  < 2e-16 ***\n",
       "comorb_sum                        NA         NA       NA       NA    \n",
       "gov_assistance_filter             NA         NA       NA       NA    \n",
       "dep_diag_yes                0.020973   0.002528    8.298  < 2e-16 ***\n",
       "---\n",
       "Signif. codes:  0 ‘***’ 0.001 ‘**’ 0.01 ‘*’ 0.05 ‘.’ 0.1 ‘ ’ 1\n",
       "\n",
       "(Dispersion parameter for Negative Binomial(45.6548) family taken to be 1)\n",
       "\n",
       "    Null deviance: 52888  on 50747  degrees of freedom\n",
       "Residual deviance: 52250  on 50738  degrees of freedom\n",
       "  (1 observation deleted due to missingness)\n",
       "AIC: 590452\n",
       "\n",
       "Number of Fisher Scoring iterations: 1\n",
       "\n",
       "\n",
       "              Theta:  45.655 \n",
       "          Std. Err.:  0.317 \n",
       "\n",
       " 2 x log-likelihood:  -590429.849 "
      ]
     },
     "metadata": {},
     "output_type": "display_data"
    },
    {
     "name": "stderr",
     "output_type": "stream",
     "text": [
      "Waiting for profiling to be done...\n",
      "\n"
     ]
    },
    {
     "data": {
      "text/html": [
       "<table class=\"dataframe\">\n",
       "<caption>A matrix: 12 × 3 of type dbl</caption>\n",
       "<thead>\n",
       "\t<tr><th></th><th scope=col>Estimate</th><th scope=col>2.5 %</th><th scope=col>97.5 %</th></tr>\n",
       "</thead>\n",
       "<tbody>\n",
       "\t<tr><th scope=row>(Intercept)</th><td> 6.284165918</td><td> 6.278943e+00</td><td> 6.289389889</td></tr>\n",
       "\t<tr><th scope=row>cevd_event</th><td>-0.003751316</td><td>-1.323690e-02</td><td> 0.005758074</td></tr>\n",
       "\t<tr><th scope=row>age_levels</th><td> 0.013705311</td><td> 1.038687e-02</td><td> 0.017024934</td></tr>\n",
       "\t<tr><th scope=row>male</th><td>-0.016752795</td><td>-1.956694e-02</td><td>-0.013938265</td></tr>\n",
       "\t<tr><th scope=row>alc_freq_filter</th><td>-0.005068622</td><td>-7.095418e-03</td><td>-0.003041829</td></tr>\n",
       "\t<tr><th scope=row>smok_stat</th><td> 0.003162094</td><td> 1.003812e-03</td><td> 0.005321143</td></tr>\n",
       "\t<tr><th scope=row>bmi_filter</th><td> 0.002816496</td><td> 5.322468e-05</td><td> 0.005579578</td></tr>\n",
       "\t<tr><th scope=row>full_screen_time_filter</th><td>-0.017375033</td><td>-2.082388e-02</td><td>-0.013924310</td></tr>\n",
       "\t<tr><th scope=row>employ_status_array_filter</th><td>-0.013456872</td><td>-1.628137e-02</td><td>-0.010631822</td></tr>\n",
       "\t<tr><th scope=row>comorb_sum</th><td>          NA</td><td>           NA</td><td>          NA</td></tr>\n",
       "\t<tr><th scope=row>gov_assistance_filter</th><td>          NA</td><td>           NA</td><td>          NA</td></tr>\n",
       "\t<tr><th scope=row>dep_diag_yes</th><td> 0.020973129</td><td> 1.602236e-02</td><td> 0.025929559</td></tr>\n",
       "</tbody>\n",
       "</table>\n"
      ],
      "text/latex": [
       "A matrix: 12 × 3 of type dbl\n",
       "\\begin{tabular}{r|lll}\n",
       "  & Estimate & 2.5 \\% & 97.5 \\%\\\\\n",
       "\\hline\n",
       "\t(Intercept) &  6.284165918 &  6.278943e+00 &  6.289389889\\\\\n",
       "\tcevd\\_event & -0.003751316 & -1.323690e-02 &  0.005758074\\\\\n",
       "\tage\\_levels &  0.013705311 &  1.038687e-02 &  0.017024934\\\\\n",
       "\tmale & -0.016752795 & -1.956694e-02 & -0.013938265\\\\\n",
       "\talc\\_freq\\_filter & -0.005068622 & -7.095418e-03 & -0.003041829\\\\\n",
       "\tsmok\\_stat &  0.003162094 &  1.003812e-03 &  0.005321143\\\\\n",
       "\tbmi\\_filter &  0.002816496 &  5.322468e-05 &  0.005579578\\\\\n",
       "\tfull\\_screen\\_time\\_filter & -0.017375033 & -2.082388e-02 & -0.013924310\\\\\n",
       "\temploy\\_status\\_array\\_filter & -0.013456872 & -1.628137e-02 & -0.010631822\\\\\n",
       "\tcomorb\\_sum &           NA &            NA &           NA\\\\\n",
       "\tgov\\_assistance\\_filter &           NA &            NA &           NA\\\\\n",
       "\tdep\\_diag\\_yes &  0.020973129 &  1.602236e-02 &  0.025929559\\\\\n",
       "\\end{tabular}\n"
      ],
      "text/markdown": [
       "\n",
       "A matrix: 12 × 3 of type dbl\n",
       "\n",
       "| <!--/--> | Estimate | 2.5 % | 97.5 % |\n",
       "|---|---|---|---|\n",
       "| (Intercept) |  6.284165918 |  6.278943e+00 |  6.289389889 |\n",
       "| cevd_event | -0.003751316 | -1.323690e-02 |  0.005758074 |\n",
       "| age_levels |  0.013705311 |  1.038687e-02 |  0.017024934 |\n",
       "| male | -0.016752795 | -1.956694e-02 | -0.013938265 |\n",
       "| alc_freq_filter | -0.005068622 | -7.095418e-03 | -0.003041829 |\n",
       "| smok_stat |  0.003162094 |  1.003812e-03 |  0.005321143 |\n",
       "| bmi_filter |  0.002816496 |  5.322468e-05 |  0.005579578 |\n",
       "| full_screen_time_filter | -0.017375033 | -2.082388e-02 | -0.013924310 |\n",
       "| employ_status_array_filter | -0.013456872 | -1.628137e-02 | -0.010631822 |\n",
       "| comorb_sum |           NA |            NA |           NA |\n",
       "| gov_assistance_filter |           NA |            NA |           NA |\n",
       "| dep_diag_yes |  0.020973129 |  1.602236e-02 |  0.025929559 |\n",
       "\n"
      ],
      "text/plain": [
       "                           Estimate     2.5 %         97.5 %      \n",
       "(Intercept)                 6.284165918  6.278943e+00  6.289389889\n",
       "cevd_event                 -0.003751316 -1.323690e-02  0.005758074\n",
       "age_levels                  0.013705311  1.038687e-02  0.017024934\n",
       "male                       -0.016752795 -1.956694e-02 -0.013938265\n",
       "alc_freq_filter            -0.005068622 -7.095418e-03 -0.003041829\n",
       "smok_stat                   0.003162094  1.003812e-03  0.005321143\n",
       "bmi_filter                  0.002816496  5.322468e-05  0.005579578\n",
       "full_screen_time_filter    -0.017375033 -2.082388e-02 -0.013924310\n",
       "employ_status_array_filter -0.013456872 -1.628137e-02 -0.010631822\n",
       "comorb_sum                           NA            NA           NA\n",
       "gov_assistance_filter                NA            NA           NA\n",
       "dep_diag_yes                0.020973129  1.602236e-02  0.025929559"
      ]
     },
     "metadata": {},
     "output_type": "display_data"
    },
    {
     "data": {
      "text/html": [
       "<table class=\"dataframe\">\n",
       "<caption>A matrix: 12 × 3 of type dbl</caption>\n",
       "<thead>\n",
       "\t<tr><th></th><th scope=col>Estimate</th><th scope=col>2.5 %</th><th scope=col>97.5 %</th></tr>\n",
       "</thead>\n",
       "<tbody>\n",
       "\t<tr><th scope=row>(Intercept)</th><td>536.0170222</td><td>533.2247884</td><td>538.8244860</td></tr>\n",
       "\t<tr><th scope=row>cevd_event</th><td>  0.9962557</td><td>  0.9868503</td><td>  1.0057747</td></tr>\n",
       "\t<tr><th scope=row>age_levels</th><td>  1.0137997</td><td>  1.0104410</td><td>  1.0171707</td></tr>\n",
       "\t<tr><th scope=row>male</th><td>  0.9833868</td><td>  0.9806232</td><td>  0.9861584</td></tr>\n",
       "\t<tr><th scope=row>alc_freq_filter</th><td>  0.9949442</td><td>  0.9929297</td><td>  0.9969628</td></tr>\n",
       "\t<tr><th scope=row>smok_stat</th><td>  1.0031671</td><td>  1.0010043</td><td>  1.0053353</td></tr>\n",
       "\t<tr><th scope=row>bmi_filter</th><td>  1.0028205</td><td>  1.0000532</td><td>  1.0055952</td></tr>\n",
       "\t<tr><th scope=row>full_screen_time_filter</th><td>  0.9827750</td><td>  0.9793914</td><td>  0.9861722</td></tr>\n",
       "\t<tr><th scope=row>employ_status_array_filter</th><td>  0.9866333</td><td>  0.9838505</td><td>  0.9894245</td></tr>\n",
       "\t<tr><th scope=row>comorb_sum</th><td>         NA</td><td>         NA</td><td>         NA</td></tr>\n",
       "\t<tr><th scope=row>gov_assistance_filter</th><td>         NA</td><td>         NA</td><td>         NA</td></tr>\n",
       "\t<tr><th scope=row>dep_diag_yes</th><td>  1.0211946</td><td>  1.0161514</td><td>  1.0262687</td></tr>\n",
       "</tbody>\n",
       "</table>\n"
      ],
      "text/latex": [
       "A matrix: 12 × 3 of type dbl\n",
       "\\begin{tabular}{r|lll}\n",
       "  & Estimate & 2.5 \\% & 97.5 \\%\\\\\n",
       "\\hline\n",
       "\t(Intercept) & 536.0170222 & 533.2247884 & 538.8244860\\\\\n",
       "\tcevd\\_event &   0.9962557 &   0.9868503 &   1.0057747\\\\\n",
       "\tage\\_levels &   1.0137997 &   1.0104410 &   1.0171707\\\\\n",
       "\tmale &   0.9833868 &   0.9806232 &   0.9861584\\\\\n",
       "\talc\\_freq\\_filter &   0.9949442 &   0.9929297 &   0.9969628\\\\\n",
       "\tsmok\\_stat &   1.0031671 &   1.0010043 &   1.0053353\\\\\n",
       "\tbmi\\_filter &   1.0028205 &   1.0000532 &   1.0055952\\\\\n",
       "\tfull\\_screen\\_time\\_filter &   0.9827750 &   0.9793914 &   0.9861722\\\\\n",
       "\temploy\\_status\\_array\\_filter &   0.9866333 &   0.9838505 &   0.9894245\\\\\n",
       "\tcomorb\\_sum &          NA &          NA &          NA\\\\\n",
       "\tgov\\_assistance\\_filter &          NA &          NA &          NA\\\\\n",
       "\tdep\\_diag\\_yes &   1.0211946 &   1.0161514 &   1.0262687\\\\\n",
       "\\end{tabular}\n"
      ],
      "text/markdown": [
       "\n",
       "A matrix: 12 × 3 of type dbl\n",
       "\n",
       "| <!--/--> | Estimate | 2.5 % | 97.5 % |\n",
       "|---|---|---|---|\n",
       "| (Intercept) | 536.0170222 | 533.2247884 | 538.8244860 |\n",
       "| cevd_event |   0.9962557 |   0.9868503 |   1.0057747 |\n",
       "| age_levels |   1.0137997 |   1.0104410 |   1.0171707 |\n",
       "| male |   0.9833868 |   0.9806232 |   0.9861584 |\n",
       "| alc_freq_filter |   0.9949442 |   0.9929297 |   0.9969628 |\n",
       "| smok_stat |   1.0031671 |   1.0010043 |   1.0053353 |\n",
       "| bmi_filter |   1.0028205 |   1.0000532 |   1.0055952 |\n",
       "| full_screen_time_filter |   0.9827750 |   0.9793914 |   0.9861722 |\n",
       "| employ_status_array_filter |   0.9866333 |   0.9838505 |   0.9894245 |\n",
       "| comorb_sum |          NA |          NA |          NA |\n",
       "| gov_assistance_filter |          NA |          NA |          NA |\n",
       "| dep_diag_yes |   1.0211946 |   1.0161514 |   1.0262687 |\n",
       "\n"
      ],
      "text/plain": [
       "                           Estimate    2.5 %       97.5 %     \n",
       "(Intercept)                536.0170222 533.2247884 538.8244860\n",
       "cevd_event                   0.9962557   0.9868503   1.0057747\n",
       "age_levels                   1.0137997   1.0104410   1.0171707\n",
       "male                         0.9833868   0.9806232   0.9861584\n",
       "alc_freq_filter              0.9949442   0.9929297   0.9969628\n",
       "smok_stat                    1.0031671   1.0010043   1.0053353\n",
       "bmi_filter                   1.0028205   1.0000532   1.0055952\n",
       "full_screen_time_filter      0.9827750   0.9793914   0.9861722\n",
       "employ_status_array_filter   0.9866333   0.9838505   0.9894245\n",
       "comorb_sum                          NA          NA          NA\n",
       "gov_assistance_filter               NA          NA          NA\n",
       "dep_diag_yes                 1.0211946   1.0161514   1.0262687"
      ]
     },
     "metadata": {},
     "output_type": "display_data"
    }
   ],
   "source": [
    "#adjusted sleep IRR and CI and pvalue\n",
    "summary(m1 <- glm.nb(pa_sleep_convert ~ cevd_event + age_levels + male + alc_freq_filter + smok_stat + bmi_filter + full_screen_time_filter + employ_status_array_filter + comorb_sum +gov_assistance_filter +dep_diag_yes, data = data))\n",
    "(est <- cbind(Estimate = coef(m1), confint(m1)))\n",
    "exp(est)"
   ]
  },
  {
   "cell_type": "code",
   "execution_count": 10,
   "id": "d9c84135-802b-4628-b24a-30d87f2d209e",
   "metadata": {
    "tags": []
   },
   "outputs": [
    {
     "data": {
      "text/plain": [
       "\n",
       "Call:\n",
       "glm.nb(formula = pa_sed_convert ~ cevd_event, data = data, init.theta = 26.63134972, \n",
       "    link = log)\n",
       "\n",
       "Coefficients:\n",
       "             Estimate Std. Error  z value Pr(>|z|)    \n",
       "(Intercept) 6.3260358  0.0008897 7110.697   <2e-16 ***\n",
       "cevd_event  0.0038744  0.0061992    0.625    0.532    \n",
       "---\n",
       "Signif. codes:  0 ‘***’ 0.001 ‘**’ 0.01 ‘*’ 0.05 ‘.’ 0.1 ‘ ’ 1\n",
       "\n",
       "(Dispersion parameter for Negative Binomial(26.6313) family taken to be 1)\n",
       "\n",
       "    Null deviance: 51150  on 50747  degrees of freedom\n",
       "Residual deviance: 51150  on 50746  degrees of freedom\n",
       "  (1 observation deleted due to missingness)\n",
       "AIC: 620697\n",
       "\n",
       "Number of Fisher Scoring iterations: 1\n",
       "\n",
       "\n",
       "              Theta:  26.631 \n",
       "          Std. Err.:  0.175 \n",
       "\n",
       " 2 x log-likelihood:  -620691.471 "
      ]
     },
     "metadata": {},
     "output_type": "display_data"
    },
    {
     "name": "stderr",
     "output_type": "stream",
     "text": [
      "Waiting for profiling to be done...\n",
      "\n"
     ]
    },
    {
     "data": {
      "text/html": [
       "<table class=\"dataframe\">\n",
       "<caption>A matrix: 2 × 3 of type dbl</caption>\n",
       "<thead>\n",
       "\t<tr><th></th><th scope=col>Estimate</th><th scope=col>2.5 %</th><th scope=col>97.5 %</th></tr>\n",
       "</thead>\n",
       "<tbody>\n",
       "\t<tr><th scope=row>(Intercept)</th><td>6.326035840</td><td> 6.324292618</td><td>6.32777998</td></tr>\n",
       "\t<tr><th scope=row>cevd_event</th><td>0.003874388</td><td>-0.008254317</td><td>0.01604607</td></tr>\n",
       "</tbody>\n",
       "</table>\n"
      ],
      "text/latex": [
       "A matrix: 2 × 3 of type dbl\n",
       "\\begin{tabular}{r|lll}\n",
       "  & Estimate & 2.5 \\% & 97.5 \\%\\\\\n",
       "\\hline\n",
       "\t(Intercept) & 6.326035840 &  6.324292618 & 6.32777998\\\\\n",
       "\tcevd\\_event & 0.003874388 & -0.008254317 & 0.01604607\\\\\n",
       "\\end{tabular}\n"
      ],
      "text/markdown": [
       "\n",
       "A matrix: 2 × 3 of type dbl\n",
       "\n",
       "| <!--/--> | Estimate | 2.5 % | 97.5 % |\n",
       "|---|---|---|---|\n",
       "| (Intercept) | 6.326035840 |  6.324292618 | 6.32777998 |\n",
       "| cevd_event | 0.003874388 | -0.008254317 | 0.01604607 |\n",
       "\n"
      ],
      "text/plain": [
       "            Estimate    2.5 %        97.5 %    \n",
       "(Intercept) 6.326035840  6.324292618 6.32777998\n",
       "cevd_event  0.003874388 -0.008254317 0.01604607"
      ]
     },
     "metadata": {},
     "output_type": "display_data"
    },
    {
     "data": {
      "text/html": [
       "<table class=\"dataframe\">\n",
       "<caption>A matrix: 2 × 3 of type dbl</caption>\n",
       "<thead>\n",
       "\t<tr><th></th><th scope=col>Estimate</th><th scope=col>2.5 %</th><th scope=col>97.5 %</th></tr>\n",
       "</thead>\n",
       "<tbody>\n",
       "\t<tr><th scope=row>(Intercept)</th><td>558.936483</td><td>557.9629811</td><td>559.912199</td></tr>\n",
       "\t<tr><th scope=row>cevd_event</th><td>  1.003882</td><td>  0.9917797</td><td>  1.016175</td></tr>\n",
       "</tbody>\n",
       "</table>\n"
      ],
      "text/latex": [
       "A matrix: 2 × 3 of type dbl\n",
       "\\begin{tabular}{r|lll}\n",
       "  & Estimate & 2.5 \\% & 97.5 \\%\\\\\n",
       "\\hline\n",
       "\t(Intercept) & 558.936483 & 557.9629811 & 559.912199\\\\\n",
       "\tcevd\\_event &   1.003882 &   0.9917797 &   1.016175\\\\\n",
       "\\end{tabular}\n"
      ],
      "text/markdown": [
       "\n",
       "A matrix: 2 × 3 of type dbl\n",
       "\n",
       "| <!--/--> | Estimate | 2.5 % | 97.5 % |\n",
       "|---|---|---|---|\n",
       "| (Intercept) | 558.936483 | 557.9629811 | 559.912199 |\n",
       "| cevd_event |   1.003882 |   0.9917797 |   1.016175 |\n",
       "\n"
      ],
      "text/plain": [
       "            Estimate   2.5 %       97.5 %    \n",
       "(Intercept) 558.936483 557.9629811 559.912199\n",
       "cevd_event    1.003882   0.9917797   1.016175"
      ]
     },
     "metadata": {},
     "output_type": "display_data"
    }
   ],
   "source": [
    "#udadjusted sed IRR and CI and pvalue\n",
    "summary(m1 <- glm.nb(pa_sed_convert ~ cevd_event, data = data))\n",
    "(est <- cbind(Estimate = coef(m1), confint(m1)))\n",
    "exp(est)"
   ]
  },
  {
   "cell_type": "code",
   "execution_count": 11,
   "id": "4aa2bdf5-8fe5-467c-a64e-6c5ebc03232c",
   "metadata": {
    "tags": []
   },
   "outputs": [
    {
     "data": {
      "text/plain": [
       "\n",
       "Call:\n",
       "glm.nb(formula = pa_sed_convert ~ cevd_event + age_levels + male + \n",
       "    alc_freq_filter + smok_stat + bmi_filter + full_screen_time_filter + \n",
       "    employ_status_array_filter + comorb_sum + gov_assistance_filter + \n",
       "    dep_diag_yes, data = data, init.theta = 28.08357506, link = log)\n",
       "\n",
       "Coefficients: (2 not defined because of singularities)\n",
       "                             Estimate Std. Error  z value Pr(>|z|)    \n",
       "(Intercept)                 6.3131889  0.0033403 1890.005  < 2e-16 ***\n",
       "cevd_event                  0.0008102  0.0060726    0.133   0.8939    \n",
       "age_levels                 -0.0098522  0.0021232   -4.640 3.48e-06 ***\n",
       "male                        0.0640352  0.0017986   35.604  < 2e-16 ***\n",
       "alc_freq_filter             0.0023002  0.0012955    1.775   0.0758 .  \n",
       "smok_stat                  -0.0014402  0.0013816   -1.042   0.2972    \n",
       "bmi_filter                 -0.0416444  0.0017671  -23.566  < 2e-16 ***\n",
       "full_screen_time_filter    -0.0287622  0.0022067  -13.034  < 2e-16 ***\n",
       "employ_status_array_filter  0.0170588  0.0018087    9.431  < 2e-16 ***\n",
       "comorb_sum                         NA         NA       NA       NA    \n",
       "gov_assistance_filter              NA         NA       NA       NA    \n",
       "dep_diag_yes                0.0007714  0.0031703    0.243   0.8078    \n",
       "---\n",
       "Signif. codes:  0 ‘***’ 0.001 ‘**’ 0.01 ‘*’ 0.05 ‘.’ 0.1 ‘ ’ 1\n",
       "\n",
       "(Dispersion parameter for Negative Binomial(28.0836) family taken to be 1)\n",
       "\n",
       "    Null deviance: 53797  on 50747  degrees of freedom\n",
       "Residual deviance: 51145  on 50738  degrees of freedom\n",
       "  (1 observation deleted due to missingness)\n",
       "AIC: 618128\n",
       "\n",
       "Number of Fisher Scoring iterations: 1\n",
       "\n",
       "\n",
       "              Theta:  28.084 \n",
       "          Std. Err.:  0.185 \n",
       "\n",
       " 2 x log-likelihood:  -618106.442 "
      ]
     },
     "metadata": {},
     "output_type": "display_data"
    },
    {
     "name": "stderr",
     "output_type": "stream",
     "text": [
      "Waiting for profiling to be done...\n",
      "\n"
     ]
    },
    {
     "data": {
      "text/html": [
       "<table class=\"dataframe\">\n",
       "<caption>A matrix: 12 × 3 of type dbl</caption>\n",
       "<thead>\n",
       "\t<tr><th></th><th scope=col>Estimate</th><th scope=col>2.5 %</th><th scope=col>97.5 %</th></tr>\n",
       "</thead>\n",
       "<tbody>\n",
       "\t<tr><th scope=row>(Intercept)</th><td> 6.3131888666</td><td> 6.306625407</td><td> 6.319754208</td></tr>\n",
       "\t<tr><th scope=row>cevd_event</th><td> 0.0008102245</td><td>-0.011073933</td><td> 0.012734629</td></tr>\n",
       "\t<tr><th scope=row>age_levels</th><td>-0.0098522117</td><td>-0.014026323</td><td>-0.005676069</td></tr>\n",
       "\t<tr><th scope=row>male</th><td> 0.0640352348</td><td> 0.060514821</td><td> 0.067556298</td></tr>\n",
       "\t<tr><th scope=row>alc_freq_filter</th><td> 0.0023001548</td><td>-0.000238840</td><td> 0.004839146</td></tr>\n",
       "\t<tr><th scope=row>smok_stat</th><td>-0.0014402199</td><td>-0.004142169</td><td> 0.001263029</td></tr>\n",
       "\t<tr><th scope=row>bmi_filter</th><td>-0.0416444295</td><td>-0.045106132</td><td>-0.038183045</td></tr>\n",
       "\t<tr><th scope=row>full_screen_time_filter</th><td>-0.0287622014</td><td>-0.033087340</td><td>-0.024433885</td></tr>\n",
       "\t<tr><th scope=row>employ_status_array_filter</th><td> 0.0170588470</td><td> 0.013478540</td><td> 0.020640123</td></tr>\n",
       "\t<tr><th scope=row>comorb_sum</th><td>           NA</td><td>          NA</td><td>          NA</td></tr>\n",
       "\t<tr><th scope=row>gov_assistance_filter</th><td>           NA</td><td>          NA</td><td>          NA</td></tr>\n",
       "\t<tr><th scope=row>dep_diag_yes</th><td> 0.0007714211</td><td>-0.005439323</td><td> 0.006991720</td></tr>\n",
       "</tbody>\n",
       "</table>\n"
      ],
      "text/latex": [
       "A matrix: 12 × 3 of type dbl\n",
       "\\begin{tabular}{r|lll}\n",
       "  & Estimate & 2.5 \\% & 97.5 \\%\\\\\n",
       "\\hline\n",
       "\t(Intercept) &  6.3131888666 &  6.306625407 &  6.319754208\\\\\n",
       "\tcevd\\_event &  0.0008102245 & -0.011073933 &  0.012734629\\\\\n",
       "\tage\\_levels & -0.0098522117 & -0.014026323 & -0.005676069\\\\\n",
       "\tmale &  0.0640352348 &  0.060514821 &  0.067556298\\\\\n",
       "\talc\\_freq\\_filter &  0.0023001548 & -0.000238840 &  0.004839146\\\\\n",
       "\tsmok\\_stat & -0.0014402199 & -0.004142169 &  0.001263029\\\\\n",
       "\tbmi\\_filter & -0.0416444295 & -0.045106132 & -0.038183045\\\\\n",
       "\tfull\\_screen\\_time\\_filter & -0.0287622014 & -0.033087340 & -0.024433885\\\\\n",
       "\temploy\\_status\\_array\\_filter &  0.0170588470 &  0.013478540 &  0.020640123\\\\\n",
       "\tcomorb\\_sum &            NA &           NA &           NA\\\\\n",
       "\tgov\\_assistance\\_filter &            NA &           NA &           NA\\\\\n",
       "\tdep\\_diag\\_yes &  0.0007714211 & -0.005439323 &  0.006991720\\\\\n",
       "\\end{tabular}\n"
      ],
      "text/markdown": [
       "\n",
       "A matrix: 12 × 3 of type dbl\n",
       "\n",
       "| <!--/--> | Estimate | 2.5 % | 97.5 % |\n",
       "|---|---|---|---|\n",
       "| (Intercept) |  6.3131888666 |  6.306625407 |  6.319754208 |\n",
       "| cevd_event |  0.0008102245 | -0.011073933 |  0.012734629 |\n",
       "| age_levels | -0.0098522117 | -0.014026323 | -0.005676069 |\n",
       "| male |  0.0640352348 |  0.060514821 |  0.067556298 |\n",
       "| alc_freq_filter |  0.0023001548 | -0.000238840 |  0.004839146 |\n",
       "| smok_stat | -0.0014402199 | -0.004142169 |  0.001263029 |\n",
       "| bmi_filter | -0.0416444295 | -0.045106132 | -0.038183045 |\n",
       "| full_screen_time_filter | -0.0287622014 | -0.033087340 | -0.024433885 |\n",
       "| employ_status_array_filter |  0.0170588470 |  0.013478540 |  0.020640123 |\n",
       "| comorb_sum |            NA |           NA |           NA |\n",
       "| gov_assistance_filter |            NA |           NA |           NA |\n",
       "| dep_diag_yes |  0.0007714211 | -0.005439323 |  0.006991720 |\n",
       "\n"
      ],
      "text/plain": [
       "                           Estimate      2.5 %        97.5 %      \n",
       "(Intercept)                 6.3131888666  6.306625407  6.319754208\n",
       "cevd_event                  0.0008102245 -0.011073933  0.012734629\n",
       "age_levels                 -0.0098522117 -0.014026323 -0.005676069\n",
       "male                        0.0640352348  0.060514821  0.067556298\n",
       "alc_freq_filter             0.0023001548 -0.000238840  0.004839146\n",
       "smok_stat                  -0.0014402199 -0.004142169  0.001263029\n",
       "bmi_filter                 -0.0416444295 -0.045106132 -0.038183045\n",
       "full_screen_time_filter    -0.0287622014 -0.033087340 -0.024433885\n",
       "employ_status_array_filter  0.0170588470  0.013478540  0.020640123\n",
       "comorb_sum                            NA           NA           NA\n",
       "gov_assistance_filter                 NA           NA           NA\n",
       "dep_diag_yes                0.0007714211 -0.005439323  0.006991720"
      ]
     },
     "metadata": {},
     "output_type": "display_data"
    },
    {
     "data": {
      "text/html": [
       "<table class=\"dataframe\">\n",
       "<caption>A matrix: 12 × 3 of type dbl</caption>\n",
       "<thead>\n",
       "\t<tr><th></th><th scope=col>Estimate</th><th scope=col>2.5 %</th><th scope=col>97.5 %</th></tr>\n",
       "</thead>\n",
       "<tbody>\n",
       "\t<tr><th scope=row>(Intercept)</th><td>551.8017684</td><td>548.1918996</td><td>555.4364536</td></tr>\n",
       "\t<tr><th scope=row>cevd_event</th><td>  1.0008106</td><td>  0.9889872</td><td>  1.0128161</td></tr>\n",
       "\t<tr><th scope=row>age_levels</th><td>  0.9901962</td><td>  0.9860716</td><td>  0.9943400</td></tr>\n",
       "\t<tr><th scope=row>male</th><td>  1.0661300</td><td>  1.0623833</td><td>  1.0698905</td></tr>\n",
       "\t<tr><th scope=row>alc_freq_filter</th><td>  1.0023028</td><td>  0.9997612</td><td>  1.0048509</td></tr>\n",
       "\t<tr><th scope=row>smok_stat</th><td>  0.9985608</td><td>  0.9958664</td><td>  1.0012638</td></tr>\n",
       "\t<tr><th scope=row>bmi_filter</th><td>  0.9592108</td><td>  0.9558960</td><td>  0.9625367</td></tr>\n",
       "\t<tr><th scope=row>full_screen_time_filter</th><td>  0.9716475</td><td>  0.9674541</td><td>  0.9758622</td></tr>\n",
       "\t<tr><th scope=row>employ_status_array_filter</th><td>  1.0172052</td><td>  1.0135698</td><td>  1.0208546</td></tr>\n",
       "\t<tr><th scope=row>comorb_sum</th><td>         NA</td><td>         NA</td><td>         NA</td></tr>\n",
       "\t<tr><th scope=row>gov_assistance_filter</th><td>         NA</td><td>         NA</td><td>         NA</td></tr>\n",
       "\t<tr><th scope=row>dep_diag_yes</th><td>  1.0007717</td><td>  0.9945754</td><td>  1.0070162</td></tr>\n",
       "</tbody>\n",
       "</table>\n"
      ],
      "text/latex": [
       "A matrix: 12 × 3 of type dbl\n",
       "\\begin{tabular}{r|lll}\n",
       "  & Estimate & 2.5 \\% & 97.5 \\%\\\\\n",
       "\\hline\n",
       "\t(Intercept) & 551.8017684 & 548.1918996 & 555.4364536\\\\\n",
       "\tcevd\\_event &   1.0008106 &   0.9889872 &   1.0128161\\\\\n",
       "\tage\\_levels &   0.9901962 &   0.9860716 &   0.9943400\\\\\n",
       "\tmale &   1.0661300 &   1.0623833 &   1.0698905\\\\\n",
       "\talc\\_freq\\_filter &   1.0023028 &   0.9997612 &   1.0048509\\\\\n",
       "\tsmok\\_stat &   0.9985608 &   0.9958664 &   1.0012638\\\\\n",
       "\tbmi\\_filter &   0.9592108 &   0.9558960 &   0.9625367\\\\\n",
       "\tfull\\_screen\\_time\\_filter &   0.9716475 &   0.9674541 &   0.9758622\\\\\n",
       "\temploy\\_status\\_array\\_filter &   1.0172052 &   1.0135698 &   1.0208546\\\\\n",
       "\tcomorb\\_sum &          NA &          NA &          NA\\\\\n",
       "\tgov\\_assistance\\_filter &          NA &          NA &          NA\\\\\n",
       "\tdep\\_diag\\_yes &   1.0007717 &   0.9945754 &   1.0070162\\\\\n",
       "\\end{tabular}\n"
      ],
      "text/markdown": [
       "\n",
       "A matrix: 12 × 3 of type dbl\n",
       "\n",
       "| <!--/--> | Estimate | 2.5 % | 97.5 % |\n",
       "|---|---|---|---|\n",
       "| (Intercept) | 551.8017684 | 548.1918996 | 555.4364536 |\n",
       "| cevd_event |   1.0008106 |   0.9889872 |   1.0128161 |\n",
       "| age_levels |   0.9901962 |   0.9860716 |   0.9943400 |\n",
       "| male |   1.0661300 |   1.0623833 |   1.0698905 |\n",
       "| alc_freq_filter |   1.0023028 |   0.9997612 |   1.0048509 |\n",
       "| smok_stat |   0.9985608 |   0.9958664 |   1.0012638 |\n",
       "| bmi_filter |   0.9592108 |   0.9558960 |   0.9625367 |\n",
       "| full_screen_time_filter |   0.9716475 |   0.9674541 |   0.9758622 |\n",
       "| employ_status_array_filter |   1.0172052 |   1.0135698 |   1.0208546 |\n",
       "| comorb_sum |          NA |          NA |          NA |\n",
       "| gov_assistance_filter |          NA |          NA |          NA |\n",
       "| dep_diag_yes |   1.0007717 |   0.9945754 |   1.0070162 |\n",
       "\n"
      ],
      "text/plain": [
       "                           Estimate    2.5 %       97.5 %     \n",
       "(Intercept)                551.8017684 548.1918996 555.4364536\n",
       "cevd_event                   1.0008106   0.9889872   1.0128161\n",
       "age_levels                   0.9901962   0.9860716   0.9943400\n",
       "male                         1.0661300   1.0623833   1.0698905\n",
       "alc_freq_filter              1.0023028   0.9997612   1.0048509\n",
       "smok_stat                    0.9985608   0.9958664   1.0012638\n",
       "bmi_filter                   0.9592108   0.9558960   0.9625367\n",
       "full_screen_time_filter      0.9716475   0.9674541   0.9758622\n",
       "employ_status_array_filter   1.0172052   1.0135698   1.0208546\n",
       "comorb_sum                          NA          NA          NA\n",
       "gov_assistance_filter               NA          NA          NA\n",
       "dep_diag_yes                 1.0007717   0.9945754   1.0070162"
      ]
     },
     "metadata": {},
     "output_type": "display_data"
    }
   ],
   "source": [
    "#adjusted sed IRR and CI and pvalue\n",
    "summary(m1 <- glm.nb(pa_sed_convert ~ cevd_event + age_levels + male + alc_freq_filter + smok_stat + bmi_filter + full_screen_time_filter + employ_status_array_filter + comorb_sum + gov_assistance_filter +dep_diag_yes, data = data))\n",
    "(est <- cbind(Estimate = coef(m1), confint(m1)))\n",
    "exp(est)"
   ]
  },
  {
   "cell_type": "code",
   "execution_count": 12,
   "id": "bc43ede2-85ec-45a9-ae26-6eea5b4b2cda",
   "metadata": {
    "tags": []
   },
   "outputs": [
    {
     "data": {
      "text/plain": [
       "\n",
       "Call:\n",
       "glm.nb(formula = pa_light_convert ~ cevd_event, data = data, \n",
       "    init.theta = 9.782582165, link = log)\n",
       "\n",
       "Coefficients:\n",
       "             Estimate Std. Error  z value Pr(>|z|)    \n",
       "(Intercept)  5.740249   0.001456 3941.183   <2e-16 ***\n",
       "cevd_event  -0.003078   0.010150   -0.303    0.762    \n",
       "---\n",
       "Signif. codes:  0 ‘***’ 0.001 ‘**’ 0.01 ‘*’ 0.05 ‘.’ 0.1 ‘ ’ 1\n",
       "\n",
       "(Dispersion parameter for Negative Binomial(9.7826) family taken to be 1)\n",
       "\n",
       "    Null deviance: 51715  on 50747  degrees of freedom\n",
       "Residual deviance: 51714  on 50746  degrees of freedom\n",
       "  (1 observation deleted due to missingness)\n",
       "AIC: 609004\n",
       "\n",
       "Number of Fisher Scoring iterations: 1\n",
       "\n",
       "\n",
       "              Theta:  9.7826 \n",
       "          Std. Err.:  0.0625 \n",
       "\n",
       " 2 x log-likelihood:  -608997.6090 "
      ]
     },
     "metadata": {},
     "output_type": "display_data"
    },
    {
     "name": "stderr",
     "output_type": "stream",
     "text": [
      "Waiting for profiling to be done...\n",
      "\n"
     ]
    },
    {
     "data": {
      "text/html": [
       "<table class=\"dataframe\">\n",
       "<caption>A matrix: 2 × 3 of type dbl</caption>\n",
       "<thead>\n",
       "\t<tr><th></th><th scope=col>Estimate</th><th scope=col>2.5 %</th><th scope=col>97.5 %</th></tr>\n",
       "</thead>\n",
       "<tbody>\n",
       "\t<tr><th scope=row>(Intercept)</th><td> 5.740249282</td><td> 5.7373959</td><td>5.74310521</td></tr>\n",
       "\t<tr><th scope=row>cevd_event</th><td>-0.003078305</td><td>-0.0229131</td><td>0.01687544</td></tr>\n",
       "</tbody>\n",
       "</table>\n"
      ],
      "text/latex": [
       "A matrix: 2 × 3 of type dbl\n",
       "\\begin{tabular}{r|lll}\n",
       "  & Estimate & 2.5 \\% & 97.5 \\%\\\\\n",
       "\\hline\n",
       "\t(Intercept) &  5.740249282 &  5.7373959 & 5.74310521\\\\\n",
       "\tcevd\\_event & -0.003078305 & -0.0229131 & 0.01687544\\\\\n",
       "\\end{tabular}\n"
      ],
      "text/markdown": [
       "\n",
       "A matrix: 2 × 3 of type dbl\n",
       "\n",
       "| <!--/--> | Estimate | 2.5 % | 97.5 % |\n",
       "|---|---|---|---|\n",
       "| (Intercept) |  5.740249282 |  5.7373959 | 5.74310521 |\n",
       "| cevd_event | -0.003078305 | -0.0229131 | 0.01687544 |\n",
       "\n"
      ],
      "text/plain": [
       "            Estimate     2.5 %      97.5 %    \n",
       "(Intercept)  5.740249282  5.7373959 5.74310521\n",
       "cevd_event  -0.003078305 -0.0229131 0.01687544"
      ]
     },
     "metadata": {},
     "output_type": "display_data"
    },
    {
     "data": {
      "text/html": [
       "<table class=\"dataframe\">\n",
       "<caption>A matrix: 2 × 3 of type dbl</caption>\n",
       "<thead>\n",
       "\t<tr><th></th><th scope=col>Estimate</th><th scope=col>2.5 %</th><th scope=col>97.5 %</th></tr>\n",
       "</thead>\n",
       "<tbody>\n",
       "\t<tr><th scope=row>(Intercept)</th><td>311.1419633</td><td>310.2554259</td><td>312.031831</td></tr>\n",
       "\t<tr><th scope=row>cevd_event</th><td>  0.9969264</td><td>  0.9773474</td><td>  1.017019</td></tr>\n",
       "</tbody>\n",
       "</table>\n"
      ],
      "text/latex": [
       "A matrix: 2 × 3 of type dbl\n",
       "\\begin{tabular}{r|lll}\n",
       "  & Estimate & 2.5 \\% & 97.5 \\%\\\\\n",
       "\\hline\n",
       "\t(Intercept) & 311.1419633 & 310.2554259 & 312.031831\\\\\n",
       "\tcevd\\_event &   0.9969264 &   0.9773474 &   1.017019\\\\\n",
       "\\end{tabular}\n"
      ],
      "text/markdown": [
       "\n",
       "A matrix: 2 × 3 of type dbl\n",
       "\n",
       "| <!--/--> | Estimate | 2.5 % | 97.5 % |\n",
       "|---|---|---|---|\n",
       "| (Intercept) | 311.1419633 | 310.2554259 | 312.031831 |\n",
       "| cevd_event |   0.9969264 |   0.9773474 |   1.017019 |\n",
       "\n"
      ],
      "text/plain": [
       "            Estimate    2.5 %       97.5 %    \n",
       "(Intercept) 311.1419633 310.2554259 312.031831\n",
       "cevd_event    0.9969264   0.9773474   1.017019"
      ]
     },
     "metadata": {},
     "output_type": "display_data"
    }
   ],
   "source": [
    "#unadjusted lpa IRR and CI and pvalue\n",
    "summary(m1 <- glm.nb(pa_light_convert ~ cevd_event, data = data))\n",
    "(est <- cbind(Estimate = coef(m1), confint(m1)))\n",
    "exp(est)"
   ]
  },
  {
   "cell_type": "code",
   "execution_count": 13,
   "id": "65f2e66c-9dec-4d3a-86e3-897776223ae0",
   "metadata": {
    "tags": []
   },
   "outputs": [
    {
     "data": {
      "text/plain": [
       "\n",
       "Call:\n",
       "glm.nb(formula = pa_light_convert ~ cevd_event + age_levels + \n",
       "    male + alc_freq_filter + smok_stat + bmi_filter + full_screen_time_filter + \n",
       "    employ_status_array_filter + comorb_sum + gov_assistance_filter + \n",
       "    dep_diag_yes, data = data, init.theta = 10.45867771, link = log)\n",
       "\n",
       "Coefficients: (2 not defined because of singularities)\n",
       "                            Estimate Std. Error  z value Pr(>|z|)    \n",
       "(Intercept)                 5.775484   0.005430 1063.695  < 2e-16 ***\n",
       "cevd_event                  0.012278   0.009874    1.244  0.21367    \n",
       "age_levels                  0.008971   0.003452    2.599  0.00936 ** \n",
       "male                       -0.145827   0.002926  -49.835  < 2e-16 ***\n",
       "alc_freq_filter            -0.005807   0.002106   -2.757  0.00583 ** \n",
       "smok_stat                   0.005224   0.002246    2.325  0.02006 *  \n",
       "bmi_filter                  0.039612   0.002874   13.785  < 2e-16 ***\n",
       "full_screen_time_filter     0.055988   0.003583   15.627  < 2e-16 ***\n",
       "employ_status_array_filter -0.005676   0.002940   -1.931  0.05354 .  \n",
       "comorb_sum                        NA         NA       NA       NA    \n",
       "gov_assistance_filter             NA         NA       NA       NA    \n",
       "dep_diag_yes               -0.023329   0.005154   -4.526    6e-06 ***\n",
       "---\n",
       "Signif. codes:  0 ‘***’ 0.001 ‘**’ 0.01 ‘*’ 0.05 ‘.’ 0.1 ‘ ’ 1\n",
       "\n",
       "(Dispersion parameter for Negative Binomial(10.4587) family taken to be 1)\n",
       "\n",
       "    Null deviance: 55154  on 50747  degrees of freedom\n",
       "Residual deviance: 51679  on 50738  degrees of freedom\n",
       "  (1 observation deleted due to missingness)\n",
       "AIC: 605656\n",
       "\n",
       "Number of Fisher Scoring iterations: 1\n",
       "\n",
       "\n",
       "              Theta:  10.4587 \n",
       "          Std. Err.:  0.0671 \n",
       "\n",
       " 2 x log-likelihood:  -605633.8870 "
      ]
     },
     "metadata": {},
     "output_type": "display_data"
    },
    {
     "name": "stderr",
     "output_type": "stream",
     "text": [
      "Waiting for profiling to be done...\n",
      "\n"
     ]
    },
    {
     "data": {
      "text/html": [
       "<table class=\"dataframe\">\n",
       "<caption>A matrix: 12 × 3 of type dbl</caption>\n",
       "<thead>\n",
       "\t<tr><th></th><th scope=col>Estimate</th><th scope=col>2.5 %</th><th scope=col>97.5 %</th></tr>\n",
       "</thead>\n",
       "<tbody>\n",
       "\t<tr><th scope=row>(Intercept)</th><td> 5.775483514</td><td> 5.7648956366</td><td> 5.786077e+00</td></tr>\n",
       "\t<tr><th scope=row>cevd_event</th><td> 0.012278492</td><td>-0.0070141542</td><td> 3.168116e-02</td></tr>\n",
       "\t<tr><th scope=row>age_levels</th><td> 0.008970691</td><td> 0.0022359736</td><td> 1.571083e-02</td></tr>\n",
       "\t<tr><th scope=row>male</th><td>-0.145827486</td><td>-0.1515716423</td><td>-1.400816e-01</td></tr>\n",
       "\t<tr><th scope=row>alc_freq_filter</th><td>-0.005807204</td><td>-0.0099280955</td><td>-1.686313e-03</td></tr>\n",
       "\t<tr><th scope=row>smok_stat</th><td> 0.005223574</td><td> 0.0008089507</td><td> 9.641727e-03</td></tr>\n",
       "\t<tr><th scope=row>bmi_filter</th><td> 0.039611572</td><td> 0.0339733549</td><td> 4.524890e-02</td></tr>\n",
       "\t<tr><th scope=row>full_screen_time_filter</th><td> 0.055987700</td><td> 0.0489737509</td><td> 6.301036e-02</td></tr>\n",
       "\t<tr><th scope=row>employ_status_array_filter</th><td>-0.005675969</td><td>-0.0113657802</td><td> 1.635042e-05</td></tr>\n",
       "\t<tr><th scope=row>comorb_sum</th><td>          NA</td><td>           NA</td><td>           NA</td></tr>\n",
       "\t<tr><th scope=row>gov_assistance_filter</th><td>          NA</td><td>           NA</td><td>           NA</td></tr>\n",
       "\t<tr><th scope=row>dep_diag_yes</th><td>-0.023329274</td><td>-0.0334151591</td><td>-1.321727e-02</td></tr>\n",
       "</tbody>\n",
       "</table>\n"
      ],
      "text/latex": [
       "A matrix: 12 × 3 of type dbl\n",
       "\\begin{tabular}{r|lll}\n",
       "  & Estimate & 2.5 \\% & 97.5 \\%\\\\\n",
       "\\hline\n",
       "\t(Intercept) &  5.775483514 &  5.7648956366 &  5.786077e+00\\\\\n",
       "\tcevd\\_event &  0.012278492 & -0.0070141542 &  3.168116e-02\\\\\n",
       "\tage\\_levels &  0.008970691 &  0.0022359736 &  1.571083e-02\\\\\n",
       "\tmale & -0.145827486 & -0.1515716423 & -1.400816e-01\\\\\n",
       "\talc\\_freq\\_filter & -0.005807204 & -0.0099280955 & -1.686313e-03\\\\\n",
       "\tsmok\\_stat &  0.005223574 &  0.0008089507 &  9.641727e-03\\\\\n",
       "\tbmi\\_filter &  0.039611572 &  0.0339733549 &  4.524890e-02\\\\\n",
       "\tfull\\_screen\\_time\\_filter &  0.055987700 &  0.0489737509 &  6.301036e-02\\\\\n",
       "\temploy\\_status\\_array\\_filter & -0.005675969 & -0.0113657802 &  1.635042e-05\\\\\n",
       "\tcomorb\\_sum &           NA &            NA &            NA\\\\\n",
       "\tgov\\_assistance\\_filter &           NA &            NA &            NA\\\\\n",
       "\tdep\\_diag\\_yes & -0.023329274 & -0.0334151591 & -1.321727e-02\\\\\n",
       "\\end{tabular}\n"
      ],
      "text/markdown": [
       "\n",
       "A matrix: 12 × 3 of type dbl\n",
       "\n",
       "| <!--/--> | Estimate | 2.5 % | 97.5 % |\n",
       "|---|---|---|---|\n",
       "| (Intercept) |  5.775483514 |  5.7648956366 |  5.786077e+00 |\n",
       "| cevd_event |  0.012278492 | -0.0070141542 |  3.168116e-02 |\n",
       "| age_levels |  0.008970691 |  0.0022359736 |  1.571083e-02 |\n",
       "| male | -0.145827486 | -0.1515716423 | -1.400816e-01 |\n",
       "| alc_freq_filter | -0.005807204 | -0.0099280955 | -1.686313e-03 |\n",
       "| smok_stat |  0.005223574 |  0.0008089507 |  9.641727e-03 |\n",
       "| bmi_filter |  0.039611572 |  0.0339733549 |  4.524890e-02 |\n",
       "| full_screen_time_filter |  0.055987700 |  0.0489737509 |  6.301036e-02 |\n",
       "| employ_status_array_filter | -0.005675969 | -0.0113657802 |  1.635042e-05 |\n",
       "| comorb_sum |           NA |            NA |            NA |\n",
       "| gov_assistance_filter |           NA |            NA |            NA |\n",
       "| dep_diag_yes | -0.023329274 | -0.0334151591 | -1.321727e-02 |\n",
       "\n"
      ],
      "text/plain": [
       "                           Estimate     2.5 %         97.5 %       \n",
       "(Intercept)                 5.775483514  5.7648956366  5.786077e+00\n",
       "cevd_event                  0.012278492 -0.0070141542  3.168116e-02\n",
       "age_levels                  0.008970691  0.0022359736  1.571083e-02\n",
       "male                       -0.145827486 -0.1515716423 -1.400816e-01\n",
       "alc_freq_filter            -0.005807204 -0.0099280955 -1.686313e-03\n",
       "smok_stat                   0.005223574  0.0008089507  9.641727e-03\n",
       "bmi_filter                  0.039611572  0.0339733549  4.524890e-02\n",
       "full_screen_time_filter     0.055987700  0.0489737509  6.301036e-02\n",
       "employ_status_array_filter -0.005675969 -0.0113657802  1.635042e-05\n",
       "comorb_sum                           NA            NA            NA\n",
       "gov_assistance_filter                NA            NA            NA\n",
       "dep_diag_yes               -0.023329274 -0.0334151591 -1.321727e-02"
      ]
     },
     "metadata": {},
     "output_type": "display_data"
    },
    {
     "data": {
      "text/html": [
       "<table class=\"dataframe\">\n",
       "<caption>A matrix: 12 × 3 of type dbl</caption>\n",
       "<thead>\n",
       "\t<tr><th></th><th scope=col>Estimate</th><th scope=col>2.5 %</th><th scope=col>97.5 %</th></tr>\n",
       "</thead>\n",
       "<tbody>\n",
       "\t<tr><th scope=row>(Intercept)</th><td>322.3002336</td><td>318.9057602</td><td>325.7325735</td></tr>\n",
       "\t<tr><th scope=row>cevd_event</th><td>  1.0123542</td><td>  0.9930104</td><td>  1.0321883</td></tr>\n",
       "\t<tr><th scope=row>age_levels</th><td>  1.0090110</td><td>  1.0022385</td><td>  1.0158349</td></tr>\n",
       "\t<tr><th scope=row>male</th><td>  0.8643068</td><td>  0.8593563</td><td>  0.8692873</td></tr>\n",
       "\t<tr><th scope=row>alc_freq_filter</th><td>  0.9942096</td><td>  0.9901210</td><td>  0.9983151</td></tr>\n",
       "\t<tr><th scope=row>smok_stat</th><td>  1.0052372</td><td>  1.0008093</td><td>  1.0096884</td></tr>\n",
       "\t<tr><th scope=row>bmi_filter</th><td>  1.0404066</td><td>  1.0345570</td><td>  1.0462882</td></tr>\n",
       "\t<tr><th scope=row>full_screen_time_filter</th><td>  1.0575847</td><td>  1.0501928</td><td>  1.0650379</td></tr>\n",
       "\t<tr><th scope=row>employ_status_array_filter</th><td>  0.9943401</td><td>  0.9886986</td><td>  1.0000164</td></tr>\n",
       "\t<tr><th scope=row>comorb_sum</th><td>         NA</td><td>         NA</td><td>         NA</td></tr>\n",
       "\t<tr><th scope=row>gov_assistance_filter</th><td>         NA</td><td>         NA</td><td>         NA</td></tr>\n",
       "\t<tr><th scope=row>dep_diag_yes</th><td>  0.9769407</td><td>  0.9671370</td><td>  0.9868697</td></tr>\n",
       "</tbody>\n",
       "</table>\n"
      ],
      "text/latex": [
       "A matrix: 12 × 3 of type dbl\n",
       "\\begin{tabular}{r|lll}\n",
       "  & Estimate & 2.5 \\% & 97.5 \\%\\\\\n",
       "\\hline\n",
       "\t(Intercept) & 322.3002336 & 318.9057602 & 325.7325735\\\\\n",
       "\tcevd\\_event &   1.0123542 &   0.9930104 &   1.0321883\\\\\n",
       "\tage\\_levels &   1.0090110 &   1.0022385 &   1.0158349\\\\\n",
       "\tmale &   0.8643068 &   0.8593563 &   0.8692873\\\\\n",
       "\talc\\_freq\\_filter &   0.9942096 &   0.9901210 &   0.9983151\\\\\n",
       "\tsmok\\_stat &   1.0052372 &   1.0008093 &   1.0096884\\\\\n",
       "\tbmi\\_filter &   1.0404066 &   1.0345570 &   1.0462882\\\\\n",
       "\tfull\\_screen\\_time\\_filter &   1.0575847 &   1.0501928 &   1.0650379\\\\\n",
       "\temploy\\_status\\_array\\_filter &   0.9943401 &   0.9886986 &   1.0000164\\\\\n",
       "\tcomorb\\_sum &          NA &          NA &          NA\\\\\n",
       "\tgov\\_assistance\\_filter &          NA &          NA &          NA\\\\\n",
       "\tdep\\_diag\\_yes &   0.9769407 &   0.9671370 &   0.9868697\\\\\n",
       "\\end{tabular}\n"
      ],
      "text/markdown": [
       "\n",
       "A matrix: 12 × 3 of type dbl\n",
       "\n",
       "| <!--/--> | Estimate | 2.5 % | 97.5 % |\n",
       "|---|---|---|---|\n",
       "| (Intercept) | 322.3002336 | 318.9057602 | 325.7325735 |\n",
       "| cevd_event |   1.0123542 |   0.9930104 |   1.0321883 |\n",
       "| age_levels |   1.0090110 |   1.0022385 |   1.0158349 |\n",
       "| male |   0.8643068 |   0.8593563 |   0.8692873 |\n",
       "| alc_freq_filter |   0.9942096 |   0.9901210 |   0.9983151 |\n",
       "| smok_stat |   1.0052372 |   1.0008093 |   1.0096884 |\n",
       "| bmi_filter |   1.0404066 |   1.0345570 |   1.0462882 |\n",
       "| full_screen_time_filter |   1.0575847 |   1.0501928 |   1.0650379 |\n",
       "| employ_status_array_filter |   0.9943401 |   0.9886986 |   1.0000164 |\n",
       "| comorb_sum |          NA |          NA |          NA |\n",
       "| gov_assistance_filter |          NA |          NA |          NA |\n",
       "| dep_diag_yes |   0.9769407 |   0.9671370 |   0.9868697 |\n",
       "\n"
      ],
      "text/plain": [
       "                           Estimate    2.5 %       97.5 %     \n",
       "(Intercept)                322.3002336 318.9057602 325.7325735\n",
       "cevd_event                   1.0123542   0.9930104   1.0321883\n",
       "age_levels                   1.0090110   1.0022385   1.0158349\n",
       "male                         0.8643068   0.8593563   0.8692873\n",
       "alc_freq_filter              0.9942096   0.9901210   0.9983151\n",
       "smok_stat                    1.0052372   1.0008093   1.0096884\n",
       "bmi_filter                   1.0404066   1.0345570   1.0462882\n",
       "full_screen_time_filter      1.0575847   1.0501928   1.0650379\n",
       "employ_status_array_filter   0.9943401   0.9886986   1.0000164\n",
       "comorb_sum                          NA          NA          NA\n",
       "gov_assistance_filter               NA          NA          NA\n",
       "dep_diag_yes                 0.9769407   0.9671370   0.9868697"
      ]
     },
     "metadata": {},
     "output_type": "display_data"
    }
   ],
   "source": [
    "#adjusted lpa IRR and CI and pvalue\n",
    "summary(m1 <- glm.nb(pa_light_convert ~ cevd_event + age_levels + male + alc_freq_filter + smok_stat + bmi_filter + full_screen_time_filter + employ_status_array_filter + comorb_sum +gov_assistance_filter +dep_diag_yes, data = data))\n",
    "(est <- cbind(Estimate = coef(m1), confint(m1)))\n",
    "exp(est)"
   ]
  },
  {
   "cell_type": "code",
   "execution_count": 14,
   "id": "6b25dffb-9ef3-4304-b7f9-3694e2a00b82",
   "metadata": {
    "tags": []
   },
   "outputs": [
    {
     "data": {
      "text/plain": [
       "\n",
       "Call:\n",
       "glm.nb(formula = pa_mv_convert ~ cevd_event, data = data, init.theta = 1.469791968, \n",
       "    link = log)\n",
       "\n",
       "Coefficients:\n",
       "             Estimate Std. Error  z value Pr(>|z|)    \n",
       "(Intercept)  3.776390   0.003762 1003.936   <2e-16 ***\n",
       "cevd_event  -0.040865   0.026231   -1.558    0.119    \n",
       "---\n",
       "Signif. codes:  0 ‘***’ 0.001 ‘**’ 0.01 ‘*’ 0.05 ‘.’ 0.1 ‘ ’ 1\n",
       "\n",
       "(Dispersion parameter for Negative Binomial(1.4698) family taken to be 1)\n",
       "\n",
       "    Null deviance: 57212  on 50747  degrees of freedom\n",
       "Residual deviance: 57210  on 50746  degrees of freedom\n",
       "  (1 observation deleted due to missingness)\n",
       "AIC: 482261\n",
       "\n",
       "Number of Fisher Scoring iterations: 1\n",
       "\n",
       "\n",
       "              Theta:  1.46979 \n",
       "          Std. Err.:  0.00909 \n",
       "\n",
       " 2 x log-likelihood:  -482254.60200 "
      ]
     },
     "metadata": {},
     "output_type": "display_data"
    },
    {
     "name": "stderr",
     "output_type": "stream",
     "text": [
      "Waiting for profiling to be done...\n",
      "\n"
     ]
    },
    {
     "data": {
      "text/html": [
       "<table class=\"dataframe\">\n",
       "<caption>A matrix: 2 × 3 of type dbl</caption>\n",
       "<thead>\n",
       "\t<tr><th></th><th scope=col>Estimate</th><th scope=col>2.5 %</th><th scope=col>97.5 %</th></tr>\n",
       "</thead>\n",
       "<tbody>\n",
       "\t<tr><th scope=row>(Intercept)</th><td> 3.77639042</td><td> 3.7690263</td><td>3.78377149</td></tr>\n",
       "\t<tr><th scope=row>cevd_event</th><td>-0.04086482</td><td>-0.0918853</td><td>0.01094452</td></tr>\n",
       "</tbody>\n",
       "</table>\n"
      ],
      "text/latex": [
       "A matrix: 2 × 3 of type dbl\n",
       "\\begin{tabular}{r|lll}\n",
       "  & Estimate & 2.5 \\% & 97.5 \\%\\\\\n",
       "\\hline\n",
       "\t(Intercept) &  3.77639042 &  3.7690263 & 3.78377149\\\\\n",
       "\tcevd\\_event & -0.04086482 & -0.0918853 & 0.01094452\\\\\n",
       "\\end{tabular}\n"
      ],
      "text/markdown": [
       "\n",
       "A matrix: 2 × 3 of type dbl\n",
       "\n",
       "| <!--/--> | Estimate | 2.5 % | 97.5 % |\n",
       "|---|---|---|---|\n",
       "| (Intercept) |  3.77639042 |  3.7690263 | 3.78377149 |\n",
       "| cevd_event | -0.04086482 | -0.0918853 | 0.01094452 |\n",
       "\n"
      ],
      "text/plain": [
       "            Estimate    2.5 %      97.5 %    \n",
       "(Intercept)  3.77639042  3.7690263 3.78377149\n",
       "cevd_event  -0.04086482 -0.0918853 0.01094452"
      ]
     },
     "metadata": {},
     "output_type": "display_data"
    },
    {
     "data": {
      "text/html": [
       "<table class=\"dataframe\">\n",
       "<caption>A matrix: 2 × 3 of type dbl</caption>\n",
       "<thead>\n",
       "\t<tr><th></th><th scope=col>Estimate</th><th scope=col>2.5 %</th><th scope=col>97.5 %</th></tr>\n",
       "</thead>\n",
       "<tbody>\n",
       "\t<tr><th scope=row>(Intercept)</th><td>43.6581695</td><td>43.3378473</td><td>43.981605</td></tr>\n",
       "\t<tr><th scope=row>cevd_event</th><td> 0.9599589</td><td> 0.9122098</td><td> 1.011005</td></tr>\n",
       "</tbody>\n",
       "</table>\n"
      ],
      "text/latex": [
       "A matrix: 2 × 3 of type dbl\n",
       "\\begin{tabular}{r|lll}\n",
       "  & Estimate & 2.5 \\% & 97.5 \\%\\\\\n",
       "\\hline\n",
       "\t(Intercept) & 43.6581695 & 43.3378473 & 43.981605\\\\\n",
       "\tcevd\\_event &  0.9599589 &  0.9122098 &  1.011005\\\\\n",
       "\\end{tabular}\n"
      ],
      "text/markdown": [
       "\n",
       "A matrix: 2 × 3 of type dbl\n",
       "\n",
       "| <!--/--> | Estimate | 2.5 % | 97.5 % |\n",
       "|---|---|---|---|\n",
       "| (Intercept) | 43.6581695 | 43.3378473 | 43.981605 |\n",
       "| cevd_event |  0.9599589 |  0.9122098 |  1.011005 |\n",
       "\n"
      ],
      "text/plain": [
       "            Estimate   2.5 %      97.5 %   \n",
       "(Intercept) 43.6581695 43.3378473 43.981605\n",
       "cevd_event   0.9599589  0.9122098  1.011005"
      ]
     },
     "metadata": {},
     "output_type": "display_data"
    }
   ],
   "source": [
    "#unadjusted mvpa IRR and CI and pvalue\n",
    "summary(m1 <- glm.nb(pa_mv_convert ~ cevd_event, data = data))\n",
    "(est <- cbind(Estimate = coef(m1), confint(m1)))\n",
    "exp(est)"
   ]
  },
  {
   "cell_type": "code",
   "execution_count": 15,
   "id": "005240b3-ff7e-437d-a2e1-a53e76a0d852",
   "metadata": {
    "tags": []
   },
   "outputs": [
    {
     "data": {
      "text/plain": [
       "\n",
       "Call:\n",
       "glm.nb(formula = pa_mv_convert ~ cevd_event + age_levels + male + \n",
       "    alc_freq_filter + smok_stat + bmi_filter + full_screen_time_filter + \n",
       "    employ_status_array_filter + comorb_sum + gov_assistance_filter + \n",
       "    dep_diag_yes, data = data, init.theta = 1.594849688, link = log)\n",
       "\n",
       "Coefficients: (2 not defined because of singularities)\n",
       "                            Estimate Std. Error z value Pr(>|z|)    \n",
       "(Intercept)                 3.331950   0.013959 238.694  < 2e-16 ***\n",
       "cevd_event                 -0.045521   0.025364  -1.795   0.0727 .  \n",
       "age_levels                 -0.118111   0.008866 -13.321  < 2e-16 ***\n",
       "male                        0.399335   0.007499  53.250  < 2e-16 ***\n",
       "alc_freq_filter             0.083715   0.005407  15.482  < 2e-16 ***\n",
       "smok_stat                  -0.045709   0.005768  -7.925 2.28e-15 ***\n",
       "bmi_filter                  0.223900   0.007379  30.344  < 2e-16 ***\n",
       "full_screen_time_filter     0.156014   0.009187  16.983  < 2e-16 ***\n",
       "employ_status_array_filter -0.001311   0.007553  -0.174   0.8622    \n",
       "comorb_sum                        NA         NA      NA       NA    \n",
       "gov_assistance_filter             NA         NA      NA       NA    \n",
       "dep_diag_yes               -0.110915   0.013266  -8.361  < 2e-16 ***\n",
       "---\n",
       "Signif. codes:  0 ‘***’ 0.001 ‘**’ 0.01 ‘*’ 0.05 ‘.’ 0.1 ‘ ’ 1\n",
       "\n",
       "(Dispersion parameter for Negative Binomial(1.5948) family taken to be 1)\n",
       "\n",
       "    Null deviance: 61603  on 50747  degrees of freedom\n",
       "Residual deviance: 57054  on 50738  degrees of freedom\n",
       "  (1 observation deleted due to missingness)\n",
       "AIC: 477907\n",
       "\n",
       "Number of Fisher Scoring iterations: 1\n",
       "\n",
       "\n",
       "              Theta:  1.59485 \n",
       "          Std. Err.:  0.01000 \n",
       "\n",
       " 2 x log-likelihood:  -477884.85800 "
      ]
     },
     "metadata": {},
     "output_type": "display_data"
    },
    {
     "name": "stderr",
     "output_type": "stream",
     "text": [
      "Waiting for profiling to be done...\n",
      "\n"
     ]
    },
    {
     "data": {
      "text/html": [
       "<table class=\"dataframe\">\n",
       "<caption>A matrix: 12 × 3 of type dbl</caption>\n",
       "<thead>\n",
       "\t<tr><th></th><th scope=col>Estimate</th><th scope=col>2.5 %</th><th scope=col>97.5 %</th></tr>\n",
       "</thead>\n",
       "<tbody>\n",
       "\t<tr><th scope=row>(Intercept)</th><td> 3.331949804</td><td> 3.30454006</td><td> 3.359393099</td></tr>\n",
       "\t<tr><th scope=row>cevd_event</th><td>-0.045521144</td><td>-0.09485841</td><td> 0.004533103</td></tr>\n",
       "\t<tr><th scope=row>age_levels</th><td>-0.118111318</td><td>-0.13536769</td><td>-0.100819724</td></tr>\n",
       "\t<tr><th scope=row>male</th><td> 0.399334699</td><td> 0.38458389</td><td> 0.414097309</td></tr>\n",
       "\t<tr><th scope=row>alc_freq_filter</th><td> 0.083714935</td><td> 0.07303200</td><td> 0.094398065</td></tr>\n",
       "\t<tr><th scope=row>smok_stat</th><td>-0.045709392</td><td>-0.05720122</td><td>-0.034195097</td></tr>\n",
       "\t<tr><th scope=row>bmi_filter</th><td> 0.223900017</td><td> 0.20939091</td><td> 0.238403552</td></tr>\n",
       "\t<tr><th scope=row>full_screen_time_filter</th><td> 0.156014403</td><td> 0.13802479</td><td> 0.174060854</td></tr>\n",
       "\t<tr><th scope=row>employ_status_array_filter</th><td>-0.001311179</td><td>-0.01586377</td><td> 0.013257568</td></tr>\n",
       "\t<tr><th scope=row>comorb_sum</th><td>          NA</td><td>         NA</td><td>          NA</td></tr>\n",
       "\t<tr><th scope=row>gov_assistance_filter</th><td>          NA</td><td>         NA</td><td>          NA</td></tr>\n",
       "\t<tr><th scope=row>dep_diag_yes</th><td>-0.110914785</td><td>-0.13679888</td><td>-0.084860673</td></tr>\n",
       "</tbody>\n",
       "</table>\n"
      ],
      "text/latex": [
       "A matrix: 12 × 3 of type dbl\n",
       "\\begin{tabular}{r|lll}\n",
       "  & Estimate & 2.5 \\% & 97.5 \\%\\\\\n",
       "\\hline\n",
       "\t(Intercept) &  3.331949804 &  3.30454006 &  3.359393099\\\\\n",
       "\tcevd\\_event & -0.045521144 & -0.09485841 &  0.004533103\\\\\n",
       "\tage\\_levels & -0.118111318 & -0.13536769 & -0.100819724\\\\\n",
       "\tmale &  0.399334699 &  0.38458389 &  0.414097309\\\\\n",
       "\talc\\_freq\\_filter &  0.083714935 &  0.07303200 &  0.094398065\\\\\n",
       "\tsmok\\_stat & -0.045709392 & -0.05720122 & -0.034195097\\\\\n",
       "\tbmi\\_filter &  0.223900017 &  0.20939091 &  0.238403552\\\\\n",
       "\tfull\\_screen\\_time\\_filter &  0.156014403 &  0.13802479 &  0.174060854\\\\\n",
       "\temploy\\_status\\_array\\_filter & -0.001311179 & -0.01586377 &  0.013257568\\\\\n",
       "\tcomorb\\_sum &           NA &          NA &           NA\\\\\n",
       "\tgov\\_assistance\\_filter &           NA &          NA &           NA\\\\\n",
       "\tdep\\_diag\\_yes & -0.110914785 & -0.13679888 & -0.084860673\\\\\n",
       "\\end{tabular}\n"
      ],
      "text/markdown": [
       "\n",
       "A matrix: 12 × 3 of type dbl\n",
       "\n",
       "| <!--/--> | Estimate | 2.5 % | 97.5 % |\n",
       "|---|---|---|---|\n",
       "| (Intercept) |  3.331949804 |  3.30454006 |  3.359393099 |\n",
       "| cevd_event | -0.045521144 | -0.09485841 |  0.004533103 |\n",
       "| age_levels | -0.118111318 | -0.13536769 | -0.100819724 |\n",
       "| male |  0.399334699 |  0.38458389 |  0.414097309 |\n",
       "| alc_freq_filter |  0.083714935 |  0.07303200 |  0.094398065 |\n",
       "| smok_stat | -0.045709392 | -0.05720122 | -0.034195097 |\n",
       "| bmi_filter |  0.223900017 |  0.20939091 |  0.238403552 |\n",
       "| full_screen_time_filter |  0.156014403 |  0.13802479 |  0.174060854 |\n",
       "| employ_status_array_filter | -0.001311179 | -0.01586377 |  0.013257568 |\n",
       "| comorb_sum |           NA |          NA |           NA |\n",
       "| gov_assistance_filter |           NA |          NA |           NA |\n",
       "| dep_diag_yes | -0.110914785 | -0.13679888 | -0.084860673 |\n",
       "\n"
      ],
      "text/plain": [
       "                           Estimate     2.5 %       97.5 %      \n",
       "(Intercept)                 3.331949804  3.30454006  3.359393099\n",
       "cevd_event                 -0.045521144 -0.09485841  0.004533103\n",
       "age_levels                 -0.118111318 -0.13536769 -0.100819724\n",
       "male                        0.399334699  0.38458389  0.414097309\n",
       "alc_freq_filter             0.083714935  0.07303200  0.094398065\n",
       "smok_stat                  -0.045709392 -0.05720122 -0.034195097\n",
       "bmi_filter                  0.223900017  0.20939091  0.238403552\n",
       "full_screen_time_filter     0.156014403  0.13802479  0.174060854\n",
       "employ_status_array_filter -0.001311179 -0.01586377  0.013257568\n",
       "comorb_sum                           NA          NA           NA\n",
       "gov_assistance_filter                NA          NA           NA\n",
       "dep_diag_yes               -0.110914785 -0.13679888 -0.084860673"
      ]
     },
     "metadata": {},
     "output_type": "display_data"
    },
    {
     "data": {
      "text/html": [
       "<table class=\"dataframe\">\n",
       "<caption>A matrix: 12 × 3 of type dbl</caption>\n",
       "<thead>\n",
       "\t<tr><th></th><th scope=col>Estimate</th><th scope=col>2.5 %</th><th scope=col>97.5 %</th></tr>\n",
       "</thead>\n",
       "<tbody>\n",
       "\t<tr><th scope=row>(Intercept)</th><td>27.9928691</td><td>27.2360118</td><td>28.7717240</td></tr>\n",
       "\t<tr><th scope=row>cevd_event</th><td> 0.9554994</td><td> 0.9095017</td><td> 1.0045434</td></tr>\n",
       "\t<tr><th scope=row>age_levels</th><td> 0.8885971</td><td> 0.8733947</td><td> 0.9040960</td></tr>\n",
       "\t<tr><th scope=row>male</th><td> 1.4908325</td><td> 1.4690029</td><td> 1.5130043</td></tr>\n",
       "\t<tr><th scope=row>alc_freq_filter</th><td> 1.0873189</td><td> 1.0757650</td><td> 1.0989971</td></tr>\n",
       "\t<tr><th scope=row>smok_stat</th><td> 0.9553195</td><td> 0.9444040</td><td> 0.9663829</td></tr>\n",
       "\t<tr><th scope=row>bmi_filter</th><td> 1.2509459</td><td> 1.2329269</td><td> 1.2692213</td></tr>\n",
       "\t<tr><th scope=row>full_screen_time_filter</th><td> 1.1688430</td><td> 1.1480040</td><td> 1.1901280</td></tr>\n",
       "\t<tr><th scope=row>employ_status_array_filter</th><td> 0.9986897</td><td> 0.9842614</td><td> 1.0133458</td></tr>\n",
       "\t<tr><th scope=row>comorb_sum</th><td>        NA</td><td>        NA</td><td>        NA</td></tr>\n",
       "\t<tr><th scope=row>gov_assistance_filter</th><td>        NA</td><td>        NA</td><td>        NA</td></tr>\n",
       "\t<tr><th scope=row>dep_diag_yes</th><td> 0.8950150</td><td> 0.8721456</td><td> 0.9186403</td></tr>\n",
       "</tbody>\n",
       "</table>\n"
      ],
      "text/latex": [
       "A matrix: 12 × 3 of type dbl\n",
       "\\begin{tabular}{r|lll}\n",
       "  & Estimate & 2.5 \\% & 97.5 \\%\\\\\n",
       "\\hline\n",
       "\t(Intercept) & 27.9928691 & 27.2360118 & 28.7717240\\\\\n",
       "\tcevd\\_event &  0.9554994 &  0.9095017 &  1.0045434\\\\\n",
       "\tage\\_levels &  0.8885971 &  0.8733947 &  0.9040960\\\\\n",
       "\tmale &  1.4908325 &  1.4690029 &  1.5130043\\\\\n",
       "\talc\\_freq\\_filter &  1.0873189 &  1.0757650 &  1.0989971\\\\\n",
       "\tsmok\\_stat &  0.9553195 &  0.9444040 &  0.9663829\\\\\n",
       "\tbmi\\_filter &  1.2509459 &  1.2329269 &  1.2692213\\\\\n",
       "\tfull\\_screen\\_time\\_filter &  1.1688430 &  1.1480040 &  1.1901280\\\\\n",
       "\temploy\\_status\\_array\\_filter &  0.9986897 &  0.9842614 &  1.0133458\\\\\n",
       "\tcomorb\\_sum &         NA &         NA &         NA\\\\\n",
       "\tgov\\_assistance\\_filter &         NA &         NA &         NA\\\\\n",
       "\tdep\\_diag\\_yes &  0.8950150 &  0.8721456 &  0.9186403\\\\\n",
       "\\end{tabular}\n"
      ],
      "text/markdown": [
       "\n",
       "A matrix: 12 × 3 of type dbl\n",
       "\n",
       "| <!--/--> | Estimate | 2.5 % | 97.5 % |\n",
       "|---|---|---|---|\n",
       "| (Intercept) | 27.9928691 | 27.2360118 | 28.7717240 |\n",
       "| cevd_event |  0.9554994 |  0.9095017 |  1.0045434 |\n",
       "| age_levels |  0.8885971 |  0.8733947 |  0.9040960 |\n",
       "| male |  1.4908325 |  1.4690029 |  1.5130043 |\n",
       "| alc_freq_filter |  1.0873189 |  1.0757650 |  1.0989971 |\n",
       "| smok_stat |  0.9553195 |  0.9444040 |  0.9663829 |\n",
       "| bmi_filter |  1.2509459 |  1.2329269 |  1.2692213 |\n",
       "| full_screen_time_filter |  1.1688430 |  1.1480040 |  1.1901280 |\n",
       "| employ_status_array_filter |  0.9986897 |  0.9842614 |  1.0133458 |\n",
       "| comorb_sum |         NA |         NA |         NA |\n",
       "| gov_assistance_filter |         NA |         NA |         NA |\n",
       "| dep_diag_yes |  0.8950150 |  0.8721456 |  0.9186403 |\n",
       "\n"
      ],
      "text/plain": [
       "                           Estimate   2.5 %      97.5 %    \n",
       "(Intercept)                27.9928691 27.2360118 28.7717240\n",
       "cevd_event                  0.9554994  0.9095017  1.0045434\n",
       "age_levels                  0.8885971  0.8733947  0.9040960\n",
       "male                        1.4908325  1.4690029  1.5130043\n",
       "alc_freq_filter             1.0873189  1.0757650  1.0989971\n",
       "smok_stat                   0.9553195  0.9444040  0.9663829\n",
       "bmi_filter                  1.2509459  1.2329269  1.2692213\n",
       "full_screen_time_filter     1.1688430  1.1480040  1.1901280\n",
       "employ_status_array_filter  0.9986897  0.9842614  1.0133458\n",
       "comorb_sum                         NA         NA         NA\n",
       "gov_assistance_filter              NA         NA         NA\n",
       "dep_diag_yes                0.8950150  0.8721456  0.9186403"
      ]
     },
     "metadata": {},
     "output_type": "display_data"
    }
   ],
   "source": [
    "#adjusted mvpa IRR and CI and pvalue\n",
    "summary(m1 <- glm.nb(pa_mv_convert ~ cevd_event + age_levels + male + alc_freq_filter + smok_stat + bmi_filter + full_screen_time_filter + employ_status_array_filter + comorb_sum +gov_assistance_filter +dep_diag_yes, data = data))\n",
    "(est <- cbind(Estimate = coef(m1), confint(m1)))\n",
    "exp(est)"
   ]
  },
  {
   "cell_type": "code",
   "execution_count": 16,
   "id": "e5ba9464-65f6-4e99-a353-bb7e01607e4c",
   "metadata": {
    "tags": []
   },
   "outputs": [],
   "source": [
    "#"
   ]
  },
  {
   "cell_type": "code",
   "execution_count": 17,
   "id": "f3adb18b-1a4a-4919-a46f-e55e0d0b1b1a",
   "metadata": {
    "tags": []
   },
   "outputs": [],
   "source": [
    "#sensitivity analysis 2"
   ]
  },
  {
   "cell_type": "code",
   "execution_count": 18,
   "id": "dce93abb-f6b2-4a0e-88c5-4d5c396871f2",
   "metadata": {
    "tags": []
   },
   "outputs": [],
   "source": [
    "#"
   ]
  },
  {
   "cell_type": "code",
   "execution_count": 19,
   "id": "be587107-3941-4f70-9142-238560e45b1b",
   "metadata": {
    "tags": []
   },
   "outputs": [],
   "source": [
    "import_file <- \"cevd_first_model_sa_cevdt2eanddep.csv\"\n",
    "data <- read.csv(import_file)"
   ]
  },
  {
   "cell_type": "code",
   "execution_count": 20,
   "id": "55ec03c2-83db-427d-be11-c668225209d9",
   "metadata": {
    "tags": []
   },
   "outputs": [
    {
     "data": {
      "text/html": [
       "<style>\n",
       ".list-inline {list-style: none; margin:0; padding: 0}\n",
       ".list-inline>li {display: inline-block}\n",
       ".list-inline>li:not(:last-child)::after {content: \"\\00b7\"; padding: 0 .5ex}\n",
       "</style>\n",
       "<ol class=list-inline><li>0</li><li>0</li><li>0</li><li>0</li><li>0</li><li>1</li></ol>\n"
      ],
      "text/latex": [
       "\\begin{enumerate*}\n",
       "\\item 0\n",
       "\\item 0\n",
       "\\item 0\n",
       "\\item 0\n",
       "\\item 0\n",
       "\\item 1\n",
       "\\end{enumerate*}\n"
      ],
      "text/markdown": [
       "1. 0\n",
       "2. 0\n",
       "3. 0\n",
       "4. 0\n",
       "5. 0\n",
       "6. 1\n",
       "\n",
       "\n"
      ],
      "text/plain": [
       "[1] 0 0 0 0 0 1"
      ]
     },
     "metadata": {},
     "output_type": "display_data"
    }
   ],
   "source": [
    "#create binary age variable\n",
    "data$age_i0 <- as.integer(data$age_i0, na.rm = TRUE)\n",
    "data$pa_sleep_convert <- as.integer(data$pa_sleep_convert, na.rm = TRUE)\n",
    "data$pa_sed_convert <- as.integer(data$pa_sed_convert, na.rm = TRUE)\n",
    "data$pa_light_convert <- as.integer(data$pa_light_convert, na.rm = TRUE)\n",
    "data$pa_mv_convert <- as.integer(data$pa_mv_convert, na.rm = TRUE)\n",
    "data$cevd_event <- as.integer(data$cevd_event, na.rm = TRUE)\n",
    "data$male <- as.integer(data$male, na.rm = TRUE)\n",
    "data$alc_freq_filter <- as.integer(data$alc_freq_filter, na.rm = TRUE)\n",
    "data$smok_stat <- as.integer(data$smok_stat, na.rm = TRUE)\n",
    "data$bmi_filter <- as.integer(data$bmi_filter, na.rm = TRUE)\n",
    "data$full_screen_time_filter <- as.integer(data$full_screen_time_filter, na.rm = TRUE)\n",
    "data$employ_status_array_filter <- as.integer(data$employ_status_array_filter, na.rm = TRUE)\n",
    "data$comborb_sum <- as.integer(data$comorb_sum, na.rm = TRUE)\n",
    "data$gov_assistance_filter <- as.integer(data$gov_assistance_filter, na.rm = TRUE)\n",
    "data$dep_diag_yes <- as.integer(data$dep_diag_yes, na.rm = TRUE)   \n",
    "data$age_levels <- ifelse(data$age_i0 < 60, 0, 1)\n",
    "data$age_levels <- as.integer(data$age_levels)\n",
    "head(data$age_levels)"
   ]
  },
  {
   "cell_type": "code",
   "execution_count": 21,
   "id": "cadfcb32-3fce-494d-808e-37f20a2f7c5e",
   "metadata": {
    "tags": []
   },
   "outputs": [],
   "source": [
    "#create dfs for different cevd t2es\n",
    "data_cevd_1 <- data[data$cevd_t2e_filter == 0 | data$cevd_t2e_filter == 1, ]\n",
    "data_cevd_2 <- data[data$cevd_t2e_filter == 0 | data$cevd_t2e_filter == 2, ]\n",
    "data_cevd_3 <- data[data$cevd_t2e_filter == 0 | data$cevd_t2e_filter == 3, ]"
   ]
  },
  {
   "cell_type": "code",
   "execution_count": 22,
   "id": "5661da52-b8c9-40b4-a449-293a8d514b78",
   "metadata": {},
   "outputs": [],
   "source": [
    "#cevd = 1"
   ]
  },
  {
   "cell_type": "code",
   "execution_count": 23,
   "id": "ede72a42-2a3d-42dc-a97a-a88a13eb5d69",
   "metadata": {},
   "outputs": [
    {
     "data": {
      "text/plain": [
       "\n",
       "Call:\n",
       "glm.nb(formula = pa_sleep_convert ~ cevd_event + age_levels + \n",
       "    male + alc_freq_filter + smok_stat + bmi_filter + full_screen_time_filter + \n",
       "    employ_status_array_filter + comorb_sum + gov_assistance_filter + \n",
       "    dep_diag_yes, data = data_cevd_1, init.theta = 44.99080341, \n",
       "    link = log)\n",
       "\n",
       "Coefficients:\n",
       "                             Estimate Std. Error  z value Pr(>|z|)    \n",
       "(Intercept)                 6.2842412  0.0021917 2867.272  < 2e-16 ***\n",
       "cevd_event                  0.0005983  0.0061989    0.097 0.923105    \n",
       "age_levels                  0.0125953  0.0013519    9.317  < 2e-16 ***\n",
       "male                       -0.0132800  0.0011887  -11.172  < 2e-16 ***\n",
       "alc_freq_filter            -0.0052784  0.0008481   -6.224 4.85e-10 ***\n",
       "smok_stat                   0.0026312  0.0009207    2.858 0.004264 ** \n",
       "bmi_filter                  0.0025272  0.0011825    2.137 0.032586 *  \n",
       "full_screen_time_filter    -0.0169037  0.0015278  -11.064  < 2e-16 ***\n",
       "employ_status_array_filter -0.0136413  0.0011509  -11.853  < 2e-16 ***\n",
       "comorb_sum                  0.0058453  0.0008667    6.744 1.54e-11 ***\n",
       "gov_assistance_filter       0.0129623  0.0037590    3.448 0.000564 ***\n",
       "dep_diag_yes                0.0210147  0.0020242   10.382  < 2e-16 ***\n",
       "---\n",
       "Signif. codes:  0 ‘***’ 0.001 ‘**’ 0.01 ‘*’ 0.05 ‘.’ 0.1 ‘ ’ 1\n",
       "\n",
       "(Dispersion parameter for Negative Binomial(44.9908) family taken to be 1)\n",
       "\n",
       "    Null deviance: 77874  on 74976  degrees of freedom\n",
       "Residual deviance: 76842  on 74965  degrees of freedom\n",
       "  (1 observation deleted due to missingness)\n",
       "AIC: 873711\n",
       "\n",
       "Number of Fisher Scoring iterations: 1\n",
       "\n",
       "\n",
       "              Theta:  44.991 \n",
       "          Std. Err.:  0.256 \n",
       "\n",
       " 2 x log-likelihood:  -873684.961 "
      ]
     },
     "metadata": {},
     "output_type": "display_data"
    },
    {
     "name": "stderr",
     "output_type": "stream",
     "text": [
      "Waiting for profiling to be done...\n",
      "\n"
     ]
    },
    {
     "data": {
      "text/html": [
       "<table class=\"dataframe\">\n",
       "<caption>A matrix: 12 × 3 of type dbl</caption>\n",
       "<thead>\n",
       "\t<tr><th></th><th scope=col>Estimate</th><th scope=col>2.5 %</th><th scope=col>97.5 %</th></tr>\n",
       "</thead>\n",
       "<tbody>\n",
       "\t<tr><th scope=row>(Intercept)</th><td> 6.2842411699</td><td> 6.2799465458</td><td> 6.288536552</td></tr>\n",
       "\t<tr><th scope=row>cevd_event</th><td> 0.0005983364</td><td>-0.0115318917</td><td> 0.012769025</td></tr>\n",
       "\t<tr><th scope=row>age_levels</th><td> 0.0125952725</td><td> 0.0099473325</td><td> 0.015243754</td></tr>\n",
       "\t<tr><th scope=row>male</th><td>-0.0132799504</td><td>-0.0156104396</td><td>-0.010949256</td></tr>\n",
       "\t<tr><th scope=row>alc_freq_filter</th><td>-0.0052783798</td><td>-0.0069411230</td><td>-0.003615630</td></tr>\n",
       "\t<tr><th scope=row>smok_stat</th><td> 0.0026311505</td><td> 0.0008283713</td><td> 0.004434418</td></tr>\n",
       "\t<tr><th scope=row>bmi_filter</th><td> 0.0025271594</td><td> 0.0002096271</td><td> 0.004844712</td></tr>\n",
       "\t<tr><th scope=row>full_screen_time_filter</th><td>-0.0169037224</td><td>-0.0198971544</td><td>-0.013908792</td></tr>\n",
       "\t<tr><th scope=row>employ_status_array_filter</th><td>-0.0136412655</td><td>-0.0158927803</td><td>-0.011389285</td></tr>\n",
       "\t<tr><th scope=row>comorb_sum</th><td> 0.0058453308</td><td> 0.0041466146</td><td> 0.007544818</td></tr>\n",
       "\t<tr><th scope=row>gov_assistance_filter</th><td> 0.0129622549</td><td> 0.0056011144</td><td> 0.020336975</td></tr>\n",
       "\t<tr><th scope=row>dep_diag_yes</th><td> 0.0210147364</td><td> 0.0170486160</td><td> 0.024984376</td></tr>\n",
       "</tbody>\n",
       "</table>\n"
      ],
      "text/latex": [
       "A matrix: 12 × 3 of type dbl\n",
       "\\begin{tabular}{r|lll}\n",
       "  & Estimate & 2.5 \\% & 97.5 \\%\\\\\n",
       "\\hline\n",
       "\t(Intercept) &  6.2842411699 &  6.2799465458 &  6.288536552\\\\\n",
       "\tcevd\\_event &  0.0005983364 & -0.0115318917 &  0.012769025\\\\\n",
       "\tage\\_levels &  0.0125952725 &  0.0099473325 &  0.015243754\\\\\n",
       "\tmale & -0.0132799504 & -0.0156104396 & -0.010949256\\\\\n",
       "\talc\\_freq\\_filter & -0.0052783798 & -0.0069411230 & -0.003615630\\\\\n",
       "\tsmok\\_stat &  0.0026311505 &  0.0008283713 &  0.004434418\\\\\n",
       "\tbmi\\_filter &  0.0025271594 &  0.0002096271 &  0.004844712\\\\\n",
       "\tfull\\_screen\\_time\\_filter & -0.0169037224 & -0.0198971544 & -0.013908792\\\\\n",
       "\temploy\\_status\\_array\\_filter & -0.0136412655 & -0.0158927803 & -0.011389285\\\\\n",
       "\tcomorb\\_sum &  0.0058453308 &  0.0041466146 &  0.007544818\\\\\n",
       "\tgov\\_assistance\\_filter &  0.0129622549 &  0.0056011144 &  0.020336975\\\\\n",
       "\tdep\\_diag\\_yes &  0.0210147364 &  0.0170486160 &  0.024984376\\\\\n",
       "\\end{tabular}\n"
      ],
      "text/markdown": [
       "\n",
       "A matrix: 12 × 3 of type dbl\n",
       "\n",
       "| <!--/--> | Estimate | 2.5 % | 97.5 % |\n",
       "|---|---|---|---|\n",
       "| (Intercept) |  6.2842411699 |  6.2799465458 |  6.288536552 |\n",
       "| cevd_event |  0.0005983364 | -0.0115318917 |  0.012769025 |\n",
       "| age_levels |  0.0125952725 |  0.0099473325 |  0.015243754 |\n",
       "| male | -0.0132799504 | -0.0156104396 | -0.010949256 |\n",
       "| alc_freq_filter | -0.0052783798 | -0.0069411230 | -0.003615630 |\n",
       "| smok_stat |  0.0026311505 |  0.0008283713 |  0.004434418 |\n",
       "| bmi_filter |  0.0025271594 |  0.0002096271 |  0.004844712 |\n",
       "| full_screen_time_filter | -0.0169037224 | -0.0198971544 | -0.013908792 |\n",
       "| employ_status_array_filter | -0.0136412655 | -0.0158927803 | -0.011389285 |\n",
       "| comorb_sum |  0.0058453308 |  0.0041466146 |  0.007544818 |\n",
       "| gov_assistance_filter |  0.0129622549 |  0.0056011144 |  0.020336975 |\n",
       "| dep_diag_yes |  0.0210147364 |  0.0170486160 |  0.024984376 |\n",
       "\n"
      ],
      "text/plain": [
       "                           Estimate      2.5 %         97.5 %      \n",
       "(Intercept)                 6.2842411699  6.2799465458  6.288536552\n",
       "cevd_event                  0.0005983364 -0.0115318917  0.012769025\n",
       "age_levels                  0.0125952725  0.0099473325  0.015243754\n",
       "male                       -0.0132799504 -0.0156104396 -0.010949256\n",
       "alc_freq_filter            -0.0052783798 -0.0069411230 -0.003615630\n",
       "smok_stat                   0.0026311505  0.0008283713  0.004434418\n",
       "bmi_filter                  0.0025271594  0.0002096271  0.004844712\n",
       "full_screen_time_filter    -0.0169037224 -0.0198971544 -0.013908792\n",
       "employ_status_array_filter -0.0136412655 -0.0158927803 -0.011389285\n",
       "comorb_sum                  0.0058453308  0.0041466146  0.007544818\n",
       "gov_assistance_filter       0.0129622549  0.0056011144  0.020336975\n",
       "dep_diag_yes                0.0210147364  0.0170486160  0.024984376"
      ]
     },
     "metadata": {},
     "output_type": "display_data"
    },
    {
     "data": {
      "text/html": [
       "<table class=\"dataframe\">\n",
       "<caption>A matrix: 12 × 3 of type dbl</caption>\n",
       "<thead>\n",
       "\t<tr><th></th><th scope=col>Estimate</th><th scope=col>2.5 %</th><th scope=col>97.5 %</th></tr>\n",
       "</thead>\n",
       "<tbody>\n",
       "\t<tr><th scope=row>(Intercept)</th><td>536.0573598</td><td>533.7601313</td><td>538.3648834</td></tr>\n",
       "\t<tr><th scope=row>cevd_event</th><td>  1.0005985</td><td>  0.9885343</td><td>  1.0128509</td></tr>\n",
       "\t<tr><th scope=row>age_levels</th><td>  1.0126749</td><td>  1.0099970</td><td>  1.0153605</td></tr>\n",
       "\t<tr><th scope=row>male</th><td>  0.9868078</td><td>  0.9845108</td><td>  0.9891105</td></tr>\n",
       "\t<tr><th scope=row>alc_freq_filter</th><td>  0.9947355</td><td>  0.9930829</td><td>  0.9963909</td></tr>\n",
       "\t<tr><th scope=row>smok_stat</th><td>  1.0026346</td><td>  1.0008287</td><td>  1.0044443</td></tr>\n",
       "\t<tr><th scope=row>bmi_filter</th><td>  1.0025304</td><td>  1.0002096</td><td>  1.0048565</td></tr>\n",
       "\t<tr><th scope=row>full_screen_time_filter</th><td>  0.9832383</td><td>  0.9802995</td><td>  0.9861875</td></tr>\n",
       "\t<tr><th scope=row>employ_status_array_filter</th><td>  0.9864514</td><td>  0.9842328</td><td>  0.9886753</td></tr>\n",
       "\t<tr><th scope=row>comorb_sum</th><td>  1.0058624</td><td>  1.0041552</td><td>  1.0075734</td></tr>\n",
       "\t<tr><th scope=row>gov_assistance_filter</th><td>  1.0130466</td><td>  1.0056168</td><td>  1.0205452</td></tr>\n",
       "\t<tr><th scope=row>dep_diag_yes</th><td>  1.0212371</td><td>  1.0171948</td><td>  1.0252991</td></tr>\n",
       "</tbody>\n",
       "</table>\n"
      ],
      "text/latex": [
       "A matrix: 12 × 3 of type dbl\n",
       "\\begin{tabular}{r|lll}\n",
       "  & Estimate & 2.5 \\% & 97.5 \\%\\\\\n",
       "\\hline\n",
       "\t(Intercept) & 536.0573598 & 533.7601313 & 538.3648834\\\\\n",
       "\tcevd\\_event &   1.0005985 &   0.9885343 &   1.0128509\\\\\n",
       "\tage\\_levels &   1.0126749 &   1.0099970 &   1.0153605\\\\\n",
       "\tmale &   0.9868078 &   0.9845108 &   0.9891105\\\\\n",
       "\talc\\_freq\\_filter &   0.9947355 &   0.9930829 &   0.9963909\\\\\n",
       "\tsmok\\_stat &   1.0026346 &   1.0008287 &   1.0044443\\\\\n",
       "\tbmi\\_filter &   1.0025304 &   1.0002096 &   1.0048565\\\\\n",
       "\tfull\\_screen\\_time\\_filter &   0.9832383 &   0.9802995 &   0.9861875\\\\\n",
       "\temploy\\_status\\_array\\_filter &   0.9864514 &   0.9842328 &   0.9886753\\\\\n",
       "\tcomorb\\_sum &   1.0058624 &   1.0041552 &   1.0075734\\\\\n",
       "\tgov\\_assistance\\_filter &   1.0130466 &   1.0056168 &   1.0205452\\\\\n",
       "\tdep\\_diag\\_yes &   1.0212371 &   1.0171948 &   1.0252991\\\\\n",
       "\\end{tabular}\n"
      ],
      "text/markdown": [
       "\n",
       "A matrix: 12 × 3 of type dbl\n",
       "\n",
       "| <!--/--> | Estimate | 2.5 % | 97.5 % |\n",
       "|---|---|---|---|\n",
       "| (Intercept) | 536.0573598 | 533.7601313 | 538.3648834 |\n",
       "| cevd_event |   1.0005985 |   0.9885343 |   1.0128509 |\n",
       "| age_levels |   1.0126749 |   1.0099970 |   1.0153605 |\n",
       "| male |   0.9868078 |   0.9845108 |   0.9891105 |\n",
       "| alc_freq_filter |   0.9947355 |   0.9930829 |   0.9963909 |\n",
       "| smok_stat |   1.0026346 |   1.0008287 |   1.0044443 |\n",
       "| bmi_filter |   1.0025304 |   1.0002096 |   1.0048565 |\n",
       "| full_screen_time_filter |   0.9832383 |   0.9802995 |   0.9861875 |\n",
       "| employ_status_array_filter |   0.9864514 |   0.9842328 |   0.9886753 |\n",
       "| comorb_sum |   1.0058624 |   1.0041552 |   1.0075734 |\n",
       "| gov_assistance_filter |   1.0130466 |   1.0056168 |   1.0205452 |\n",
       "| dep_diag_yes |   1.0212371 |   1.0171948 |   1.0252991 |\n",
       "\n"
      ],
      "text/plain": [
       "                           Estimate    2.5 %       97.5 %     \n",
       "(Intercept)                536.0573598 533.7601313 538.3648834\n",
       "cevd_event                   1.0005985   0.9885343   1.0128509\n",
       "age_levels                   1.0126749   1.0099970   1.0153605\n",
       "male                         0.9868078   0.9845108   0.9891105\n",
       "alc_freq_filter              0.9947355   0.9930829   0.9963909\n",
       "smok_stat                    1.0026346   1.0008287   1.0044443\n",
       "bmi_filter                   1.0025304   1.0002096   1.0048565\n",
       "full_screen_time_filter      0.9832383   0.9802995   0.9861875\n",
       "employ_status_array_filter   0.9864514   0.9842328   0.9886753\n",
       "comorb_sum                   1.0058624   1.0041552   1.0075734\n",
       "gov_assistance_filter        1.0130466   1.0056168   1.0205452\n",
       "dep_diag_yes                 1.0212371   1.0171948   1.0252991"
      ]
     },
     "metadata": {},
     "output_type": "display_data"
    }
   ],
   "source": [
    "summary(m1 <- glm.nb(pa_sleep_convert ~ cevd_event + age_levels + male + alc_freq_filter + smok_stat + bmi_filter + full_screen_time_filter + employ_status_array_filter + comorb_sum +gov_assistance_filter +dep_diag_yes, data = data_cevd_1))\n",
    "(est <- cbind(Estimate = coef(m1), confint(m1)))\n",
    "exp(est)\n",
    "     "
   ]
  },
  {
   "cell_type": "code",
   "execution_count": 24,
   "id": "f41ae20f-2ae2-4b8e-a368-8deed73b5fff",
   "metadata": {},
   "outputs": [
    {
     "data": {
      "text/plain": [
       "\n",
       "Call:\n",
       "glm.nb(formula = pa_sed_convert ~ cevd_event + age_levels + male + \n",
       "    alc_freq_filter + smok_stat + bmi_filter + full_screen_time_filter + \n",
       "    employ_status_array_filter + comorb_sum + gov_assistance_filter + \n",
       "    dep_diag_yes, data = data_cevd_1, init.theta = 28.27915057, \n",
       "    link = log)\n",
       "\n",
       "Coefficients:\n",
       "                             Estimate Std. Error  z value Pr(>|z|)    \n",
       "(Intercept)                 6.3217433  0.0027197 2324.451  < 2e-16 ***\n",
       "cevd_event                  0.0076870  0.0076908    1.000    0.318    \n",
       "age_levels                 -0.0079105  0.0016775   -4.716 2.41e-06 ***\n",
       "male                        0.0610571  0.0014743   41.413  < 2e-16 ***\n",
       "alc_freq_filter            -0.0004868  0.0010523   -0.463    0.644    \n",
       "smok_stat                   0.0001211  0.0011422    0.106    0.916    \n",
       "bmi_filter                 -0.0455600  0.0014672  -31.052  < 2e-16 ***\n",
       "full_screen_time_filter    -0.0312579  0.0018961  -16.485  < 2e-16 ***\n",
       "employ_status_array_filter  0.0159892  0.0014279   11.198  < 2e-16 ***\n",
       "comorb_sum                  0.0092265  0.0010752    8.581  < 2e-16 ***\n",
       "gov_assistance_filter       0.0582353  0.0046627   12.490  < 2e-16 ***\n",
       "dep_diag_yes                0.0016314  0.0025134    0.649    0.516    \n",
       "---\n",
       "Signif. codes:  0 ‘***’ 0.001 ‘**’ 0.01 ‘*’ 0.05 ‘.’ 0.1 ‘ ’ 1\n",
       "\n",
       "(Dispersion parameter for Negative Binomial(28.2792) family taken to be 1)\n",
       "\n",
       "    Null deviance: 79972  on 74976  degrees of freedom\n",
       "Residual deviance: 75554  on 74965  degrees of freedom\n",
       "  (1 observation deleted due to missingness)\n",
       "AIC: 913954\n",
       "\n",
       "Number of Fisher Scoring iterations: 1\n",
       "\n",
       "\n",
       "              Theta:  28.279 \n",
       "          Std. Err.:  0.153 \n",
       "\n",
       " 2 x log-likelihood:  -913928.060 "
      ]
     },
     "metadata": {},
     "output_type": "display_data"
    },
    {
     "name": "stderr",
     "output_type": "stream",
     "text": [
      "Waiting for profiling to be done...\n",
      "\n"
     ]
    },
    {
     "data": {
      "text/html": [
       "<table class=\"dataframe\">\n",
       "<caption>A matrix: 12 × 3 of type dbl</caption>\n",
       "<thead>\n",
       "\t<tr><th></th><th scope=col>Estimate</th><th scope=col>2.5 %</th><th scope=col>97.5 %</th></tr>\n",
       "</thead>\n",
       "<tbody>\n",
       "\t<tr><th scope=row>(Intercept)</th><td> 6.3217433066</td><td> 6.316402418</td><td> 6.327085426</td></tr>\n",
       "\t<tr><th scope=row>cevd_event</th><td> 0.0076870053</td><td>-0.007354755</td><td> 0.022795613</td></tr>\n",
       "\t<tr><th scope=row>age_levels</th><td>-0.0079105416</td><td>-0.011207670</td><td>-0.004612498</td></tr>\n",
       "\t<tr><th scope=row>male</th><td> 0.0610570653</td><td> 0.058171191</td><td> 0.063943279</td></tr>\n",
       "\t<tr><th scope=row>alc_freq_filter</th><td>-0.0004868436</td><td>-0.002548728</td><td> 0.001575051</td></tr>\n",
       "\t<tr><th scope=row>smok_stat</th><td> 0.0001211207</td><td>-0.002112205</td><td> 0.002355255</td></tr>\n",
       "\t<tr><th scope=row>bmi_filter</th><td>-0.0455600376</td><td>-0.048435338</td><td>-0.042684702</td></tr>\n",
       "\t<tr><th scope=row>full_screen_time_filter</th><td>-0.0312578875</td><td>-0.034974920</td><td>-0.027538383</td></tr>\n",
       "\t<tr><th scope=row>employ_status_array_filter</th><td> 0.0159892430</td><td> 0.013167659</td><td> 0.018811627</td></tr>\n",
       "\t<tr><th scope=row>comorb_sum</th><td> 0.0092264921</td><td> 0.007119607</td><td> 0.011334654</td></tr>\n",
       "\t<tr><th scope=row>gov_assistance_filter</th><td> 0.0582352574</td><td> 0.049104104</td><td> 0.067388846</td></tr>\n",
       "\t<tr><th scope=row>dep_diag_yes</th><td> 0.0016313690</td><td>-0.003292616</td><td> 0.006561156</td></tr>\n",
       "</tbody>\n",
       "</table>\n"
      ],
      "text/latex": [
       "A matrix: 12 × 3 of type dbl\n",
       "\\begin{tabular}{r|lll}\n",
       "  & Estimate & 2.5 \\% & 97.5 \\%\\\\\n",
       "\\hline\n",
       "\t(Intercept) &  6.3217433066 &  6.316402418 &  6.327085426\\\\\n",
       "\tcevd\\_event &  0.0076870053 & -0.007354755 &  0.022795613\\\\\n",
       "\tage\\_levels & -0.0079105416 & -0.011207670 & -0.004612498\\\\\n",
       "\tmale &  0.0610570653 &  0.058171191 &  0.063943279\\\\\n",
       "\talc\\_freq\\_filter & -0.0004868436 & -0.002548728 &  0.001575051\\\\\n",
       "\tsmok\\_stat &  0.0001211207 & -0.002112205 &  0.002355255\\\\\n",
       "\tbmi\\_filter & -0.0455600376 & -0.048435338 & -0.042684702\\\\\n",
       "\tfull\\_screen\\_time\\_filter & -0.0312578875 & -0.034974920 & -0.027538383\\\\\n",
       "\temploy\\_status\\_array\\_filter &  0.0159892430 &  0.013167659 &  0.018811627\\\\\n",
       "\tcomorb\\_sum &  0.0092264921 &  0.007119607 &  0.011334654\\\\\n",
       "\tgov\\_assistance\\_filter &  0.0582352574 &  0.049104104 &  0.067388846\\\\\n",
       "\tdep\\_diag\\_yes &  0.0016313690 & -0.003292616 &  0.006561156\\\\\n",
       "\\end{tabular}\n"
      ],
      "text/markdown": [
       "\n",
       "A matrix: 12 × 3 of type dbl\n",
       "\n",
       "| <!--/--> | Estimate | 2.5 % | 97.5 % |\n",
       "|---|---|---|---|\n",
       "| (Intercept) |  6.3217433066 |  6.316402418 |  6.327085426 |\n",
       "| cevd_event |  0.0076870053 | -0.007354755 |  0.022795613 |\n",
       "| age_levels | -0.0079105416 | -0.011207670 | -0.004612498 |\n",
       "| male |  0.0610570653 |  0.058171191 |  0.063943279 |\n",
       "| alc_freq_filter | -0.0004868436 | -0.002548728 |  0.001575051 |\n",
       "| smok_stat |  0.0001211207 | -0.002112205 |  0.002355255 |\n",
       "| bmi_filter | -0.0455600376 | -0.048435338 | -0.042684702 |\n",
       "| full_screen_time_filter | -0.0312578875 | -0.034974920 | -0.027538383 |\n",
       "| employ_status_array_filter |  0.0159892430 |  0.013167659 |  0.018811627 |\n",
       "| comorb_sum |  0.0092264921 |  0.007119607 |  0.011334654 |\n",
       "| gov_assistance_filter |  0.0582352574 |  0.049104104 |  0.067388846 |\n",
       "| dep_diag_yes |  0.0016313690 | -0.003292616 |  0.006561156 |\n",
       "\n"
      ],
      "text/plain": [
       "                           Estimate      2.5 %        97.5 %      \n",
       "(Intercept)                 6.3217433066  6.316402418  6.327085426\n",
       "cevd_event                  0.0076870053 -0.007354755  0.022795613\n",
       "age_levels                 -0.0079105416 -0.011207670 -0.004612498\n",
       "male                        0.0610570653  0.058171191  0.063943279\n",
       "alc_freq_filter            -0.0004868436 -0.002548728  0.001575051\n",
       "smok_stat                   0.0001211207 -0.002112205  0.002355255\n",
       "bmi_filter                 -0.0455600376 -0.048435338 -0.042684702\n",
       "full_screen_time_filter    -0.0312578875 -0.034974920 -0.027538383\n",
       "employ_status_array_filter  0.0159892430  0.013167659  0.018811627\n",
       "comorb_sum                  0.0092264921  0.007119607  0.011334654\n",
       "gov_assistance_filter       0.0582352574  0.049104104  0.067388846\n",
       "dep_diag_yes                0.0016313690 -0.003292616  0.006561156"
      ]
     },
     "metadata": {},
     "output_type": "display_data"
    },
    {
     "data": {
      "text/html": [
       "<table class=\"dataframe\">\n",
       "<caption>A matrix: 12 × 3 of type dbl</caption>\n",
       "<thead>\n",
       "\t<tr><th></th><th scope=col>Estimate</th><th scope=col>2.5 %</th><th scope=col>97.5 %</th></tr>\n",
       "</thead>\n",
       "<tbody>\n",
       "\t<tr><th scope=row>(Intercept)</th><td>556.5423712</td><td>553.5778640</td><td>559.5234425</td></tr>\n",
       "\t<tr><th scope=row>cevd_event</th><td>  1.0077166</td><td>  0.9926722</td><td>  1.0230574</td></tr>\n",
       "\t<tr><th scope=row>age_levels</th><td>  0.9921207</td><td>  0.9888549</td><td>  0.9953981</td></tr>\n",
       "\t<tr><th scope=row>male</th><td>  1.0629596</td><td>  1.0598964</td><td>  1.0660319</td></tr>\n",
       "\t<tr><th scope=row>alc_freq_filter</th><td>  0.9995133</td><td>  0.9974545</td><td>  1.0015763</td></tr>\n",
       "\t<tr><th scope=row>smok_stat</th><td>  1.0001211</td><td>  0.9978900</td><td>  1.0023580</td></tr>\n",
       "\t<tr><th scope=row>bmi_filter</th><td>  0.9554622</td><td>  0.9527189</td><td>  0.9582135</td></tr>\n",
       "\t<tr><th scope=row>full_screen_time_filter</th><td>  0.9692256</td><td>  0.9656296</td><td>  0.9728373</td></tr>\n",
       "\t<tr><th scope=row>employ_status_array_filter</th><td>  1.0161178</td><td>  1.0132547</td><td>  1.0189897</td></tr>\n",
       "\t<tr><th scope=row>comorb_sum</th><td>  1.0092692</td><td>  1.0071450</td><td>  1.0113991</td></tr>\n",
       "\t<tr><th scope=row>gov_assistance_filter</th><td>  1.0599643</td><td>  1.0503297</td><td>  1.0697114</td></tr>\n",
       "\t<tr><th scope=row>dep_diag_yes</th><td>  1.0016327</td><td>  0.9967128</td><td>  1.0065827</td></tr>\n",
       "</tbody>\n",
       "</table>\n"
      ],
      "text/latex": [
       "A matrix: 12 × 3 of type dbl\n",
       "\\begin{tabular}{r|lll}\n",
       "  & Estimate & 2.5 \\% & 97.5 \\%\\\\\n",
       "\\hline\n",
       "\t(Intercept) & 556.5423712 & 553.5778640 & 559.5234425\\\\\n",
       "\tcevd\\_event &   1.0077166 &   0.9926722 &   1.0230574\\\\\n",
       "\tage\\_levels &   0.9921207 &   0.9888549 &   0.9953981\\\\\n",
       "\tmale &   1.0629596 &   1.0598964 &   1.0660319\\\\\n",
       "\talc\\_freq\\_filter &   0.9995133 &   0.9974545 &   1.0015763\\\\\n",
       "\tsmok\\_stat &   1.0001211 &   0.9978900 &   1.0023580\\\\\n",
       "\tbmi\\_filter &   0.9554622 &   0.9527189 &   0.9582135\\\\\n",
       "\tfull\\_screen\\_time\\_filter &   0.9692256 &   0.9656296 &   0.9728373\\\\\n",
       "\temploy\\_status\\_array\\_filter &   1.0161178 &   1.0132547 &   1.0189897\\\\\n",
       "\tcomorb\\_sum &   1.0092692 &   1.0071450 &   1.0113991\\\\\n",
       "\tgov\\_assistance\\_filter &   1.0599643 &   1.0503297 &   1.0697114\\\\\n",
       "\tdep\\_diag\\_yes &   1.0016327 &   0.9967128 &   1.0065827\\\\\n",
       "\\end{tabular}\n"
      ],
      "text/markdown": [
       "\n",
       "A matrix: 12 × 3 of type dbl\n",
       "\n",
       "| <!--/--> | Estimate | 2.5 % | 97.5 % |\n",
       "|---|---|---|---|\n",
       "| (Intercept) | 556.5423712 | 553.5778640 | 559.5234425 |\n",
       "| cevd_event |   1.0077166 |   0.9926722 |   1.0230574 |\n",
       "| age_levels |   0.9921207 |   0.9888549 |   0.9953981 |\n",
       "| male |   1.0629596 |   1.0598964 |   1.0660319 |\n",
       "| alc_freq_filter |   0.9995133 |   0.9974545 |   1.0015763 |\n",
       "| smok_stat |   1.0001211 |   0.9978900 |   1.0023580 |\n",
       "| bmi_filter |   0.9554622 |   0.9527189 |   0.9582135 |\n",
       "| full_screen_time_filter |   0.9692256 |   0.9656296 |   0.9728373 |\n",
       "| employ_status_array_filter |   1.0161178 |   1.0132547 |   1.0189897 |\n",
       "| comorb_sum |   1.0092692 |   1.0071450 |   1.0113991 |\n",
       "| gov_assistance_filter |   1.0599643 |   1.0503297 |   1.0697114 |\n",
       "| dep_diag_yes |   1.0016327 |   0.9967128 |   1.0065827 |\n",
       "\n"
      ],
      "text/plain": [
       "                           Estimate    2.5 %       97.5 %     \n",
       "(Intercept)                556.5423712 553.5778640 559.5234425\n",
       "cevd_event                   1.0077166   0.9926722   1.0230574\n",
       "age_levels                   0.9921207   0.9888549   0.9953981\n",
       "male                         1.0629596   1.0598964   1.0660319\n",
       "alc_freq_filter              0.9995133   0.9974545   1.0015763\n",
       "smok_stat                    1.0001211   0.9978900   1.0023580\n",
       "bmi_filter                   0.9554622   0.9527189   0.9582135\n",
       "full_screen_time_filter      0.9692256   0.9656296   0.9728373\n",
       "employ_status_array_filter   1.0161178   1.0132547   1.0189897\n",
       "comorb_sum                   1.0092692   1.0071450   1.0113991\n",
       "gov_assistance_filter        1.0599643   1.0503297   1.0697114\n",
       "dep_diag_yes                 1.0016327   0.9967128   1.0065827"
      ]
     },
     "metadata": {},
     "output_type": "display_data"
    }
   ],
   "source": [
    "summary(m1 <- glm.nb(pa_sed_convert ~ cevd_event + age_levels + male + alc_freq_filter + smok_stat + bmi_filter + full_screen_time_filter + employ_status_array_filter + comorb_sum +gov_assistance_filter +dep_diag_yes, data = data_cevd_1))\n",
    "(est <- cbind(Estimate = coef(m1), confint(m1)))\n",
    "exp(est)\n",
    "     "
   ]
  },
  {
   "cell_type": "code",
   "execution_count": 25,
   "id": "028f98a9-2a51-4f2e-b391-ccfb05b2669b",
   "metadata": {},
   "outputs": [
    {
     "data": {
      "text/plain": [
       "\n",
       "Call:\n",
       "glm.nb(formula = pa_light_convert ~ cevd_event + age_levels + \n",
       "    male + alc_freq_filter + smok_stat + bmi_filter + full_screen_time_filter + \n",
       "    employ_status_array_filter + comorb_sum + gov_assistance_filter + \n",
       "    dep_diag_yes, data = data_cevd_1, init.theta = 10.11399424, \n",
       "    link = log)\n",
       "\n",
       "Coefficients:\n",
       "                             Estimate Std. Error  z value Pr(>|z|)    \n",
       "(Intercept)                 5.7597679  0.0045104 1276.989  < 2e-16 ***\n",
       "cevd_event                 -0.0064017  0.0127679   -0.501   0.6161    \n",
       "age_levels                  0.0070289  0.0027826    2.526   0.0115 *  \n",
       "male                       -0.1463978  0.0024467  -59.835  < 2e-16 ***\n",
       "alc_freq_filter            -0.0001692  0.0017452   -0.097   0.9228    \n",
       "smok_stat                   0.0030356  0.0018947    1.602   0.1091    \n",
       "bmi_filter                  0.0477124  0.0024333   19.608  < 2e-16 ***\n",
       "full_screen_time_filter     0.0598114  0.0031397   19.050  < 2e-16 ***\n",
       "employ_status_array_filter -0.0033832  0.0023683   -1.429   0.1531    \n",
       "comorb_sum                 -0.0177796  0.0017854   -9.958  < 2e-16 ***\n",
       "gov_assistance_filter      -0.0955777  0.0077568  -12.322  < 2e-16 ***\n",
       "dep_diag_yes               -0.0269416  0.0041696   -6.461 1.04e-10 ***\n",
       "---\n",
       "Signif. codes:  0 ‘***’ 0.001 ‘**’ 0.01 ‘*’ 0.05 ‘.’ 0.1 ‘ ’ 1\n",
       "\n",
       "(Dispersion parameter for Negative Binomial(10.114) family taken to be 1)\n",
       "\n",
       "    Null deviance: 82309  on 74976  degrees of freedom\n",
       "Residual deviance: 76501  on 74965  degrees of freedom\n",
       "  (1 observation deleted due to missingness)\n",
       "AIC: 894755\n",
       "\n",
       "Number of Fisher Scoring iterations: 1\n",
       "\n",
       "\n",
       "              Theta:  10.1140 \n",
       "          Std. Err.:  0.0534 \n",
       "\n",
       " 2 x log-likelihood:  -894728.5170 "
      ]
     },
     "metadata": {},
     "output_type": "display_data"
    },
    {
     "name": "stderr",
     "output_type": "stream",
     "text": [
      "Waiting for profiling to be done...\n",
      "\n"
     ]
    },
    {
     "data": {
      "text/html": [
       "<table class=\"dataframe\">\n",
       "<caption>A matrix: 12 × 3 of type dbl</caption>\n",
       "<thead>\n",
       "\t<tr><th></th><th scope=col>Estimate</th><th scope=col>2.5 %</th><th scope=col>97.5 %</th></tr>\n",
       "</thead>\n",
       "<tbody>\n",
       "\t<tr><th scope=row>(Intercept)</th><td> 5.7597679294</td><td> 5.7509632831</td><td> 5.768576205</td></tr>\n",
       "\t<tr><th scope=row>cevd_event</th><td>-0.0064017481</td><td>-0.0313255318</td><td> 0.018712044</td></tr>\n",
       "\t<tr><th scope=row>age_levels</th><td> 0.0070289259</td><td> 0.0015947748</td><td> 0.012465611</td></tr>\n",
       "\t<tr><th scope=row>male</th><td>-0.1463978099</td><td>-0.1511988239</td><td>-0.141595833</td></tr>\n",
       "\t<tr><th scope=row>alc_freq_filter</th><td>-0.0001691663</td><td>-0.0035864216</td><td> 0.003248125</td></tr>\n",
       "\t<tr><th scope=row>smok_stat</th><td> 0.0030356006</td><td>-0.0006902789</td><td> 0.006763765</td></tr>\n",
       "\t<tr><th scope=row>bmi_filter</th><td> 0.0477123802</td><td> 0.0429450478</td><td> 0.052479800</td></tr>\n",
       "\t<tr><th scope=row>full_screen_time_filter</th><td> 0.0598114439</td><td> 0.0536678151</td><td> 0.065962150</td></tr>\n",
       "\t<tr><th scope=row>employ_status_array_filter</th><td>-0.0033831828</td><td>-0.0079797393</td><td> 0.001215540</td></tr>\n",
       "\t<tr><th scope=row>comorb_sum</th><td>-0.0177795507</td><td>-0.0212759812</td><td>-0.014279502</td></tr>\n",
       "\t<tr><th scope=row>gov_assistance_filter</th><td>-0.0955777261</td><td>-0.1107308542</td><td>-0.080360958</td></tr>\n",
       "\t<tr><th scope=row>dep_diag_yes</th><td>-0.0269415585</td><td>-0.0351004922</td><td>-0.018766096</td></tr>\n",
       "</tbody>\n",
       "</table>\n"
      ],
      "text/latex": [
       "A matrix: 12 × 3 of type dbl\n",
       "\\begin{tabular}{r|lll}\n",
       "  & Estimate & 2.5 \\% & 97.5 \\%\\\\\n",
       "\\hline\n",
       "\t(Intercept) &  5.7597679294 &  5.7509632831 &  5.768576205\\\\\n",
       "\tcevd\\_event & -0.0064017481 & -0.0313255318 &  0.018712044\\\\\n",
       "\tage\\_levels &  0.0070289259 &  0.0015947748 &  0.012465611\\\\\n",
       "\tmale & -0.1463978099 & -0.1511988239 & -0.141595833\\\\\n",
       "\talc\\_freq\\_filter & -0.0001691663 & -0.0035864216 &  0.003248125\\\\\n",
       "\tsmok\\_stat &  0.0030356006 & -0.0006902789 &  0.006763765\\\\\n",
       "\tbmi\\_filter &  0.0477123802 &  0.0429450478 &  0.052479800\\\\\n",
       "\tfull\\_screen\\_time\\_filter &  0.0598114439 &  0.0536678151 &  0.065962150\\\\\n",
       "\temploy\\_status\\_array\\_filter & -0.0033831828 & -0.0079797393 &  0.001215540\\\\\n",
       "\tcomorb\\_sum & -0.0177795507 & -0.0212759812 & -0.014279502\\\\\n",
       "\tgov\\_assistance\\_filter & -0.0955777261 & -0.1107308542 & -0.080360958\\\\\n",
       "\tdep\\_diag\\_yes & -0.0269415585 & -0.0351004922 & -0.018766096\\\\\n",
       "\\end{tabular}\n"
      ],
      "text/markdown": [
       "\n",
       "A matrix: 12 × 3 of type dbl\n",
       "\n",
       "| <!--/--> | Estimate | 2.5 % | 97.5 % |\n",
       "|---|---|---|---|\n",
       "| (Intercept) |  5.7597679294 |  5.7509632831 |  5.768576205 |\n",
       "| cevd_event | -0.0064017481 | -0.0313255318 |  0.018712044 |\n",
       "| age_levels |  0.0070289259 |  0.0015947748 |  0.012465611 |\n",
       "| male | -0.1463978099 | -0.1511988239 | -0.141595833 |\n",
       "| alc_freq_filter | -0.0001691663 | -0.0035864216 |  0.003248125 |\n",
       "| smok_stat |  0.0030356006 | -0.0006902789 |  0.006763765 |\n",
       "| bmi_filter |  0.0477123802 |  0.0429450478 |  0.052479800 |\n",
       "| full_screen_time_filter |  0.0598114439 |  0.0536678151 |  0.065962150 |\n",
       "| employ_status_array_filter | -0.0033831828 | -0.0079797393 |  0.001215540 |\n",
       "| comorb_sum | -0.0177795507 | -0.0212759812 | -0.014279502 |\n",
       "| gov_assistance_filter | -0.0955777261 | -0.1107308542 | -0.080360958 |\n",
       "| dep_diag_yes | -0.0269415585 | -0.0351004922 | -0.018766096 |\n",
       "\n"
      ],
      "text/plain": [
       "                           Estimate      2.5 %         97.5 %      \n",
       "(Intercept)                 5.7597679294  5.7509632831  5.768576205\n",
       "cevd_event                 -0.0064017481 -0.0313255318  0.018712044\n",
       "age_levels                  0.0070289259  0.0015947748  0.012465611\n",
       "male                       -0.1463978099 -0.1511988239 -0.141595833\n",
       "alc_freq_filter            -0.0001691663 -0.0035864216  0.003248125\n",
       "smok_stat                   0.0030356006 -0.0006902789  0.006763765\n",
       "bmi_filter                  0.0477123802  0.0429450478  0.052479800\n",
       "full_screen_time_filter     0.0598114439  0.0536678151  0.065962150\n",
       "employ_status_array_filter -0.0033831828 -0.0079797393  0.001215540\n",
       "comorb_sum                 -0.0177795507 -0.0212759812 -0.014279502\n",
       "gov_assistance_filter      -0.0955777261 -0.1107308542 -0.080360958\n",
       "dep_diag_yes               -0.0269415585 -0.0351004922 -0.018766096"
      ]
     },
     "metadata": {},
     "output_type": "display_data"
    },
    {
     "data": {
      "text/html": [
       "<table class=\"dataframe\">\n",
       "<caption>A matrix: 12 × 3 of type dbl</caption>\n",
       "<thead>\n",
       "\t<tr><th></th><th scope=col>Estimate</th><th scope=col>2.5 %</th><th scope=col>97.5 %</th></tr>\n",
       "</thead>\n",
       "<tbody>\n",
       "\t<tr><th scope=row>(Intercept)</th><td>317.2746902</td><td>314.4934607</td><td>320.0816774</td></tr>\n",
       "\t<tr><th scope=row>cevd_event</th><td>  0.9936187</td><td>  0.9691600</td><td>  1.0188882</td></tr>\n",
       "\t<tr><th scope=row>age_levels</th><td>  1.0070537</td><td>  1.0015960</td><td>  1.0125436</td></tr>\n",
       "\t<tr><th scope=row>male</th><td>  0.8638140</td><td>  0.8596768</td><td>  0.8679720</td></tr>\n",
       "\t<tr><th scope=row>alc_freq_filter</th><td>  0.9998308</td><td>  0.9964200</td><td>  1.0032534</td></tr>\n",
       "\t<tr><th scope=row>smok_stat</th><td>  1.0030402</td><td>  0.9993100</td><td>  1.0067867</td></tr>\n",
       "\t<tr><th scope=row>bmi_filter</th><td>  1.0488689</td><td>  1.0438805</td><td>  1.0538813</td></tr>\n",
       "\t<tr><th scope=row>full_screen_time_filter</th><td>  1.0616363</td><td>  1.0551340</td><td>  1.0681863</td></tr>\n",
       "\t<tr><th scope=row>employ_status_array_filter</th><td>  0.9966225</td><td>  0.9920520</td><td>  1.0012163</td></tr>\n",
       "\t<tr><th scope=row>comorb_sum</th><td>  0.9823776</td><td>  0.9789488</td><td>  0.9858220</td></tr>\n",
       "\t<tr><th scope=row>gov_assistance_filter</th><td>  0.9088477</td><td>  0.8951797</td><td>  0.9227832</td></tr>\n",
       "\t<tr><th scope=row>dep_diag_yes</th><td>  0.9734181</td><td>  0.9655084</td><td>  0.9814089</td></tr>\n",
       "</tbody>\n",
       "</table>\n"
      ],
      "text/latex": [
       "A matrix: 12 × 3 of type dbl\n",
       "\\begin{tabular}{r|lll}\n",
       "  & Estimate & 2.5 \\% & 97.5 \\%\\\\\n",
       "\\hline\n",
       "\t(Intercept) & 317.2746902 & 314.4934607 & 320.0816774\\\\\n",
       "\tcevd\\_event &   0.9936187 &   0.9691600 &   1.0188882\\\\\n",
       "\tage\\_levels &   1.0070537 &   1.0015960 &   1.0125436\\\\\n",
       "\tmale &   0.8638140 &   0.8596768 &   0.8679720\\\\\n",
       "\talc\\_freq\\_filter &   0.9998308 &   0.9964200 &   1.0032534\\\\\n",
       "\tsmok\\_stat &   1.0030402 &   0.9993100 &   1.0067867\\\\\n",
       "\tbmi\\_filter &   1.0488689 &   1.0438805 &   1.0538813\\\\\n",
       "\tfull\\_screen\\_time\\_filter &   1.0616363 &   1.0551340 &   1.0681863\\\\\n",
       "\temploy\\_status\\_array\\_filter &   0.9966225 &   0.9920520 &   1.0012163\\\\\n",
       "\tcomorb\\_sum &   0.9823776 &   0.9789488 &   0.9858220\\\\\n",
       "\tgov\\_assistance\\_filter &   0.9088477 &   0.8951797 &   0.9227832\\\\\n",
       "\tdep\\_diag\\_yes &   0.9734181 &   0.9655084 &   0.9814089\\\\\n",
       "\\end{tabular}\n"
      ],
      "text/markdown": [
       "\n",
       "A matrix: 12 × 3 of type dbl\n",
       "\n",
       "| <!--/--> | Estimate | 2.5 % | 97.5 % |\n",
       "|---|---|---|---|\n",
       "| (Intercept) | 317.2746902 | 314.4934607 | 320.0816774 |\n",
       "| cevd_event |   0.9936187 |   0.9691600 |   1.0188882 |\n",
       "| age_levels |   1.0070537 |   1.0015960 |   1.0125436 |\n",
       "| male |   0.8638140 |   0.8596768 |   0.8679720 |\n",
       "| alc_freq_filter |   0.9998308 |   0.9964200 |   1.0032534 |\n",
       "| smok_stat |   1.0030402 |   0.9993100 |   1.0067867 |\n",
       "| bmi_filter |   1.0488689 |   1.0438805 |   1.0538813 |\n",
       "| full_screen_time_filter |   1.0616363 |   1.0551340 |   1.0681863 |\n",
       "| employ_status_array_filter |   0.9966225 |   0.9920520 |   1.0012163 |\n",
       "| comorb_sum |   0.9823776 |   0.9789488 |   0.9858220 |\n",
       "| gov_assistance_filter |   0.9088477 |   0.8951797 |   0.9227832 |\n",
       "| dep_diag_yes |   0.9734181 |   0.9655084 |   0.9814089 |\n",
       "\n"
      ],
      "text/plain": [
       "                           Estimate    2.5 %       97.5 %     \n",
       "(Intercept)                317.2746902 314.4934607 320.0816774\n",
       "cevd_event                   0.9936187   0.9691600   1.0188882\n",
       "age_levels                   1.0070537   1.0015960   1.0125436\n",
       "male                         0.8638140   0.8596768   0.8679720\n",
       "alc_freq_filter              0.9998308   0.9964200   1.0032534\n",
       "smok_stat                    1.0030402   0.9993100   1.0067867\n",
       "bmi_filter                   1.0488689   1.0438805   1.0538813\n",
       "full_screen_time_filter      1.0616363   1.0551340   1.0681863\n",
       "employ_status_array_filter   0.9966225   0.9920520   1.0012163\n",
       "comorb_sum                   0.9823776   0.9789488   0.9858220\n",
       "gov_assistance_filter        0.9088477   0.8951797   0.9227832\n",
       "dep_diag_yes                 0.9734181   0.9655084   0.9814089"
      ]
     },
     "metadata": {},
     "output_type": "display_data"
    }
   ],
   "source": [
    "summary(m1 <- glm.nb(pa_light_convert ~ cevd_event + age_levels + male + alc_freq_filter + smok_stat + bmi_filter + full_screen_time_filter + employ_status_array_filter + comorb_sum +gov_assistance_filter +dep_diag_yes, data = data_cevd_1))\n",
    "(est <- cbind(Estimate = coef(m1), confint(m1)))\n",
    "exp(est)\n",
    "     "
   ]
  },
  {
   "cell_type": "code",
   "execution_count": 26,
   "id": "a85483c2-ba8d-4667-b64b-ba396ee125f7",
   "metadata": {},
   "outputs": [
    {
     "data": {
      "text/plain": [
       "\n",
       "Call:\n",
       "glm.nb(formula = pa_mv_convert ~ cevd_event + age_levels + male + \n",
       "    alc_freq_filter + smok_stat + bmi_filter + full_screen_time_filter + \n",
       "    employ_status_array_filter + comorb_sum + gov_assistance_filter + \n",
       "    dep_diag_yes, data = data_cevd_1, init.theta = 1.475215743, \n",
       "    link = log)\n",
       "\n",
       "Coefficients:\n",
       "                            Estimate Std. Error z value Pr(>|z|)    \n",
       "(Intercept)                 3.303860   0.011860 278.579   <2e-16 ***\n",
       "cevd_event                 -0.061196   0.033571  -1.823   0.0683 .  \n",
       "age_levels                 -0.124733   0.007310 -17.063   <2e-16 ***\n",
       "male                        0.413839   0.006416  64.505   <2e-16 ***\n",
       "alc_freq_filter             0.091249   0.004583  19.910   <2e-16 ***\n",
       "smok_stat                  -0.048401   0.004975  -9.728   <2e-16 ***\n",
       "bmi_filter                  0.241680   0.006388  37.835   <2e-16 ***\n",
       "full_screen_time_filter     0.166646   0.008230  20.248   <2e-16 ***\n",
       "employ_status_array_filter -0.002220   0.006223  -0.357   0.7212    \n",
       "comorb_sum                 -0.088926   0.004697 -18.931   <2e-16 ***\n",
       "gov_assistance_filter      -0.497093   0.020662 -24.059   <2e-16 ***\n",
       "dep_diag_yes               -0.101659   0.010980  -9.259   <2e-16 ***\n",
       "---\n",
       "Signif. codes:  0 ‘***’ 0.001 ‘**’ 0.01 ‘*’ 0.05 ‘.’ 0.1 ‘ ’ 1\n",
       "\n",
       "(Dispersion parameter for Negative Binomial(1.4752) family taken to be 1)\n",
       "\n",
       "    Null deviance: 93537  on 74976  degrees of freedom\n",
       "Residual deviance: 85174  on 74965  degrees of freedom\n",
       "  (1 observation deleted due to missingness)\n",
       "AIC: 698328\n",
       "\n",
       "Number of Fisher Scoring iterations: 1\n",
       "\n",
       "\n",
       "              Theta:  1.47522 \n",
       "          Std. Err.:  0.00763 \n",
       "\n",
       " 2 x log-likelihood:  -698302.39700 "
      ]
     },
     "metadata": {},
     "output_type": "display_data"
    },
    {
     "name": "stderr",
     "output_type": "stream",
     "text": [
      "Waiting for profiling to be done...\n",
      "\n"
     ]
    },
    {
     "data": {
      "text/html": [
       "<table class=\"dataframe\">\n",
       "<caption>A matrix: 12 × 3 of type dbl</caption>\n",
       "<thead>\n",
       "\t<tr><th></th><th scope=col>Estimate</th><th scope=col>2.5 %</th><th scope=col>97.5 %</th></tr>\n",
       "</thead>\n",
       "<tbody>\n",
       "\t<tr><th scope=row>(Intercept)</th><td> 3.303860252</td><td> 3.28053099</td><td> 3.327213846</td></tr>\n",
       "\t<tr><th scope=row>cevd_event</th><td>-0.061196402</td><td>-0.12634803</td><td> 0.005246647</td></tr>\n",
       "\t<tr><th scope=row>age_levels</th><td>-0.124732582</td><td>-0.13896807</td><td>-0.110479979</td></tr>\n",
       "\t<tr><th scope=row>male</th><td> 0.413838898</td><td> 0.40121075</td><td> 0.426473814</td></tr>\n",
       "\t<tr><th scope=row>alc_freq_filter</th><td> 0.091249465</td><td> 0.08219549</td><td> 0.100303768</td></tr>\n",
       "\t<tr><th scope=row>smok_stat</th><td>-0.048400869</td><td>-0.05832090</td><td>-0.038465782</td></tr>\n",
       "\t<tr><th scope=row>bmi_filter</th><td> 0.241680209</td><td> 0.22914579</td><td> 0.254215333</td></tr>\n",
       "\t<tr><th scope=row>full_screen_time_filter</th><td> 0.166646180</td><td> 0.15054291</td><td> 0.182797751</td></tr>\n",
       "\t<tr><th scope=row>employ_status_array_filter</th><td>-0.002220431</td><td>-0.01422695</td><td> 0.009800447</td></tr>\n",
       "\t<tr><th scope=row>comorb_sum</th><td>-0.088926142</td><td>-0.09811623</td><td>-0.079711785</td></tr>\n",
       "\t<tr><th scope=row>gov_assistance_filter</th><td>-0.497093115</td><td>-0.53734335</td><td>-0.456422025</td></tr>\n",
       "\t<tr><th scope=row>dep_diag_yes</th><td>-0.101658769</td><td>-0.12314571</td><td>-0.080059459</td></tr>\n",
       "</tbody>\n",
       "</table>\n"
      ],
      "text/latex": [
       "A matrix: 12 × 3 of type dbl\n",
       "\\begin{tabular}{r|lll}\n",
       "  & Estimate & 2.5 \\% & 97.5 \\%\\\\\n",
       "\\hline\n",
       "\t(Intercept) &  3.303860252 &  3.28053099 &  3.327213846\\\\\n",
       "\tcevd\\_event & -0.061196402 & -0.12634803 &  0.005246647\\\\\n",
       "\tage\\_levels & -0.124732582 & -0.13896807 & -0.110479979\\\\\n",
       "\tmale &  0.413838898 &  0.40121075 &  0.426473814\\\\\n",
       "\talc\\_freq\\_filter &  0.091249465 &  0.08219549 &  0.100303768\\\\\n",
       "\tsmok\\_stat & -0.048400869 & -0.05832090 & -0.038465782\\\\\n",
       "\tbmi\\_filter &  0.241680209 &  0.22914579 &  0.254215333\\\\\n",
       "\tfull\\_screen\\_time\\_filter &  0.166646180 &  0.15054291 &  0.182797751\\\\\n",
       "\temploy\\_status\\_array\\_filter & -0.002220431 & -0.01422695 &  0.009800447\\\\\n",
       "\tcomorb\\_sum & -0.088926142 & -0.09811623 & -0.079711785\\\\\n",
       "\tgov\\_assistance\\_filter & -0.497093115 & -0.53734335 & -0.456422025\\\\\n",
       "\tdep\\_diag\\_yes & -0.101658769 & -0.12314571 & -0.080059459\\\\\n",
       "\\end{tabular}\n"
      ],
      "text/markdown": [
       "\n",
       "A matrix: 12 × 3 of type dbl\n",
       "\n",
       "| <!--/--> | Estimate | 2.5 % | 97.5 % |\n",
       "|---|---|---|---|\n",
       "| (Intercept) |  3.303860252 |  3.28053099 |  3.327213846 |\n",
       "| cevd_event | -0.061196402 | -0.12634803 |  0.005246647 |\n",
       "| age_levels | -0.124732582 | -0.13896807 | -0.110479979 |\n",
       "| male |  0.413838898 |  0.40121075 |  0.426473814 |\n",
       "| alc_freq_filter |  0.091249465 |  0.08219549 |  0.100303768 |\n",
       "| smok_stat | -0.048400869 | -0.05832090 | -0.038465782 |\n",
       "| bmi_filter |  0.241680209 |  0.22914579 |  0.254215333 |\n",
       "| full_screen_time_filter |  0.166646180 |  0.15054291 |  0.182797751 |\n",
       "| employ_status_array_filter | -0.002220431 | -0.01422695 |  0.009800447 |\n",
       "| comorb_sum | -0.088926142 | -0.09811623 | -0.079711785 |\n",
       "| gov_assistance_filter | -0.497093115 | -0.53734335 | -0.456422025 |\n",
       "| dep_diag_yes | -0.101658769 | -0.12314571 | -0.080059459 |\n",
       "\n"
      ],
      "text/plain": [
       "                           Estimate     2.5 %       97.5 %      \n",
       "(Intercept)                 3.303860252  3.28053099  3.327213846\n",
       "cevd_event                 -0.061196402 -0.12634803  0.005246647\n",
       "age_levels                 -0.124732582 -0.13896807 -0.110479979\n",
       "male                        0.413838898  0.40121075  0.426473814\n",
       "alc_freq_filter             0.091249465  0.08219549  0.100303768\n",
       "smok_stat                  -0.048400869 -0.05832090 -0.038465782\n",
       "bmi_filter                  0.241680209  0.22914579  0.254215333\n",
       "full_screen_time_filter     0.166646180  0.15054291  0.182797751\n",
       "employ_status_array_filter -0.002220431 -0.01422695  0.009800447\n",
       "comorb_sum                 -0.088926142 -0.09811623 -0.079711785\n",
       "gov_assistance_filter      -0.497093115 -0.53734335 -0.456422025\n",
       "dep_diag_yes               -0.101658769 -0.12314571 -0.080059459"
      ]
     },
     "metadata": {},
     "output_type": "display_data"
    },
    {
     "data": {
      "text/html": [
       "<table class=\"dataframe\">\n",
       "<caption>A matrix: 12 × 3 of type dbl</caption>\n",
       "<thead>\n",
       "\t<tr><th></th><th scope=col>Estimate</th><th scope=col>2.5 %</th><th scope=col>97.5 %</th></tr>\n",
       "</thead>\n",
       "<tbody>\n",
       "\t<tr><th scope=row>(Intercept)</th><td>27.2175028</td><td>26.5898879</td><td>27.8606095</td></tr>\n",
       "\t<tr><th scope=row>cevd_event</th><td> 0.9406385</td><td> 0.8813081</td><td> 1.0052604</td></tr>\n",
       "\t<tr><th scope=row>age_levels</th><td> 0.8827329</td><td> 0.8702558</td><td> 0.8954043</td></tr>\n",
       "\t<tr><th scope=row>male</th><td> 1.5126134</td><td> 1.4936320</td><td> 1.5318464</td></tr>\n",
       "\t<tr><th scope=row>alc_freq_filter</th><td> 1.0955423</td><td> 1.0856680</td><td> 1.1055067</td></tr>\n",
       "\t<tr><th scope=row>smok_stat</th><td> 0.9527518</td><td> 0.9433472</td><td> 0.9622646</td></tr>\n",
       "\t<tr><th scope=row>bmi_filter</th><td> 1.2733869</td><td> 1.2575254</td><td> 1.2894494</td></tr>\n",
       "\t<tr><th scope=row>full_screen_time_filter</th><td> 1.1813362</td><td> 1.1624652</td><td> 1.2005716</td></tr>\n",
       "\t<tr><th scope=row>employ_status_array_filter</th><td> 0.9977820</td><td> 0.9858738</td><td> 1.0098486</td></tr>\n",
       "\t<tr><th scope=row>comorb_sum</th><td> 0.9149131</td><td> 0.9065435</td><td> 0.9233824</td></tr>\n",
       "\t<tr><th scope=row>gov_assistance_filter</th><td> 0.6082963</td><td> 0.5842985</td><td> 0.6335464</td></tr>\n",
       "\t<tr><th scope=row>dep_diag_yes</th><td> 0.9033377</td><td> 0.8841348</td><td> 0.9230615</td></tr>\n",
       "</tbody>\n",
       "</table>\n"
      ],
      "text/latex": [
       "A matrix: 12 × 3 of type dbl\n",
       "\\begin{tabular}{r|lll}\n",
       "  & Estimate & 2.5 \\% & 97.5 \\%\\\\\n",
       "\\hline\n",
       "\t(Intercept) & 27.2175028 & 26.5898879 & 27.8606095\\\\\n",
       "\tcevd\\_event &  0.9406385 &  0.8813081 &  1.0052604\\\\\n",
       "\tage\\_levels &  0.8827329 &  0.8702558 &  0.8954043\\\\\n",
       "\tmale &  1.5126134 &  1.4936320 &  1.5318464\\\\\n",
       "\talc\\_freq\\_filter &  1.0955423 &  1.0856680 &  1.1055067\\\\\n",
       "\tsmok\\_stat &  0.9527518 &  0.9433472 &  0.9622646\\\\\n",
       "\tbmi\\_filter &  1.2733869 &  1.2575254 &  1.2894494\\\\\n",
       "\tfull\\_screen\\_time\\_filter &  1.1813362 &  1.1624652 &  1.2005716\\\\\n",
       "\temploy\\_status\\_array\\_filter &  0.9977820 &  0.9858738 &  1.0098486\\\\\n",
       "\tcomorb\\_sum &  0.9149131 &  0.9065435 &  0.9233824\\\\\n",
       "\tgov\\_assistance\\_filter &  0.6082963 &  0.5842985 &  0.6335464\\\\\n",
       "\tdep\\_diag\\_yes &  0.9033377 &  0.8841348 &  0.9230615\\\\\n",
       "\\end{tabular}\n"
      ],
      "text/markdown": [
       "\n",
       "A matrix: 12 × 3 of type dbl\n",
       "\n",
       "| <!--/--> | Estimate | 2.5 % | 97.5 % |\n",
       "|---|---|---|---|\n",
       "| (Intercept) | 27.2175028 | 26.5898879 | 27.8606095 |\n",
       "| cevd_event |  0.9406385 |  0.8813081 |  1.0052604 |\n",
       "| age_levels |  0.8827329 |  0.8702558 |  0.8954043 |\n",
       "| male |  1.5126134 |  1.4936320 |  1.5318464 |\n",
       "| alc_freq_filter |  1.0955423 |  1.0856680 |  1.1055067 |\n",
       "| smok_stat |  0.9527518 |  0.9433472 |  0.9622646 |\n",
       "| bmi_filter |  1.2733869 |  1.2575254 |  1.2894494 |\n",
       "| full_screen_time_filter |  1.1813362 |  1.1624652 |  1.2005716 |\n",
       "| employ_status_array_filter |  0.9977820 |  0.9858738 |  1.0098486 |\n",
       "| comorb_sum |  0.9149131 |  0.9065435 |  0.9233824 |\n",
       "| gov_assistance_filter |  0.6082963 |  0.5842985 |  0.6335464 |\n",
       "| dep_diag_yes |  0.9033377 |  0.8841348 |  0.9230615 |\n",
       "\n"
      ],
      "text/plain": [
       "                           Estimate   2.5 %      97.5 %    \n",
       "(Intercept)                27.2175028 26.5898879 27.8606095\n",
       "cevd_event                  0.9406385  0.8813081  1.0052604\n",
       "age_levels                  0.8827329  0.8702558  0.8954043\n",
       "male                        1.5126134  1.4936320  1.5318464\n",
       "alc_freq_filter             1.0955423  1.0856680  1.1055067\n",
       "smok_stat                   0.9527518  0.9433472  0.9622646\n",
       "bmi_filter                  1.2733869  1.2575254  1.2894494\n",
       "full_screen_time_filter     1.1813362  1.1624652  1.2005716\n",
       "employ_status_array_filter  0.9977820  0.9858738  1.0098486\n",
       "comorb_sum                  0.9149131  0.9065435  0.9233824\n",
       "gov_assistance_filter       0.6082963  0.5842985  0.6335464\n",
       "dep_diag_yes                0.9033377  0.8841348  0.9230615"
      ]
     },
     "metadata": {},
     "output_type": "display_data"
    }
   ],
   "source": [
    "summary(m1 <- glm.nb(pa_mv_convert ~ cevd_event + age_levels + male + alc_freq_filter + smok_stat + bmi_filter + full_screen_time_filter + employ_status_array_filter + comorb_sum +gov_assistance_filter +dep_diag_yes, data = data_cevd_1))\n",
    "(est <- cbind(Estimate = coef(m1), confint(m1)))\n",
    "exp(est)\n",
    "     "
   ]
  },
  {
   "cell_type": "code",
   "execution_count": 27,
   "id": "ea4d14f7-6a5f-466e-be3e-89ebbd9f48b8",
   "metadata": {},
   "outputs": [],
   "source": [
    "#cevd = 2"
   ]
  },
  {
   "cell_type": "code",
   "execution_count": 28,
   "id": "8355f0f5-60a1-43af-bd76-69c0a94b7978",
   "metadata": {},
   "outputs": [
    {
     "data": {
      "text/plain": [
       "\n",
       "Call:\n",
       "glm.nb(formula = pa_sleep_convert ~ cevd_event + age_levels + \n",
       "    male + alc_freq_filter + smok_stat + bmi_filter + full_screen_time_filter + \n",
       "    employ_status_array_filter + comorb_sum + gov_assistance_filter + \n",
       "    dep_diag_yes, data = data_cevd_2, init.theta = 44.99204347, \n",
       "    link = log)\n",
       "\n",
       "Coefficients:\n",
       "                             Estimate Std. Error  z value Pr(>|z|)    \n",
       "(Intercept)                 6.2847241  0.0021928 2866.008  < 2e-16 ***\n",
       "cevd_event                 -0.0015761  0.0068203   -0.231 0.817243    \n",
       "age_levels                  0.0123022  0.0013524    9.097  < 2e-16 ***\n",
       "male                       -0.0135795  0.0011893  -11.418  < 2e-16 ***\n",
       "alc_freq_filter            -0.0053233  0.0008488   -6.272 3.57e-10 ***\n",
       "smok_stat                   0.0024806  0.0009218    2.691 0.007120 ** \n",
       "bmi_filter                  0.0024279  0.0011835    2.051 0.040232 *  \n",
       "full_screen_time_filter    -0.0169099  0.0015287  -11.062  < 2e-16 ***\n",
       "employ_status_array_filter -0.0136623  0.0011517  -11.863  < 2e-16 ***\n",
       "comorb_sum                  0.0057624  0.0008675    6.643 3.08e-11 ***\n",
       "gov_assistance_filter       0.0126027  0.0037617    3.350 0.000807 ***\n",
       "dep_diag_yes                0.0212389  0.0020240   10.493  < 2e-16 ***\n",
       "---\n",
       "Signif. codes:  0 ‘***’ 0.001 ‘**’ 0.01 ‘*’ 0.05 ‘.’ 0.1 ‘ ’ 1\n",
       "\n",
       "(Dispersion parameter for Negative Binomial(44.992) family taken to be 1)\n",
       "\n",
       "    Null deviance: 77758  on 74864  degrees of freedom\n",
       "Residual deviance: 76731  on 74853  degrees of freedom\n",
       "  (1 observation deleted due to missingness)\n",
       "AIC: 872404\n",
       "\n",
       "Number of Fisher Scoring iterations: 1\n",
       "\n",
       "\n",
       "              Theta:  44.992 \n",
       "          Std. Err.:  0.256 \n",
       "\n",
       " 2 x log-likelihood:  -872377.956 "
      ]
     },
     "metadata": {},
     "output_type": "display_data"
    },
    {
     "name": "stderr",
     "output_type": "stream",
     "text": [
      "Waiting for profiling to be done...\n",
      "\n"
     ]
    },
    {
     "data": {
      "text/html": [
       "<table class=\"dataframe\">\n",
       "<caption>A matrix: 12 × 3 of type dbl</caption>\n",
       "<thead>\n",
       "\t<tr><th></th><th scope=col>Estimate</th><th scope=col>2.5 %</th><th scope=col>97.5 %</th></tr>\n",
       "</thead>\n",
       "<tbody>\n",
       "\t<tr><th scope=row>(Intercept)</th><td> 6.284724066</td><td> 6.2804270391</td><td> 6.289021850</td></tr>\n",
       "\t<tr><th scope=row>cevd_event</th><td>-0.001576110</td><td>-0.0149179898</td><td> 0.011815021</td></tr>\n",
       "\t<tr><th scope=row>age_levels</th><td> 0.012302159</td><td> 0.0096533724</td><td> 0.014951489</td></tr>\n",
       "\t<tr><th scope=row>male</th><td>-0.013579529</td><td>-0.0159112659</td><td>-0.011247587</td></tr>\n",
       "\t<tr><th scope=row>alc_freq_filter</th><td>-0.005323307</td><td>-0.0069873680</td><td>-0.003659239</td></tr>\n",
       "\t<tr><th scope=row>smok_stat</th><td> 0.002480616</td><td> 0.0006757536</td><td> 0.004285968</td></tr>\n",
       "\t<tr><th scope=row>bmi_filter</th><td> 0.002427855</td><td> 0.0001083467</td><td> 0.004747384</td></tr>\n",
       "\t<tr><th scope=row>full_screen_time_filter</th><td>-0.016909884</td><td>-0.0199049586</td><td>-0.013913307</td></tr>\n",
       "\t<tr><th scope=row>employ_status_array_filter</th><td>-0.013662313</td><td>-0.0159155442</td><td>-0.011408615</td></tr>\n",
       "\t<tr><th scope=row>comorb_sum</th><td> 0.005762447</td><td> 0.0040620460</td><td> 0.007463621</td></tr>\n",
       "\t<tr><th scope=row>gov_assistance_filter</th><td> 0.012602673</td><td> 0.0052363271</td><td> 0.019982623</td></tr>\n",
       "\t<tr><th scope=row>dep_diag_yes</th><td> 0.021238880</td><td> 0.0172731537</td><td> 0.025208125</td></tr>\n",
       "</tbody>\n",
       "</table>\n"
      ],
      "text/latex": [
       "A matrix: 12 × 3 of type dbl\n",
       "\\begin{tabular}{r|lll}\n",
       "  & Estimate & 2.5 \\% & 97.5 \\%\\\\\n",
       "\\hline\n",
       "\t(Intercept) &  6.284724066 &  6.2804270391 &  6.289021850\\\\\n",
       "\tcevd\\_event & -0.001576110 & -0.0149179898 &  0.011815021\\\\\n",
       "\tage\\_levels &  0.012302159 &  0.0096533724 &  0.014951489\\\\\n",
       "\tmale & -0.013579529 & -0.0159112659 & -0.011247587\\\\\n",
       "\talc\\_freq\\_filter & -0.005323307 & -0.0069873680 & -0.003659239\\\\\n",
       "\tsmok\\_stat &  0.002480616 &  0.0006757536 &  0.004285968\\\\\n",
       "\tbmi\\_filter &  0.002427855 &  0.0001083467 &  0.004747384\\\\\n",
       "\tfull\\_screen\\_time\\_filter & -0.016909884 & -0.0199049586 & -0.013913307\\\\\n",
       "\temploy\\_status\\_array\\_filter & -0.013662313 & -0.0159155442 & -0.011408615\\\\\n",
       "\tcomorb\\_sum &  0.005762447 &  0.0040620460 &  0.007463621\\\\\n",
       "\tgov\\_assistance\\_filter &  0.012602673 &  0.0052363271 &  0.019982623\\\\\n",
       "\tdep\\_diag\\_yes &  0.021238880 &  0.0172731537 &  0.025208125\\\\\n",
       "\\end{tabular}\n"
      ],
      "text/markdown": [
       "\n",
       "A matrix: 12 × 3 of type dbl\n",
       "\n",
       "| <!--/--> | Estimate | 2.5 % | 97.5 % |\n",
       "|---|---|---|---|\n",
       "| (Intercept) |  6.284724066 |  6.2804270391 |  6.289021850 |\n",
       "| cevd_event | -0.001576110 | -0.0149179898 |  0.011815021 |\n",
       "| age_levels |  0.012302159 |  0.0096533724 |  0.014951489 |\n",
       "| male | -0.013579529 | -0.0159112659 | -0.011247587 |\n",
       "| alc_freq_filter | -0.005323307 | -0.0069873680 | -0.003659239 |\n",
       "| smok_stat |  0.002480616 |  0.0006757536 |  0.004285968 |\n",
       "| bmi_filter |  0.002427855 |  0.0001083467 |  0.004747384 |\n",
       "| full_screen_time_filter | -0.016909884 | -0.0199049586 | -0.013913307 |\n",
       "| employ_status_array_filter | -0.013662313 | -0.0159155442 | -0.011408615 |\n",
       "| comorb_sum |  0.005762447 |  0.0040620460 |  0.007463621 |\n",
       "| gov_assistance_filter |  0.012602673 |  0.0052363271 |  0.019982623 |\n",
       "| dep_diag_yes |  0.021238880 |  0.0172731537 |  0.025208125 |\n",
       "\n"
      ],
      "text/plain": [
       "                           Estimate     2.5 %         97.5 %      \n",
       "(Intercept)                 6.284724066  6.2804270391  6.289021850\n",
       "cevd_event                 -0.001576110 -0.0149179898  0.011815021\n",
       "age_levels                  0.012302159  0.0096533724  0.014951489\n",
       "male                       -0.013579529 -0.0159112659 -0.011247587\n",
       "alc_freq_filter            -0.005323307 -0.0069873680 -0.003659239\n",
       "smok_stat                   0.002480616  0.0006757536  0.004285968\n",
       "bmi_filter                  0.002427855  0.0001083467  0.004747384\n",
       "full_screen_time_filter    -0.016909884 -0.0199049586 -0.013913307\n",
       "employ_status_array_filter -0.013662313 -0.0159155442 -0.011408615\n",
       "comorb_sum                  0.005762447  0.0040620460  0.007463621\n",
       "gov_assistance_filter       0.012602673  0.0052363271  0.019982623\n",
       "dep_diag_yes                0.021238880  0.0172731537  0.025208125"
      ]
     },
     "metadata": {},
     "output_type": "display_data"
    },
    {
     "data": {
      "text/html": [
       "<table class=\"dataframe\">\n",
       "<caption>A matrix: 12 × 3 of type dbl</caption>\n",
       "<thead>\n",
       "\t<tr><th></th><th scope=col>Estimate</th><th scope=col>2.5 %</th><th scope=col>97.5 %</th></tr>\n",
       "</thead>\n",
       "<tbody>\n",
       "\t<tr><th scope=row>(Intercept)</th><td>536.3162822</td><td>534.0166611</td><td>538.6262142</td></tr>\n",
       "\t<tr><th scope=row>cevd_event</th><td>  0.9984251</td><td>  0.9851927</td><td>  1.0118851</td></tr>\n",
       "\t<tr><th scope=row>age_levels</th><td>  1.0123781</td><td>  1.0097001</td><td>  1.0150638</td></tr>\n",
       "\t<tr><th scope=row>male</th><td>  0.9865123</td><td>  0.9842146</td><td>  0.9888154</td></tr>\n",
       "\t<tr><th scope=row>alc_freq_filter</th><td>  0.9946908</td><td>  0.9930370</td><td>  0.9963474</td></tr>\n",
       "\t<tr><th scope=row>smok_stat</th><td>  1.0024837</td><td>  1.0006760</td><td>  1.0042952</td></tr>\n",
       "\t<tr><th scope=row>bmi_filter</th><td>  1.0024308</td><td>  1.0001084</td><td>  1.0047587</td></tr>\n",
       "\t<tr><th scope=row>full_screen_time_filter</th><td>  0.9832323</td><td>  0.9802918</td><td>  0.9861830</td></tr>\n",
       "\t<tr><th scope=row>employ_status_array_filter</th><td>  0.9864306</td><td>  0.9842104</td><td>  0.9886562</td></tr>\n",
       "\t<tr><th scope=row>comorb_sum</th><td>  1.0057791</td><td>  1.0040703</td><td>  1.0074915</td></tr>\n",
       "\t<tr><th scope=row>gov_assistance_filter</th><td>  1.0126824</td><td>  1.0052501</td><td>  1.0201836</td></tr>\n",
       "\t<tr><th scope=row>dep_diag_yes</th><td>  1.0214660</td><td>  1.0174232</td><td>  1.0255285</td></tr>\n",
       "</tbody>\n",
       "</table>\n"
      ],
      "text/latex": [
       "A matrix: 12 × 3 of type dbl\n",
       "\\begin{tabular}{r|lll}\n",
       "  & Estimate & 2.5 \\% & 97.5 \\%\\\\\n",
       "\\hline\n",
       "\t(Intercept) & 536.3162822 & 534.0166611 & 538.6262142\\\\\n",
       "\tcevd\\_event &   0.9984251 &   0.9851927 &   1.0118851\\\\\n",
       "\tage\\_levels &   1.0123781 &   1.0097001 &   1.0150638\\\\\n",
       "\tmale &   0.9865123 &   0.9842146 &   0.9888154\\\\\n",
       "\talc\\_freq\\_filter &   0.9946908 &   0.9930370 &   0.9963474\\\\\n",
       "\tsmok\\_stat &   1.0024837 &   1.0006760 &   1.0042952\\\\\n",
       "\tbmi\\_filter &   1.0024308 &   1.0001084 &   1.0047587\\\\\n",
       "\tfull\\_screen\\_time\\_filter &   0.9832323 &   0.9802918 &   0.9861830\\\\\n",
       "\temploy\\_status\\_array\\_filter &   0.9864306 &   0.9842104 &   0.9886562\\\\\n",
       "\tcomorb\\_sum &   1.0057791 &   1.0040703 &   1.0074915\\\\\n",
       "\tgov\\_assistance\\_filter &   1.0126824 &   1.0052501 &   1.0201836\\\\\n",
       "\tdep\\_diag\\_yes &   1.0214660 &   1.0174232 &   1.0255285\\\\\n",
       "\\end{tabular}\n"
      ],
      "text/markdown": [
       "\n",
       "A matrix: 12 × 3 of type dbl\n",
       "\n",
       "| <!--/--> | Estimate | 2.5 % | 97.5 % |\n",
       "|---|---|---|---|\n",
       "| (Intercept) | 536.3162822 | 534.0166611 | 538.6262142 |\n",
       "| cevd_event |   0.9984251 |   0.9851927 |   1.0118851 |\n",
       "| age_levels |   1.0123781 |   1.0097001 |   1.0150638 |\n",
       "| male |   0.9865123 |   0.9842146 |   0.9888154 |\n",
       "| alc_freq_filter |   0.9946908 |   0.9930370 |   0.9963474 |\n",
       "| smok_stat |   1.0024837 |   1.0006760 |   1.0042952 |\n",
       "| bmi_filter |   1.0024308 |   1.0001084 |   1.0047587 |\n",
       "| full_screen_time_filter |   0.9832323 |   0.9802918 |   0.9861830 |\n",
       "| employ_status_array_filter |   0.9864306 |   0.9842104 |   0.9886562 |\n",
       "| comorb_sum |   1.0057791 |   1.0040703 |   1.0074915 |\n",
       "| gov_assistance_filter |   1.0126824 |   1.0052501 |   1.0201836 |\n",
       "| dep_diag_yes |   1.0214660 |   1.0174232 |   1.0255285 |\n",
       "\n"
      ],
      "text/plain": [
       "                           Estimate    2.5 %       97.5 %     \n",
       "(Intercept)                536.3162822 534.0166611 538.6262142\n",
       "cevd_event                   0.9984251   0.9851927   1.0118851\n",
       "age_levels                   1.0123781   1.0097001   1.0150638\n",
       "male                         0.9865123   0.9842146   0.9888154\n",
       "alc_freq_filter              0.9946908   0.9930370   0.9963474\n",
       "smok_stat                    1.0024837   1.0006760   1.0042952\n",
       "bmi_filter                   1.0024308   1.0001084   1.0047587\n",
       "full_screen_time_filter      0.9832323   0.9802918   0.9861830\n",
       "employ_status_array_filter   0.9864306   0.9842104   0.9886562\n",
       "comorb_sum                   1.0057791   1.0040703   1.0074915\n",
       "gov_assistance_filter        1.0126824   1.0052501   1.0201836\n",
       "dep_diag_yes                 1.0214660   1.0174232   1.0255285"
      ]
     },
     "metadata": {},
     "output_type": "display_data"
    }
   ],
   "source": [
    "summary(m1 <- glm.nb(pa_sleep_convert ~ cevd_event + age_levels + male + alc_freq_filter + smok_stat + bmi_filter + full_screen_time_filter + employ_status_array_filter + comorb_sum +gov_assistance_filter +dep_diag_yes, data = data_cevd_2))\n",
    "(est <- cbind(Estimate = coef(m1), confint(m1)))\n",
    "exp(est)\n",
    "     "
   ]
  },
  {
   "cell_type": "code",
   "execution_count": 29,
   "id": "393ff775-5b56-4b4f-b5fb-a63a854fcc33",
   "metadata": {
    "tags": []
   },
   "outputs": [
    {
     "data": {
      "text/plain": [
       "\n",
       "Call:\n",
       "glm.nb(formula = pa_sed_convert ~ cevd_event + age_levels + male + \n",
       "    alc_freq_filter + smok_stat + bmi_filter + full_screen_time_filter + \n",
       "    employ_status_array_filter + comorb_sum + gov_assistance_filter + \n",
       "    dep_diag_yes, data = data_cevd_2, init.theta = 28.23459009, \n",
       "    link = log)\n",
       "\n",
       "Coefficients:\n",
       "                             Estimate Std. Error  z value Pr(>|z|)    \n",
       "(Intercept)                 6.3216304  0.0027232 2321.429  < 2e-16 ***\n",
       "cevd_event                  0.0051119  0.0084674    0.604    0.546    \n",
       "age_levels                 -0.0077392  0.0016793   -4.609 4.06e-06 ***\n",
       "male                        0.0611353  0.0014763   41.410  < 2e-16 ***\n",
       "alc_freq_filter            -0.0005425  0.0010540   -0.515    0.607    \n",
       "smok_stat                   0.0002580  0.0011445    0.225    0.822    \n",
       "bmi_filter                 -0.0458280  0.0014696  -31.184  < 2e-16 ***\n",
       "full_screen_time_filter    -0.0311930  0.0018986  -16.430  < 2e-16 ***\n",
       "employ_status_array_filter  0.0162440  0.0014300   11.359  < 2e-16 ***\n",
       "comorb_sum                  0.0092190  0.0010770    8.560  < 2e-16 ***\n",
       "gov_assistance_filter       0.0581154  0.0046695   12.446  < 2e-16 ***\n",
       "dep_diag_yes                0.0016339  0.0025151    0.650    0.516    \n",
       "---\n",
       "Signif. codes:  0 ‘***’ 0.001 ‘**’ 0.01 ‘*’ 0.05 ‘.’ 0.1 ‘ ’ 1\n",
       "\n",
       "(Dispersion parameter for Negative Binomial(28.2346) family taken to be 1)\n",
       "\n",
       "    Null deviance: 79869  on 74864  degrees of freedom\n",
       "Residual deviance: 75443  on 74853  degrees of freedom\n",
       "  (1 observation deleted due to missingness)\n",
       "AIC: 912695\n",
       "\n",
       "Number of Fisher Scoring iterations: 1\n",
       "\n",
       "\n",
       "              Theta:  28.235 \n",
       "          Std. Err.:  0.153 \n",
       "\n",
       " 2 x log-likelihood:  -912669.433 "
      ]
     },
     "metadata": {},
     "output_type": "display_data"
    },
    {
     "name": "stderr",
     "output_type": "stream",
     "text": [
      "Waiting for profiling to be done...\n",
      "\n"
     ]
    },
    {
     "data": {
      "text/html": [
       "<table class=\"dataframe\">\n",
       "<caption>A matrix: 12 × 3 of type dbl</caption>\n",
       "<thead>\n",
       "\t<tr><th></th><th scope=col>Estimate</th><th scope=col>2.5 %</th><th scope=col>97.5 %</th></tr>\n",
       "</thead>\n",
       "<tbody>\n",
       "\t<tr><th scope=row>(Intercept)</th><td> 6.3216304254</td><td> 6.316282761</td><td> 6.326979322</td></tr>\n",
       "\t<tr><th scope=row>cevd_event</th><td> 0.0051118597</td><td>-0.011444976</td><td> 0.021750196</td></tr>\n",
       "\t<tr><th scope=row>age_levels</th><td>-0.0077391785</td><td>-0.011039958</td><td>-0.004437482</td></tr>\n",
       "\t<tr><th scope=row>male</th><td> 0.0611353058</td><td> 0.058245506</td><td> 0.064025446</td></tr>\n",
       "\t<tr><th scope=row>alc_freq_filter</th><td>-0.0005425296</td><td>-0.002607817</td><td> 0.001522769</td></tr>\n",
       "\t<tr><th scope=row>smok_stat</th><td> 0.0002580017</td><td>-0.001979617</td><td> 0.002496433</td></tr>\n",
       "\t<tr><th scope=row>bmi_filter</th><td>-0.0458279661</td><td>-0.048708086</td><td>-0.042947811</td></tr>\n",
       "\t<tr><th scope=row>full_screen_time_filter</th><td>-0.0311930124</td><td>-0.034914710</td><td>-0.027468832</td></tr>\n",
       "\t<tr><th scope=row>employ_status_array_filter</th><td> 0.0162439590</td><td> 0.013418315</td><td> 0.019070403</td></tr>\n",
       "\t<tr><th scope=row>comorb_sum</th><td> 0.0092190031</td><td> 0.007108980</td><td> 0.011330309</td></tr>\n",
       "\t<tr><th scope=row>gov_assistance_filter</th><td> 0.0581154065</td><td> 0.048971001</td><td> 0.067282326</td></tr>\n",
       "\t<tr><th scope=row>dep_diag_yes</th><td> 0.0016338605</td><td>-0.003293625</td><td> 0.006567157</td></tr>\n",
       "</tbody>\n",
       "</table>\n"
      ],
      "text/latex": [
       "A matrix: 12 × 3 of type dbl\n",
       "\\begin{tabular}{r|lll}\n",
       "  & Estimate & 2.5 \\% & 97.5 \\%\\\\\n",
       "\\hline\n",
       "\t(Intercept) &  6.3216304254 &  6.316282761 &  6.326979322\\\\\n",
       "\tcevd\\_event &  0.0051118597 & -0.011444976 &  0.021750196\\\\\n",
       "\tage\\_levels & -0.0077391785 & -0.011039958 & -0.004437482\\\\\n",
       "\tmale &  0.0611353058 &  0.058245506 &  0.064025446\\\\\n",
       "\talc\\_freq\\_filter & -0.0005425296 & -0.002607817 &  0.001522769\\\\\n",
       "\tsmok\\_stat &  0.0002580017 & -0.001979617 &  0.002496433\\\\\n",
       "\tbmi\\_filter & -0.0458279661 & -0.048708086 & -0.042947811\\\\\n",
       "\tfull\\_screen\\_time\\_filter & -0.0311930124 & -0.034914710 & -0.027468832\\\\\n",
       "\temploy\\_status\\_array\\_filter &  0.0162439590 &  0.013418315 &  0.019070403\\\\\n",
       "\tcomorb\\_sum &  0.0092190031 &  0.007108980 &  0.011330309\\\\\n",
       "\tgov\\_assistance\\_filter &  0.0581154065 &  0.048971001 &  0.067282326\\\\\n",
       "\tdep\\_diag\\_yes &  0.0016338605 & -0.003293625 &  0.006567157\\\\\n",
       "\\end{tabular}\n"
      ],
      "text/markdown": [
       "\n",
       "A matrix: 12 × 3 of type dbl\n",
       "\n",
       "| <!--/--> | Estimate | 2.5 % | 97.5 % |\n",
       "|---|---|---|---|\n",
       "| (Intercept) |  6.3216304254 |  6.316282761 |  6.326979322 |\n",
       "| cevd_event |  0.0051118597 | -0.011444976 |  0.021750196 |\n",
       "| age_levels | -0.0077391785 | -0.011039958 | -0.004437482 |\n",
       "| male |  0.0611353058 |  0.058245506 |  0.064025446 |\n",
       "| alc_freq_filter | -0.0005425296 | -0.002607817 |  0.001522769 |\n",
       "| smok_stat |  0.0002580017 | -0.001979617 |  0.002496433 |\n",
       "| bmi_filter | -0.0458279661 | -0.048708086 | -0.042947811 |\n",
       "| full_screen_time_filter | -0.0311930124 | -0.034914710 | -0.027468832 |\n",
       "| employ_status_array_filter |  0.0162439590 |  0.013418315 |  0.019070403 |\n",
       "| comorb_sum |  0.0092190031 |  0.007108980 |  0.011330309 |\n",
       "| gov_assistance_filter |  0.0581154065 |  0.048971001 |  0.067282326 |\n",
       "| dep_diag_yes |  0.0016338605 | -0.003293625 |  0.006567157 |\n",
       "\n"
      ],
      "text/plain": [
       "                           Estimate      2.5 %        97.5 %      \n",
       "(Intercept)                 6.3216304254  6.316282761  6.326979322\n",
       "cevd_event                  0.0051118597 -0.011444976  0.021750196\n",
       "age_levels                 -0.0077391785 -0.011039958 -0.004437482\n",
       "male                        0.0611353058  0.058245506  0.064025446\n",
       "alc_freq_filter            -0.0005425296 -0.002607817  0.001522769\n",
       "smok_stat                   0.0002580017 -0.001979617  0.002496433\n",
       "bmi_filter                 -0.0458279661 -0.048708086 -0.042947811\n",
       "full_screen_time_filter    -0.0311930124 -0.034914710 -0.027468832\n",
       "employ_status_array_filter  0.0162439590  0.013418315  0.019070403\n",
       "comorb_sum                  0.0092190031  0.007108980  0.011330309\n",
       "gov_assistance_filter       0.0581154065  0.048971001  0.067282326\n",
       "dep_diag_yes                0.0016338605 -0.003293625  0.006567157"
      ]
     },
     "metadata": {},
     "output_type": "display_data"
    },
    {
     "data": {
      "text/html": [
       "<table class=\"dataframe\">\n",
       "<caption>A matrix: 12 × 3 of type dbl</caption>\n",
       "<thead>\n",
       "\t<tr><th></th><th scope=col>Estimate</th><th scope=col>2.5 %</th><th scope=col>97.5 %</th></tr>\n",
       "</thead>\n",
       "<tbody>\n",
       "\t<tr><th scope=row>(Intercept)</th><td>556.4795516</td><td>553.5116287</td><td>559.4640781</td></tr>\n",
       "\t<tr><th scope=row>cevd_event</th><td>  1.0051249</td><td>  0.9886203</td><td>  1.0219885</td></tr>\n",
       "\t<tr><th scope=row>age_levels</th><td>  0.9922907</td><td>  0.9890208</td><td>  0.9955723</td></tr>\n",
       "\t<tr><th scope=row>male</th><td>  1.0630427</td><td>  1.0599752</td><td>  1.0661195</td></tr>\n",
       "\t<tr><th scope=row>alc_freq_filter</th><td>  0.9994576</td><td>  0.9973956</td><td>  1.0015239</td></tr>\n",
       "\t<tr><th scope=row>smok_stat</th><td>  1.0002580</td><td>  0.9980223</td><td>  1.0024996</td></tr>\n",
       "\t<tr><th scope=row>bmi_filter</th><td>  0.9552063</td><td>  0.9524591</td><td>  0.9579614</td></tr>\n",
       "\t<tr><th scope=row>full_screen_time_filter</th><td>  0.9692885</td><td>  0.9656878</td><td>  0.9729050</td></tr>\n",
       "\t<tr><th scope=row>employ_status_array_filter</th><td>  1.0163766</td><td>  1.0135087</td><td>  1.0192534</td></tr>\n",
       "\t<tr><th scope=row>comorb_sum</th><td>  1.0092616</td><td>  1.0071343</td><td>  1.0113947</td></tr>\n",
       "\t<tr><th scope=row>gov_assistance_filter</th><td>  1.0598373</td><td>  1.0501899</td><td>  1.0695974</td></tr>\n",
       "\t<tr><th scope=row>dep_diag_yes</th><td>  1.0016352</td><td>  0.9967118</td><td>  1.0065888</td></tr>\n",
       "</tbody>\n",
       "</table>\n"
      ],
      "text/latex": [
       "A matrix: 12 × 3 of type dbl\n",
       "\\begin{tabular}{r|lll}\n",
       "  & Estimate & 2.5 \\% & 97.5 \\%\\\\\n",
       "\\hline\n",
       "\t(Intercept) & 556.4795516 & 553.5116287 & 559.4640781\\\\\n",
       "\tcevd\\_event &   1.0051249 &   0.9886203 &   1.0219885\\\\\n",
       "\tage\\_levels &   0.9922907 &   0.9890208 &   0.9955723\\\\\n",
       "\tmale &   1.0630427 &   1.0599752 &   1.0661195\\\\\n",
       "\talc\\_freq\\_filter &   0.9994576 &   0.9973956 &   1.0015239\\\\\n",
       "\tsmok\\_stat &   1.0002580 &   0.9980223 &   1.0024996\\\\\n",
       "\tbmi\\_filter &   0.9552063 &   0.9524591 &   0.9579614\\\\\n",
       "\tfull\\_screen\\_time\\_filter &   0.9692885 &   0.9656878 &   0.9729050\\\\\n",
       "\temploy\\_status\\_array\\_filter &   1.0163766 &   1.0135087 &   1.0192534\\\\\n",
       "\tcomorb\\_sum &   1.0092616 &   1.0071343 &   1.0113947\\\\\n",
       "\tgov\\_assistance\\_filter &   1.0598373 &   1.0501899 &   1.0695974\\\\\n",
       "\tdep\\_diag\\_yes &   1.0016352 &   0.9967118 &   1.0065888\\\\\n",
       "\\end{tabular}\n"
      ],
      "text/markdown": [
       "\n",
       "A matrix: 12 × 3 of type dbl\n",
       "\n",
       "| <!--/--> | Estimate | 2.5 % | 97.5 % |\n",
       "|---|---|---|---|\n",
       "| (Intercept) | 556.4795516 | 553.5116287 | 559.4640781 |\n",
       "| cevd_event |   1.0051249 |   0.9886203 |   1.0219885 |\n",
       "| age_levels |   0.9922907 |   0.9890208 |   0.9955723 |\n",
       "| male |   1.0630427 |   1.0599752 |   1.0661195 |\n",
       "| alc_freq_filter |   0.9994576 |   0.9973956 |   1.0015239 |\n",
       "| smok_stat |   1.0002580 |   0.9980223 |   1.0024996 |\n",
       "| bmi_filter |   0.9552063 |   0.9524591 |   0.9579614 |\n",
       "| full_screen_time_filter |   0.9692885 |   0.9656878 |   0.9729050 |\n",
       "| employ_status_array_filter |   1.0163766 |   1.0135087 |   1.0192534 |\n",
       "| comorb_sum |   1.0092616 |   1.0071343 |   1.0113947 |\n",
       "| gov_assistance_filter |   1.0598373 |   1.0501899 |   1.0695974 |\n",
       "| dep_diag_yes |   1.0016352 |   0.9967118 |   1.0065888 |\n",
       "\n"
      ],
      "text/plain": [
       "                           Estimate    2.5 %       97.5 %     \n",
       "(Intercept)                556.4795516 553.5116287 559.4640781\n",
       "cevd_event                   1.0051249   0.9886203   1.0219885\n",
       "age_levels                   0.9922907   0.9890208   0.9955723\n",
       "male                         1.0630427   1.0599752   1.0661195\n",
       "alc_freq_filter              0.9994576   0.9973956   1.0015239\n",
       "smok_stat                    1.0002580   0.9980223   1.0024996\n",
       "bmi_filter                   0.9552063   0.9524591   0.9579614\n",
       "full_screen_time_filter      0.9692885   0.9656878   0.9729050\n",
       "employ_status_array_filter   1.0163766   1.0135087   1.0192534\n",
       "comorb_sum                   1.0092616   1.0071343   1.0113947\n",
       "gov_assistance_filter        1.0598373   1.0501899   1.0695974\n",
       "dep_diag_yes                 1.0016352   0.9967118   1.0065888"
      ]
     },
     "metadata": {},
     "output_type": "display_data"
    }
   ],
   "source": [
    "summary(m1 <- glm.nb(pa_sed_convert ~ cevd_event + age_levels + male + alc_freq_filter + smok_stat + bmi_filter + full_screen_time_filter + employ_status_array_filter + comorb_sum +gov_assistance_filter +dep_diag_yes, data = data_cevd_2))\n",
    "(est <- cbind(Estimate = coef(m1), confint(m1)))\n",
    "exp(est)\n",
    "     "
   ]
  },
  {
   "cell_type": "code",
   "execution_count": 30,
   "id": "2c8d9878-e1a7-473f-bcd2-b5657e485478",
   "metadata": {
    "tags": []
   },
   "outputs": [
    {
     "data": {
      "text/plain": [
       "\n",
       "Call:\n",
       "glm.nb(formula = pa_light_convert ~ cevd_event + age_levels + \n",
       "    male + alc_freq_filter + smok_stat + bmi_filter + full_screen_time_filter + \n",
       "    employ_status_array_filter + comorb_sum + gov_assistance_filter + \n",
       "    dep_diag_yes, data = data_cevd_2, init.theta = 10.11829754, \n",
       "    link = log)\n",
       "\n",
       "Coefficients:\n",
       "                             Estimate Std. Error  z value Pr(>|z|)    \n",
       "(Intercept)                 5.759e+00  4.512e-03 1276.450  < 2e-16 ***\n",
       "cevd_event                 -2.193e-03  1.404e-02   -0.156  0.87590    \n",
       "age_levels                  7.391e-03  2.783e-03    2.656  0.00791 ** \n",
       "male                       -1.462e-01  2.448e-03  -59.714  < 2e-16 ***\n",
       "alc_freq_filter             6.117e-07  1.746e-03    0.000  0.99972    \n",
       "smok_stat                   3.041e-03  1.897e-03    1.604  0.10880    \n",
       "bmi_filter                  4.839e-02  2.435e-03   19.874  < 2e-16 ***\n",
       "full_screen_time_filter     5.965e-02  3.141e-03   18.992  < 2e-16 ***\n",
       "employ_status_array_filter -3.804e-03  2.370e-03   -1.606  0.10838    \n",
       "comorb_sum                 -1.774e-02  1.787e-03   -9.929  < 2e-16 ***\n",
       "gov_assistance_filter      -9.475e-02  7.761e-03  -12.209  < 2e-16 ***\n",
       "dep_diag_yes               -2.731e-02  4.168e-03   -6.551  5.7e-11 ***\n",
       "---\n",
       "Signif. codes:  0 ‘***’ 0.001 ‘**’ 0.01 ‘*’ 0.05 ‘.’ 0.1 ‘ ’ 1\n",
       "\n",
       "(Dispersion parameter for Negative Binomial(10.1183) family taken to be 1)\n",
       "\n",
       "    Null deviance: 82184  on 74864  degrees of freedom\n",
       "Residual deviance: 76388  on 74853  degrees of freedom\n",
       "  (1 observation deleted due to missingness)\n",
       "AIC: 893400\n",
       "\n",
       "Number of Fisher Scoring iterations: 1\n",
       "\n",
       "\n",
       "              Theta:  10.1183 \n",
       "          Std. Err.:  0.0535 \n",
       "\n",
       " 2 x log-likelihood:  -893374.0280 "
      ]
     },
     "metadata": {},
     "output_type": "display_data"
    },
    {
     "name": "stderr",
     "output_type": "stream",
     "text": [
      "Waiting for profiling to be done...\n",
      "\n"
     ]
    },
    {
     "data": {
      "text/html": [
       "<table class=\"dataframe\">\n",
       "<caption>A matrix: 12 × 3 of type dbl</caption>\n",
       "<thead>\n",
       "\t<tr><th></th><th scope=col>Estimate</th><th scope=col>2.5 %</th><th scope=col>97.5 %</th></tr>\n",
       "</thead>\n",
       "<tbody>\n",
       "\t<tr><th scope=row>(Intercept)</th><td> 5.759200e+00</td><td> 5.7503934017</td><td> 5.7680104059</td></tr>\n",
       "\t<tr><th scope=row>cevd_event</th><td>-2.193136e-03</td><td>-0.0296017692</td><td> 0.0254465827</td></tr>\n",
       "\t<tr><th scope=row>age_levels</th><td> 7.391471e-03</td><td> 0.0019560337</td><td> 0.0128294469</td></tr>\n",
       "\t<tr><th scope=row>male</th><td>-1.461586e-01</td><td>-0.1509616560</td><td>-0.1413546266</td></tr>\n",
       "\t<tr><th scope=row>alc_freq_filter</th><td> 6.117324e-07</td><td>-0.0034183127</td><td> 0.0034195738</td></tr>\n",
       "\t<tr><th scope=row>smok_stat</th><td> 3.041495e-03</td><td>-0.0006885659</td><td> 0.0067738468</td></tr>\n",
       "\t<tr><th scope=row>bmi_filter</th><td> 4.839199e-02</td><td> 0.0436213852</td><td> 0.0531626924</td></tr>\n",
       "\t<tr><th scope=row>full_screen_time_filter</th><td> 5.964920e-02</td><td> 0.0535028949</td><td> 0.0658025957</td></tr>\n",
       "\t<tr><th scope=row>employ_status_array_filter</th><td>-3.804409e-03</td><td>-0.0084039028</td><td> 0.0007972485</td></tr>\n",
       "\t<tr><th scope=row>comorb_sum</th><td>-1.773931e-02</td><td>-0.0212387437</td><td>-0.0142362533</td></tr>\n",
       "\t<tr><th scope=row>gov_assistance_filter</th><td>-9.475062e-02</td><td>-0.1099118429</td><td>-0.0795256760</td></tr>\n",
       "\t<tr><th scope=row>dep_diag_yes</th><td>-2.730870e-02</td><td>-0.0354650458</td><td>-0.0191358287</td></tr>\n",
       "</tbody>\n",
       "</table>\n"
      ],
      "text/latex": [
       "A matrix: 12 × 3 of type dbl\n",
       "\\begin{tabular}{r|lll}\n",
       "  & Estimate & 2.5 \\% & 97.5 \\%\\\\\n",
       "\\hline\n",
       "\t(Intercept) &  5.759200e+00 &  5.7503934017 &  5.7680104059\\\\\n",
       "\tcevd\\_event & -2.193136e-03 & -0.0296017692 &  0.0254465827\\\\\n",
       "\tage\\_levels &  7.391471e-03 &  0.0019560337 &  0.0128294469\\\\\n",
       "\tmale & -1.461586e-01 & -0.1509616560 & -0.1413546266\\\\\n",
       "\talc\\_freq\\_filter &  6.117324e-07 & -0.0034183127 &  0.0034195738\\\\\n",
       "\tsmok\\_stat &  3.041495e-03 & -0.0006885659 &  0.0067738468\\\\\n",
       "\tbmi\\_filter &  4.839199e-02 &  0.0436213852 &  0.0531626924\\\\\n",
       "\tfull\\_screen\\_time\\_filter &  5.964920e-02 &  0.0535028949 &  0.0658025957\\\\\n",
       "\temploy\\_status\\_array\\_filter & -3.804409e-03 & -0.0084039028 &  0.0007972485\\\\\n",
       "\tcomorb\\_sum & -1.773931e-02 & -0.0212387437 & -0.0142362533\\\\\n",
       "\tgov\\_assistance\\_filter & -9.475062e-02 & -0.1099118429 & -0.0795256760\\\\\n",
       "\tdep\\_diag\\_yes & -2.730870e-02 & -0.0354650458 & -0.0191358287\\\\\n",
       "\\end{tabular}\n"
      ],
      "text/markdown": [
       "\n",
       "A matrix: 12 × 3 of type dbl\n",
       "\n",
       "| <!--/--> | Estimate | 2.5 % | 97.5 % |\n",
       "|---|---|---|---|\n",
       "| (Intercept) |  5.759200e+00 |  5.7503934017 |  5.7680104059 |\n",
       "| cevd_event | -2.193136e-03 | -0.0296017692 |  0.0254465827 |\n",
       "| age_levels |  7.391471e-03 |  0.0019560337 |  0.0128294469 |\n",
       "| male | -1.461586e-01 | -0.1509616560 | -0.1413546266 |\n",
       "| alc_freq_filter |  6.117324e-07 | -0.0034183127 |  0.0034195738 |\n",
       "| smok_stat |  3.041495e-03 | -0.0006885659 |  0.0067738468 |\n",
       "| bmi_filter |  4.839199e-02 |  0.0436213852 |  0.0531626924 |\n",
       "| full_screen_time_filter |  5.964920e-02 |  0.0535028949 |  0.0658025957 |\n",
       "| employ_status_array_filter | -3.804409e-03 | -0.0084039028 |  0.0007972485 |\n",
       "| comorb_sum | -1.773931e-02 | -0.0212387437 | -0.0142362533 |\n",
       "| gov_assistance_filter | -9.475062e-02 | -0.1099118429 | -0.0795256760 |\n",
       "| dep_diag_yes | -2.730870e-02 | -0.0354650458 | -0.0191358287 |\n",
       "\n"
      ],
      "text/plain": [
       "                           Estimate      2.5 %         97.5 %       \n",
       "(Intercept)                 5.759200e+00  5.7503934017  5.7680104059\n",
       "cevd_event                 -2.193136e-03 -0.0296017692  0.0254465827\n",
       "age_levels                  7.391471e-03  0.0019560337  0.0128294469\n",
       "male                       -1.461586e-01 -0.1509616560 -0.1413546266\n",
       "alc_freq_filter             6.117324e-07 -0.0034183127  0.0034195738\n",
       "smok_stat                   3.041495e-03 -0.0006885659  0.0067738468\n",
       "bmi_filter                  4.839199e-02  0.0436213852  0.0531626924\n",
       "full_screen_time_filter     5.964920e-02  0.0535028949  0.0658025957\n",
       "employ_status_array_filter -3.804409e-03 -0.0084039028  0.0007972485\n",
       "comorb_sum                 -1.773931e-02 -0.0212387437 -0.0142362533\n",
       "gov_assistance_filter      -9.475062e-02 -0.1099118429 -0.0795256760\n",
       "dep_diag_yes               -2.730870e-02 -0.0354650458 -0.0191358287"
      ]
     },
     "metadata": {},
     "output_type": "display_data"
    },
    {
     "data": {
      "text/html": [
       "<table class=\"dataframe\">\n",
       "<caption>A matrix: 12 × 3 of type dbl</caption>\n",
       "<thead>\n",
       "\t<tr><th></th><th scope=col>Estimate</th><th scope=col>2.5 %</th><th scope=col>97.5 %</th></tr>\n",
       "</thead>\n",
       "<tbody>\n",
       "\t<tr><th scope=row>(Intercept)</th><td>317.0945808</td><td>314.3142878</td><td>319.9006267</td></tr>\n",
       "\t<tr><th scope=row>cevd_event</th><td>  0.9978093</td><td>  0.9708321</td><td>  1.0257731</td></tr>\n",
       "\t<tr><th scope=row>age_levels</th><td>  1.0074189</td><td>  1.0019579</td><td>  1.0129121</td></tr>\n",
       "\t<tr><th scope=row>male</th><td>  0.8640206</td><td>  0.8598807</td><td>  0.8681814</td></tr>\n",
       "\t<tr><th scope=row>alc_freq_filter</th><td>  1.0000006</td><td>  0.9965875</td><td>  1.0034254</td></tr>\n",
       "\t<tr><th scope=row>smok_stat</th><td>  1.0030461</td><td>  0.9993117</td><td>  1.0067968</td></tr>\n",
       "\t<tr><th scope=row>bmi_filter</th><td>  1.0495820</td><td>  1.0445868</td><td>  1.0546012</td></tr>\n",
       "\t<tr><th scope=row>full_screen_time_filter</th><td>  1.0614641</td><td>  1.0549600</td><td>  1.0680159</td></tr>\n",
       "\t<tr><th scope=row>employ_status_array_filter</th><td>  0.9962028</td><td>  0.9916313</td><td>  1.0007976</td></tr>\n",
       "\t<tr><th scope=row>comorb_sum</th><td>  0.9824171</td><td>  0.9789852</td><td>  0.9858646</td></tr>\n",
       "\t<tr><th scope=row>gov_assistance_filter</th><td>  0.9095997</td><td>  0.8959131</td><td>  0.9235543</td></tr>\n",
       "\t<tr><th scope=row>dep_diag_yes</th><td>  0.9730608</td><td>  0.9651565</td><td>  0.9810461</td></tr>\n",
       "</tbody>\n",
       "</table>\n"
      ],
      "text/latex": [
       "A matrix: 12 × 3 of type dbl\n",
       "\\begin{tabular}{r|lll}\n",
       "  & Estimate & 2.5 \\% & 97.5 \\%\\\\\n",
       "\\hline\n",
       "\t(Intercept) & 317.0945808 & 314.3142878 & 319.9006267\\\\\n",
       "\tcevd\\_event &   0.9978093 &   0.9708321 &   1.0257731\\\\\n",
       "\tage\\_levels &   1.0074189 &   1.0019579 &   1.0129121\\\\\n",
       "\tmale &   0.8640206 &   0.8598807 &   0.8681814\\\\\n",
       "\talc\\_freq\\_filter &   1.0000006 &   0.9965875 &   1.0034254\\\\\n",
       "\tsmok\\_stat &   1.0030461 &   0.9993117 &   1.0067968\\\\\n",
       "\tbmi\\_filter &   1.0495820 &   1.0445868 &   1.0546012\\\\\n",
       "\tfull\\_screen\\_time\\_filter &   1.0614641 &   1.0549600 &   1.0680159\\\\\n",
       "\temploy\\_status\\_array\\_filter &   0.9962028 &   0.9916313 &   1.0007976\\\\\n",
       "\tcomorb\\_sum &   0.9824171 &   0.9789852 &   0.9858646\\\\\n",
       "\tgov\\_assistance\\_filter &   0.9095997 &   0.8959131 &   0.9235543\\\\\n",
       "\tdep\\_diag\\_yes &   0.9730608 &   0.9651565 &   0.9810461\\\\\n",
       "\\end{tabular}\n"
      ],
      "text/markdown": [
       "\n",
       "A matrix: 12 × 3 of type dbl\n",
       "\n",
       "| <!--/--> | Estimate | 2.5 % | 97.5 % |\n",
       "|---|---|---|---|\n",
       "| (Intercept) | 317.0945808 | 314.3142878 | 319.9006267 |\n",
       "| cevd_event |   0.9978093 |   0.9708321 |   1.0257731 |\n",
       "| age_levels |   1.0074189 |   1.0019579 |   1.0129121 |\n",
       "| male |   0.8640206 |   0.8598807 |   0.8681814 |\n",
       "| alc_freq_filter |   1.0000006 |   0.9965875 |   1.0034254 |\n",
       "| smok_stat |   1.0030461 |   0.9993117 |   1.0067968 |\n",
       "| bmi_filter |   1.0495820 |   1.0445868 |   1.0546012 |\n",
       "| full_screen_time_filter |   1.0614641 |   1.0549600 |   1.0680159 |\n",
       "| employ_status_array_filter |   0.9962028 |   0.9916313 |   1.0007976 |\n",
       "| comorb_sum |   0.9824171 |   0.9789852 |   0.9858646 |\n",
       "| gov_assistance_filter |   0.9095997 |   0.8959131 |   0.9235543 |\n",
       "| dep_diag_yes |   0.9730608 |   0.9651565 |   0.9810461 |\n",
       "\n"
      ],
      "text/plain": [
       "                           Estimate    2.5 %       97.5 %     \n",
       "(Intercept)                317.0945808 314.3142878 319.9006267\n",
       "cevd_event                   0.9978093   0.9708321   1.0257731\n",
       "age_levels                   1.0074189   1.0019579   1.0129121\n",
       "male                         0.8640206   0.8598807   0.8681814\n",
       "alc_freq_filter              1.0000006   0.9965875   1.0034254\n",
       "smok_stat                    1.0030461   0.9993117   1.0067968\n",
       "bmi_filter                   1.0495820   1.0445868   1.0546012\n",
       "full_screen_time_filter      1.0614641   1.0549600   1.0680159\n",
       "employ_status_array_filter   0.9962028   0.9916313   1.0007976\n",
       "comorb_sum                   0.9824171   0.9789852   0.9858646\n",
       "gov_assistance_filter        0.9095997   0.8959131   0.9235543\n",
       "dep_diag_yes                 0.9730608   0.9651565   0.9810461"
      ]
     },
     "metadata": {},
     "output_type": "display_data"
    }
   ],
   "source": [
    "summary(m1 <- glm.nb(pa_light_convert ~ cevd_event + age_levels + male + alc_freq_filter + smok_stat + bmi_filter + full_screen_time_filter + employ_status_array_filter + comorb_sum +gov_assistance_filter +dep_diag_yes, data = data_cevd_2))\n",
    "(est <- cbind(Estimate = coef(m1), confint(m1)))\n",
    "exp(est)"
   ]
  },
  {
   "cell_type": "code",
   "execution_count": 31,
   "id": "cc87d1ae-3835-444f-998c-47dbfba8affa",
   "metadata": {
    "tags": []
   },
   "outputs": [
    {
     "data": {
      "text/plain": [
       "\n",
       "Call:\n",
       "glm.nb(formula = pa_mv_convert ~ cevd_event + age_levels + male + \n",
       "    alc_freq_filter + smok_stat + bmi_filter + full_screen_time_filter + \n",
       "    employ_status_array_filter + comorb_sum + gov_assistance_filter + \n",
       "    dep_diag_yes, data = data_cevd_2, init.theta = 1.476883316, \n",
       "    link = log)\n",
       "\n",
       "Coefficients:\n",
       "                            Estimate Std. Error z value Pr(>|z|)    \n",
       "(Intercept)                 3.303044   0.011860 278.513   <2e-16 ***\n",
       "cevd_event                 -0.042808   0.036910  -1.160    0.246    \n",
       "age_levels                 -0.125768   0.007309 -17.208   <2e-16 ***\n",
       "male                        0.414943   0.006416  64.674   <2e-16 ***\n",
       "alc_freq_filter             0.091547   0.004584  19.969   <2e-16 ***\n",
       "smok_stat                  -0.048363   0.004979  -9.714   <2e-16 ***\n",
       "bmi_filter                  0.241533   0.006390  37.799   <2e-16 ***\n",
       "full_screen_time_filter     0.166396   0.008230  20.217   <2e-16 ***\n",
       "employ_status_array_filter -0.002368   0.006224  -0.380    0.704    \n",
       "comorb_sum                 -0.088002   0.004699 -18.728   <2e-16 ***\n",
       "gov_assistance_filter      -0.494321   0.020663 -23.923   <2e-16 ***\n",
       "dep_diag_yes               -0.103104   0.010973  -9.396   <2e-16 ***\n",
       "---\n",
       "Signif. codes:  0 ‘***’ 0.001 ‘**’ 0.01 ‘*’ 0.05 ‘.’ 0.1 ‘ ’ 1\n",
       "\n",
       "(Dispersion parameter for Negative Binomial(1.4769) family taken to be 1)\n",
       "\n",
       "    Null deviance: 93406  on 74864  degrees of freedom\n",
       "Residual deviance: 85038  on 74853  degrees of freedom\n",
       "  (1 observation deleted due to missingness)\n",
       "AIC: 697283\n",
       "\n",
       "Number of Fisher Scoring iterations: 1\n",
       "\n",
       "\n",
       "              Theta:  1.47688 \n",
       "          Std. Err.:  0.00765 \n",
       "\n",
       " 2 x log-likelihood:  -697256.51600 "
      ]
     },
     "metadata": {},
     "output_type": "display_data"
    },
    {
     "name": "stderr",
     "output_type": "stream",
     "text": [
      "Waiting for profiling to be done...\n",
      "\n"
     ]
    },
    {
     "data": {
      "text/html": [
       "<table class=\"dataframe\">\n",
       "<caption>A matrix: 12 × 3 of type dbl</caption>\n",
       "<thead>\n",
       "\t<tr><th></th><th scope=col>Estimate</th><th scope=col>2.5 %</th><th scope=col>97.5 %</th></tr>\n",
       "</thead>\n",
       "<tbody>\n",
       "\t<tr><th scope=row>(Intercept)</th><td> 3.303044352</td><td> 3.27970819</td><td> 3.326404806</td></tr>\n",
       "\t<tr><th scope=row>cevd_event</th><td>-0.042807692</td><td>-0.11437596</td><td> 0.030330622</td></tr>\n",
       "\t<tr><th scope=row>age_levels</th><td>-0.125767556</td><td>-0.14000289</td><td>-0.111515093</td></tr>\n",
       "\t<tr><th scope=row>male</th><td> 0.414943289</td><td> 0.40231280</td><td> 0.427580572</td></tr>\n",
       "\t<tr><th scope=row>alc_freq_filter</th><td> 0.091546882</td><td> 0.08248547</td><td> 0.100608631</td></tr>\n",
       "\t<tr><th scope=row>smok_stat</th><td>-0.048362712</td><td>-0.05829233</td><td>-0.038418013</td></tr>\n",
       "\t<tr><th scope=row>bmi_filter</th><td> 0.241533457</td><td> 0.22899698</td><td> 0.254070650</td></tr>\n",
       "\t<tr><th scope=row>full_screen_time_filter</th><td> 0.166395586</td><td> 0.15029320</td><td> 0.182546319</td></tr>\n",
       "\t<tr><th scope=row>employ_status_array_filter</th><td>-0.002367639</td><td>-0.01438192</td><td> 0.009660949</td></tr>\n",
       "\t<tr><th scope=row>comorb_sum</th><td>-0.088002019</td><td>-0.09719855</td><td>-0.078781223</td></tr>\n",
       "\t<tr><th scope=row>gov_assistance_filter</th><td>-0.494321031</td><td>-0.53457015</td><td>-0.453650649</td></tr>\n",
       "\t<tr><th scope=row>dep_diag_yes</th><td>-0.103104227</td><td>-0.12457151</td><td>-0.081524708</td></tr>\n",
       "</tbody>\n",
       "</table>\n"
      ],
      "text/latex": [
       "A matrix: 12 × 3 of type dbl\n",
       "\\begin{tabular}{r|lll}\n",
       "  & Estimate & 2.5 \\% & 97.5 \\%\\\\\n",
       "\\hline\n",
       "\t(Intercept) &  3.303044352 &  3.27970819 &  3.326404806\\\\\n",
       "\tcevd\\_event & -0.042807692 & -0.11437596 &  0.030330622\\\\\n",
       "\tage\\_levels & -0.125767556 & -0.14000289 & -0.111515093\\\\\n",
       "\tmale &  0.414943289 &  0.40231280 &  0.427580572\\\\\n",
       "\talc\\_freq\\_filter &  0.091546882 &  0.08248547 &  0.100608631\\\\\n",
       "\tsmok\\_stat & -0.048362712 & -0.05829233 & -0.038418013\\\\\n",
       "\tbmi\\_filter &  0.241533457 &  0.22899698 &  0.254070650\\\\\n",
       "\tfull\\_screen\\_time\\_filter &  0.166395586 &  0.15029320 &  0.182546319\\\\\n",
       "\temploy\\_status\\_array\\_filter & -0.002367639 & -0.01438192 &  0.009660949\\\\\n",
       "\tcomorb\\_sum & -0.088002019 & -0.09719855 & -0.078781223\\\\\n",
       "\tgov\\_assistance\\_filter & -0.494321031 & -0.53457015 & -0.453650649\\\\\n",
       "\tdep\\_diag\\_yes & -0.103104227 & -0.12457151 & -0.081524708\\\\\n",
       "\\end{tabular}\n"
      ],
      "text/markdown": [
       "\n",
       "A matrix: 12 × 3 of type dbl\n",
       "\n",
       "| <!--/--> | Estimate | 2.5 % | 97.5 % |\n",
       "|---|---|---|---|\n",
       "| (Intercept) |  3.303044352 |  3.27970819 |  3.326404806 |\n",
       "| cevd_event | -0.042807692 | -0.11437596 |  0.030330622 |\n",
       "| age_levels | -0.125767556 | -0.14000289 | -0.111515093 |\n",
       "| male |  0.414943289 |  0.40231280 |  0.427580572 |\n",
       "| alc_freq_filter |  0.091546882 |  0.08248547 |  0.100608631 |\n",
       "| smok_stat | -0.048362712 | -0.05829233 | -0.038418013 |\n",
       "| bmi_filter |  0.241533457 |  0.22899698 |  0.254070650 |\n",
       "| full_screen_time_filter |  0.166395586 |  0.15029320 |  0.182546319 |\n",
       "| employ_status_array_filter | -0.002367639 | -0.01438192 |  0.009660949 |\n",
       "| comorb_sum | -0.088002019 | -0.09719855 | -0.078781223 |\n",
       "| gov_assistance_filter | -0.494321031 | -0.53457015 | -0.453650649 |\n",
       "| dep_diag_yes | -0.103104227 | -0.12457151 | -0.081524708 |\n",
       "\n"
      ],
      "text/plain": [
       "                           Estimate     2.5 %       97.5 %      \n",
       "(Intercept)                 3.303044352  3.27970819  3.326404806\n",
       "cevd_event                 -0.042807692 -0.11437596  0.030330622\n",
       "age_levels                 -0.125767556 -0.14000289 -0.111515093\n",
       "male                        0.414943289  0.40231280  0.427580572\n",
       "alc_freq_filter             0.091546882  0.08248547  0.100608631\n",
       "smok_stat                  -0.048362712 -0.05829233 -0.038418013\n",
       "bmi_filter                  0.241533457  0.22899698  0.254070650\n",
       "full_screen_time_filter     0.166395586  0.15029320  0.182546319\n",
       "employ_status_array_filter -0.002367639 -0.01438192  0.009660949\n",
       "comorb_sum                 -0.088002019 -0.09719855 -0.078781223\n",
       "gov_assistance_filter      -0.494321031 -0.53457015 -0.453650649\n",
       "dep_diag_yes               -0.103104227 -0.12457151 -0.081524708"
      ]
     },
     "metadata": {},
     "output_type": "display_data"
    },
    {
     "data": {
      "text/html": [
       "<table class=\"dataframe\">\n",
       "<caption>A matrix: 12 × 3 of type dbl</caption>\n",
       "<thead>\n",
       "\t<tr><th></th><th scope=col>Estimate</th><th scope=col>2.5 %</th><th scope=col>97.5 %</th></tr>\n",
       "</thead>\n",
       "<tbody>\n",
       "\t<tr><th scope=row>(Intercept)</th><td>27.1953051</td><td>26.5680189</td><td>27.8380783</td></tr>\n",
       "\t<tr><th scope=row>cevd_event</th><td> 0.9580956</td><td> 0.8919226</td><td> 1.0307953</td></tr>\n",
       "\t<tr><th scope=row>age_levels</th><td> 0.8818198</td><td> 0.8693557</td><td> 0.8944779</td></tr>\n",
       "\t<tr><th scope=row>male</th><td> 1.5142849</td><td> 1.4952790</td><td> 1.5335427</td></tr>\n",
       "\t<tr><th scope=row>alc_freq_filter</th><td> 1.0958682</td><td> 1.0859829</td><td> 1.1058438</td></tr>\n",
       "\t<tr><th scope=row>smok_stat</th><td> 0.9527881</td><td> 0.9433741</td><td> 0.9623106</td></tr>\n",
       "\t<tr><th scope=row>bmi_filter</th><td> 1.2732001</td><td> 1.2573382</td><td> 1.2892629</td></tr>\n",
       "\t<tr><th scope=row>full_screen_time_filter</th><td> 1.1810402</td><td> 1.1621749</td><td> 1.2002697</td></tr>\n",
       "\t<tr><th scope=row>employ_status_array_filter</th><td> 0.9976352</td><td> 0.9857210</td><td> 1.0097078</td></tr>\n",
       "\t<tr><th scope=row>comorb_sum</th><td> 0.9157590</td><td> 0.9073758</td><td> 0.9242421</td></tr>\n",
       "\t<tr><th scope=row>gov_assistance_filter</th><td> 0.6099849</td><td> 0.5859211</td><td> 0.6353046</td></tr>\n",
       "\t<tr><th scope=row>dep_diag_yes</th><td> 0.9020330</td><td> 0.8828751</td><td> 0.9217099</td></tr>\n",
       "</tbody>\n",
       "</table>\n"
      ],
      "text/latex": [
       "A matrix: 12 × 3 of type dbl\n",
       "\\begin{tabular}{r|lll}\n",
       "  & Estimate & 2.5 \\% & 97.5 \\%\\\\\n",
       "\\hline\n",
       "\t(Intercept) & 27.1953051 & 26.5680189 & 27.8380783\\\\\n",
       "\tcevd\\_event &  0.9580956 &  0.8919226 &  1.0307953\\\\\n",
       "\tage\\_levels &  0.8818198 &  0.8693557 &  0.8944779\\\\\n",
       "\tmale &  1.5142849 &  1.4952790 &  1.5335427\\\\\n",
       "\talc\\_freq\\_filter &  1.0958682 &  1.0859829 &  1.1058438\\\\\n",
       "\tsmok\\_stat &  0.9527881 &  0.9433741 &  0.9623106\\\\\n",
       "\tbmi\\_filter &  1.2732001 &  1.2573382 &  1.2892629\\\\\n",
       "\tfull\\_screen\\_time\\_filter &  1.1810402 &  1.1621749 &  1.2002697\\\\\n",
       "\temploy\\_status\\_array\\_filter &  0.9976352 &  0.9857210 &  1.0097078\\\\\n",
       "\tcomorb\\_sum &  0.9157590 &  0.9073758 &  0.9242421\\\\\n",
       "\tgov\\_assistance\\_filter &  0.6099849 &  0.5859211 &  0.6353046\\\\\n",
       "\tdep\\_diag\\_yes &  0.9020330 &  0.8828751 &  0.9217099\\\\\n",
       "\\end{tabular}\n"
      ],
      "text/markdown": [
       "\n",
       "A matrix: 12 × 3 of type dbl\n",
       "\n",
       "| <!--/--> | Estimate | 2.5 % | 97.5 % |\n",
       "|---|---|---|---|\n",
       "| (Intercept) | 27.1953051 | 26.5680189 | 27.8380783 |\n",
       "| cevd_event |  0.9580956 |  0.8919226 |  1.0307953 |\n",
       "| age_levels |  0.8818198 |  0.8693557 |  0.8944779 |\n",
       "| male |  1.5142849 |  1.4952790 |  1.5335427 |\n",
       "| alc_freq_filter |  1.0958682 |  1.0859829 |  1.1058438 |\n",
       "| smok_stat |  0.9527881 |  0.9433741 |  0.9623106 |\n",
       "| bmi_filter |  1.2732001 |  1.2573382 |  1.2892629 |\n",
       "| full_screen_time_filter |  1.1810402 |  1.1621749 |  1.2002697 |\n",
       "| employ_status_array_filter |  0.9976352 |  0.9857210 |  1.0097078 |\n",
       "| comorb_sum |  0.9157590 |  0.9073758 |  0.9242421 |\n",
       "| gov_assistance_filter |  0.6099849 |  0.5859211 |  0.6353046 |\n",
       "| dep_diag_yes |  0.9020330 |  0.8828751 |  0.9217099 |\n",
       "\n"
      ],
      "text/plain": [
       "                           Estimate   2.5 %      97.5 %    \n",
       "(Intercept)                27.1953051 26.5680189 27.8380783\n",
       "cevd_event                  0.9580956  0.8919226  1.0307953\n",
       "age_levels                  0.8818198  0.8693557  0.8944779\n",
       "male                        1.5142849  1.4952790  1.5335427\n",
       "alc_freq_filter             1.0958682  1.0859829  1.1058438\n",
       "smok_stat                   0.9527881  0.9433741  0.9623106\n",
       "bmi_filter                  1.2732001  1.2573382  1.2892629\n",
       "full_screen_time_filter     1.1810402  1.1621749  1.2002697\n",
       "employ_status_array_filter  0.9976352  0.9857210  1.0097078\n",
       "comorb_sum                  0.9157590  0.9073758  0.9242421\n",
       "gov_assistance_filter       0.6099849  0.5859211  0.6353046\n",
       "dep_diag_yes                0.9020330  0.8828751  0.9217099"
      ]
     },
     "metadata": {},
     "output_type": "display_data"
    }
   ],
   "source": [
    "summary(m1 <- glm.nb(pa_mv_convert ~ cevd_event + age_levels + male + alc_freq_filter + smok_stat + bmi_filter + full_screen_time_filter + employ_status_array_filter + comorb_sum +gov_assistance_filter +dep_diag_yes, data = data_cevd_2))\n",
    "(est <- cbind(Estimate = coef(m1), confint(m1)))\n",
    "exp(est)     "
   ]
  },
  {
   "cell_type": "code",
   "execution_count": 32,
   "id": "1108a82d-8ebe-4870-b4a5-88ca13748d33",
   "metadata": {
    "tags": []
   },
   "outputs": [],
   "source": [
    "#cevd =3"
   ]
  },
  {
   "cell_type": "code",
   "execution_count": 33,
   "id": "6cb634dd-71e6-4faa-9216-1446707b87b5",
   "metadata": {
    "tags": []
   },
   "outputs": [
    {
     "data": {
      "text/plain": [
       "\n",
       "Call:\n",
       "glm.nb(formula = pa_sleep_convert ~ cevd_event + age_levels + \n",
       "    male + alc_freq_filter + smok_stat + bmi_filter + full_screen_time_filter + \n",
       "    employ_status_array_filter + comorb_sum + gov_assistance_filter + \n",
       "    dep_diag_yes, data = data_cevd_3, init.theta = 44.97324387, \n",
       "    link = log)\n",
       "\n",
       "Coefficients:\n",
       "                             Estimate Std. Error  z value Pr(>|z|)    \n",
       "(Intercept)                 6.2842133  0.0021863 2874.422  < 2e-16 ***\n",
       "cevd_event                 -0.0045470  0.0049552   -0.918 0.358812    \n",
       "age_levels                  0.0124188  0.0013483    9.211  < 2e-16 ***\n",
       "male                       -0.0134438  0.0011858  -11.338  < 2e-16 ***\n",
       "alc_freq_filter            -0.0052135  0.0008454   -6.167 6.95e-10 ***\n",
       "smok_stat                   0.0025411  0.0009187    2.766 0.005675 ** \n",
       "bmi_filter                  0.0025711  0.0011800    2.179 0.029341 *  \n",
       "full_screen_time_filter    -0.0167057  0.0015246  -10.958  < 2e-16 ***\n",
       "employ_status_array_filter -0.0137005  0.0011469  -11.946  < 2e-16 ***\n",
       "comorb_sum                  0.0059549  0.0008643    6.890 5.59e-12 ***\n",
       "gov_assistance_filter       0.0125302  0.0037343    3.355 0.000792 ***\n",
       "dep_diag_yes                0.0213303  0.0020200   10.559  < 2e-16 ***\n",
       "---\n",
       "Signif. codes:  0 ‘***’ 0.001 ‘**’ 0.01 ‘*’ 0.05 ‘.’ 0.1 ‘ ’ 1\n",
       "\n",
       "(Dispersion parameter for Negative Binomial(44.9732) family taken to be 1)\n",
       "\n",
       "    Null deviance: 78249  on 75343  degrees of freedom\n",
       "Residual deviance: 77213  on 75332  degrees of freedom\n",
       "  (1 observation deleted due to missingness)\n",
       "AIC: 878005\n",
       "\n",
       "Number of Fisher Scoring iterations: 1\n",
       "\n",
       "\n",
       "              Theta:  44.973 \n",
       "          Std. Err.:  0.255 \n",
       "\n",
       " 2 x log-likelihood:  -877979.269 "
      ]
     },
     "metadata": {},
     "output_type": "display_data"
    },
    {
     "name": "stderr",
     "output_type": "stream",
     "text": [
      "Waiting for profiling to be done...\n",
      "\n"
     ]
    },
    {
     "data": {
      "text/html": [
       "<table class=\"dataframe\">\n",
       "<caption>A matrix: 12 × 3 of type dbl</caption>\n",
       "<thead>\n",
       "\t<tr><th></th><th scope=col>Estimate</th><th scope=col>2.5 %</th><th scope=col>97.5 %</th></tr>\n",
       "</thead>\n",
       "<tbody>\n",
       "\t<tr><th scope=row>(Intercept)</th><td> 6.284213266</td><td> 6.2799291648</td><td> 6.288498122</td></tr>\n",
       "\t<tr><th scope=row>cevd_event</th><td>-0.004547005</td><td>-0.0142463660</td><td> 0.005177833</td></tr>\n",
       "\t<tr><th scope=row>age_levels</th><td> 0.012418850</td><td> 0.0097780873</td><td> 0.015060147</td></tr>\n",
       "\t<tr><th scope=row>male</th><td>-0.013443809</td><td>-0.0157686613</td><td>-0.011118751</td></tr>\n",
       "\t<tr><th scope=row>alc_freq_filter</th><td>-0.005213485</td><td>-0.0068708669</td><td>-0.003556098</td></tr>\n",
       "\t<tr><th scope=row>smok_stat</th><td> 0.002541067</td><td> 0.0007421775</td><td> 0.004340441</td></tr>\n",
       "\t<tr><th scope=row>bmi_filter</th><td> 0.002571076</td><td> 0.0002585066</td><td> 0.004883667</td></tr>\n",
       "\t<tr><th scope=row>full_screen_time_filter</th><td>-0.016705718</td><td>-0.0196926561</td><td>-0.013717286</td></tr>\n",
       "\t<tr><th scope=row>employ_status_array_filter</th><td>-0.013700536</td><td>-0.0159442412</td><td>-0.011456364</td></tr>\n",
       "\t<tr><th scope=row>comorb_sum</th><td> 0.005954859</td><td> 0.0042609044</td><td> 0.007649580</td></tr>\n",
       "\t<tr><th scope=row>gov_assistance_filter</th><td> 0.012530231</td><td> 0.0052176106</td><td> 0.019856235</td></tr>\n",
       "\t<tr><th scope=row>dep_diag_yes</th><td> 0.021330307</td><td> 0.0173725159</td><td> 0.025291606</td></tr>\n",
       "</tbody>\n",
       "</table>\n"
      ],
      "text/latex": [
       "A matrix: 12 × 3 of type dbl\n",
       "\\begin{tabular}{r|lll}\n",
       "  & Estimate & 2.5 \\% & 97.5 \\%\\\\\n",
       "\\hline\n",
       "\t(Intercept) &  6.284213266 &  6.2799291648 &  6.288498122\\\\\n",
       "\tcevd\\_event & -0.004547005 & -0.0142463660 &  0.005177833\\\\\n",
       "\tage\\_levels &  0.012418850 &  0.0097780873 &  0.015060147\\\\\n",
       "\tmale & -0.013443809 & -0.0157686613 & -0.011118751\\\\\n",
       "\talc\\_freq\\_filter & -0.005213485 & -0.0068708669 & -0.003556098\\\\\n",
       "\tsmok\\_stat &  0.002541067 &  0.0007421775 &  0.004340441\\\\\n",
       "\tbmi\\_filter &  0.002571076 &  0.0002585066 &  0.004883667\\\\\n",
       "\tfull\\_screen\\_time\\_filter & -0.016705718 & -0.0196926561 & -0.013717286\\\\\n",
       "\temploy\\_status\\_array\\_filter & -0.013700536 & -0.0159442412 & -0.011456364\\\\\n",
       "\tcomorb\\_sum &  0.005954859 &  0.0042609044 &  0.007649580\\\\\n",
       "\tgov\\_assistance\\_filter &  0.012530231 &  0.0052176106 &  0.019856235\\\\\n",
       "\tdep\\_diag\\_yes &  0.021330307 &  0.0173725159 &  0.025291606\\\\\n",
       "\\end{tabular}\n"
      ],
      "text/markdown": [
       "\n",
       "A matrix: 12 × 3 of type dbl\n",
       "\n",
       "| <!--/--> | Estimate | 2.5 % | 97.5 % |\n",
       "|---|---|---|---|\n",
       "| (Intercept) |  6.284213266 |  6.2799291648 |  6.288498122 |\n",
       "| cevd_event | -0.004547005 | -0.0142463660 |  0.005177833 |\n",
       "| age_levels |  0.012418850 |  0.0097780873 |  0.015060147 |\n",
       "| male | -0.013443809 | -0.0157686613 | -0.011118751 |\n",
       "| alc_freq_filter | -0.005213485 | -0.0068708669 | -0.003556098 |\n",
       "| smok_stat |  0.002541067 |  0.0007421775 |  0.004340441 |\n",
       "| bmi_filter |  0.002571076 |  0.0002585066 |  0.004883667 |\n",
       "| full_screen_time_filter | -0.016705718 | -0.0196926561 | -0.013717286 |\n",
       "| employ_status_array_filter | -0.013700536 | -0.0159442412 | -0.011456364 |\n",
       "| comorb_sum |  0.005954859 |  0.0042609044 |  0.007649580 |\n",
       "| gov_assistance_filter |  0.012530231 |  0.0052176106 |  0.019856235 |\n",
       "| dep_diag_yes |  0.021330307 |  0.0173725159 |  0.025291606 |\n",
       "\n"
      ],
      "text/plain": [
       "                           Estimate     2.5 %         97.5 %      \n",
       "(Intercept)                 6.284213266  6.2799291648  6.288498122\n",
       "cevd_event                 -0.004547005 -0.0142463660  0.005177833\n",
       "age_levels                  0.012418850  0.0097780873  0.015060147\n",
       "male                       -0.013443809 -0.0157686613 -0.011118751\n",
       "alc_freq_filter            -0.005213485 -0.0068708669 -0.003556098\n",
       "smok_stat                   0.002541067  0.0007421775  0.004340441\n",
       "bmi_filter                  0.002571076  0.0002585066  0.004883667\n",
       "full_screen_time_filter    -0.016705718 -0.0196926561 -0.013717286\n",
       "employ_status_array_filter -0.013700536 -0.0159442412 -0.011456364\n",
       "comorb_sum                  0.005954859  0.0042609044  0.007649580\n",
       "gov_assistance_filter       0.012530231  0.0052176106  0.019856235\n",
       "dep_diag_yes                0.021330307  0.0173725159  0.025291606"
      ]
     },
     "metadata": {},
     "output_type": "display_data"
    },
    {
     "data": {
      "text/html": [
       "<table class=\"dataframe\">\n",
       "<caption>A matrix: 12 × 3 of type dbl</caption>\n",
       "<thead>\n",
       "\t<tr><th></th><th scope=col>Estimate</th><th scope=col>2.5 %</th><th scope=col>97.5 %</th></tr>\n",
       "</thead>\n",
       "<tbody>\n",
       "\t<tr><th scope=row>(Intercept)</th><td>536.0424020</td><td>533.7508542</td><td>538.3441941</td></tr>\n",
       "\t<tr><th scope=row>cevd_event</th><td>  0.9954633</td><td>  0.9858546</td><td>  1.0051913</td></tr>\n",
       "\t<tr><th scope=row>age_levels</th><td>  1.0124963</td><td>  1.0098260</td><td>  1.0151741</td></tr>\n",
       "\t<tr><th scope=row>male</th><td>  0.9866462</td><td>  0.9843550</td><td>  0.9889428</td></tr>\n",
       "\t<tr><th scope=row>alc_freq_filter</th><td>  0.9948001</td><td>  0.9931527</td><td>  0.9964502</td></tr>\n",
       "\t<tr><th scope=row>smok_stat</th><td>  1.0025443</td><td>  1.0007425</td><td>  1.0043499</td></tr>\n",
       "\t<tr><th scope=row>bmi_filter</th><td>  1.0025744</td><td>  1.0002585</td><td>  1.0048956</td></tr>\n",
       "\t<tr><th scope=row>full_screen_time_filter</th><td>  0.9834330</td><td>  0.9805000</td><td>  0.9863764</td></tr>\n",
       "\t<tr><th scope=row>employ_status_array_filter</th><td>  0.9863929</td><td>  0.9841822</td><td>  0.9886090</td></tr>\n",
       "\t<tr><th scope=row>comorb_sum</th><td>  1.0059726</td><td>  1.0042700</td><td>  1.0076789</td></tr>\n",
       "\t<tr><th scope=row>gov_assistance_filter</th><td>  1.0126091</td><td>  1.0052312</td><td>  1.0200547</td></tr>\n",
       "\t<tr><th scope=row>dep_diag_yes</th><td>  1.0215594</td><td>  1.0175243</td><td>  1.0256142</td></tr>\n",
       "</tbody>\n",
       "</table>\n"
      ],
      "text/latex": [
       "A matrix: 12 × 3 of type dbl\n",
       "\\begin{tabular}{r|lll}\n",
       "  & Estimate & 2.5 \\% & 97.5 \\%\\\\\n",
       "\\hline\n",
       "\t(Intercept) & 536.0424020 & 533.7508542 & 538.3441941\\\\\n",
       "\tcevd\\_event &   0.9954633 &   0.9858546 &   1.0051913\\\\\n",
       "\tage\\_levels &   1.0124963 &   1.0098260 &   1.0151741\\\\\n",
       "\tmale &   0.9866462 &   0.9843550 &   0.9889428\\\\\n",
       "\talc\\_freq\\_filter &   0.9948001 &   0.9931527 &   0.9964502\\\\\n",
       "\tsmok\\_stat &   1.0025443 &   1.0007425 &   1.0043499\\\\\n",
       "\tbmi\\_filter &   1.0025744 &   1.0002585 &   1.0048956\\\\\n",
       "\tfull\\_screen\\_time\\_filter &   0.9834330 &   0.9805000 &   0.9863764\\\\\n",
       "\temploy\\_status\\_array\\_filter &   0.9863929 &   0.9841822 &   0.9886090\\\\\n",
       "\tcomorb\\_sum &   1.0059726 &   1.0042700 &   1.0076789\\\\\n",
       "\tgov\\_assistance\\_filter &   1.0126091 &   1.0052312 &   1.0200547\\\\\n",
       "\tdep\\_diag\\_yes &   1.0215594 &   1.0175243 &   1.0256142\\\\\n",
       "\\end{tabular}\n"
      ],
      "text/markdown": [
       "\n",
       "A matrix: 12 × 3 of type dbl\n",
       "\n",
       "| <!--/--> | Estimate | 2.5 % | 97.5 % |\n",
       "|---|---|---|---|\n",
       "| (Intercept) | 536.0424020 | 533.7508542 | 538.3441941 |\n",
       "| cevd_event |   0.9954633 |   0.9858546 |   1.0051913 |\n",
       "| age_levels |   1.0124963 |   1.0098260 |   1.0151741 |\n",
       "| male |   0.9866462 |   0.9843550 |   0.9889428 |\n",
       "| alc_freq_filter |   0.9948001 |   0.9931527 |   0.9964502 |\n",
       "| smok_stat |   1.0025443 |   1.0007425 |   1.0043499 |\n",
       "| bmi_filter |   1.0025744 |   1.0002585 |   1.0048956 |\n",
       "| full_screen_time_filter |   0.9834330 |   0.9805000 |   0.9863764 |\n",
       "| employ_status_array_filter |   0.9863929 |   0.9841822 |   0.9886090 |\n",
       "| comorb_sum |   1.0059726 |   1.0042700 |   1.0076789 |\n",
       "| gov_assistance_filter |   1.0126091 |   1.0052312 |   1.0200547 |\n",
       "| dep_diag_yes |   1.0215594 |   1.0175243 |   1.0256142 |\n",
       "\n"
      ],
      "text/plain": [
       "                           Estimate    2.5 %       97.5 %     \n",
       "(Intercept)                536.0424020 533.7508542 538.3441941\n",
       "cevd_event                   0.9954633   0.9858546   1.0051913\n",
       "age_levels                   1.0124963   1.0098260   1.0151741\n",
       "male                         0.9866462   0.9843550   0.9889428\n",
       "alc_freq_filter              0.9948001   0.9931527   0.9964502\n",
       "smok_stat                    1.0025443   1.0007425   1.0043499\n",
       "bmi_filter                   1.0025744   1.0002585   1.0048956\n",
       "full_screen_time_filter      0.9834330   0.9805000   0.9863764\n",
       "employ_status_array_filter   0.9863929   0.9841822   0.9886090\n",
       "comorb_sum                   1.0059726   1.0042700   1.0076789\n",
       "gov_assistance_filter        1.0126091   1.0052312   1.0200547\n",
       "dep_diag_yes                 1.0215594   1.0175243   1.0256142"
      ]
     },
     "metadata": {},
     "output_type": "display_data"
    }
   ],
   "source": [
    "summary(m1 <- glm.nb(pa_sleep_convert ~ cevd_event + age_levels + male + alc_freq_filter + smok_stat + bmi_filter + full_screen_time_filter + employ_status_array_filter + comorb_sum +gov_assistance_filter +dep_diag_yes, data = data_cevd_3))\n",
    "(est <- cbind(Estimate = coef(m1), confint(m1)))\n",
    "exp(est)"
   ]
  },
  {
   "cell_type": "code",
   "execution_count": 34,
   "id": "66f0543b-5200-4b1a-acaa-2b664a37382b",
   "metadata": {
    "tags": []
   },
   "outputs": [
    {
     "data": {
      "text/plain": [
       "\n",
       "Call:\n",
       "glm.nb(formula = pa_sed_convert ~ cevd_event + age_levels + male + \n",
       "    alc_freq_filter + smok_stat + bmi_filter + full_screen_time_filter + \n",
       "    employ_status_array_filter + comorb_sum + gov_assistance_filter + \n",
       "    dep_diag_yes, data = data_cevd_3, init.theta = 28.27308298, \n",
       "    link = log)\n",
       "\n",
       "Coefficients:\n",
       "                             Estimate Std. Error  z value Pr(>|z|)    \n",
       "(Intercept)                 6.3215872  0.0027127 2330.387  < 2e-16 ***\n",
       "cevd_event                  0.0077764  0.0061463    1.265    0.206    \n",
       "age_levels                 -0.0079835  0.0016728   -4.773 1.82e-06 ***\n",
       "male                        0.0609956  0.0014707   41.475  < 2e-16 ***\n",
       "alc_freq_filter            -0.0004760  0.0010489   -0.454    0.650    \n",
       "smok_stat                   0.0004442  0.0011397    0.390    0.697    \n",
       "bmi_filter                 -0.0456123  0.0014640  -31.156  < 2e-16 ***\n",
       "full_screen_time_filter    -0.0315330  0.0018919  -16.667  < 2e-16 ***\n",
       "employ_status_array_filter  0.0161326  0.0014228   11.339  < 2e-16 ***\n",
       "comorb_sum                  0.0092841  0.0010722    8.659  < 2e-16 ***\n",
       "gov_assistance_filter       0.0599894  0.0046313   12.953  < 2e-16 ***\n",
       "dep_diag_yes                0.0007879  0.0025081    0.314    0.753    \n",
       "---\n",
       "Signif. codes:  0 ‘***’ 0.001 ‘**’ 0.01 ‘*’ 0.05 ‘.’ 0.1 ‘ ’ 1\n",
       "\n",
       "(Dispersion parameter for Negative Binomial(28.2731) family taken to be 1)\n",
       "\n",
       "    Null deviance: 80391  on 75343  degrees of freedom\n",
       "Residual deviance: 75923  on 75332  degrees of freedom\n",
       "  (1 observation deleted due to missingness)\n",
       "AIC: 918450\n",
       "\n",
       "Number of Fisher Scoring iterations: 1\n",
       "\n",
       "\n",
       "              Theta:  28.273 \n",
       "          Std. Err.:  0.153 \n",
       "\n",
       " 2 x log-likelihood:  -918423.714 "
      ]
     },
     "metadata": {},
     "output_type": "display_data"
    },
    {
     "name": "stderr",
     "output_type": "stream",
     "text": [
      "Waiting for profiling to be done...\n",
      "\n"
     ]
    },
    {
     "data": {
      "text/html": [
       "<table class=\"dataframe\">\n",
       "<caption>A matrix: 12 × 3 of type dbl</caption>\n",
       "<thead>\n",
       "\t<tr><th></th><th scope=col>Estimate</th><th scope=col>2.5 %</th><th scope=col>97.5 %</th></tr>\n",
       "</thead>\n",
       "<tbody>\n",
       "\t<tr><th scope=row>(Intercept)</th><td> 6.3215872340</td><td> 6.316260564</td><td> 6.326915128</td></tr>\n",
       "\t<tr><th scope=row>cevd_event</th><td> 0.0077763603</td><td>-0.004250701</td><td> 0.019845514</td></tr>\n",
       "\t<tr><th scope=row>age_levels</th><td>-0.0079835498</td><td>-0.011271509</td><td>-0.004694688</td></tr>\n",
       "\t<tr><th scope=row>male</th><td> 0.0609955638</td><td> 0.058116967</td><td> 0.063874499</td></tr>\n",
       "\t<tr><th scope=row>alc_freq_filter</th><td>-0.0004760165</td><td>-0.002531317</td><td> 0.001579294</td></tr>\n",
       "\t<tr><th scope=row>smok_stat</th><td> 0.0004442136</td><td>-0.001784165</td><td> 0.002673395</td></tr>\n",
       "\t<tr><th scope=row>bmi_filter</th><td>-0.0456122567</td><td>-0.048481366</td><td>-0.042743112</td></tr>\n",
       "\t<tr><th scope=row>full_screen_time_filter</th><td>-0.0315329823</td><td>-0.035241836</td><td>-0.027821664</td></tr>\n",
       "\t<tr><th scope=row>employ_status_array_filter</th><td> 0.0161326303</td><td> 0.013321403</td><td> 0.018944658</td></tr>\n",
       "\t<tr><th scope=row>comorb_sum</th><td> 0.0092840849</td><td> 0.007183079</td><td> 0.011386359</td></tr>\n",
       "\t<tr><th scope=row>gov_assistance_filter</th><td> 0.0599894291</td><td> 0.050919446</td><td> 0.069081520</td></tr>\n",
       "\t<tr><th scope=row>dep_diag_yes</th><td> 0.0007879468</td><td>-0.004125551</td><td> 0.005707227</td></tr>\n",
       "</tbody>\n",
       "</table>\n"
      ],
      "text/latex": [
       "A matrix: 12 × 3 of type dbl\n",
       "\\begin{tabular}{r|lll}\n",
       "  & Estimate & 2.5 \\% & 97.5 \\%\\\\\n",
       "\\hline\n",
       "\t(Intercept) &  6.3215872340 &  6.316260564 &  6.326915128\\\\\n",
       "\tcevd\\_event &  0.0077763603 & -0.004250701 &  0.019845514\\\\\n",
       "\tage\\_levels & -0.0079835498 & -0.011271509 & -0.004694688\\\\\n",
       "\tmale &  0.0609955638 &  0.058116967 &  0.063874499\\\\\n",
       "\talc\\_freq\\_filter & -0.0004760165 & -0.002531317 &  0.001579294\\\\\n",
       "\tsmok\\_stat &  0.0004442136 & -0.001784165 &  0.002673395\\\\\n",
       "\tbmi\\_filter & -0.0456122567 & -0.048481366 & -0.042743112\\\\\n",
       "\tfull\\_screen\\_time\\_filter & -0.0315329823 & -0.035241836 & -0.027821664\\\\\n",
       "\temploy\\_status\\_array\\_filter &  0.0161326303 &  0.013321403 &  0.018944658\\\\\n",
       "\tcomorb\\_sum &  0.0092840849 &  0.007183079 &  0.011386359\\\\\n",
       "\tgov\\_assistance\\_filter &  0.0599894291 &  0.050919446 &  0.069081520\\\\\n",
       "\tdep\\_diag\\_yes &  0.0007879468 & -0.004125551 &  0.005707227\\\\\n",
       "\\end{tabular}\n"
      ],
      "text/markdown": [
       "\n",
       "A matrix: 12 × 3 of type dbl\n",
       "\n",
       "| <!--/--> | Estimate | 2.5 % | 97.5 % |\n",
       "|---|---|---|---|\n",
       "| (Intercept) |  6.3215872340 |  6.316260564 |  6.326915128 |\n",
       "| cevd_event |  0.0077763603 | -0.004250701 |  0.019845514 |\n",
       "| age_levels | -0.0079835498 | -0.011271509 | -0.004694688 |\n",
       "| male |  0.0609955638 |  0.058116967 |  0.063874499 |\n",
       "| alc_freq_filter | -0.0004760165 | -0.002531317 |  0.001579294 |\n",
       "| smok_stat |  0.0004442136 | -0.001784165 |  0.002673395 |\n",
       "| bmi_filter | -0.0456122567 | -0.048481366 | -0.042743112 |\n",
       "| full_screen_time_filter | -0.0315329823 | -0.035241836 | -0.027821664 |\n",
       "| employ_status_array_filter |  0.0161326303 |  0.013321403 |  0.018944658 |\n",
       "| comorb_sum |  0.0092840849 |  0.007183079 |  0.011386359 |\n",
       "| gov_assistance_filter |  0.0599894291 |  0.050919446 |  0.069081520 |\n",
       "| dep_diag_yes |  0.0007879468 | -0.004125551 |  0.005707227 |\n",
       "\n"
      ],
      "text/plain": [
       "                           Estimate      2.5 %        97.5 %      \n",
       "(Intercept)                 6.3215872340  6.316260564  6.326915128\n",
       "cevd_event                  0.0077763603 -0.004250701  0.019845514\n",
       "age_levels                 -0.0079835498 -0.011271509 -0.004694688\n",
       "male                        0.0609955638  0.058116967  0.063874499\n",
       "alc_freq_filter            -0.0004760165 -0.002531317  0.001579294\n",
       "smok_stat                   0.0004442136 -0.001784165  0.002673395\n",
       "bmi_filter                 -0.0456122567 -0.048481366 -0.042743112\n",
       "full_screen_time_filter    -0.0315329823 -0.035241836 -0.027821664\n",
       "employ_status_array_filter  0.0161326303  0.013321403  0.018944658\n",
       "comorb_sum                  0.0092840849  0.007183079  0.011386359\n",
       "gov_assistance_filter       0.0599894291  0.050919446  0.069081520\n",
       "dep_diag_yes                0.0007879468 -0.004125551  0.005707227"
      ]
     },
     "metadata": {},
     "output_type": "display_data"
    },
    {
     "data": {
      "text/html": [
       "<table class=\"dataframe\">\n",
       "<caption>A matrix: 12 × 3 of type dbl</caption>\n",
       "<thead>\n",
       "\t<tr><th></th><th scope=col>Estimate</th><th scope=col>2.5 %</th><th scope=col>97.5 %</th></tr>\n",
       "</thead>\n",
       "<tbody>\n",
       "\t<tr><th scope=row>(Intercept)</th><td>556.4555170</td><td>553.4993424</td><td>559.4281652</td></tr>\n",
       "\t<tr><th scope=row>cevd_event</th><td>  1.0078067</td><td>  0.9957583</td><td>  1.0200437</td></tr>\n",
       "\t<tr><th scope=row>age_levels</th><td>  0.9920482</td><td>  0.9887918</td><td>  0.9953163</td></tr>\n",
       "\t<tr><th scope=row>male</th><td>  1.0628942</td><td>  1.0598390</td><td>  1.0659586</td></tr>\n",
       "\t<tr><th scope=row>alc_freq_filter</th><td>  0.9995241</td><td>  0.9974719</td><td>  1.0015805</td></tr>\n",
       "\t<tr><th scope=row>smok_stat</th><td>  1.0004443</td><td>  0.9982174</td><td>  1.0026770</td></tr>\n",
       "\t<tr><th scope=row>bmi_filter</th><td>  0.9554123</td><td>  0.9526751</td><td>  0.9581575</td></tr>\n",
       "\t<tr><th scope=row>full_screen_time_filter</th><td>  0.9689590</td><td>  0.9653719</td><td>  0.9725618</td></tr>\n",
       "\t<tr><th scope=row>employ_status_array_filter</th><td>  1.0162635</td><td>  1.0134105</td><td>  1.0191252</td></tr>\n",
       "\t<tr><th scope=row>comorb_sum</th><td>  1.0093273</td><td>  1.0072089</td><td>  1.0114514</td></tr>\n",
       "\t<tr><th scope=row>gov_assistance_filter</th><td>  1.0618253</td><td>  1.0522381</td><td>  1.0715236</td></tr>\n",
       "\t<tr><th scope=row>dep_diag_yes</th><td>  1.0007883</td><td>  0.9958829</td><td>  1.0057235</td></tr>\n",
       "</tbody>\n",
       "</table>\n"
      ],
      "text/latex": [
       "A matrix: 12 × 3 of type dbl\n",
       "\\begin{tabular}{r|lll}\n",
       "  & Estimate & 2.5 \\% & 97.5 \\%\\\\\n",
       "\\hline\n",
       "\t(Intercept) & 556.4555170 & 553.4993424 & 559.4281652\\\\\n",
       "\tcevd\\_event &   1.0078067 &   0.9957583 &   1.0200437\\\\\n",
       "\tage\\_levels &   0.9920482 &   0.9887918 &   0.9953163\\\\\n",
       "\tmale &   1.0628942 &   1.0598390 &   1.0659586\\\\\n",
       "\talc\\_freq\\_filter &   0.9995241 &   0.9974719 &   1.0015805\\\\\n",
       "\tsmok\\_stat &   1.0004443 &   0.9982174 &   1.0026770\\\\\n",
       "\tbmi\\_filter &   0.9554123 &   0.9526751 &   0.9581575\\\\\n",
       "\tfull\\_screen\\_time\\_filter &   0.9689590 &   0.9653719 &   0.9725618\\\\\n",
       "\temploy\\_status\\_array\\_filter &   1.0162635 &   1.0134105 &   1.0191252\\\\\n",
       "\tcomorb\\_sum &   1.0093273 &   1.0072089 &   1.0114514\\\\\n",
       "\tgov\\_assistance\\_filter &   1.0618253 &   1.0522381 &   1.0715236\\\\\n",
       "\tdep\\_diag\\_yes &   1.0007883 &   0.9958829 &   1.0057235\\\\\n",
       "\\end{tabular}\n"
      ],
      "text/markdown": [
       "\n",
       "A matrix: 12 × 3 of type dbl\n",
       "\n",
       "| <!--/--> | Estimate | 2.5 % | 97.5 % |\n",
       "|---|---|---|---|\n",
       "| (Intercept) | 556.4555170 | 553.4993424 | 559.4281652 |\n",
       "| cevd_event |   1.0078067 |   0.9957583 |   1.0200437 |\n",
       "| age_levels |   0.9920482 |   0.9887918 |   0.9953163 |\n",
       "| male |   1.0628942 |   1.0598390 |   1.0659586 |\n",
       "| alc_freq_filter |   0.9995241 |   0.9974719 |   1.0015805 |\n",
       "| smok_stat |   1.0004443 |   0.9982174 |   1.0026770 |\n",
       "| bmi_filter |   0.9554123 |   0.9526751 |   0.9581575 |\n",
       "| full_screen_time_filter |   0.9689590 |   0.9653719 |   0.9725618 |\n",
       "| employ_status_array_filter |   1.0162635 |   1.0134105 |   1.0191252 |\n",
       "| comorb_sum |   1.0093273 |   1.0072089 |   1.0114514 |\n",
       "| gov_assistance_filter |   1.0618253 |   1.0522381 |   1.0715236 |\n",
       "| dep_diag_yes |   1.0007883 |   0.9958829 |   1.0057235 |\n",
       "\n"
      ],
      "text/plain": [
       "                           Estimate    2.5 %       97.5 %     \n",
       "(Intercept)                556.4555170 553.4993424 559.4281652\n",
       "cevd_event                   1.0078067   0.9957583   1.0200437\n",
       "age_levels                   0.9920482   0.9887918   0.9953163\n",
       "male                         1.0628942   1.0598390   1.0659586\n",
       "alc_freq_filter              0.9995241   0.9974719   1.0015805\n",
       "smok_stat                    1.0004443   0.9982174   1.0026770\n",
       "bmi_filter                   0.9554123   0.9526751   0.9581575\n",
       "full_screen_time_filter      0.9689590   0.9653719   0.9725618\n",
       "employ_status_array_filter   1.0162635   1.0134105   1.0191252\n",
       "comorb_sum                   1.0093273   1.0072089   1.0114514\n",
       "gov_assistance_filter        1.0618253   1.0522381   1.0715236\n",
       "dep_diag_yes                 1.0007883   0.9958829   1.0057235"
      ]
     },
     "metadata": {},
     "output_type": "display_data"
    }
   ],
   "source": [
    "summary(m1 <- glm.nb(pa_sed_convert ~ cevd_event + age_levels + male + alc_freq_filter + smok_stat + bmi_filter + full_screen_time_filter + employ_status_array_filter + comorb_sum +gov_assistance_filter +dep_diag_yes, data = data_cevd_3))\n",
    "(est <- cbind(Estimate = coef(m1), confint(m1)))\n",
    "exp(est)"
   ]
  },
  {
   "cell_type": "code",
   "execution_count": 35,
   "id": "682b6718-7627-4e5e-bb77-bbf11dcae175",
   "metadata": {
    "tags": []
   },
   "outputs": [
    {
     "data": {
      "text/plain": [
       "\n",
       "Call:\n",
       "glm.nb(formula = pa_light_convert ~ cevd_event + age_levels + \n",
       "    male + alc_freq_filter + smok_stat + bmi_filter + full_screen_time_filter + \n",
       "    employ_status_array_filter + comorb_sum + gov_assistance_filter + \n",
       "    dep_diag_yes, data = data_cevd_3, init.theta = 10.11996607, \n",
       "    link = log)\n",
       "\n",
       "Coefficients:\n",
       "                             Estimate Std. Error  z value Pr(>|z|)    \n",
       "(Intercept)                 5.7599353  0.0044971 1280.816  < 2e-16 ***\n",
       "cevd_event                 -0.0034714  0.0101974   -0.340  0.73354    \n",
       "age_levels                  0.0073875  0.0027738    2.663  0.00774 ** \n",
       "male                       -0.1461091  0.0024396  -59.890  < 2e-16 ***\n",
       "alc_freq_filter            -0.0002031  0.0017388   -0.117  0.90704    \n",
       "smok_stat                   0.0025900  0.0018898    1.371  0.17053    \n",
       "bmi_filter                  0.0479121  0.0024270   19.741  < 2e-16 ***\n",
       "full_screen_time_filter     0.0599943  0.0031315   19.158  < 2e-16 ***\n",
       "employ_status_array_filter -0.0036498  0.0023589   -1.547  0.12181    \n",
       "comorb_sum                 -0.0180343  0.0017797  -10.134  < 2e-16 ***\n",
       "gov_assistance_filter      -0.0976836  0.0077023  -12.682  < 2e-16 ***\n",
       "dep_diag_yes               -0.0258207  0.0041590   -6.208 5.35e-10 ***\n",
       "---\n",
       "Signif. codes:  0 ‘***’ 0.001 ‘**’ 0.01 ‘*’ 0.05 ‘.’ 0.1 ‘ ’ 1\n",
       "\n",
       "(Dispersion parameter for Negative Binomial(10.12) family taken to be 1)\n",
       "\n",
       "    Null deviance: 82721  on 75343  degrees of freedom\n",
       "Residual deviance: 76873  on 75332  degrees of freedom\n",
       "  (1 observation deleted due to missingness)\n",
       "AIC: 899088\n",
       "\n",
       "Number of Fisher Scoring iterations: 1\n",
       "\n",
       "\n",
       "              Theta:  10.1200 \n",
       "          Std. Err.:  0.0533 \n",
       "\n",
       " 2 x log-likelihood:  -899062.4040 "
      ]
     },
     "metadata": {},
     "output_type": "display_data"
    },
    {
     "name": "stderr",
     "output_type": "stream",
     "text": [
      "Waiting for profiling to be done...\n",
      "\n"
     ]
    },
    {
     "data": {
      "text/html": [
       "<table class=\"dataframe\">\n",
       "<caption>A matrix: 12 × 3 of type dbl</caption>\n",
       "<thead>\n",
       "\t<tr><th></th><th scope=col>Estimate</th><th scope=col>2.5 %</th><th scope=col>97.5 %</th></tr>\n",
       "</thead>\n",
       "<tbody>\n",
       "\t<tr><th scope=row>(Intercept)</th><td> 5.7599352607</td><td> 5.751156046</td><td> 5.7687180803</td></tr>\n",
       "\t<tr><th scope=row>cevd_event</th><td>-0.0034713572</td><td>-0.023393557</td><td> 0.0165704576</td></tr>\n",
       "\t<tr><th scope=row>age_levels</th><td> 0.0073875500</td><td> 0.001970176</td><td> 0.0128074278</td></tr>\n",
       "\t<tr><th scope=row>male</th><td>-0.1461091275</td><td>-0.150896226</td><td>-0.1413210693</td></tr>\n",
       "\t<tr><th scope=row>alc_freq_filter</th><td>-0.0002030567</td><td>-0.003607205</td><td> 0.0032011250</td></tr>\n",
       "\t<tr><th scope=row>smok_stat</th><td> 0.0025900289</td><td>-0.001126386</td><td> 0.0063087102</td></tr>\n",
       "\t<tr><th scope=row>bmi_filter</th><td> 0.0479121267</td><td> 0.043157098</td><td> 0.0526672455</td></tr>\n",
       "\t<tr><th scope=row>full_screen_time_filter</th><td> 0.0599943469</td><td> 0.053866597</td><td> 0.0661291451</td></tr>\n",
       "\t<tr><th scope=row>employ_status_array_filter</th><td>-0.0036497543</td><td>-0.008229345</td><td> 0.0009320064</td></tr>\n",
       "\t<tr><th scope=row>comorb_sum</th><td>-0.0180343168</td><td>-0.021519779</td><td>-0.0145452654</td></tr>\n",
       "\t<tr><th scope=row>gov_assistance_filter</th><td>-0.0976836098</td><td>-0.112731100</td><td>-0.0825734699</td></tr>\n",
       "\t<tr><th scope=row>dep_diag_yes</th><td>-0.0258206821</td><td>-0.033959542</td><td>-0.0176653626</td></tr>\n",
       "</tbody>\n",
       "</table>\n"
      ],
      "text/latex": [
       "A matrix: 12 × 3 of type dbl\n",
       "\\begin{tabular}{r|lll}\n",
       "  & Estimate & 2.5 \\% & 97.5 \\%\\\\\n",
       "\\hline\n",
       "\t(Intercept) &  5.7599352607 &  5.751156046 &  5.7687180803\\\\\n",
       "\tcevd\\_event & -0.0034713572 & -0.023393557 &  0.0165704576\\\\\n",
       "\tage\\_levels &  0.0073875500 &  0.001970176 &  0.0128074278\\\\\n",
       "\tmale & -0.1461091275 & -0.150896226 & -0.1413210693\\\\\n",
       "\talc\\_freq\\_filter & -0.0002030567 & -0.003607205 &  0.0032011250\\\\\n",
       "\tsmok\\_stat &  0.0025900289 & -0.001126386 &  0.0063087102\\\\\n",
       "\tbmi\\_filter &  0.0479121267 &  0.043157098 &  0.0526672455\\\\\n",
       "\tfull\\_screen\\_time\\_filter &  0.0599943469 &  0.053866597 &  0.0661291451\\\\\n",
       "\temploy\\_status\\_array\\_filter & -0.0036497543 & -0.008229345 &  0.0009320064\\\\\n",
       "\tcomorb\\_sum & -0.0180343168 & -0.021519779 & -0.0145452654\\\\\n",
       "\tgov\\_assistance\\_filter & -0.0976836098 & -0.112731100 & -0.0825734699\\\\\n",
       "\tdep\\_diag\\_yes & -0.0258206821 & -0.033959542 & -0.0176653626\\\\\n",
       "\\end{tabular}\n"
      ],
      "text/markdown": [
       "\n",
       "A matrix: 12 × 3 of type dbl\n",
       "\n",
       "| <!--/--> | Estimate | 2.5 % | 97.5 % |\n",
       "|---|---|---|---|\n",
       "| (Intercept) |  5.7599352607 |  5.751156046 |  5.7687180803 |\n",
       "| cevd_event | -0.0034713572 | -0.023393557 |  0.0165704576 |\n",
       "| age_levels |  0.0073875500 |  0.001970176 |  0.0128074278 |\n",
       "| male | -0.1461091275 | -0.150896226 | -0.1413210693 |\n",
       "| alc_freq_filter | -0.0002030567 | -0.003607205 |  0.0032011250 |\n",
       "| smok_stat |  0.0025900289 | -0.001126386 |  0.0063087102 |\n",
       "| bmi_filter |  0.0479121267 |  0.043157098 |  0.0526672455 |\n",
       "| full_screen_time_filter |  0.0599943469 |  0.053866597 |  0.0661291451 |\n",
       "| employ_status_array_filter | -0.0036497543 | -0.008229345 |  0.0009320064 |\n",
       "| comorb_sum | -0.0180343168 | -0.021519779 | -0.0145452654 |\n",
       "| gov_assistance_filter | -0.0976836098 | -0.112731100 | -0.0825734699 |\n",
       "| dep_diag_yes | -0.0258206821 | -0.033959542 | -0.0176653626 |\n",
       "\n"
      ],
      "text/plain": [
       "                           Estimate      2.5 %        97.5 %       \n",
       "(Intercept)                 5.7599352607  5.751156046  5.7687180803\n",
       "cevd_event                 -0.0034713572 -0.023393557  0.0165704576\n",
       "age_levels                  0.0073875500  0.001970176  0.0128074278\n",
       "male                       -0.1461091275 -0.150896226 -0.1413210693\n",
       "alc_freq_filter            -0.0002030567 -0.003607205  0.0032011250\n",
       "smok_stat                   0.0025900289 -0.001126386  0.0063087102\n",
       "bmi_filter                  0.0479121267  0.043157098  0.0526672455\n",
       "full_screen_time_filter     0.0599943469  0.053866597  0.0661291451\n",
       "employ_status_array_filter -0.0036497543 -0.008229345  0.0009320064\n",
       "comorb_sum                 -0.0180343168 -0.021519779 -0.0145452654\n",
       "gov_assistance_filter      -0.0976836098 -0.112731100 -0.0825734699\n",
       "dep_diag_yes               -0.0258206821 -0.033959542 -0.0176653626"
      ]
     },
     "metadata": {},
     "output_type": "display_data"
    },
    {
     "data": {
      "text/html": [
       "<table class=\"dataframe\">\n",
       "<caption>A matrix: 12 × 3 of type dbl</caption>\n",
       "<thead>\n",
       "\t<tr><th></th><th scope=col>Estimate</th><th scope=col>2.5 %</th><th scope=col>97.5 %</th></tr>\n",
       "</thead>\n",
       "<tbody>\n",
       "\t<tr><th scope=row>(Intercept)</th><td>317.3277847</td><td>314.5540891</td><td>320.1270923</td></tr>\n",
       "\t<tr><th scope=row>cevd_event</th><td>  0.9965347</td><td>  0.9768780</td><td>  1.0167085</td></tr>\n",
       "\t<tr><th scope=row>age_levels</th><td>  1.0074149</td><td>  1.0019721</td><td>  1.0128898</td></tr>\n",
       "\t<tr><th scope=row>male</th><td>  0.8640634</td><td>  0.8599369</td><td>  0.8682105</td></tr>\n",
       "\t<tr><th scope=row>alc_freq_filter</th><td>  0.9997970</td><td>  0.9963993</td><td>  1.0032063</td></tr>\n",
       "\t<tr><th scope=row>smok_stat</th><td>  1.0025934</td><td>  0.9988742</td><td>  1.0063287</td></tr>\n",
       "\t<tr><th scope=row>bmi_filter</th><td>  1.0490785</td><td>  1.0441019</td><td>  1.0540788</td></tr>\n",
       "\t<tr><th scope=row>full_screen_time_filter</th><td>  1.0618305</td><td>  1.0553438</td><td>  1.0683647</td></tr>\n",
       "\t<tr><th scope=row>employ_status_array_filter</th><td>  0.9963569</td><td>  0.9918044</td><td>  1.0009324</td></tr>\n",
       "\t<tr><th scope=row>comorb_sum</th><td>  0.9821273</td><td>  0.9787101</td><td>  0.9855600</td></tr>\n",
       "\t<tr><th scope=row>gov_assistance_filter</th><td>  0.9069358</td><td>  0.8933909</td><td>  0.9207438</td></tr>\n",
       "\t<tr><th scope=row>dep_diag_yes</th><td>  0.9745098</td><td>  0.9666106</td><td>  0.9824898</td></tr>\n",
       "</tbody>\n",
       "</table>\n"
      ],
      "text/latex": [
       "A matrix: 12 × 3 of type dbl\n",
       "\\begin{tabular}{r|lll}\n",
       "  & Estimate & 2.5 \\% & 97.5 \\%\\\\\n",
       "\\hline\n",
       "\t(Intercept) & 317.3277847 & 314.5540891 & 320.1270923\\\\\n",
       "\tcevd\\_event &   0.9965347 &   0.9768780 &   1.0167085\\\\\n",
       "\tage\\_levels &   1.0074149 &   1.0019721 &   1.0128898\\\\\n",
       "\tmale &   0.8640634 &   0.8599369 &   0.8682105\\\\\n",
       "\talc\\_freq\\_filter &   0.9997970 &   0.9963993 &   1.0032063\\\\\n",
       "\tsmok\\_stat &   1.0025934 &   0.9988742 &   1.0063287\\\\\n",
       "\tbmi\\_filter &   1.0490785 &   1.0441019 &   1.0540788\\\\\n",
       "\tfull\\_screen\\_time\\_filter &   1.0618305 &   1.0553438 &   1.0683647\\\\\n",
       "\temploy\\_status\\_array\\_filter &   0.9963569 &   0.9918044 &   1.0009324\\\\\n",
       "\tcomorb\\_sum &   0.9821273 &   0.9787101 &   0.9855600\\\\\n",
       "\tgov\\_assistance\\_filter &   0.9069358 &   0.8933909 &   0.9207438\\\\\n",
       "\tdep\\_diag\\_yes &   0.9745098 &   0.9666106 &   0.9824898\\\\\n",
       "\\end{tabular}\n"
      ],
      "text/markdown": [
       "\n",
       "A matrix: 12 × 3 of type dbl\n",
       "\n",
       "| <!--/--> | Estimate | 2.5 % | 97.5 % |\n",
       "|---|---|---|---|\n",
       "| (Intercept) | 317.3277847 | 314.5540891 | 320.1270923 |\n",
       "| cevd_event |   0.9965347 |   0.9768780 |   1.0167085 |\n",
       "| age_levels |   1.0074149 |   1.0019721 |   1.0128898 |\n",
       "| male |   0.8640634 |   0.8599369 |   0.8682105 |\n",
       "| alc_freq_filter |   0.9997970 |   0.9963993 |   1.0032063 |\n",
       "| smok_stat |   1.0025934 |   0.9988742 |   1.0063287 |\n",
       "| bmi_filter |   1.0490785 |   1.0441019 |   1.0540788 |\n",
       "| full_screen_time_filter |   1.0618305 |   1.0553438 |   1.0683647 |\n",
       "| employ_status_array_filter |   0.9963569 |   0.9918044 |   1.0009324 |\n",
       "| comorb_sum |   0.9821273 |   0.9787101 |   0.9855600 |\n",
       "| gov_assistance_filter |   0.9069358 |   0.8933909 |   0.9207438 |\n",
       "| dep_diag_yes |   0.9745098 |   0.9666106 |   0.9824898 |\n",
       "\n"
      ],
      "text/plain": [
       "                           Estimate    2.5 %       97.5 %     \n",
       "(Intercept)                317.3277847 314.5540891 320.1270923\n",
       "cevd_event                   0.9965347   0.9768780   1.0167085\n",
       "age_levels                   1.0074149   1.0019721   1.0128898\n",
       "male                         0.8640634   0.8599369   0.8682105\n",
       "alc_freq_filter              0.9997970   0.9963993   1.0032063\n",
       "smok_stat                    1.0025934   0.9988742   1.0063287\n",
       "bmi_filter                   1.0490785   1.0441019   1.0540788\n",
       "full_screen_time_filter      1.0618305   1.0553438   1.0683647\n",
       "employ_status_array_filter   0.9963569   0.9918044   1.0009324\n",
       "comorb_sum                   0.9821273   0.9787101   0.9855600\n",
       "gov_assistance_filter        0.9069358   0.8933909   0.9207438\n",
       "dep_diag_yes                 0.9745098   0.9666106   0.9824898"
      ]
     },
     "metadata": {},
     "output_type": "display_data"
    }
   ],
   "source": [
    "summary(m1 <- glm.nb(pa_light_convert ~ cevd_event + age_levels + male + alc_freq_filter + smok_stat + bmi_filter + full_screen_time_filter + employ_status_array_filter + comorb_sum +gov_assistance_filter +dep_diag_yes, data = data_cevd_3))\n",
    "(est <- cbind(Estimate = coef(m1), confint(m1)))\n",
    "exp(est)"
   ]
  },
  {
   "cell_type": "code",
   "execution_count": 36,
   "id": "1a68fa4f-e36a-4f5b-b376-6a988f130a59",
   "metadata": {
    "tags": []
   },
   "outputs": [
    {
     "data": {
      "text/plain": [
       "\n",
       "Call:\n",
       "glm.nb(formula = pa_mv_convert ~ cevd_event + age_levels + male + \n",
       "    alc_freq_filter + smok_stat + bmi_filter + full_screen_time_filter + \n",
       "    employ_status_array_filter + comorb_sum + gov_assistance_filter + \n",
       "    dep_diag_yes, data = data_cevd_3, init.theta = 1.474371897, \n",
       "    link = log)\n",
       "\n",
       "Coefficients:\n",
       "                            Estimate Std. Error z value Pr(>|z|)    \n",
       "(Intercept)                 3.305467   0.011831 279.382   <2e-16 ***\n",
       "cevd_event                 -0.035845   0.026832  -1.336    0.182    \n",
       "age_levels                 -0.123986   0.007291 -17.005   <2e-16 ***\n",
       "male                        0.414949   0.006401  64.828   <2e-16 ***\n",
       "alc_freq_filter             0.090162   0.004569  19.734   <2e-16 ***\n",
       "smok_stat                  -0.048327   0.004965  -9.733   <2e-16 ***\n",
       "bmi_filter                  0.240290   0.006375  37.693   <2e-16 ***\n",
       "full_screen_time_filter     0.166328   0.008213  20.251   <2e-16 ***\n",
       "employ_status_array_filter -0.000695   0.006202  -0.112    0.911    \n",
       "comorb_sum                 -0.089704   0.004685 -19.147   <2e-16 ***\n",
       "gov_assistance_filter      -0.507203   0.020535 -24.700   <2e-16 ***\n",
       "dep_diag_yes               -0.102149   0.010959  -9.321   <2e-16 ***\n",
       "---\n",
       "Signif. codes:  0 ‘***’ 0.001 ‘**’ 0.01 ‘*’ 0.05 ‘.’ 0.1 ‘ ’ 1\n",
       "\n",
       "(Dispersion parameter for Negative Binomial(1.4744) family taken to be 1)\n",
       "\n",
       "    Null deviance: 94036  on 75343  degrees of freedom\n",
       "Residual deviance: 85597  on 75332  degrees of freedom\n",
       "  (1 observation deleted due to missingness)\n",
       "AIC: 701691\n",
       "\n",
       "Number of Fisher Scoring iterations: 1\n",
       "\n",
       "\n",
       "              Theta:  1.47437 \n",
       "          Std. Err.:  0.00761 \n",
       "\n",
       " 2 x log-likelihood:  -701665.01600 "
      ]
     },
     "metadata": {},
     "output_type": "display_data"
    },
    {
     "name": "stderr",
     "output_type": "stream",
     "text": [
      "Waiting for profiling to be done...\n",
      "\n"
     ]
    },
    {
     "data": {
      "text/html": [
       "<table class=\"dataframe\">\n",
       "<caption>A matrix: 12 × 3 of type dbl</caption>\n",
       "<thead>\n",
       "\t<tr><th></th><th scope=col>Estimate</th><th scope=col>2.5 %</th><th scope=col>97.5 %</th></tr>\n",
       "</thead>\n",
       "<tbody>\n",
       "\t<tr><th scope=row>(Intercept)</th><td> 3.3054668654</td><td> 3.28218915</td><td> 3.32876878</td></tr>\n",
       "\t<tr><th scope=row>cevd_event</th><td>-0.0358445878</td><td>-0.08799187</td><td> 0.01711745</td></tr>\n",
       "\t<tr><th scope=row>age_levels</th><td>-0.1239855915</td><td>-0.13818236</td><td>-0.10977192</td></tr>\n",
       "\t<tr><th scope=row>male</th><td> 0.4149493152</td><td> 0.40234799</td><td> 0.42755739</td></tr>\n",
       "\t<tr><th scope=row>alc_freq_filter</th><td> 0.0901620814</td><td> 0.08113335</td><td> 0.09919113</td></tr>\n",
       "\t<tr><th scope=row>smok_stat</th><td>-0.0483266911</td><td>-0.05822724</td><td>-0.03841119</td></tr>\n",
       "\t<tr><th scope=row>bmi_filter</th><td> 0.2402904364</td><td> 0.22778169</td><td> 0.25279990</td></tr>\n",
       "\t<tr><th scope=row>full_screen_time_filter</th><td> 0.1663282423</td><td> 0.15026060</td><td> 0.18244406</td></tr>\n",
       "\t<tr><th scope=row>employ_status_array_filter</th><td>-0.0006949661</td><td>-0.01265641</td><td> 0.01128087</td></tr>\n",
       "\t<tr><th scope=row>comorb_sum</th><td>-0.0897039885</td><td>-0.09886864</td><td>-0.08051529</td></tr>\n",
       "\t<tr><th scope=row>gov_assistance_filter</th><td>-0.5072030036</td><td>-0.54718901</td><td>-0.46680215</td></tr>\n",
       "\t<tr><th scope=row>dep_diag_yes</th><td>-0.1021487714</td><td>-0.12358904</td><td>-0.08059647</td></tr>\n",
       "</tbody>\n",
       "</table>\n"
      ],
      "text/latex": [
       "A matrix: 12 × 3 of type dbl\n",
       "\\begin{tabular}{r|lll}\n",
       "  & Estimate & 2.5 \\% & 97.5 \\%\\\\\n",
       "\\hline\n",
       "\t(Intercept) &  3.3054668654 &  3.28218915 &  3.32876878\\\\\n",
       "\tcevd\\_event & -0.0358445878 & -0.08799187 &  0.01711745\\\\\n",
       "\tage\\_levels & -0.1239855915 & -0.13818236 & -0.10977192\\\\\n",
       "\tmale &  0.4149493152 &  0.40234799 &  0.42755739\\\\\n",
       "\talc\\_freq\\_filter &  0.0901620814 &  0.08113335 &  0.09919113\\\\\n",
       "\tsmok\\_stat & -0.0483266911 & -0.05822724 & -0.03841119\\\\\n",
       "\tbmi\\_filter &  0.2402904364 &  0.22778169 &  0.25279990\\\\\n",
       "\tfull\\_screen\\_time\\_filter &  0.1663282423 &  0.15026060 &  0.18244406\\\\\n",
       "\temploy\\_status\\_array\\_filter & -0.0006949661 & -0.01265641 &  0.01128087\\\\\n",
       "\tcomorb\\_sum & -0.0897039885 & -0.09886864 & -0.08051529\\\\\n",
       "\tgov\\_assistance\\_filter & -0.5072030036 & -0.54718901 & -0.46680215\\\\\n",
       "\tdep\\_diag\\_yes & -0.1021487714 & -0.12358904 & -0.08059647\\\\\n",
       "\\end{tabular}\n"
      ],
      "text/markdown": [
       "\n",
       "A matrix: 12 × 3 of type dbl\n",
       "\n",
       "| <!--/--> | Estimate | 2.5 % | 97.5 % |\n",
       "|---|---|---|---|\n",
       "| (Intercept) |  3.3054668654 |  3.28218915 |  3.32876878 |\n",
       "| cevd_event | -0.0358445878 | -0.08799187 |  0.01711745 |\n",
       "| age_levels | -0.1239855915 | -0.13818236 | -0.10977192 |\n",
       "| male |  0.4149493152 |  0.40234799 |  0.42755739 |\n",
       "| alc_freq_filter |  0.0901620814 |  0.08113335 |  0.09919113 |\n",
       "| smok_stat | -0.0483266911 | -0.05822724 | -0.03841119 |\n",
       "| bmi_filter |  0.2402904364 |  0.22778169 |  0.25279990 |\n",
       "| full_screen_time_filter |  0.1663282423 |  0.15026060 |  0.18244406 |\n",
       "| employ_status_array_filter | -0.0006949661 | -0.01265641 |  0.01128087 |\n",
       "| comorb_sum | -0.0897039885 | -0.09886864 | -0.08051529 |\n",
       "| gov_assistance_filter | -0.5072030036 | -0.54718901 | -0.46680215 |\n",
       "| dep_diag_yes | -0.1021487714 | -0.12358904 | -0.08059647 |\n",
       "\n"
      ],
      "text/plain": [
       "                           Estimate      2.5 %       97.5 %     \n",
       "(Intercept)                 3.3054668654  3.28218915  3.32876878\n",
       "cevd_event                 -0.0358445878 -0.08799187  0.01711745\n",
       "age_levels                 -0.1239855915 -0.13818236 -0.10977192\n",
       "male                        0.4149493152  0.40234799  0.42755739\n",
       "alc_freq_filter             0.0901620814  0.08113335  0.09919113\n",
       "smok_stat                  -0.0483266911 -0.05822724 -0.03841119\n",
       "bmi_filter                  0.2402904364  0.22778169  0.25279990\n",
       "full_screen_time_filter     0.1663282423  0.15026060  0.18244406\n",
       "employ_status_array_filter -0.0006949661 -0.01265641  0.01128087\n",
       "comorb_sum                 -0.0897039885 -0.09886864 -0.08051529\n",
       "gov_assistance_filter      -0.5072030036 -0.54718901 -0.46680215\n",
       "dep_diag_yes               -0.1021487714 -0.12358904 -0.08059647"
      ]
     },
     "metadata": {},
     "output_type": "display_data"
    },
    {
     "data": {
      "text/html": [
       "<table class=\"dataframe\">\n",
       "<caption>A matrix: 12 × 3 of type dbl</caption>\n",
       "<thead>\n",
       "\t<tr><th></th><th scope=col>Estimate</th><th scope=col>2.5 %</th><th scope=col>97.5 %</th></tr>\n",
       "</thead>\n",
       "<tbody>\n",
       "\t<tr><th scope=row>(Intercept)</th><td>27.2612660</td><td>26.6340148</td><td>27.9039647</td></tr>\n",
       "\t<tr><th scope=row>cevd_event</th><td> 0.9647902</td><td> 0.9157683</td><td> 1.0172648</td></tr>\n",
       "\t<tr><th scope=row>age_levels</th><td> 0.8833926</td><td> 0.8709399</td><td> 0.8960385</td></tr>\n",
       "\t<tr><th scope=row>male</th><td> 1.5142940</td><td> 1.4953316</td><td> 1.5335072</td></tr>\n",
       "\t<tr><th scope=row>alc_freq_filter</th><td> 1.0943516</td><td> 1.0845155</td><td> 1.1042773</td></tr>\n",
       "\t<tr><th scope=row>smok_stat</th><td> 0.9528225</td><td> 0.9434355</td><td> 0.9623172</td></tr>\n",
       "\t<tr><th scope=row>bmi_filter</th><td> 1.2716184</td><td> 1.2558111</td><td> 1.2876256</td></tr>\n",
       "\t<tr><th scope=row>full_screen_time_filter</th><td> 1.1809607</td><td> 1.1621371</td><td> 1.2001470</td></tr>\n",
       "\t<tr><th scope=row>employ_status_array_filter</th><td> 0.9993053</td><td> 0.9874233</td><td> 1.0113447</td></tr>\n",
       "\t<tr><th scope=row>comorb_sum</th><td> 0.9142018</td><td> 0.9058617</td><td> 0.9226408</td></tr>\n",
       "\t<tr><th scope=row>gov_assistance_filter</th><td> 0.6021775</td><td> 0.5785739</td><td> 0.6270041</td></tr>\n",
       "\t<tr><th scope=row>dep_diag_yes</th><td> 0.9028952</td><td> 0.8837429</td><td> 0.9225659</td></tr>\n",
       "</tbody>\n",
       "</table>\n"
      ],
      "text/latex": [
       "A matrix: 12 × 3 of type dbl\n",
       "\\begin{tabular}{r|lll}\n",
       "  & Estimate & 2.5 \\% & 97.5 \\%\\\\\n",
       "\\hline\n",
       "\t(Intercept) & 27.2612660 & 26.6340148 & 27.9039647\\\\\n",
       "\tcevd\\_event &  0.9647902 &  0.9157683 &  1.0172648\\\\\n",
       "\tage\\_levels &  0.8833926 &  0.8709399 &  0.8960385\\\\\n",
       "\tmale &  1.5142940 &  1.4953316 &  1.5335072\\\\\n",
       "\talc\\_freq\\_filter &  1.0943516 &  1.0845155 &  1.1042773\\\\\n",
       "\tsmok\\_stat &  0.9528225 &  0.9434355 &  0.9623172\\\\\n",
       "\tbmi\\_filter &  1.2716184 &  1.2558111 &  1.2876256\\\\\n",
       "\tfull\\_screen\\_time\\_filter &  1.1809607 &  1.1621371 &  1.2001470\\\\\n",
       "\temploy\\_status\\_array\\_filter &  0.9993053 &  0.9874233 &  1.0113447\\\\\n",
       "\tcomorb\\_sum &  0.9142018 &  0.9058617 &  0.9226408\\\\\n",
       "\tgov\\_assistance\\_filter &  0.6021775 &  0.5785739 &  0.6270041\\\\\n",
       "\tdep\\_diag\\_yes &  0.9028952 &  0.8837429 &  0.9225659\\\\\n",
       "\\end{tabular}\n"
      ],
      "text/markdown": [
       "\n",
       "A matrix: 12 × 3 of type dbl\n",
       "\n",
       "| <!--/--> | Estimate | 2.5 % | 97.5 % |\n",
       "|---|---|---|---|\n",
       "| (Intercept) | 27.2612660 | 26.6340148 | 27.9039647 |\n",
       "| cevd_event |  0.9647902 |  0.9157683 |  1.0172648 |\n",
       "| age_levels |  0.8833926 |  0.8709399 |  0.8960385 |\n",
       "| male |  1.5142940 |  1.4953316 |  1.5335072 |\n",
       "| alc_freq_filter |  1.0943516 |  1.0845155 |  1.1042773 |\n",
       "| smok_stat |  0.9528225 |  0.9434355 |  0.9623172 |\n",
       "| bmi_filter |  1.2716184 |  1.2558111 |  1.2876256 |\n",
       "| full_screen_time_filter |  1.1809607 |  1.1621371 |  1.2001470 |\n",
       "| employ_status_array_filter |  0.9993053 |  0.9874233 |  1.0113447 |\n",
       "| comorb_sum |  0.9142018 |  0.9058617 |  0.9226408 |\n",
       "| gov_assistance_filter |  0.6021775 |  0.5785739 |  0.6270041 |\n",
       "| dep_diag_yes |  0.9028952 |  0.8837429 |  0.9225659 |\n",
       "\n"
      ],
      "text/plain": [
       "                           Estimate   2.5 %      97.5 %    \n",
       "(Intercept)                27.2612660 26.6340148 27.9039647\n",
       "cevd_event                  0.9647902  0.9157683  1.0172648\n",
       "age_levels                  0.8833926  0.8709399  0.8960385\n",
       "male                        1.5142940  1.4953316  1.5335072\n",
       "alc_freq_filter             1.0943516  1.0845155  1.1042773\n",
       "smok_stat                   0.9528225  0.9434355  0.9623172\n",
       "bmi_filter                  1.2716184  1.2558111  1.2876256\n",
       "full_screen_time_filter     1.1809607  1.1621371  1.2001470\n",
       "employ_status_array_filter  0.9993053  0.9874233  1.0113447\n",
       "comorb_sum                  0.9142018  0.9058617  0.9226408\n",
       "gov_assistance_filter       0.6021775  0.5785739  0.6270041\n",
       "dep_diag_yes                0.9028952  0.8837429  0.9225659"
      ]
     },
     "metadata": {},
     "output_type": "display_data"
    }
   ],
   "source": [
    "summary(m1 <- glm.nb(pa_mv_convert ~ cevd_event + age_levels + male + alc_freq_filter + smok_stat + bmi_filter + full_screen_time_filter + employ_status_array_filter + comorb_sum +gov_assistance_filter +dep_diag_yes, data = data_cevd_3))\n",
    "(est <- cbind(Estimate = coef(m1), confint(m1)))\n",
    "exp(est)"
   ]
  },
  {
   "cell_type": "code",
   "execution_count": 37,
   "id": "62ee9f2b-96a3-4eb9-bde5-bdb84036c0fe",
   "metadata": {
    "tags": []
   },
   "outputs": [],
   "source": [
    "#"
   ]
  },
  {
   "cell_type": "code",
   "execution_count": 38,
   "id": "1ac85eb9-5c89-41d9-8012-78518f542a34",
   "metadata": {
    "tags": []
   },
   "outputs": [],
   "source": [
    "#sensitivity analysis 3"
   ]
  },
  {
   "cell_type": "code",
   "execution_count": 39,
   "id": "bbea132a-ac4b-42e2-aa51-ac483c3dbbb5",
   "metadata": {
    "tags": []
   },
   "outputs": [],
   "source": [
    "#"
   ]
  },
  {
   "cell_type": "code",
   "execution_count": 40,
   "id": "cea258d0-73e4-4884-8961-a6479f379400",
   "metadata": {
    "tags": []
   },
   "outputs": [],
   "source": [
    "data$dep_dur_filter <- as.integer(data$dep_dur_filter)"
   ]
  },
  {
   "cell_type": "code",
   "execution_count": 41,
   "id": "b8dc21dc-cbcd-4a28-a8c3-ba77e3eca562",
   "metadata": {
    "tags": []
   },
   "outputs": [],
   "source": [
    "#create dfs for different cevd t2es\n",
    "data_dep_1 <- data[data$dep_dur_filter == 0 | data$dep_dur_filter == 1, ]\n",
    "data_dep_2 <- data[data$dep_dur_filter == 0 | data$dep_dur_filter == 2, ]\n",
    "data_dep_3 <- data[data$dep_dur_filter == 0 | data$dep_dur_filter == 3, ]"
   ]
  },
  {
   "cell_type": "code",
   "execution_count": 42,
   "id": "98a12d87-480a-4e25-9648-3925e2dc7c2a",
   "metadata": {
    "tags": []
   },
   "outputs": [
    {
     "data": {
      "text/plain": [
       "\n",
       "Call:\n",
       "glm.nb(formula = pa_mv_convert ~ cevd_event + age_levels + male + \n",
       "    alc_freq_filter + smok_stat + bmi_filter + full_screen_time_filter + \n",
       "    employ_status_array_filter + comorb_sum + gov_assistance_filter, \n",
       "    data = data_dep_1, init.theta = 1.497208542, link = log)\n",
       "\n",
       "Coefficients:\n",
       "                             Estimate Std. Error z value Pr(>|z|)    \n",
       "(Intercept)                 3.3120678  0.0121331 272.978   <2e-16 ***\n",
       "cevd_event                 -0.0365315  0.0191467  -1.908   0.0564 .  \n",
       "age_levels                 -0.1251205  0.0074696 -16.751   <2e-16 ***\n",
       "male                        0.4132751  0.0065338  63.252   <2e-16 ***\n",
       "alc_freq_filter             0.0876882  0.0046999  18.658   <2e-16 ***\n",
       "smok_stat                  -0.0499681  0.0051239  -9.752   <2e-16 ***\n",
       "bmi_filter                  0.2377551  0.0065278  36.422   <2e-16 ***\n",
       "full_screen_time_filter     0.1662901  0.0084260  19.735   <2e-16 ***\n",
       "employ_status_array_filter -0.0008602  0.0063870  -0.135   0.8929    \n",
       "comorb_sum                 -0.0878034  0.0048006 -18.290   <2e-16 ***\n",
       "gov_assistance_filter      -0.5475953  0.0225437 -24.290   <2e-16 ***\n",
       "---\n",
       "Signif. codes:  0 ‘***’ 0.001 ‘**’ 0.01 ‘*’ 0.05 ‘.’ 0.1 ‘ ’ 1\n",
       "\n",
       "(Dispersion parameter for Negative Binomial(1.4972) family taken to be 1)\n",
       "\n",
       "    Null deviance: 87768  on 70634  degrees of freedom\n",
       "Residual deviance: 80114  on 70624  degrees of freedom\n",
       "  (1 observation deleted due to missingness)\n",
       "AIC: 659374\n",
       "\n",
       "Number of Fisher Scoring iterations: 1\n",
       "\n",
       "\n",
       "              Theta:  1.49721 \n",
       "          Std. Err.:  0.00798 \n",
       "\n",
       " 2 x log-likelihood:  -659349.76700 "
      ]
     },
     "metadata": {},
     "output_type": "display_data"
    },
    {
     "name": "stderr",
     "output_type": "stream",
     "text": [
      "Waiting for profiling to be done...\n",
      "\n"
     ]
    },
    {
     "data": {
      "text/html": [
       "<table class=\"dataframe\">\n",
       "<caption>A matrix: 11 × 3 of type dbl</caption>\n",
       "<thead>\n",
       "\t<tr><th></th><th scope=col>Estimate</th><th scope=col>2.5 %</th><th scope=col>97.5 %</th></tr>\n",
       "</thead>\n",
       "<tbody>\n",
       "\t<tr><th scope=row>(Intercept)</th><td> 3.3120677777</td><td> 3.28814103</td><td> 3.336020350</td></tr>\n",
       "\t<tr><th scope=row>cevd_event</th><td>-0.0365315124</td><td>-0.07384098</td><td> 0.001174627</td></tr>\n",
       "\t<tr><th scope=row>age_levels</th><td>-0.1251205208</td><td>-0.13966140</td><td>-0.110562466</td></tr>\n",
       "\t<tr><th scope=row>male</th><td> 0.4132750558</td><td> 0.40041081</td><td> 0.426145412</td></tr>\n",
       "\t<tr><th scope=row>alc_freq_filter</th><td> 0.0876881527</td><td> 0.07839381</td><td> 0.096982563</td></tr>\n",
       "\t<tr><th scope=row>smok_stat</th><td>-0.0499680545</td><td>-0.06018430</td><td>-0.039735726</td></tr>\n",
       "\t<tr><th scope=row>bmi_filter</th><td> 0.2377551488</td><td> 0.22494157</td><td> 0.250569150</td></tr>\n",
       "\t<tr><th scope=row>full_screen_time_filter</th><td> 0.1662901037</td><td> 0.14980474</td><td> 0.182826194</td></tr>\n",
       "\t<tr><th scope=row>employ_status_array_filter</th><td>-0.0008601708</td><td>-0.01318507</td><td> 0.011480436</td></tr>\n",
       "\t<tr><th scope=row>comorb_sum</th><td>-0.0878033534</td><td>-0.09720641</td><td>-0.078375067</td></tr>\n",
       "\t<tr><th scope=row>gov_assistance_filter</th><td>-0.5475952748</td><td>-0.59142695</td><td>-0.503249942</td></tr>\n",
       "</tbody>\n",
       "</table>\n"
      ],
      "text/latex": [
       "A matrix: 11 × 3 of type dbl\n",
       "\\begin{tabular}{r|lll}\n",
       "  & Estimate & 2.5 \\% & 97.5 \\%\\\\\n",
       "\\hline\n",
       "\t(Intercept) &  3.3120677777 &  3.28814103 &  3.336020350\\\\\n",
       "\tcevd\\_event & -0.0365315124 & -0.07384098 &  0.001174627\\\\\n",
       "\tage\\_levels & -0.1251205208 & -0.13966140 & -0.110562466\\\\\n",
       "\tmale &  0.4132750558 &  0.40041081 &  0.426145412\\\\\n",
       "\talc\\_freq\\_filter &  0.0876881527 &  0.07839381 &  0.096982563\\\\\n",
       "\tsmok\\_stat & -0.0499680545 & -0.06018430 & -0.039735726\\\\\n",
       "\tbmi\\_filter &  0.2377551488 &  0.22494157 &  0.250569150\\\\\n",
       "\tfull\\_screen\\_time\\_filter &  0.1662901037 &  0.14980474 &  0.182826194\\\\\n",
       "\temploy\\_status\\_array\\_filter & -0.0008601708 & -0.01318507 &  0.011480436\\\\\n",
       "\tcomorb\\_sum & -0.0878033534 & -0.09720641 & -0.078375067\\\\\n",
       "\tgov\\_assistance\\_filter & -0.5475952748 & -0.59142695 & -0.503249942\\\\\n",
       "\\end{tabular}\n"
      ],
      "text/markdown": [
       "\n",
       "A matrix: 11 × 3 of type dbl\n",
       "\n",
       "| <!--/--> | Estimate | 2.5 % | 97.5 % |\n",
       "|---|---|---|---|\n",
       "| (Intercept) |  3.3120677777 |  3.28814103 |  3.336020350 |\n",
       "| cevd_event | -0.0365315124 | -0.07384098 |  0.001174627 |\n",
       "| age_levels | -0.1251205208 | -0.13966140 | -0.110562466 |\n",
       "| male |  0.4132750558 |  0.40041081 |  0.426145412 |\n",
       "| alc_freq_filter |  0.0876881527 |  0.07839381 |  0.096982563 |\n",
       "| smok_stat | -0.0499680545 | -0.06018430 | -0.039735726 |\n",
       "| bmi_filter |  0.2377551488 |  0.22494157 |  0.250569150 |\n",
       "| full_screen_time_filter |  0.1662901037 |  0.14980474 |  0.182826194 |\n",
       "| employ_status_array_filter | -0.0008601708 | -0.01318507 |  0.011480436 |\n",
       "| comorb_sum | -0.0878033534 | -0.09720641 | -0.078375067 |\n",
       "| gov_assistance_filter | -0.5475952748 | -0.59142695 | -0.503249942 |\n",
       "\n"
      ],
      "text/plain": [
       "                           Estimate      2.5 %       97.5 %      \n",
       "(Intercept)                 3.3120677777  3.28814103  3.336020350\n",
       "cevd_event                 -0.0365315124 -0.07384098  0.001174627\n",
       "age_levels                 -0.1251205208 -0.13966140 -0.110562466\n",
       "male                        0.4132750558  0.40041081  0.426145412\n",
       "alc_freq_filter             0.0876881527  0.07839381  0.096982563\n",
       "smok_stat                  -0.0499680545 -0.06018430 -0.039735726\n",
       "bmi_filter                  0.2377551488  0.22494157  0.250569150\n",
       "full_screen_time_filter     0.1662901037  0.14980474  0.182826194\n",
       "employ_status_array_filter -0.0008601708 -0.01318507  0.011480436\n",
       "comorb_sum                 -0.0878033534 -0.09720641 -0.078375067\n",
       "gov_assistance_filter      -0.5475952748 -0.59142695 -0.503249942"
      ]
     },
     "metadata": {},
     "output_type": "display_data"
    },
    {
     "data": {
      "text/html": [
       "<table class=\"dataframe\">\n",
       "<caption>A matrix: 11 × 3 of type dbl</caption>\n",
       "<thead>\n",
       "\t<tr><th></th><th scope=col>Estimate</th><th scope=col>2.5 %</th><th scope=col>97.5 %</th></tr>\n",
       "</thead>\n",
       "<tbody>\n",
       "\t<tr><th scope=row>(Intercept)</th><td>27.4418104</td><td>26.7930098</td><td>28.1070476</td></tr>\n",
       "\t<tr><th scope=row>cevd_event</th><td> 0.9641277</td><td> 0.9288194</td><td> 1.0011753</td></tr>\n",
       "\t<tr><th scope=row>age_levels</th><td> 0.8823905</td><td> 0.8696526</td><td> 0.8953304</td></tr>\n",
       "\t<tr><th scope=row>male</th><td> 1.5117608</td><td> 1.4924377</td><td> 1.5313434</td></tr>\n",
       "\t<tr><th scope=row>alc_freq_filter</th><td> 1.0916476</td><td> 1.0815485</td><td> 1.1018412</td></tr>\n",
       "\t<tr><th scope=row>smok_stat</th><td> 0.9512598</td><td> 0.9415910</td><td> 0.9610434</td></tr>\n",
       "\t<tr><th scope=row>bmi_filter</th><td> 1.2683986</td><td> 1.2522495</td><td> 1.2847564</td></tr>\n",
       "\t<tr><th scope=row>full_screen_time_filter</th><td> 1.1809156</td><td> 1.1616074</td><td> 1.2006057</td></tr>\n",
       "\t<tr><th scope=row>employ_status_array_filter</th><td> 0.9991402</td><td> 0.9869015</td><td> 1.0115466</td></tr>\n",
       "\t<tr><th scope=row>comorb_sum</th><td> 0.9159410</td><td> 0.9073687</td><td> 0.9246176</td></tr>\n",
       "\t<tr><th scope=row>gov_assistance_filter</th><td> 0.5783389</td><td> 0.5535369</td><td> 0.6045627</td></tr>\n",
       "</tbody>\n",
       "</table>\n"
      ],
      "text/latex": [
       "A matrix: 11 × 3 of type dbl\n",
       "\\begin{tabular}{r|lll}\n",
       "  & Estimate & 2.5 \\% & 97.5 \\%\\\\\n",
       "\\hline\n",
       "\t(Intercept) & 27.4418104 & 26.7930098 & 28.1070476\\\\\n",
       "\tcevd\\_event &  0.9641277 &  0.9288194 &  1.0011753\\\\\n",
       "\tage\\_levels &  0.8823905 &  0.8696526 &  0.8953304\\\\\n",
       "\tmale &  1.5117608 &  1.4924377 &  1.5313434\\\\\n",
       "\talc\\_freq\\_filter &  1.0916476 &  1.0815485 &  1.1018412\\\\\n",
       "\tsmok\\_stat &  0.9512598 &  0.9415910 &  0.9610434\\\\\n",
       "\tbmi\\_filter &  1.2683986 &  1.2522495 &  1.2847564\\\\\n",
       "\tfull\\_screen\\_time\\_filter &  1.1809156 &  1.1616074 &  1.2006057\\\\\n",
       "\temploy\\_status\\_array\\_filter &  0.9991402 &  0.9869015 &  1.0115466\\\\\n",
       "\tcomorb\\_sum &  0.9159410 &  0.9073687 &  0.9246176\\\\\n",
       "\tgov\\_assistance\\_filter &  0.5783389 &  0.5535369 &  0.6045627\\\\\n",
       "\\end{tabular}\n"
      ],
      "text/markdown": [
       "\n",
       "A matrix: 11 × 3 of type dbl\n",
       "\n",
       "| <!--/--> | Estimate | 2.5 % | 97.5 % |\n",
       "|---|---|---|---|\n",
       "| (Intercept) | 27.4418104 | 26.7930098 | 28.1070476 |\n",
       "| cevd_event |  0.9641277 |  0.9288194 |  1.0011753 |\n",
       "| age_levels |  0.8823905 |  0.8696526 |  0.8953304 |\n",
       "| male |  1.5117608 |  1.4924377 |  1.5313434 |\n",
       "| alc_freq_filter |  1.0916476 |  1.0815485 |  1.1018412 |\n",
       "| smok_stat |  0.9512598 |  0.9415910 |  0.9610434 |\n",
       "| bmi_filter |  1.2683986 |  1.2522495 |  1.2847564 |\n",
       "| full_screen_time_filter |  1.1809156 |  1.1616074 |  1.2006057 |\n",
       "| employ_status_array_filter |  0.9991402 |  0.9869015 |  1.0115466 |\n",
       "| comorb_sum |  0.9159410 |  0.9073687 |  0.9246176 |\n",
       "| gov_assistance_filter |  0.5783389 |  0.5535369 |  0.6045627 |\n",
       "\n"
      ],
      "text/plain": [
       "                           Estimate   2.5 %      97.5 %    \n",
       "(Intercept)                27.4418104 26.7930098 28.1070476\n",
       "cevd_event                  0.9641277  0.9288194  1.0011753\n",
       "age_levels                  0.8823905  0.8696526  0.8953304\n",
       "male                        1.5117608  1.4924377  1.5313434\n",
       "alc_freq_filter             1.0916476  1.0815485  1.1018412\n",
       "smok_stat                   0.9512598  0.9415910  0.9610434\n",
       "bmi_filter                  1.2683986  1.2522495  1.2847564\n",
       "full_screen_time_filter     1.1809156  1.1616074  1.2006057\n",
       "employ_status_array_filter  0.9991402  0.9869015  1.0115466\n",
       "comorb_sum                  0.9159410  0.9073687  0.9246176\n",
       "gov_assistance_filter       0.5783389  0.5535369  0.6045627"
      ]
     },
     "metadata": {},
     "output_type": "display_data"
    }
   ],
   "source": [
    "summary(m1 <- glm.nb(pa_mv_convert ~ cevd_event + age_levels + male + alc_freq_filter + smok_stat + bmi_filter + full_screen_time_filter + employ_status_array_filter + comorb_sum +gov_assistance_filter, data = data_dep_1))\n",
    "(est <- cbind(Estimate = coef(m1), confint(m1)))\n",
    "exp(est)"
   ]
  },
  {
   "cell_type": "code",
   "execution_count": 43,
   "id": "eb2bcb0b-d513-4f64-83b1-0497221c4dd6",
   "metadata": {
    "tags": []
   },
   "outputs": [
    {
     "data": {
      "text/plain": [
       "\n",
       "Call:\n",
       "glm.nb(formula = pa_mv_convert ~ cevd_event + age_levels + male + \n",
       "    alc_freq_filter + smok_stat + bmi_filter + full_screen_time_filter + \n",
       "    employ_status_array_filter + comorb_sum + gov_assistance_filter, \n",
       "    data = data_dep_2, init.theta = 1.50585433, link = log)\n",
       "\n",
       "Coefficients:\n",
       "                            Estimate Std. Error z value Pr(>|z|)    \n",
       "(Intercept)                 3.314356   0.012201 271.656   <2e-16 ***\n",
       "cevd_event                 -0.043058   0.019691  -2.187   0.0288 *  \n",
       "age_levels                 -0.125027   0.007514 -16.640   <2e-16 ***\n",
       "male                        0.413747   0.006567  63.000   <2e-16 ***\n",
       "alc_freq_filter             0.086583   0.004726  18.320   <2e-16 ***\n",
       "smok_stat                  -0.047439   0.005161  -9.192   <2e-16 ***\n",
       "bmi_filter                  0.237085   0.006564  36.120   <2e-16 ***\n",
       "full_screen_time_filter     0.168296   0.008463  19.887   <2e-16 ***\n",
       "employ_status_array_filter -0.002282   0.006425  -0.355   0.7224    \n",
       "comorb_sum                 -0.086340   0.004836 -17.855   <2e-16 ***\n",
       "gov_assistance_filter      -0.538711   0.023245 -23.175   <2e-16 ***\n",
       "---\n",
       "Signif. codes:  0 ‘***’ 0.001 ‘**’ 0.01 ‘*’ 0.05 ‘.’ 0.1 ‘ ’ 1\n",
       "\n",
       "(Dispersion parameter for Negative Binomial(1.5059) family taken to be 1)\n",
       "\n",
       "    Null deviance: 86261  on 69510  degrees of freedom\n",
       "Residual deviance: 78780  on 69500  degrees of freedom\n",
       "  (1 observation deleted due to missingness)\n",
       "AIC: 649190\n",
       "\n",
       "Number of Fisher Scoring iterations: 1\n",
       "\n",
       "\n",
       "              Theta:  1.50585 \n",
       "          Std. Err.:  0.00809 \n",
       "\n",
       " 2 x log-likelihood:  -649165.97900 "
      ]
     },
     "metadata": {},
     "output_type": "display_data"
    },
    {
     "name": "stderr",
     "output_type": "stream",
     "text": [
      "Waiting for profiling to be done...\n",
      "\n"
     ]
    },
    {
     "data": {
      "text/html": [
       "<table class=\"dataframe\">\n",
       "<caption>A matrix: 11 × 3 of type dbl</caption>\n",
       "<thead>\n",
       "\t<tr><th></th><th scope=col>Estimate</th><th scope=col>2.5 %</th><th scope=col>97.5 %</th></tr>\n",
       "</thead>\n",
       "<tbody>\n",
       "\t<tr><th scope=row>(Intercept)</th><td> 3.314356360</td><td> 3.29029490</td><td> 3.338444052</td></tr>\n",
       "\t<tr><th scope=row>cevd_event</th><td>-0.043058327</td><td>-0.08142941</td><td>-0.004266411</td></tr>\n",
       "\t<tr><th scope=row>age_levels</th><td>-0.125027054</td><td>-0.13965807</td><td>-0.110378579</td></tr>\n",
       "\t<tr><th scope=row>male</th><td> 0.413747040</td><td> 0.40081406</td><td> 0.426686072</td></tr>\n",
       "\t<tr><th scope=row>alc_freq_filter</th><td> 0.086582508</td><td> 0.07723484</td><td> 0.095930277</td></tr>\n",
       "\t<tr><th scope=row>smok_stat</th><td>-0.047439302</td><td>-0.05772339</td><td>-0.037138806</td></tr>\n",
       "\t<tr><th scope=row>bmi_filter</th><td> 0.237085496</td><td> 0.22419772</td><td> 0.249973580</td></tr>\n",
       "\t<tr><th scope=row>full_screen_time_filter</th><td> 0.168296003</td><td> 0.15173716</td><td> 0.184905884</td></tr>\n",
       "\t<tr><th scope=row>employ_status_array_filter</th><td>-0.002282073</td><td>-0.01467615</td><td> 0.010127774</td></tr>\n",
       "\t<tr><th scope=row>comorb_sum</th><td>-0.086340379</td><td>-0.09581513</td><td>-0.076839894</td></tr>\n",
       "\t<tr><th scope=row>gov_assistance_filter</th><td>-0.538710688</td><td>-0.58389514</td><td>-0.492976152</td></tr>\n",
       "</tbody>\n",
       "</table>\n"
      ],
      "text/latex": [
       "A matrix: 11 × 3 of type dbl\n",
       "\\begin{tabular}{r|lll}\n",
       "  & Estimate & 2.5 \\% & 97.5 \\%\\\\\n",
       "\\hline\n",
       "\t(Intercept) &  3.314356360 &  3.29029490 &  3.338444052\\\\\n",
       "\tcevd\\_event & -0.043058327 & -0.08142941 & -0.004266411\\\\\n",
       "\tage\\_levels & -0.125027054 & -0.13965807 & -0.110378579\\\\\n",
       "\tmale &  0.413747040 &  0.40081406 &  0.426686072\\\\\n",
       "\talc\\_freq\\_filter &  0.086582508 &  0.07723484 &  0.095930277\\\\\n",
       "\tsmok\\_stat & -0.047439302 & -0.05772339 & -0.037138806\\\\\n",
       "\tbmi\\_filter &  0.237085496 &  0.22419772 &  0.249973580\\\\\n",
       "\tfull\\_screen\\_time\\_filter &  0.168296003 &  0.15173716 &  0.184905884\\\\\n",
       "\temploy\\_status\\_array\\_filter & -0.002282073 & -0.01467615 &  0.010127774\\\\\n",
       "\tcomorb\\_sum & -0.086340379 & -0.09581513 & -0.076839894\\\\\n",
       "\tgov\\_assistance\\_filter & -0.538710688 & -0.58389514 & -0.492976152\\\\\n",
       "\\end{tabular}\n"
      ],
      "text/markdown": [
       "\n",
       "A matrix: 11 × 3 of type dbl\n",
       "\n",
       "| <!--/--> | Estimate | 2.5 % | 97.5 % |\n",
       "|---|---|---|---|\n",
       "| (Intercept) |  3.314356360 |  3.29029490 |  3.338444052 |\n",
       "| cevd_event | -0.043058327 | -0.08142941 | -0.004266411 |\n",
       "| age_levels | -0.125027054 | -0.13965807 | -0.110378579 |\n",
       "| male |  0.413747040 |  0.40081406 |  0.426686072 |\n",
       "| alc_freq_filter |  0.086582508 |  0.07723484 |  0.095930277 |\n",
       "| smok_stat | -0.047439302 | -0.05772339 | -0.037138806 |\n",
       "| bmi_filter |  0.237085496 |  0.22419772 |  0.249973580 |\n",
       "| full_screen_time_filter |  0.168296003 |  0.15173716 |  0.184905884 |\n",
       "| employ_status_array_filter | -0.002282073 | -0.01467615 |  0.010127774 |\n",
       "| comorb_sum | -0.086340379 | -0.09581513 | -0.076839894 |\n",
       "| gov_assistance_filter | -0.538710688 | -0.58389514 | -0.492976152 |\n",
       "\n"
      ],
      "text/plain": [
       "                           Estimate     2.5 %       97.5 %      \n",
       "(Intercept)                 3.314356360  3.29029490  3.338444052\n",
       "cevd_event                 -0.043058327 -0.08142941 -0.004266411\n",
       "age_levels                 -0.125027054 -0.13965807 -0.110378579\n",
       "male                        0.413747040  0.40081406  0.426686072\n",
       "alc_freq_filter             0.086582508  0.07723484  0.095930277\n",
       "smok_stat                  -0.047439302 -0.05772339 -0.037138806\n",
       "bmi_filter                  0.237085496  0.22419772  0.249973580\n",
       "full_screen_time_filter     0.168296003  0.15173716  0.184905884\n",
       "employ_status_array_filter -0.002282073 -0.01467615  0.010127774\n",
       "comorb_sum                 -0.086340379 -0.09581513 -0.076839894\n",
       "gov_assistance_filter      -0.538710688 -0.58389514 -0.492976152"
      ]
     },
     "metadata": {},
     "output_type": "display_data"
    },
    {
     "data": {
      "text/html": [
       "<table class=\"dataframe\">\n",
       "<caption>A matrix: 11 × 3 of type dbl</caption>\n",
       "<thead>\n",
       "\t<tr><th></th><th scope=col>Estimate</th><th scope=col>2.5 %</th><th scope=col>97.5 %</th></tr>\n",
       "</thead>\n",
       "<tbody>\n",
       "\t<tr><th scope=row>(Intercept)</th><td>27.5046852</td><td>26.8507809</td><td>28.1752533</td></tr>\n",
       "\t<tr><th scope=row>cevd_event</th><td> 0.9578555</td><td> 0.9217978</td><td> 0.9957427</td></tr>\n",
       "\t<tr><th scope=row>age_levels</th><td> 0.8824730</td><td> 0.8696555</td><td> 0.8954951</td></tr>\n",
       "\t<tr><th scope=row>male</th><td> 1.5124745</td><td> 1.4930396</td><td> 1.5321716</td></tr>\n",
       "\t<tr><th scope=row>alc_freq_filter</th><td> 1.0904413</td><td> 1.0802957</td><td> 1.1006823</td></tr>\n",
       "\t<tr><th scope=row>smok_stat</th><td> 0.9536684</td><td> 0.9439110</td><td> 0.9635424</td></tr>\n",
       "\t<tr><th scope=row>bmi_filter</th><td> 1.2675495</td><td> 1.2513184</td><td> 1.2839915</td></tr>\n",
       "\t<tr><th scope=row>full_screen_time_filter</th><td> 1.1832868</td><td> 1.1638543</td><td> 1.2031052</td></tr>\n",
       "\t<tr><th scope=row>employ_status_array_filter</th><td> 0.9977205</td><td> 0.9854310</td><td> 1.0101792</td></tr>\n",
       "\t<tr><th scope=row>comorb_sum</th><td> 0.9172820</td><td> 0.9086320</td><td> 0.9260381</td></tr>\n",
       "\t<tr><th scope=row>gov_assistance_filter</th><td> 0.5835001</td><td> 0.5577217</td><td> 0.6108058</td></tr>\n",
       "</tbody>\n",
       "</table>\n"
      ],
      "text/latex": [
       "A matrix: 11 × 3 of type dbl\n",
       "\\begin{tabular}{r|lll}\n",
       "  & Estimate & 2.5 \\% & 97.5 \\%\\\\\n",
       "\\hline\n",
       "\t(Intercept) & 27.5046852 & 26.8507809 & 28.1752533\\\\\n",
       "\tcevd\\_event &  0.9578555 &  0.9217978 &  0.9957427\\\\\n",
       "\tage\\_levels &  0.8824730 &  0.8696555 &  0.8954951\\\\\n",
       "\tmale &  1.5124745 &  1.4930396 &  1.5321716\\\\\n",
       "\talc\\_freq\\_filter &  1.0904413 &  1.0802957 &  1.1006823\\\\\n",
       "\tsmok\\_stat &  0.9536684 &  0.9439110 &  0.9635424\\\\\n",
       "\tbmi\\_filter &  1.2675495 &  1.2513184 &  1.2839915\\\\\n",
       "\tfull\\_screen\\_time\\_filter &  1.1832868 &  1.1638543 &  1.2031052\\\\\n",
       "\temploy\\_status\\_array\\_filter &  0.9977205 &  0.9854310 &  1.0101792\\\\\n",
       "\tcomorb\\_sum &  0.9172820 &  0.9086320 &  0.9260381\\\\\n",
       "\tgov\\_assistance\\_filter &  0.5835001 &  0.5577217 &  0.6108058\\\\\n",
       "\\end{tabular}\n"
      ],
      "text/markdown": [
       "\n",
       "A matrix: 11 × 3 of type dbl\n",
       "\n",
       "| <!--/--> | Estimate | 2.5 % | 97.5 % |\n",
       "|---|---|---|---|\n",
       "| (Intercept) | 27.5046852 | 26.8507809 | 28.1752533 |\n",
       "| cevd_event |  0.9578555 |  0.9217978 |  0.9957427 |\n",
       "| age_levels |  0.8824730 |  0.8696555 |  0.8954951 |\n",
       "| male |  1.5124745 |  1.4930396 |  1.5321716 |\n",
       "| alc_freq_filter |  1.0904413 |  1.0802957 |  1.1006823 |\n",
       "| smok_stat |  0.9536684 |  0.9439110 |  0.9635424 |\n",
       "| bmi_filter |  1.2675495 |  1.2513184 |  1.2839915 |\n",
       "| full_screen_time_filter |  1.1832868 |  1.1638543 |  1.2031052 |\n",
       "| employ_status_array_filter |  0.9977205 |  0.9854310 |  1.0101792 |\n",
       "| comorb_sum |  0.9172820 |  0.9086320 |  0.9260381 |\n",
       "| gov_assistance_filter |  0.5835001 |  0.5577217 |  0.6108058 |\n",
       "\n"
      ],
      "text/plain": [
       "                           Estimate   2.5 %      97.5 %    \n",
       "(Intercept)                27.5046852 26.8507809 28.1752533\n",
       "cevd_event                  0.9578555  0.9217978  0.9957427\n",
       "age_levels                  0.8824730  0.8696555  0.8954951\n",
       "male                        1.5124745  1.4930396  1.5321716\n",
       "alc_freq_filter             1.0904413  1.0802957  1.1006823\n",
       "smok_stat                   0.9536684  0.9439110  0.9635424\n",
       "bmi_filter                  1.2675495  1.2513184  1.2839915\n",
       "full_screen_time_filter     1.1832868  1.1638543  1.2031052\n",
       "employ_status_array_filter  0.9977205  0.9854310  1.0101792\n",
       "comorb_sum                  0.9172820  0.9086320  0.9260381\n",
       "gov_assistance_filter       0.5835001  0.5577217  0.6108058"
      ]
     },
     "metadata": {},
     "output_type": "display_data"
    }
   ],
   "source": [
    "summary(m1 <- glm.nb(pa_mv_convert ~ cevd_event + age_levels + male + alc_freq_filter + smok_stat + bmi_filter + full_screen_time_filter + employ_status_array_filter + comorb_sum +gov_assistance_filter, data = data_dep_2))\n",
    "(est <- cbind(Estimate = coef(m1), confint(m1)))\n",
    "exp(est)"
   ]
  },
  {
   "cell_type": "code",
   "execution_count": 44,
   "id": "cf4131fe-1491-4b15-bd1f-1c231d41937f",
   "metadata": {
    "tags": []
   },
   "outputs": [
    {
     "data": {
      "text/plain": [
       "\n",
       "Call:\n",
       "glm.nb(formula = pa_mv_convert ~ cevd_event + age_levels + male + \n",
       "    alc_freq_filter + smok_stat + bmi_filter + full_screen_time_filter + \n",
       "    employ_status_array_filter + comorb_sum + gov_assistance_filter, \n",
       "    data = data_dep_3, init.theta = 1.487159825, link = log)\n",
       "\n",
       "Coefficients:\n",
       "                            Estimate Std. Error z value Pr(>|z|)    \n",
       "(Intercept)                 3.299616   0.011946 276.209   <2e-16 ***\n",
       "cevd_event                 -0.041487   0.019360  -2.143   0.0321 *  \n",
       "age_levels                 -0.123469   0.007371 -16.751   <2e-16 ***\n",
       "male                        0.414817   0.006466  64.158   <2e-16 ***\n",
       "alc_freq_filter             0.090608   0.004637  19.541   <2e-16 ***\n",
       "smok_stat                  -0.047657   0.005054  -9.429   <2e-16 ***\n",
       "bmi_filter                  0.240126   0.006457  37.186   <2e-16 ***\n",
       "full_screen_time_filter     0.166495   0.008319  20.014   <2e-16 ***\n",
       "employ_status_array_filter  0.001008   0.006280   0.160   0.8725    \n",
       "comorb_sum                 -0.087984   0.004745 -18.541   <2e-16 ***\n",
       "gov_assistance_filter      -0.506286   0.021447 -23.607   <2e-16 ***\n",
       "---\n",
       "Signif. codes:  0 ‘***’ 0.001 ‘**’ 0.01 ‘*’ 0.05 ‘.’ 0.1 ‘ ’ 1\n",
       "\n",
       "(Dispersion parameter for Negative Binomial(1.4872) family taken to be 1)\n",
       "\n",
       "    Null deviance: 90455  on 72727  degrees of freedom\n",
       "Residual deviance: 82550  on 72717  degrees of freedom\n",
       "  (1 observation deleted due to missingness)\n",
       "AIC: 678507\n",
       "\n",
       "Number of Fisher Scoring iterations: 1\n",
       "\n",
       "\n",
       "              Theta:  1.48716 \n",
       "          Std. Err.:  0.00781 \n",
       "\n",
       " 2 x log-likelihood:  -678482.56300 "
      ]
     },
     "metadata": {},
     "output_type": "display_data"
    },
    {
     "name": "stderr",
     "output_type": "stream",
     "text": [
      "Waiting for profiling to be done...\n",
      "\n"
     ]
    },
    {
     "data": {
      "text/html": [
       "<table class=\"dataframe\">\n",
       "<caption>A matrix: 11 × 3 of type dbl</caption>\n",
       "<thead>\n",
       "\t<tr><th></th><th scope=col>Estimate</th><th scope=col>2.5 %</th><th scope=col>97.5 %</th></tr>\n",
       "</thead>\n",
       "<tbody>\n",
       "\t<tr><th scope=row>(Intercept)</th><td> 3.299616176</td><td> 3.27608133</td><td> 3.32317644</td></tr>\n",
       "\t<tr><th scope=row>cevd_event</th><td>-0.041486826</td><td>-0.07921154</td><td>-0.00335507</td></tr>\n",
       "\t<tr><th scope=row>age_levels</th><td>-0.123468928</td><td>-0.13782907</td><td>-0.10909202</td></tr>\n",
       "\t<tr><th scope=row>male</th><td> 0.414817075</td><td> 0.40208617</td><td> 0.42755437</td></tr>\n",
       "\t<tr><th scope=row>alc_freq_filter</th><td> 0.090607802</td><td> 0.08144281</td><td> 0.09977295</td></tr>\n",
       "\t<tr><th scope=row>smok_stat</th><td>-0.047657021</td><td>-0.05773483</td><td>-0.03756361</td></tr>\n",
       "\t<tr><th scope=row>bmi_filter</th><td> 0.240125594</td><td> 0.22744966</td><td> 0.25280206</td></tr>\n",
       "\t<tr><th scope=row>full_screen_time_filter</th><td> 0.166495122</td><td> 0.15021561</td><td> 0.18282398</td></tr>\n",
       "\t<tr><th scope=row>employ_status_array_filter</th><td> 0.001007836</td><td>-0.01111005</td><td> 0.01314081</td></tr>\n",
       "\t<tr><th scope=row>comorb_sum</th><td>-0.087984011</td><td>-0.09727575</td><td>-0.07866765</td></tr>\n",
       "\t<tr><th scope=row>gov_assistance_filter</th><td>-0.506286012</td><td>-0.54797410</td><td>-0.46413433</td></tr>\n",
       "</tbody>\n",
       "</table>\n"
      ],
      "text/latex": [
       "A matrix: 11 × 3 of type dbl\n",
       "\\begin{tabular}{r|lll}\n",
       "  & Estimate & 2.5 \\% & 97.5 \\%\\\\\n",
       "\\hline\n",
       "\t(Intercept) &  3.299616176 &  3.27608133 &  3.32317644\\\\\n",
       "\tcevd\\_event & -0.041486826 & -0.07921154 & -0.00335507\\\\\n",
       "\tage\\_levels & -0.123468928 & -0.13782907 & -0.10909202\\\\\n",
       "\tmale &  0.414817075 &  0.40208617 &  0.42755437\\\\\n",
       "\talc\\_freq\\_filter &  0.090607802 &  0.08144281 &  0.09977295\\\\\n",
       "\tsmok\\_stat & -0.047657021 & -0.05773483 & -0.03756361\\\\\n",
       "\tbmi\\_filter &  0.240125594 &  0.22744966 &  0.25280206\\\\\n",
       "\tfull\\_screen\\_time\\_filter &  0.166495122 &  0.15021561 &  0.18282398\\\\\n",
       "\temploy\\_status\\_array\\_filter &  0.001007836 & -0.01111005 &  0.01314081\\\\\n",
       "\tcomorb\\_sum & -0.087984011 & -0.09727575 & -0.07866765\\\\\n",
       "\tgov\\_assistance\\_filter & -0.506286012 & -0.54797410 & -0.46413433\\\\\n",
       "\\end{tabular}\n"
      ],
      "text/markdown": [
       "\n",
       "A matrix: 11 × 3 of type dbl\n",
       "\n",
       "| <!--/--> | Estimate | 2.5 % | 97.5 % |\n",
       "|---|---|---|---|\n",
       "| (Intercept) |  3.299616176 |  3.27608133 |  3.32317644 |\n",
       "| cevd_event | -0.041486826 | -0.07921154 | -0.00335507 |\n",
       "| age_levels | -0.123468928 | -0.13782907 | -0.10909202 |\n",
       "| male |  0.414817075 |  0.40208617 |  0.42755437 |\n",
       "| alc_freq_filter |  0.090607802 |  0.08144281 |  0.09977295 |\n",
       "| smok_stat | -0.047657021 | -0.05773483 | -0.03756361 |\n",
       "| bmi_filter |  0.240125594 |  0.22744966 |  0.25280206 |\n",
       "| full_screen_time_filter |  0.166495122 |  0.15021561 |  0.18282398 |\n",
       "| employ_status_array_filter |  0.001007836 | -0.01111005 |  0.01314081 |\n",
       "| comorb_sum | -0.087984011 | -0.09727575 | -0.07866765 |\n",
       "| gov_assistance_filter | -0.506286012 | -0.54797410 | -0.46413433 |\n",
       "\n"
      ],
      "text/plain": [
       "                           Estimate     2.5 %       97.5 %     \n",
       "(Intercept)                 3.299616176  3.27608133  3.32317644\n",
       "cevd_event                 -0.041486826 -0.07921154 -0.00335507\n",
       "age_levels                 -0.123468928 -0.13782907 -0.10909202\n",
       "male                        0.414817075  0.40208617  0.42755437\n",
       "alc_freq_filter             0.090607802  0.08144281  0.09977295\n",
       "smok_stat                  -0.047657021 -0.05773483 -0.03756361\n",
       "bmi_filter                  0.240125594  0.22744966  0.25280206\n",
       "full_screen_time_filter     0.166495122  0.15021561  0.18282398\n",
       "employ_status_array_filter  0.001007836 -0.01111005  0.01314081\n",
       "comorb_sum                 -0.087984011 -0.09727575 -0.07866765\n",
       "gov_assistance_filter      -0.506286012 -0.54797410 -0.46413433"
      ]
     },
     "metadata": {},
     "output_type": "display_data"
    },
    {
     "data": {
      "text/html": [
       "<table class=\"dataframe\">\n",
       "<caption>A matrix: 11 × 3 of type dbl</caption>\n",
       "<thead>\n",
       "\t<tr><th></th><th scope=col>Estimate</th><th scope=col>2.5 %</th><th scope=col>97.5 %</th></tr>\n",
       "</thead>\n",
       "<tbody>\n",
       "\t<tr><th scope=row>(Intercept)</th><td>27.1022344</td><td>26.4718348</td><td>27.7483518</td></tr>\n",
       "\t<tr><th scope=row>cevd_event</th><td> 0.9593620</td><td> 0.9238445</td><td> 0.9966506</td></tr>\n",
       "\t<tr><th scope=row>age_levels</th><td> 0.8838491</td><td> 0.8712476</td><td> 0.8966479</td></tr>\n",
       "\t<tr><th scope=row>male</th><td> 1.5140938</td><td> 1.4949401</td><td> 1.5335026</td></tr>\n",
       "\t<tr><th scope=row>alc_freq_filter</th><td> 1.0948395</td><td> 1.0848512</td><td> 1.1049200</td></tr>\n",
       "\t<tr><th scope=row>smok_stat</th><td> 0.9534607</td><td> 0.9439002</td><td> 0.9631332</td></tr>\n",
       "\t<tr><th scope=row>bmi_filter</th><td> 1.2714088</td><td> 1.2553942</td><td> 1.2876284</td></tr>\n",
       "\t<tr><th scope=row>full_screen_time_filter</th><td> 1.1811578</td><td> 1.1620848</td><td> 1.2006031</td></tr>\n",
       "\t<tr><th scope=row>employ_status_array_filter</th><td> 1.0010083</td><td> 0.9889514</td><td> 1.0132275</td></tr>\n",
       "\t<tr><th scope=row>comorb_sum</th><td> 0.9157755</td><td> 0.9073058</td><td> 0.9243471</td></tr>\n",
       "\t<tr><th scope=row>gov_assistance_filter</th><td> 0.6027300</td><td> 0.5781198</td><td> 0.6286791</td></tr>\n",
       "</tbody>\n",
       "</table>\n"
      ],
      "text/latex": [
       "A matrix: 11 × 3 of type dbl\n",
       "\\begin{tabular}{r|lll}\n",
       "  & Estimate & 2.5 \\% & 97.5 \\%\\\\\n",
       "\\hline\n",
       "\t(Intercept) & 27.1022344 & 26.4718348 & 27.7483518\\\\\n",
       "\tcevd\\_event &  0.9593620 &  0.9238445 &  0.9966506\\\\\n",
       "\tage\\_levels &  0.8838491 &  0.8712476 &  0.8966479\\\\\n",
       "\tmale &  1.5140938 &  1.4949401 &  1.5335026\\\\\n",
       "\talc\\_freq\\_filter &  1.0948395 &  1.0848512 &  1.1049200\\\\\n",
       "\tsmok\\_stat &  0.9534607 &  0.9439002 &  0.9631332\\\\\n",
       "\tbmi\\_filter &  1.2714088 &  1.2553942 &  1.2876284\\\\\n",
       "\tfull\\_screen\\_time\\_filter &  1.1811578 &  1.1620848 &  1.2006031\\\\\n",
       "\temploy\\_status\\_array\\_filter &  1.0010083 &  0.9889514 &  1.0132275\\\\\n",
       "\tcomorb\\_sum &  0.9157755 &  0.9073058 &  0.9243471\\\\\n",
       "\tgov\\_assistance\\_filter &  0.6027300 &  0.5781198 &  0.6286791\\\\\n",
       "\\end{tabular}\n"
      ],
      "text/markdown": [
       "\n",
       "A matrix: 11 × 3 of type dbl\n",
       "\n",
       "| <!--/--> | Estimate | 2.5 % | 97.5 % |\n",
       "|---|---|---|---|\n",
       "| (Intercept) | 27.1022344 | 26.4718348 | 27.7483518 |\n",
       "| cevd_event |  0.9593620 |  0.9238445 |  0.9966506 |\n",
       "| age_levels |  0.8838491 |  0.8712476 |  0.8966479 |\n",
       "| male |  1.5140938 |  1.4949401 |  1.5335026 |\n",
       "| alc_freq_filter |  1.0948395 |  1.0848512 |  1.1049200 |\n",
       "| smok_stat |  0.9534607 |  0.9439002 |  0.9631332 |\n",
       "| bmi_filter |  1.2714088 |  1.2553942 |  1.2876284 |\n",
       "| full_screen_time_filter |  1.1811578 |  1.1620848 |  1.2006031 |\n",
       "| employ_status_array_filter |  1.0010083 |  0.9889514 |  1.0132275 |\n",
       "| comorb_sum |  0.9157755 |  0.9073058 |  0.9243471 |\n",
       "| gov_assistance_filter |  0.6027300 |  0.5781198 |  0.6286791 |\n",
       "\n"
      ],
      "text/plain": [
       "                           Estimate   2.5 %      97.5 %    \n",
       "(Intercept)                27.1022344 26.4718348 27.7483518\n",
       "cevd_event                  0.9593620  0.9238445  0.9966506\n",
       "age_levels                  0.8838491  0.8712476  0.8966479\n",
       "male                        1.5140938  1.4949401  1.5335026\n",
       "alc_freq_filter             1.0948395  1.0848512  1.1049200\n",
       "smok_stat                   0.9534607  0.9439002  0.9631332\n",
       "bmi_filter                  1.2714088  1.2553942  1.2876284\n",
       "full_screen_time_filter     1.1811578  1.1620848  1.2006031\n",
       "employ_status_array_filter  1.0010083  0.9889514  1.0132275\n",
       "comorb_sum                  0.9157755  0.9073058  0.9243471\n",
       "gov_assistance_filter       0.6027300  0.5781198  0.6286791"
      ]
     },
     "metadata": {},
     "output_type": "display_data"
    }
   ],
   "source": [
    "summary(m1 <- glm.nb(pa_mv_convert ~ cevd_event + age_levels + male + alc_freq_filter + smok_stat + bmi_filter + full_screen_time_filter + employ_status_array_filter + comorb_sum +gov_assistance_filter, data = data_dep_3))\n",
    "(est <- cbind(Estimate = coef(m1), confint(m1)))\n",
    "exp(est)"
   ]
  },
  {
   "cell_type": "code",
   "execution_count": 45,
   "id": "0a0da53c-d79b-4554-9bd3-c8c249c4d027",
   "metadata": {
    "tags": []
   },
   "outputs": [
    {
     "data": {
      "text/plain": [
       "\n",
       "Call:\n",
       "glm.nb(formula = pa_light_convert ~ cevd_event + age_levels + \n",
       "    male + alc_freq_filter + smok_stat + bmi_filter + full_screen_time_filter + \n",
       "    employ_status_array_filter + comorb_sum + gov_assistance_filter, \n",
       "    data = data_dep_1, init.theta = 10.21329277, link = log)\n",
       "\n",
       "Coefficients:\n",
       "                            Estimate Std. Error  z value Pr(>|z|)    \n",
       "(Intercept)                 5.764304   0.004627 1245.900   <2e-16 ***\n",
       "cevd_event                 -0.005620   0.007304   -0.769   0.4416    \n",
       "age_levels                  0.005088   0.002851    1.784   0.0743 .  \n",
       "male                       -0.146641   0.002498  -58.706   <2e-16 ***\n",
       "alc_freq_filter            -0.002174   0.001794   -1.211   0.2257    \n",
       "smok_stat                   0.004485   0.001957    2.292   0.0219 *  \n",
       "bmi_filter                  0.048221   0.002493   19.341   <2e-16 ***\n",
       "full_screen_time_filter     0.059298   0.003223   18.399   <2e-16 ***\n",
       "employ_status_array_filter -0.004628   0.002437   -1.899   0.0576 .  \n",
       "comorb_sum                 -0.017968   0.001830   -9.820   <2e-16 ***\n",
       "gov_assistance_filter      -0.093840   0.008473  -11.076   <2e-16 ***\n",
       "---\n",
       "Signif. codes:  0 ‘***’ 0.001 ‘**’ 0.01 ‘*’ 0.05 ‘.’ 0.1 ‘ ’ 1\n",
       "\n",
       "(Dispersion parameter for Negative Binomial(10.2133) family taken to be 1)\n",
       "\n",
       "    Null deviance: 77625  on 70634  degrees of freedom\n",
       "Residual deviance: 72047  on 70624  degrees of freedom\n",
       "  (1 observation deleted due to missingness)\n",
       "AIC: 842412\n",
       "\n",
       "Number of Fisher Scoring iterations: 1\n",
       "\n",
       "\n",
       "              Theta:  10.2133 \n",
       "          Std. Err.:  0.0556 \n",
       "\n",
       " 2 x log-likelihood:  -842388.4120 "
      ]
     },
     "metadata": {},
     "output_type": "display_data"
    },
    {
     "name": "stderr",
     "output_type": "stream",
     "text": [
      "Waiting for profiling to be done...\n",
      "\n"
     ]
    },
    {
     "data": {
      "text/html": [
       "<table class=\"dataframe\">\n",
       "<caption>A matrix: 11 × 3 of type dbl</caption>\n",
       "<thead>\n",
       "\t<tr><th></th><th scope=col>Estimate</th><th scope=col>2.5 %</th><th scope=col>97.5 %</th></tr>\n",
       "</thead>\n",
       "<tbody>\n",
       "\t<tr><th scope=row>(Intercept)</th><td> 5.764303951</td><td> 5.7552707032</td><td> 5.7733410533</td></tr>\n",
       "\t<tr><th scope=row>cevd_event</th><td>-0.005620287</td><td>-0.0199000839</td><td> 0.0087180611</td></tr>\n",
       "\t<tr><th scope=row>age_levels</th><td> 0.005087661</td><td>-0.0004781917</td><td> 0.0106560713</td></tr>\n",
       "\t<tr><th scope=row>male</th><td>-0.146640915</td><td>-0.1515430467</td><td>-0.1417379201</td></tr>\n",
       "\t<tr><th scope=row>alc_freq_filter</th><td>-0.002173812</td><td>-0.0056882913</td><td> 0.0013406619</td></tr>\n",
       "\t<tr><th scope=row>smok_stat</th><td> 0.004484662</td><td> 0.0006370218</td><td> 0.0083347568</td></tr>\n",
       "\t<tr><th scope=row>bmi_filter</th><td> 0.048220576</td><td> 0.0433357880</td><td> 0.0531054103</td></tr>\n",
       "\t<tr><th scope=row>full_screen_time_filter</th><td> 0.059298434</td><td> 0.0529926090</td><td> 0.0656117292</td></tr>\n",
       "\t<tr><th scope=row>employ_status_array_filter</th><td>-0.004627694</td><td>-0.0093566370</td><td> 0.0001036373</td></tr>\n",
       "\t<tr><th scope=row>comorb_sum</th><td>-0.017967637</td><td>-0.0215500344</td><td>-0.0143814479</td></tr>\n",
       "\t<tr><th scope=row>gov_assistance_filter</th><td>-0.093839900</td><td>-0.1103935677</td><td>-0.0772081275</td></tr>\n",
       "</tbody>\n",
       "</table>\n"
      ],
      "text/latex": [
       "A matrix: 11 × 3 of type dbl\n",
       "\\begin{tabular}{r|lll}\n",
       "  & Estimate & 2.5 \\% & 97.5 \\%\\\\\n",
       "\\hline\n",
       "\t(Intercept) &  5.764303951 &  5.7552707032 &  5.7733410533\\\\\n",
       "\tcevd\\_event & -0.005620287 & -0.0199000839 &  0.0087180611\\\\\n",
       "\tage\\_levels &  0.005087661 & -0.0004781917 &  0.0106560713\\\\\n",
       "\tmale & -0.146640915 & -0.1515430467 & -0.1417379201\\\\\n",
       "\talc\\_freq\\_filter & -0.002173812 & -0.0056882913 &  0.0013406619\\\\\n",
       "\tsmok\\_stat &  0.004484662 &  0.0006370218 &  0.0083347568\\\\\n",
       "\tbmi\\_filter &  0.048220576 &  0.0433357880 &  0.0531054103\\\\\n",
       "\tfull\\_screen\\_time\\_filter &  0.059298434 &  0.0529926090 &  0.0656117292\\\\\n",
       "\temploy\\_status\\_array\\_filter & -0.004627694 & -0.0093566370 &  0.0001036373\\\\\n",
       "\tcomorb\\_sum & -0.017967637 & -0.0215500344 & -0.0143814479\\\\\n",
       "\tgov\\_assistance\\_filter & -0.093839900 & -0.1103935677 & -0.0772081275\\\\\n",
       "\\end{tabular}\n"
      ],
      "text/markdown": [
       "\n",
       "A matrix: 11 × 3 of type dbl\n",
       "\n",
       "| <!--/--> | Estimate | 2.5 % | 97.5 % |\n",
       "|---|---|---|---|\n",
       "| (Intercept) |  5.764303951 |  5.7552707032 |  5.7733410533 |\n",
       "| cevd_event | -0.005620287 | -0.0199000839 |  0.0087180611 |\n",
       "| age_levels |  0.005087661 | -0.0004781917 |  0.0106560713 |\n",
       "| male | -0.146640915 | -0.1515430467 | -0.1417379201 |\n",
       "| alc_freq_filter | -0.002173812 | -0.0056882913 |  0.0013406619 |\n",
       "| smok_stat |  0.004484662 |  0.0006370218 |  0.0083347568 |\n",
       "| bmi_filter |  0.048220576 |  0.0433357880 |  0.0531054103 |\n",
       "| full_screen_time_filter |  0.059298434 |  0.0529926090 |  0.0656117292 |\n",
       "| employ_status_array_filter | -0.004627694 | -0.0093566370 |  0.0001036373 |\n",
       "| comorb_sum | -0.017967637 | -0.0215500344 | -0.0143814479 |\n",
       "| gov_assistance_filter | -0.093839900 | -0.1103935677 | -0.0772081275 |\n",
       "\n"
      ],
      "text/plain": [
       "                           Estimate     2.5 %         97.5 %       \n",
       "(Intercept)                 5.764303951  5.7552707032  5.7733410533\n",
       "cevd_event                 -0.005620287 -0.0199000839  0.0087180611\n",
       "age_levels                  0.005087661 -0.0004781917  0.0106560713\n",
       "male                       -0.146640915 -0.1515430467 -0.1417379201\n",
       "alc_freq_filter            -0.002173812 -0.0056882913  0.0013406619\n",
       "smok_stat                   0.004484662  0.0006370218  0.0083347568\n",
       "bmi_filter                  0.048220576  0.0433357880  0.0531054103\n",
       "full_screen_time_filter     0.059298434  0.0529926090  0.0656117292\n",
       "employ_status_array_filter -0.004627694 -0.0093566370  0.0001036373\n",
       "comorb_sum                 -0.017967637 -0.0215500344 -0.0143814479\n",
       "gov_assistance_filter      -0.093839900 -0.1103935677 -0.0772081275"
      ]
     },
     "metadata": {},
     "output_type": "display_data"
    },
    {
     "data": {
      "text/html": [
       "<table class=\"dataframe\">\n",
       "<caption>A matrix: 11 × 3 of type dbl</caption>\n",
       "<thead>\n",
       "\t<tr><th></th><th scope=col>Estimate</th><th scope=col>2.5 %</th><th scope=col>97.5 %</th></tr>\n",
       "</thead>\n",
       "<tbody>\n",
       "\t<tr><th scope=row>(Intercept)</th><td>318.7171242</td><td>315.8510378</td><td>321.6104573</td></tr>\n",
       "\t<tr><th scope=row>cevd_event</th><td>  0.9943955</td><td>  0.9802966</td><td>  1.0087562</td></tr>\n",
       "\t<tr><th scope=row>age_levels</th><td>  1.0051006</td><td>  0.9995219</td><td>  1.0107130</td></tr>\n",
       "\t<tr><th scope=row>male</th><td>  0.8636040</td><td>  0.8593809</td><td>  0.8678487</td></tr>\n",
       "\t<tr><th scope=row>alc_freq_filter</th><td>  0.9978285</td><td>  0.9943279</td><td>  1.0013416</td></tr>\n",
       "\t<tr><th scope=row>smok_stat</th><td>  1.0044947</td><td>  1.0006372</td><td>  1.0083696</td></tr>\n",
       "\t<tr><th scope=row>bmi_filter</th><td>  1.0494021</td><td>  1.0442885</td><td>  1.0545408</td></tr>\n",
       "\t<tr><th scope=row>full_screen_time_filter</th><td>  1.0610919</td><td>  1.0544219</td><td>  1.0678120</td></tr>\n",
       "\t<tr><th scope=row>employ_status_array_filter</th><td>  0.9953830</td><td>  0.9906870</td><td>  1.0001036</td></tr>\n",
       "\t<tr><th scope=row>comorb_sum</th><td>  0.9821928</td><td>  0.9786805</td><td>  0.9857215</td></tr>\n",
       "\t<tr><th scope=row>gov_assistance_filter</th><td>  0.9104285</td><td>  0.8954816</td><td>  0.9256972</td></tr>\n",
       "</tbody>\n",
       "</table>\n"
      ],
      "text/latex": [
       "A matrix: 11 × 3 of type dbl\n",
       "\\begin{tabular}{r|lll}\n",
       "  & Estimate & 2.5 \\% & 97.5 \\%\\\\\n",
       "\\hline\n",
       "\t(Intercept) & 318.7171242 & 315.8510378 & 321.6104573\\\\\n",
       "\tcevd\\_event &   0.9943955 &   0.9802966 &   1.0087562\\\\\n",
       "\tage\\_levels &   1.0051006 &   0.9995219 &   1.0107130\\\\\n",
       "\tmale &   0.8636040 &   0.8593809 &   0.8678487\\\\\n",
       "\talc\\_freq\\_filter &   0.9978285 &   0.9943279 &   1.0013416\\\\\n",
       "\tsmok\\_stat &   1.0044947 &   1.0006372 &   1.0083696\\\\\n",
       "\tbmi\\_filter &   1.0494021 &   1.0442885 &   1.0545408\\\\\n",
       "\tfull\\_screen\\_time\\_filter &   1.0610919 &   1.0544219 &   1.0678120\\\\\n",
       "\temploy\\_status\\_array\\_filter &   0.9953830 &   0.9906870 &   1.0001036\\\\\n",
       "\tcomorb\\_sum &   0.9821928 &   0.9786805 &   0.9857215\\\\\n",
       "\tgov\\_assistance\\_filter &   0.9104285 &   0.8954816 &   0.9256972\\\\\n",
       "\\end{tabular}\n"
      ],
      "text/markdown": [
       "\n",
       "A matrix: 11 × 3 of type dbl\n",
       "\n",
       "| <!--/--> | Estimate | 2.5 % | 97.5 % |\n",
       "|---|---|---|---|\n",
       "| (Intercept) | 318.7171242 | 315.8510378 | 321.6104573 |\n",
       "| cevd_event |   0.9943955 |   0.9802966 |   1.0087562 |\n",
       "| age_levels |   1.0051006 |   0.9995219 |   1.0107130 |\n",
       "| male |   0.8636040 |   0.8593809 |   0.8678487 |\n",
       "| alc_freq_filter |   0.9978285 |   0.9943279 |   1.0013416 |\n",
       "| smok_stat |   1.0044947 |   1.0006372 |   1.0083696 |\n",
       "| bmi_filter |   1.0494021 |   1.0442885 |   1.0545408 |\n",
       "| full_screen_time_filter |   1.0610919 |   1.0544219 |   1.0678120 |\n",
       "| employ_status_array_filter |   0.9953830 |   0.9906870 |   1.0001036 |\n",
       "| comorb_sum |   0.9821928 |   0.9786805 |   0.9857215 |\n",
       "| gov_assistance_filter |   0.9104285 |   0.8954816 |   0.9256972 |\n",
       "\n"
      ],
      "text/plain": [
       "                           Estimate    2.5 %       97.5 %     \n",
       "(Intercept)                318.7171242 315.8510378 321.6104573\n",
       "cevd_event                   0.9943955   0.9802966   1.0087562\n",
       "age_levels                   1.0051006   0.9995219   1.0107130\n",
       "male                         0.8636040   0.8593809   0.8678487\n",
       "alc_freq_filter              0.9978285   0.9943279   1.0013416\n",
       "smok_stat                    1.0044947   1.0006372   1.0083696\n",
       "bmi_filter                   1.0494021   1.0442885   1.0545408\n",
       "full_screen_time_filter      1.0610919   1.0544219   1.0678120\n",
       "employ_status_array_filter   0.9953830   0.9906870   1.0001036\n",
       "comorb_sum                   0.9821928   0.9786805   0.9857215\n",
       "gov_assistance_filter        0.9104285   0.8954816   0.9256972"
      ]
     },
     "metadata": {},
     "output_type": "display_data"
    }
   ],
   "source": [
    "summary(m1 <- glm.nb(pa_light_convert ~ cevd_event + age_levels + male + alc_freq_filter + smok_stat + bmi_filter + full_screen_time_filter + employ_status_array_filter + comorb_sum +gov_assistance_filter, data = data_dep_1))\n",
    "(est <- cbind(Estimate = coef(m1), confint(m1)))\n",
    "exp(est)"
   ]
  },
  {
   "cell_type": "code",
   "execution_count": 46,
   "id": "ac1d9a56-f8b2-4371-bdd3-6a8a31322640",
   "metadata": {
    "tags": []
   },
   "outputs": [
    {
     "data": {
      "text/plain": [
       "\n",
       "Call:\n",
       "glm.nb(formula = pa_light_convert ~ cevd_event + age_levels + \n",
       "    male + alc_freq_filter + smok_stat + bmi_filter + full_screen_time_filter + \n",
       "    employ_status_array_filter + comorb_sum + gov_assistance_filter, \n",
       "    data = data_dep_2, init.theta = 10.25999244, link = log)\n",
       "\n",
       "Coefficients:\n",
       "                            Estimate Std. Error  z value Pr(>|z|)    \n",
       "(Intercept)                 5.763958   0.004655 1238.168   <2e-16 ***\n",
       "cevd_event                 -0.005777   0.007515   -0.769   0.4420    \n",
       "age_levels                  0.005651   0.002870    1.969   0.0489 *  \n",
       "male                       -0.147472   0.002512  -58.701   <2e-16 ***\n",
       "alc_freq_filter            -0.002412   0.001806   -1.336   0.1816    \n",
       "smok_stat                   0.004998   0.001972    2.534   0.0113 *  \n",
       "bmi_filter                  0.048957   0.002508   19.517   <2e-16 ***\n",
       "full_screen_time_filter     0.059288   0.003239   18.305   <2e-16 ***\n",
       "employ_status_array_filter -0.004464   0.002453   -1.820   0.0688 .  \n",
       "comorb_sum                 -0.017081   0.001844   -9.262   <2e-16 ***\n",
       "gov_assistance_filter      -0.085113   0.008744   -9.733   <2e-16 ***\n",
       "---\n",
       "Signif. codes:  0 ‘***’ 0.001 ‘**’ 0.01 ‘*’ 0.05 ‘.’ 0.1 ‘ ’ 1\n",
       "\n",
       "(Dispersion parameter for Negative Binomial(10.26) family taken to be 1)\n",
       "\n",
       "    Null deviance: 76423  on 69510  degrees of freedom\n",
       "Residual deviance: 70885  on 69500  degrees of freedom\n",
       "  (1 observation deleted due to missingness)\n",
       "AIC: 828761\n",
       "\n",
       "Number of Fisher Scoring iterations: 1\n",
       "\n",
       "\n",
       "              Theta:  10.2600 \n",
       "          Std. Err.:  0.0563 \n",
       "\n",
       " 2 x log-likelihood:  -828736.9430 "
      ]
     },
     "metadata": {},
     "output_type": "display_data"
    },
    {
     "name": "stderr",
     "output_type": "stream",
     "text": [
      "Waiting for profiling to be done...\n",
      "\n"
     ]
    },
    {
     "data": {
      "text/html": [
       "<table class=\"dataframe\">\n",
       "<caption>A matrix: 11 × 3 of type dbl</caption>\n",
       "<thead>\n",
       "\t<tr><th></th><th scope=col>Estimate</th><th scope=col>2.5 %</th><th scope=col>97.5 %</th></tr>\n",
       "</thead>\n",
       "<tbody>\n",
       "\t<tr><th scope=row>(Intercept)</th><td> 5.763957561</td><td> 5.754868e+00</td><td> 5.7730508515</td></tr>\n",
       "\t<tr><th scope=row>cevd_event</th><td>-0.005777412</td><td>-2.047024e-02</td><td> 0.0089776351</td></tr>\n",
       "\t<tr><th scope=row>age_levels</th><td> 0.005650658</td><td> 4.875869e-05</td><td> 0.0112551624</td></tr>\n",
       "\t<tr><th scope=row>male</th><td>-0.147471947</td><td>-1.524024e-01</td><td>-0.1425406645</td></tr>\n",
       "\t<tr><th scope=row>alc_freq_filter</th><td>-0.002412281</td><td>-5.948406e-03</td><td> 0.0011238398</td></tr>\n",
       "\t<tr><th scope=row>smok_stat</th><td> 0.004997932</td><td> 1.120289e-03</td><td> 0.0088780777</td></tr>\n",
       "\t<tr><th scope=row>bmi_filter</th><td> 0.048956650</td><td> 4.404193e-02</td><td> 0.0538714006</td></tr>\n",
       "\t<tr><th scope=row>full_screen_time_filter</th><td> 0.059287577</td><td> 5.295037e-02</td><td> 0.0656323038</td></tr>\n",
       "\t<tr><th scope=row>employ_status_array_filter</th><td>-0.004464478</td><td>-9.223925e-03</td><td> 0.0002973658</td></tr>\n",
       "\t<tr><th scope=row>comorb_sum</th><td>-0.017081106</td><td>-2.069124e-02</td><td>-0.0134671019</td></tr>\n",
       "\t<tr><th scope=row>gov_assistance_filter</th><td>-0.085112573</td><td>-1.021978e-01</td><td>-0.0679437265</td></tr>\n",
       "</tbody>\n",
       "</table>\n"
      ],
      "text/latex": [
       "A matrix: 11 × 3 of type dbl\n",
       "\\begin{tabular}{r|lll}\n",
       "  & Estimate & 2.5 \\% & 97.5 \\%\\\\\n",
       "\\hline\n",
       "\t(Intercept) &  5.763957561 &  5.754868e+00 &  5.7730508515\\\\\n",
       "\tcevd\\_event & -0.005777412 & -2.047024e-02 &  0.0089776351\\\\\n",
       "\tage\\_levels &  0.005650658 &  4.875869e-05 &  0.0112551624\\\\\n",
       "\tmale & -0.147471947 & -1.524024e-01 & -0.1425406645\\\\\n",
       "\talc\\_freq\\_filter & -0.002412281 & -5.948406e-03 &  0.0011238398\\\\\n",
       "\tsmok\\_stat &  0.004997932 &  1.120289e-03 &  0.0088780777\\\\\n",
       "\tbmi\\_filter &  0.048956650 &  4.404193e-02 &  0.0538714006\\\\\n",
       "\tfull\\_screen\\_time\\_filter &  0.059287577 &  5.295037e-02 &  0.0656323038\\\\\n",
       "\temploy\\_status\\_array\\_filter & -0.004464478 & -9.223925e-03 &  0.0002973658\\\\\n",
       "\tcomorb\\_sum & -0.017081106 & -2.069124e-02 & -0.0134671019\\\\\n",
       "\tgov\\_assistance\\_filter & -0.085112573 & -1.021978e-01 & -0.0679437265\\\\\n",
       "\\end{tabular}\n"
      ],
      "text/markdown": [
       "\n",
       "A matrix: 11 × 3 of type dbl\n",
       "\n",
       "| <!--/--> | Estimate | 2.5 % | 97.5 % |\n",
       "|---|---|---|---|\n",
       "| (Intercept) |  5.763957561 |  5.754868e+00 |  5.7730508515 |\n",
       "| cevd_event | -0.005777412 | -2.047024e-02 |  0.0089776351 |\n",
       "| age_levels |  0.005650658 |  4.875869e-05 |  0.0112551624 |\n",
       "| male | -0.147471947 | -1.524024e-01 | -0.1425406645 |\n",
       "| alc_freq_filter | -0.002412281 | -5.948406e-03 |  0.0011238398 |\n",
       "| smok_stat |  0.004997932 |  1.120289e-03 |  0.0088780777 |\n",
       "| bmi_filter |  0.048956650 |  4.404193e-02 |  0.0538714006 |\n",
       "| full_screen_time_filter |  0.059287577 |  5.295037e-02 |  0.0656323038 |\n",
       "| employ_status_array_filter | -0.004464478 | -9.223925e-03 |  0.0002973658 |\n",
       "| comorb_sum | -0.017081106 | -2.069124e-02 | -0.0134671019 |\n",
       "| gov_assistance_filter | -0.085112573 | -1.021978e-01 | -0.0679437265 |\n",
       "\n"
      ],
      "text/plain": [
       "                           Estimate     2.5 %         97.5 %       \n",
       "(Intercept)                 5.763957561  5.754868e+00  5.7730508515\n",
       "cevd_event                 -0.005777412 -2.047024e-02  0.0089776351\n",
       "age_levels                  0.005650658  4.875869e-05  0.0112551624\n",
       "male                       -0.147471947 -1.524024e-01 -0.1425406645\n",
       "alc_freq_filter            -0.002412281 -5.948406e-03  0.0011238398\n",
       "smok_stat                   0.004997932  1.120289e-03  0.0088780777\n",
       "bmi_filter                  0.048956650  4.404193e-02  0.0538714006\n",
       "full_screen_time_filter     0.059287577  5.295037e-02  0.0656323038\n",
       "employ_status_array_filter -0.004464478 -9.223925e-03  0.0002973658\n",
       "comorb_sum                 -0.017081106 -2.069124e-02 -0.0134671019\n",
       "gov_assistance_filter      -0.085112573 -1.021978e-01 -0.0679437265"
      ]
     },
     "metadata": {},
     "output_type": "display_data"
    },
    {
     "data": {
      "text/html": [
       "<table class=\"dataframe\">\n",
       "<caption>A matrix: 11 × 3 of type dbl</caption>\n",
       "<thead>\n",
       "\t<tr><th></th><th scope=col>Estimate</th><th scope=col>2.5 %</th><th scope=col>97.5 %</th></tr>\n",
       "</thead>\n",
       "<tbody>\n",
       "\t<tr><th scope=row>(Intercept)</th><td>318.6067428</td><td>315.7239292</td><td>321.5171389</td></tr>\n",
       "\t<tr><th scope=row>cevd_event</th><td>  0.9942392</td><td>  0.9797379</td><td>  1.0090181</td></tr>\n",
       "\t<tr><th scope=row>age_levels</th><td>  1.0056667</td><td>  1.0000488</td><td>  1.0113187</td></tr>\n",
       "\t<tr><th scope=row>male</th><td>  0.8628866</td><td>  0.8586427</td><td>  0.8671523</td></tr>\n",
       "\t<tr><th scope=row>alc_freq_filter</th><td>  0.9975906</td><td>  0.9940693</td><td>  1.0011245</td></tr>\n",
       "\t<tr><th scope=row>smok_stat</th><td>  1.0050104</td><td>  1.0011209</td><td>  1.0089176</td></tr>\n",
       "\t<tr><th scope=row>bmi_filter</th><td>  1.0501748</td><td>  1.0450262</td><td>  1.0553489</td></tr>\n",
       "\t<tr><th scope=row>full_screen_time_filter</th><td>  1.0610803</td><td>  1.0543773</td><td>  1.0678340</td></tr>\n",
       "\t<tr><th scope=row>employ_status_array_filter</th><td>  0.9955455</td><td>  0.9908185</td><td>  1.0002974</td></tr>\n",
       "\t<tr><th scope=row>comorb_sum</th><td>  0.9830639</td><td>  0.9795214</td><td>  0.9866232</td></tr>\n",
       "\t<tr><th scope=row>gov_assistance_filter</th><td>  0.9184089</td><td>  0.9028510</td><td>  0.9343130</td></tr>\n",
       "</tbody>\n",
       "</table>\n"
      ],
      "text/latex": [
       "A matrix: 11 × 3 of type dbl\n",
       "\\begin{tabular}{r|lll}\n",
       "  & Estimate & 2.5 \\% & 97.5 \\%\\\\\n",
       "\\hline\n",
       "\t(Intercept) & 318.6067428 & 315.7239292 & 321.5171389\\\\\n",
       "\tcevd\\_event &   0.9942392 &   0.9797379 &   1.0090181\\\\\n",
       "\tage\\_levels &   1.0056667 &   1.0000488 &   1.0113187\\\\\n",
       "\tmale &   0.8628866 &   0.8586427 &   0.8671523\\\\\n",
       "\talc\\_freq\\_filter &   0.9975906 &   0.9940693 &   1.0011245\\\\\n",
       "\tsmok\\_stat &   1.0050104 &   1.0011209 &   1.0089176\\\\\n",
       "\tbmi\\_filter &   1.0501748 &   1.0450262 &   1.0553489\\\\\n",
       "\tfull\\_screen\\_time\\_filter &   1.0610803 &   1.0543773 &   1.0678340\\\\\n",
       "\temploy\\_status\\_array\\_filter &   0.9955455 &   0.9908185 &   1.0002974\\\\\n",
       "\tcomorb\\_sum &   0.9830639 &   0.9795214 &   0.9866232\\\\\n",
       "\tgov\\_assistance\\_filter &   0.9184089 &   0.9028510 &   0.9343130\\\\\n",
       "\\end{tabular}\n"
      ],
      "text/markdown": [
       "\n",
       "A matrix: 11 × 3 of type dbl\n",
       "\n",
       "| <!--/--> | Estimate | 2.5 % | 97.5 % |\n",
       "|---|---|---|---|\n",
       "| (Intercept) | 318.6067428 | 315.7239292 | 321.5171389 |\n",
       "| cevd_event |   0.9942392 |   0.9797379 |   1.0090181 |\n",
       "| age_levels |   1.0056667 |   1.0000488 |   1.0113187 |\n",
       "| male |   0.8628866 |   0.8586427 |   0.8671523 |\n",
       "| alc_freq_filter |   0.9975906 |   0.9940693 |   1.0011245 |\n",
       "| smok_stat |   1.0050104 |   1.0011209 |   1.0089176 |\n",
       "| bmi_filter |   1.0501748 |   1.0450262 |   1.0553489 |\n",
       "| full_screen_time_filter |   1.0610803 |   1.0543773 |   1.0678340 |\n",
       "| employ_status_array_filter |   0.9955455 |   0.9908185 |   1.0002974 |\n",
       "| comorb_sum |   0.9830639 |   0.9795214 |   0.9866232 |\n",
       "| gov_assistance_filter |   0.9184089 |   0.9028510 |   0.9343130 |\n",
       "\n"
      ],
      "text/plain": [
       "                           Estimate    2.5 %       97.5 %     \n",
       "(Intercept)                318.6067428 315.7239292 321.5171389\n",
       "cevd_event                   0.9942392   0.9797379   1.0090181\n",
       "age_levels                   1.0056667   1.0000488   1.0113187\n",
       "male                         0.8628866   0.8586427   0.8671523\n",
       "alc_freq_filter              0.9975906   0.9940693   1.0011245\n",
       "smok_stat                    1.0050104   1.0011209   1.0089176\n",
       "bmi_filter                   1.0501748   1.0450262   1.0553489\n",
       "full_screen_time_filter      1.0610803   1.0543773   1.0678340\n",
       "employ_status_array_filter   0.9955455   0.9908185   1.0002974\n",
       "comorb_sum                   0.9830639   0.9795214   0.9866232\n",
       "gov_assistance_filter        0.9184089   0.9028510   0.9343130"
      ]
     },
     "metadata": {},
     "output_type": "display_data"
    }
   ],
   "source": [
    "summary(m1 <- glm.nb(pa_light_convert ~ cevd_event + age_levels + male + alc_freq_filter + smok_stat + bmi_filter + full_screen_time_filter + employ_status_array_filter + comorb_sum +gov_assistance_filter, data = data_dep_2))\n",
    "(est <- cbind(Estimate = coef(m1), confint(m1)))\n",
    "exp(est)"
   ]
  },
  {
   "cell_type": "code",
   "execution_count": 47,
   "id": "4ff77fb9-caaf-458f-89a3-dfdfdec31829",
   "metadata": {
    "tags": []
   },
   "outputs": [
    {
     "data": {
      "text/plain": [
       "\n",
       "Call:\n",
       "glm.nb(formula = pa_light_convert ~ cevd_event + age_levels + \n",
       "    male + alc_freq_filter + smok_stat + bmi_filter + full_screen_time_filter + \n",
       "    employ_status_array_filter + comorb_sum + gov_assistance_filter, \n",
       "    data = data_dep_3, init.theta = 10.14669335, link = log)\n",
       "\n",
       "Coefficients:\n",
       "                            Estimate Std. Error  z value Pr(>|z|)    \n",
       "(Intercept)                 5.760289   0.004555 1264.740  < 2e-16 ***\n",
       "cevd_event                 -0.006606   0.007383   -0.895  0.37090    \n",
       "age_levels                  0.008027   0.002813    2.853  0.00433 ** \n",
       "male                       -0.145644   0.002472  -58.927  < 2e-16 ***\n",
       "alc_freq_filter            -0.001260   0.001770   -0.712  0.47645    \n",
       "smok_stat                   0.003129   0.001930    1.621  0.10494    \n",
       "bmi_filter                  0.047561   0.002466   19.287  < 2e-16 ***\n",
       "full_screen_time_filter     0.059402   0.003181   18.671  < 2e-16 ***\n",
       "employ_status_array_filter -0.003156   0.002396   -1.317  0.18780    \n",
       "comorb_sum                 -0.018447   0.001808  -10.201  < 2e-16 ***\n",
       "gov_assistance_filter      -0.099128   0.008072  -12.280  < 2e-16 ***\n",
       "---\n",
       "Signif. codes:  0 ‘***’ 0.001 ‘**’ 0.01 ‘*’ 0.05 ‘.’ 0.1 ‘ ’ 1\n",
       "\n",
       "(Dispersion parameter for Negative Binomial(10.1467) family taken to be 1)\n",
       "\n",
       "    Null deviance: 79843  on 72727  degrees of freedom\n",
       "Residual deviance: 74200  on 72717  degrees of freedom\n",
       "  (1 observation deleted due to missingness)\n",
       "AIC: 867747\n",
       "\n",
       "Number of Fisher Scoring iterations: 1\n",
       "\n",
       "\n",
       "              Theta:  10.1467 \n",
       "          Std. Err.:  0.0544 \n",
       "\n",
       " 2 x log-likelihood:  -867723.0000 "
      ]
     },
     "metadata": {},
     "output_type": "display_data"
    },
    {
     "name": "stderr",
     "output_type": "stream",
     "text": [
      "Waiting for profiling to be done...\n",
      "\n"
     ]
    },
    {
     "data": {
      "text/html": [
       "<table class=\"dataframe\">\n",
       "<caption>A matrix: 11 × 3 of type dbl</caption>\n",
       "<thead>\n",
       "\t<tr><th></th><th scope=col>Estimate</th><th scope=col>2.5 %</th><th scope=col>97.5 %</th></tr>\n",
       "</thead>\n",
       "<tbody>\n",
       "\t<tr><th scope=row>(Intercept)</th><td> 5.760289424</td><td> 5.751396451</td><td> 5.769186199</td></tr>\n",
       "\t<tr><th scope=row>cevd_event</th><td>-0.006606494</td><td>-0.021042980</td><td> 0.007890079</td></tr>\n",
       "\t<tr><th scope=row>age_levels</th><td> 0.008026644</td><td> 0.002531741</td><td> 0.013524046</td></tr>\n",
       "\t<tr><th scope=row>male</th><td>-0.145644039</td><td>-0.150494207</td><td>-0.140792962</td></tr>\n",
       "\t<tr><th scope=row>alc_freq_filter</th><td>-0.001260381</td><td>-0.004726334</td><td> 0.002205579</td></tr>\n",
       "\t<tr><th scope=row>smok_stat</th><td> 0.003128666</td><td>-0.000666134</td><td> 0.006925846</td></tr>\n",
       "\t<tr><th scope=row>bmi_filter</th><td> 0.047560630</td><td> 0.042729212</td><td> 0.052392110</td></tr>\n",
       "\t<tr><th scope=row>full_screen_time_filter</th><td> 0.059402180</td><td> 0.053176877</td><td> 0.065634749</td></tr>\n",
       "\t<tr><th scope=row>employ_status_array_filter</th><td>-0.003156102</td><td>-0.007806998</td><td> 0.001497086</td></tr>\n",
       "\t<tr><th scope=row>comorb_sum</th><td>-0.018447097</td><td>-0.021987819</td><td>-0.014902678</td></tr>\n",
       "\t<tr><th scope=row>gov_assistance_filter</th><td>-0.099127971</td><td>-0.114897508</td><td>-0.083288245</td></tr>\n",
       "</tbody>\n",
       "</table>\n"
      ],
      "text/latex": [
       "A matrix: 11 × 3 of type dbl\n",
       "\\begin{tabular}{r|lll}\n",
       "  & Estimate & 2.5 \\% & 97.5 \\%\\\\\n",
       "\\hline\n",
       "\t(Intercept) &  5.760289424 &  5.751396451 &  5.769186199\\\\\n",
       "\tcevd\\_event & -0.006606494 & -0.021042980 &  0.007890079\\\\\n",
       "\tage\\_levels &  0.008026644 &  0.002531741 &  0.013524046\\\\\n",
       "\tmale & -0.145644039 & -0.150494207 & -0.140792962\\\\\n",
       "\talc\\_freq\\_filter & -0.001260381 & -0.004726334 &  0.002205579\\\\\n",
       "\tsmok\\_stat &  0.003128666 & -0.000666134 &  0.006925846\\\\\n",
       "\tbmi\\_filter &  0.047560630 &  0.042729212 &  0.052392110\\\\\n",
       "\tfull\\_screen\\_time\\_filter &  0.059402180 &  0.053176877 &  0.065634749\\\\\n",
       "\temploy\\_status\\_array\\_filter & -0.003156102 & -0.007806998 &  0.001497086\\\\\n",
       "\tcomorb\\_sum & -0.018447097 & -0.021987819 & -0.014902678\\\\\n",
       "\tgov\\_assistance\\_filter & -0.099127971 & -0.114897508 & -0.083288245\\\\\n",
       "\\end{tabular}\n"
      ],
      "text/markdown": [
       "\n",
       "A matrix: 11 × 3 of type dbl\n",
       "\n",
       "| <!--/--> | Estimate | 2.5 % | 97.5 % |\n",
       "|---|---|---|---|\n",
       "| (Intercept) |  5.760289424 |  5.751396451 |  5.769186199 |\n",
       "| cevd_event | -0.006606494 | -0.021042980 |  0.007890079 |\n",
       "| age_levels |  0.008026644 |  0.002531741 |  0.013524046 |\n",
       "| male | -0.145644039 | -0.150494207 | -0.140792962 |\n",
       "| alc_freq_filter | -0.001260381 | -0.004726334 |  0.002205579 |\n",
       "| smok_stat |  0.003128666 | -0.000666134 |  0.006925846 |\n",
       "| bmi_filter |  0.047560630 |  0.042729212 |  0.052392110 |\n",
       "| full_screen_time_filter |  0.059402180 |  0.053176877 |  0.065634749 |\n",
       "| employ_status_array_filter | -0.003156102 | -0.007806998 |  0.001497086 |\n",
       "| comorb_sum | -0.018447097 | -0.021987819 | -0.014902678 |\n",
       "| gov_assistance_filter | -0.099127971 | -0.114897508 | -0.083288245 |\n",
       "\n"
      ],
      "text/plain": [
       "                           Estimate     2.5 %        97.5 %      \n",
       "(Intercept)                 5.760289424  5.751396451  5.769186199\n",
       "cevd_event                 -0.006606494 -0.021042980  0.007890079\n",
       "age_levels                  0.008026644  0.002531741  0.013524046\n",
       "male                       -0.145644039 -0.150494207 -0.140792962\n",
       "alc_freq_filter            -0.001260381 -0.004726334  0.002205579\n",
       "smok_stat                   0.003128666 -0.000666134  0.006925846\n",
       "bmi_filter                  0.047560630  0.042729212  0.052392110\n",
       "full_screen_time_filter     0.059402180  0.053176877  0.065634749\n",
       "employ_status_array_filter -0.003156102 -0.007806998  0.001497086\n",
       "comorb_sum                 -0.018447097 -0.021987819 -0.014902678\n",
       "gov_assistance_filter      -0.099127971 -0.114897508 -0.083288245"
      ]
     },
     "metadata": {},
     "output_type": "display_data"
    },
    {
     "data": {
      "text/html": [
       "<table class=\"dataframe\">\n",
       "<caption>A matrix: 11 × 3 of type dbl</caption>\n",
       "<thead>\n",
       "\t<tr><th></th><th scope=col>Estimate</th><th scope=col>2.5 %</th><th scope=col>97.5 %</th></tr>\n",
       "</thead>\n",
       "<tbody>\n",
       "\t<tr><th scope=row>(Intercept)</th><td>317.4401904</td><td>314.6297186</td><td>320.2769849</td></tr>\n",
       "\t<tr><th scope=row>cevd_event</th><td>  0.9934153</td><td>  0.9791769</td><td>  1.0079213</td></tr>\n",
       "\t<tr><th scope=row>age_levels</th><td>  1.0080589</td><td>  1.0025349</td><td>  1.0136159</td></tr>\n",
       "\t<tr><th scope=row>male</th><td>  0.8644654</td><td>  0.8602827</td><td>  0.8686691</td></tr>\n",
       "\t<tr><th scope=row>alc_freq_filter</th><td>  0.9987404</td><td>  0.9952848</td><td>  1.0022080</td></tr>\n",
       "\t<tr><th scope=row>smok_stat</th><td>  1.0031336</td><td>  0.9993341</td><td>  1.0069499</td></tr>\n",
       "\t<tr><th scope=row>bmi_filter</th><td>  1.0487098</td><td>  1.0436552</td><td>  1.0537889</td></tr>\n",
       "\t<tr><th scope=row>full_screen_time_filter</th><td>  1.0612019</td><td>  1.0546162</td><td>  1.0678366</td></tr>\n",
       "\t<tr><th scope=row>employ_status_array_filter</th><td>  0.9968489</td><td>  0.9922234</td><td>  1.0014982</td></tr>\n",
       "\t<tr><th scope=row>comorb_sum</th><td>  0.9817220</td><td>  0.9782522</td><td>  0.9852078</td></tr>\n",
       "\t<tr><th scope=row>gov_assistance_filter</th><td>  0.9056268</td><td>  0.8914575</td><td>  0.9200859</td></tr>\n",
       "</tbody>\n",
       "</table>\n"
      ],
      "text/latex": [
       "A matrix: 11 × 3 of type dbl\n",
       "\\begin{tabular}{r|lll}\n",
       "  & Estimate & 2.5 \\% & 97.5 \\%\\\\\n",
       "\\hline\n",
       "\t(Intercept) & 317.4401904 & 314.6297186 & 320.2769849\\\\\n",
       "\tcevd\\_event &   0.9934153 &   0.9791769 &   1.0079213\\\\\n",
       "\tage\\_levels &   1.0080589 &   1.0025349 &   1.0136159\\\\\n",
       "\tmale &   0.8644654 &   0.8602827 &   0.8686691\\\\\n",
       "\talc\\_freq\\_filter &   0.9987404 &   0.9952848 &   1.0022080\\\\\n",
       "\tsmok\\_stat &   1.0031336 &   0.9993341 &   1.0069499\\\\\n",
       "\tbmi\\_filter &   1.0487098 &   1.0436552 &   1.0537889\\\\\n",
       "\tfull\\_screen\\_time\\_filter &   1.0612019 &   1.0546162 &   1.0678366\\\\\n",
       "\temploy\\_status\\_array\\_filter &   0.9968489 &   0.9922234 &   1.0014982\\\\\n",
       "\tcomorb\\_sum &   0.9817220 &   0.9782522 &   0.9852078\\\\\n",
       "\tgov\\_assistance\\_filter &   0.9056268 &   0.8914575 &   0.9200859\\\\\n",
       "\\end{tabular}\n"
      ],
      "text/markdown": [
       "\n",
       "A matrix: 11 × 3 of type dbl\n",
       "\n",
       "| <!--/--> | Estimate | 2.5 % | 97.5 % |\n",
       "|---|---|---|---|\n",
       "| (Intercept) | 317.4401904 | 314.6297186 | 320.2769849 |\n",
       "| cevd_event |   0.9934153 |   0.9791769 |   1.0079213 |\n",
       "| age_levels |   1.0080589 |   1.0025349 |   1.0136159 |\n",
       "| male |   0.8644654 |   0.8602827 |   0.8686691 |\n",
       "| alc_freq_filter |   0.9987404 |   0.9952848 |   1.0022080 |\n",
       "| smok_stat |   1.0031336 |   0.9993341 |   1.0069499 |\n",
       "| bmi_filter |   1.0487098 |   1.0436552 |   1.0537889 |\n",
       "| full_screen_time_filter |   1.0612019 |   1.0546162 |   1.0678366 |\n",
       "| employ_status_array_filter |   0.9968489 |   0.9922234 |   1.0014982 |\n",
       "| comorb_sum |   0.9817220 |   0.9782522 |   0.9852078 |\n",
       "| gov_assistance_filter |   0.9056268 |   0.8914575 |   0.9200859 |\n",
       "\n"
      ],
      "text/plain": [
       "                           Estimate    2.5 %       97.5 %     \n",
       "(Intercept)                317.4401904 314.6297186 320.2769849\n",
       "cevd_event                   0.9934153   0.9791769   1.0079213\n",
       "age_levels                   1.0080589   1.0025349   1.0136159\n",
       "male                         0.8644654   0.8602827   0.8686691\n",
       "alc_freq_filter              0.9987404   0.9952848   1.0022080\n",
       "smok_stat                    1.0031336   0.9993341   1.0069499\n",
       "bmi_filter                   1.0487098   1.0436552   1.0537889\n",
       "full_screen_time_filter      1.0612019   1.0546162   1.0678366\n",
       "employ_status_array_filter   0.9968489   0.9922234   1.0014982\n",
       "comorb_sum                   0.9817220   0.9782522   0.9852078\n",
       "gov_assistance_filter        0.9056268   0.8914575   0.9200859"
      ]
     },
     "metadata": {},
     "output_type": "display_data"
    }
   ],
   "source": [
    "summary(m1 <- glm.nb(pa_light_convert ~ cevd_event + age_levels + male + alc_freq_filter + smok_stat + bmi_filter + full_screen_time_filter + employ_status_array_filter + comorb_sum +gov_assistance_filter, data = data_dep_3))\n",
    "(est <- cbind(Estimate = coef(m1), confint(m1)))\n",
    "exp(est)"
   ]
  },
  {
   "cell_type": "code",
   "execution_count": 48,
   "id": "fef8efdd-b511-417d-89c8-ed7292350f4f",
   "metadata": {
    "tags": []
   },
   "outputs": [
    {
     "data": {
      "text/plain": [
       "\n",
       "Call:\n",
       "glm.nb(formula = pa_sed_convert ~ cevd_event + age_levels + male + \n",
       "    alc_freq_filter + smok_stat + bmi_filter + full_screen_time_filter + \n",
       "    employ_status_array_filter + comorb_sum + gov_assistance_filter, \n",
       "    data = data_dep_1, init.theta = 28.43135059, link = log)\n",
       "\n",
       "Coefficients:\n",
       "                             Estimate Std. Error  z value Pr(>|z|)    \n",
       "(Intercept)                 6.3195645  0.0027958 2260.339  < 2e-16 ***\n",
       "cevd_event                  0.0067895  0.0044098    1.540    0.124    \n",
       "age_levels                 -0.0076242  0.0017225   -4.426 9.58e-06 ***\n",
       "male                        0.0617934  0.0015086   40.961  < 2e-16 ***\n",
       "alc_freq_filter             0.0004930  0.0010844    0.455    0.649    \n",
       "smok_stat                  -0.0006601  0.0011821   -0.558    0.577    \n",
       "bmi_filter                 -0.0458096  0.0015066  -30.407  < 2e-16 ***\n",
       "full_screen_time_filter    -0.0310389  0.0019506  -15.913  < 2e-16 ***\n",
       "employ_status_array_filter  0.0163018  0.0014727   11.070  < 2e-16 ***\n",
       "comorb_sum                  0.0090997  0.0011043    8.240  < 2e-16 ***\n",
       "gov_assistance_filter       0.0623146  0.0051036   12.210  < 2e-16 ***\n",
       "---\n",
       "Signif. codes:  0 ‘***’ 0.001 ‘**’ 0.01 ‘*’ 0.05 ‘.’ 0.1 ‘ ’ 1\n",
       "\n",
       "(Dispersion parameter for Negative Binomial(28.4314) family taken to be 1)\n",
       "\n",
       "    Null deviance: 75461  on 70634  degrees of freedom\n",
       "Residual deviance: 71180  on 70624  degrees of freedom\n",
       "  (1 observation deleted due to missingness)\n",
       "AIC: 860707\n",
       "\n",
       "Number of Fisher Scoring iterations: 1\n",
       "\n",
       "\n",
       "              Theta:  28.431 \n",
       "          Std. Err.:  0.158 \n",
       "\n",
       " 2 x log-likelihood:  -860682.989 "
      ]
     },
     "metadata": {},
     "output_type": "display_data"
    },
    {
     "name": "stderr",
     "output_type": "stream",
     "text": [
      "Waiting for profiling to be done...\n",
      "\n"
     ]
    },
    {
     "data": {
      "text/html": [
       "<table class=\"dataframe\">\n",
       "<caption>A matrix: 11 × 3 of type dbl</caption>\n",
       "<thead>\n",
       "\t<tr><th></th><th scope=col>Estimate</th><th scope=col>2.5 %</th><th scope=col>97.5 %</th></tr>\n",
       "</thead>\n",
       "<tbody>\n",
       "\t<tr><th scope=row>(Intercept)</th><td> 6.3195645019</td><td> 6.314075293</td><td> 6.325055025</td></tr>\n",
       "\t<tr><th scope=row>cevd_event</th><td> 0.0067894600</td><td>-0.001845717</td><td> 0.015445302</td></tr>\n",
       "\t<tr><th scope=row>age_levels</th><td>-0.0076242066</td><td>-0.011011051</td><td>-0.004236432</td></tr>\n",
       "\t<tr><th scope=row>male</th><td> 0.0617933926</td><td> 0.058840940</td><td> 0.064746151</td></tr>\n",
       "\t<tr><th scope=row>alc_freq_filter</th><td> 0.0004929870</td><td>-0.001630995</td><td> 0.002616964</td></tr>\n",
       "\t<tr><th scope=row>smok_stat</th><td>-0.0006601176</td><td>-0.002971309</td><td> 0.001651947</td></tr>\n",
       "\t<tr><th scope=row>bmi_filter</th><td>-0.0458095717</td><td>-0.048761841</td><td>-0.042857282</td></tr>\n",
       "\t<tr><th scope=row>full_screen_time_filter</th><td>-0.0310389004</td><td>-0.034862667</td><td>-0.027212513</td></tr>\n",
       "\t<tr><th scope=row>employ_status_array_filter</th><td> 0.0163018090</td><td> 0.013390736</td><td> 0.019213767</td></tr>\n",
       "\t<tr><th scope=row>comorb_sum</th><td> 0.0090997033</td><td> 0.006936223</td><td> 0.011264526</td></tr>\n",
       "\t<tr><th scope=row>gov_assistance_filter</th><td> 0.0623145683</td><td> 0.052321888</td><td> 0.072334934</td></tr>\n",
       "</tbody>\n",
       "</table>\n"
      ],
      "text/latex": [
       "A matrix: 11 × 3 of type dbl\n",
       "\\begin{tabular}{r|lll}\n",
       "  & Estimate & 2.5 \\% & 97.5 \\%\\\\\n",
       "\\hline\n",
       "\t(Intercept) &  6.3195645019 &  6.314075293 &  6.325055025\\\\\n",
       "\tcevd\\_event &  0.0067894600 & -0.001845717 &  0.015445302\\\\\n",
       "\tage\\_levels & -0.0076242066 & -0.011011051 & -0.004236432\\\\\n",
       "\tmale &  0.0617933926 &  0.058840940 &  0.064746151\\\\\n",
       "\talc\\_freq\\_filter &  0.0004929870 & -0.001630995 &  0.002616964\\\\\n",
       "\tsmok\\_stat & -0.0006601176 & -0.002971309 &  0.001651947\\\\\n",
       "\tbmi\\_filter & -0.0458095717 & -0.048761841 & -0.042857282\\\\\n",
       "\tfull\\_screen\\_time\\_filter & -0.0310389004 & -0.034862667 & -0.027212513\\\\\n",
       "\temploy\\_status\\_array\\_filter &  0.0163018090 &  0.013390736 &  0.019213767\\\\\n",
       "\tcomorb\\_sum &  0.0090997033 &  0.006936223 &  0.011264526\\\\\n",
       "\tgov\\_assistance\\_filter &  0.0623145683 &  0.052321888 &  0.072334934\\\\\n",
       "\\end{tabular}\n"
      ],
      "text/markdown": [
       "\n",
       "A matrix: 11 × 3 of type dbl\n",
       "\n",
       "| <!--/--> | Estimate | 2.5 % | 97.5 % |\n",
       "|---|---|---|---|\n",
       "| (Intercept) |  6.3195645019 |  6.314075293 |  6.325055025 |\n",
       "| cevd_event |  0.0067894600 | -0.001845717 |  0.015445302 |\n",
       "| age_levels | -0.0076242066 | -0.011011051 | -0.004236432 |\n",
       "| male |  0.0617933926 |  0.058840940 |  0.064746151 |\n",
       "| alc_freq_filter |  0.0004929870 | -0.001630995 |  0.002616964 |\n",
       "| smok_stat | -0.0006601176 | -0.002971309 |  0.001651947 |\n",
       "| bmi_filter | -0.0458095717 | -0.048761841 | -0.042857282 |\n",
       "| full_screen_time_filter | -0.0310389004 | -0.034862667 | -0.027212513 |\n",
       "| employ_status_array_filter |  0.0163018090 |  0.013390736 |  0.019213767 |\n",
       "| comorb_sum |  0.0090997033 |  0.006936223 |  0.011264526 |\n",
       "| gov_assistance_filter |  0.0623145683 |  0.052321888 |  0.072334934 |\n",
       "\n"
      ],
      "text/plain": [
       "                           Estimate      2.5 %        97.5 %      \n",
       "(Intercept)                 6.3195645019  6.314075293  6.325055025\n",
       "cevd_event                  0.0067894600 -0.001845717  0.015445302\n",
       "age_levels                 -0.0076242066 -0.011011051 -0.004236432\n",
       "male                        0.0617933926  0.058840940  0.064746151\n",
       "alc_freq_filter             0.0004929870 -0.001630995  0.002616964\n",
       "smok_stat                  -0.0006601176 -0.002971309  0.001651947\n",
       "bmi_filter                 -0.0458095717 -0.048761841 -0.042857282\n",
       "full_screen_time_filter    -0.0310389004 -0.034862667 -0.027212513\n",
       "employ_status_array_filter  0.0163018090  0.013390736  0.019213767\n",
       "comorb_sum                  0.0090997033  0.006936223  0.011264526\n",
       "gov_assistance_filter       0.0623145683  0.052321888  0.072334934"
      ]
     },
     "metadata": {},
     "output_type": "display_data"
    },
    {
     "data": {
      "text/html": [
       "<table class=\"dataframe\">\n",
       "<caption>A matrix: 11 × 3 of type dbl</caption>\n",
       "<thead>\n",
       "\t<tr><th></th><th scope=col>Estimate</th><th scope=col>2.5 %</th><th scope=col>97.5 %</th></tr>\n",
       "</thead>\n",
       "<tbody>\n",
       "\t<tr><th scope=row>(Intercept)</th><td>555.3310942</td><td>552.2911170</td><td>558.3885379</td></tr>\n",
       "\t<tr><th scope=row>cevd_event</th><td>  1.0068126</td><td>  0.9981560</td><td>  1.0155652</td></tr>\n",
       "\t<tr><th scope=row>age_levels</th><td>  0.9924048</td><td>  0.9890493</td><td>  0.9957725</td></tr>\n",
       "\t<tr><th scope=row>male</th><td>  1.0637425</td><td>  1.0606065</td><td>  1.0668882</td></tr>\n",
       "\t<tr><th scope=row>alc_freq_filter</th><td>  1.0004931</td><td>  0.9983703</td><td>  1.0026204</td></tr>\n",
       "\t<tr><th scope=row>smok_stat</th><td>  0.9993401</td><td>  0.9970331</td><td>  1.0016533</td></tr>\n",
       "\t<tr><th scope=row>bmi_filter</th><td>  0.9552238</td><td>  0.9524079</td><td>  0.9580481</td></tr>\n",
       "\t<tr><th scope=row>full_screen_time_filter</th><td>  0.9694379</td><td>  0.9657380</td><td>  0.9731544</td></tr>\n",
       "\t<tr><th scope=row>employ_status_array_filter</th><td>  1.0164354</td><td>  1.0134808</td><td>  1.0193995</td></tr>\n",
       "\t<tr><th scope=row>comorb_sum</th><td>  1.0091412</td><td>  1.0069603</td><td>  1.0113282</td></tr>\n",
       "\t<tr><th scope=row>gov_assistance_filter</th><td>  1.0642971</td><td>  1.0537149</td><td>  1.0750153</td></tr>\n",
       "</tbody>\n",
       "</table>\n"
      ],
      "text/latex": [
       "A matrix: 11 × 3 of type dbl\n",
       "\\begin{tabular}{r|lll}\n",
       "  & Estimate & 2.5 \\% & 97.5 \\%\\\\\n",
       "\\hline\n",
       "\t(Intercept) & 555.3310942 & 552.2911170 & 558.3885379\\\\\n",
       "\tcevd\\_event &   1.0068126 &   0.9981560 &   1.0155652\\\\\n",
       "\tage\\_levels &   0.9924048 &   0.9890493 &   0.9957725\\\\\n",
       "\tmale &   1.0637425 &   1.0606065 &   1.0668882\\\\\n",
       "\talc\\_freq\\_filter &   1.0004931 &   0.9983703 &   1.0026204\\\\\n",
       "\tsmok\\_stat &   0.9993401 &   0.9970331 &   1.0016533\\\\\n",
       "\tbmi\\_filter &   0.9552238 &   0.9524079 &   0.9580481\\\\\n",
       "\tfull\\_screen\\_time\\_filter &   0.9694379 &   0.9657380 &   0.9731544\\\\\n",
       "\temploy\\_status\\_array\\_filter &   1.0164354 &   1.0134808 &   1.0193995\\\\\n",
       "\tcomorb\\_sum &   1.0091412 &   1.0069603 &   1.0113282\\\\\n",
       "\tgov\\_assistance\\_filter &   1.0642971 &   1.0537149 &   1.0750153\\\\\n",
       "\\end{tabular}\n"
      ],
      "text/markdown": [
       "\n",
       "A matrix: 11 × 3 of type dbl\n",
       "\n",
       "| <!--/--> | Estimate | 2.5 % | 97.5 % |\n",
       "|---|---|---|---|\n",
       "| (Intercept) | 555.3310942 | 552.2911170 | 558.3885379 |\n",
       "| cevd_event |   1.0068126 |   0.9981560 |   1.0155652 |\n",
       "| age_levels |   0.9924048 |   0.9890493 |   0.9957725 |\n",
       "| male |   1.0637425 |   1.0606065 |   1.0668882 |\n",
       "| alc_freq_filter |   1.0004931 |   0.9983703 |   1.0026204 |\n",
       "| smok_stat |   0.9993401 |   0.9970331 |   1.0016533 |\n",
       "| bmi_filter |   0.9552238 |   0.9524079 |   0.9580481 |\n",
       "| full_screen_time_filter |   0.9694379 |   0.9657380 |   0.9731544 |\n",
       "| employ_status_array_filter |   1.0164354 |   1.0134808 |   1.0193995 |\n",
       "| comorb_sum |   1.0091412 |   1.0069603 |   1.0113282 |\n",
       "| gov_assistance_filter |   1.0642971 |   1.0537149 |   1.0750153 |\n",
       "\n"
      ],
      "text/plain": [
       "                           Estimate    2.5 %       97.5 %     \n",
       "(Intercept)                555.3310942 552.2911170 558.3885379\n",
       "cevd_event                   1.0068126   0.9981560   1.0155652\n",
       "age_levels                   0.9924048   0.9890493   0.9957725\n",
       "male                         1.0637425   1.0606065   1.0668882\n",
       "alc_freq_filter              1.0004931   0.9983703   1.0026204\n",
       "smok_stat                    0.9993401   0.9970331   1.0016533\n",
       "bmi_filter                   0.9552238   0.9524079   0.9580481\n",
       "full_screen_time_filter      0.9694379   0.9657380   0.9731544\n",
       "employ_status_array_filter   1.0164354   1.0134808   1.0193995\n",
       "comorb_sum                   1.0091412   1.0069603   1.0113282\n",
       "gov_assistance_filter        1.0642971   1.0537149   1.0750153"
      ]
     },
     "metadata": {},
     "output_type": "display_data"
    }
   ],
   "source": [
    "summary(m1 <- glm.nb(pa_sed_convert ~ cevd_event + age_levels + male + alc_freq_filter + smok_stat + bmi_filter + full_screen_time_filter + employ_status_array_filter + comorb_sum +gov_assistance_filter, data = data_dep_1))\n",
    "(est <- cbind(Estimate = coef(m1), confint(m1)))\n",
    "exp(est)"
   ]
  },
  {
   "cell_type": "code",
   "execution_count": 49,
   "id": "d4734d5b-47fa-4379-ae9c-ff0ae6ba7de7",
   "metadata": {
    "tags": []
   },
   "outputs": [
    {
     "data": {
      "text/plain": [
       "\n",
       "Call:\n",
       "glm.nb(formula = pa_sed_convert ~ cevd_event + age_levels + male + \n",
       "    alc_freq_filter + smok_stat + bmi_filter + full_screen_time_filter + \n",
       "    employ_status_array_filter + comorb_sum + gov_assistance_filter, \n",
       "    data = data_dep_2, init.theta = 28.5131526, link = log)\n",
       "\n",
       "Coefficients:\n",
       "                             Estimate Std. Error  z value Pr(>|z|)    \n",
       "(Intercept)                 6.3197616  0.0028155 2244.595  < 2e-16 ***\n",
       "cevd_event                  0.0088818  0.0045409    1.956   0.0505 .  \n",
       "age_levels                 -0.0080777  0.0017352   -4.655 3.24e-06 ***\n",
       "male                        0.0620716  0.0015186   40.875  < 2e-16 ***\n",
       "alc_freq_filter             0.0007258  0.0010920    0.665   0.5063    \n",
       "smok_stat                  -0.0009107  0.0011925   -0.764   0.4451    \n",
       "bmi_filter                 -0.0460072  0.0015171  -30.326  < 2e-16 ***\n",
       "full_screen_time_filter    -0.0310605  0.0019620  -15.831  < 2e-16 ***\n",
       "employ_status_array_filter  0.0158289  0.0014835   10.670  < 2e-16 ***\n",
       "comorb_sum                  0.0088165  0.0011141    7.914 2.50e-15 ***\n",
       "gov_assistance_filter       0.0584523  0.0052726   11.086  < 2e-16 ***\n",
       "---\n",
       "Signif. codes:  0 ‘***’ 0.001 ‘**’ 0.01 ‘*’ 0.05 ‘.’ 0.1 ‘ ’ 1\n",
       "\n",
       "(Dispersion parameter for Negative Binomial(28.5132) family taken to be 1)\n",
       "\n",
       "    Null deviance: 74272  on 69510  degrees of freedom\n",
       "Residual deviance: 70049  on 69500  degrees of freedom\n",
       "  (1 observation deleted due to missingness)\n",
       "AIC: 846804\n",
       "\n",
       "Number of Fisher Scoring iterations: 1\n",
       "\n",
       "\n",
       "              Theta:  28.513 \n",
       "          Std. Err.:  0.160 \n",
       "\n",
       " 2 x log-likelihood:  -846780.137 "
      ]
     },
     "metadata": {},
     "output_type": "display_data"
    },
    {
     "name": "stderr",
     "output_type": "stream",
     "text": [
      "Waiting for profiling to be done...\n",
      "\n"
     ]
    },
    {
     "data": {
      "text/html": [
       "<table class=\"dataframe\">\n",
       "<caption>A matrix: 11 × 3 of type dbl</caption>\n",
       "<thead>\n",
       "\t<tr><th></th><th scope=col>Estimate</th><th scope=col>2.5 %</th><th scope=col>97.5 %</th></tr>\n",
       "</thead>\n",
       "<tbody>\n",
       "\t<tr><th scope=row>(Intercept)</th><td> 6.3197616059</td><td> 6.314234e+00</td><td> 6.325290863</td></tr>\n",
       "\t<tr><th scope=row>cevd_event</th><td> 0.0088817547</td><td>-9.362652e-06</td><td> 0.017794877</td></tr>\n",
       "\t<tr><th scope=row>age_levels</th><td>-0.0080776937</td><td>-1.148928e-02</td><td>-0.004665157</td></tr>\n",
       "\t<tr><th scope=row>male</th><td> 0.0620716282</td><td> 5.909975e-02</td><td> 0.065043805</td></tr>\n",
       "\t<tr><th scope=row>alc_freq_filter</th><td> 0.0007258070</td><td>-1.413490e-03</td><td> 0.002865099</td></tr>\n",
       "\t<tr><th scope=row>smok_stat</th><td>-0.0009106565</td><td>-3.242131e-03</td><td> 0.001421710</td></tr>\n",
       "\t<tr><th scope=row>bmi_filter</th><td>-0.0460072018</td><td>-4.897999e-02</td><td>-0.043034397</td></tr>\n",
       "\t<tr><th scope=row>full_screen_time_filter</th><td>-0.0310604553</td><td>-3.490660e-02</td><td>-0.027211669</td></tr>\n",
       "\t<tr><th scope=row>employ_status_array_filter</th><td> 0.0158289198</td><td> 1.289646e-02</td><td> 0.018762268</td></tr>\n",
       "\t<tr><th scope=row>comorb_sum</th><td> 0.0088165169</td><td> 6.633291e-03</td><td> 0.011001112</td></tr>\n",
       "\t<tr><th scope=row>gov_assistance_filter</th><td> 0.0584522799</td><td> 4.812876e-02</td><td> 0.068805503</td></tr>\n",
       "</tbody>\n",
       "</table>\n"
      ],
      "text/latex": [
       "A matrix: 11 × 3 of type dbl\n",
       "\\begin{tabular}{r|lll}\n",
       "  & Estimate & 2.5 \\% & 97.5 \\%\\\\\n",
       "\\hline\n",
       "\t(Intercept) &  6.3197616059 &  6.314234e+00 &  6.325290863\\\\\n",
       "\tcevd\\_event &  0.0088817547 & -9.362652e-06 &  0.017794877\\\\\n",
       "\tage\\_levels & -0.0080776937 & -1.148928e-02 & -0.004665157\\\\\n",
       "\tmale &  0.0620716282 &  5.909975e-02 &  0.065043805\\\\\n",
       "\talc\\_freq\\_filter &  0.0007258070 & -1.413490e-03 &  0.002865099\\\\\n",
       "\tsmok\\_stat & -0.0009106565 & -3.242131e-03 &  0.001421710\\\\\n",
       "\tbmi\\_filter & -0.0460072018 & -4.897999e-02 & -0.043034397\\\\\n",
       "\tfull\\_screen\\_time\\_filter & -0.0310604553 & -3.490660e-02 & -0.027211669\\\\\n",
       "\temploy\\_status\\_array\\_filter &  0.0158289198 &  1.289646e-02 &  0.018762268\\\\\n",
       "\tcomorb\\_sum &  0.0088165169 &  6.633291e-03 &  0.011001112\\\\\n",
       "\tgov\\_assistance\\_filter &  0.0584522799 &  4.812876e-02 &  0.068805503\\\\\n",
       "\\end{tabular}\n"
      ],
      "text/markdown": [
       "\n",
       "A matrix: 11 × 3 of type dbl\n",
       "\n",
       "| <!--/--> | Estimate | 2.5 % | 97.5 % |\n",
       "|---|---|---|---|\n",
       "| (Intercept) |  6.3197616059 |  6.314234e+00 |  6.325290863 |\n",
       "| cevd_event |  0.0088817547 | -9.362652e-06 |  0.017794877 |\n",
       "| age_levels | -0.0080776937 | -1.148928e-02 | -0.004665157 |\n",
       "| male |  0.0620716282 |  5.909975e-02 |  0.065043805 |\n",
       "| alc_freq_filter |  0.0007258070 | -1.413490e-03 |  0.002865099 |\n",
       "| smok_stat | -0.0009106565 | -3.242131e-03 |  0.001421710 |\n",
       "| bmi_filter | -0.0460072018 | -4.897999e-02 | -0.043034397 |\n",
       "| full_screen_time_filter | -0.0310604553 | -3.490660e-02 | -0.027211669 |\n",
       "| employ_status_array_filter |  0.0158289198 |  1.289646e-02 |  0.018762268 |\n",
       "| comorb_sum |  0.0088165169 |  6.633291e-03 |  0.011001112 |\n",
       "| gov_assistance_filter |  0.0584522799 |  4.812876e-02 |  0.068805503 |\n",
       "\n"
      ],
      "text/plain": [
       "                           Estimate      2.5 %         97.5 %      \n",
       "(Intercept)                 6.3197616059  6.314234e+00  6.325290863\n",
       "cevd_event                  0.0088817547 -9.362652e-06  0.017794877\n",
       "age_levels                 -0.0080776937 -1.148928e-02 -0.004665157\n",
       "male                        0.0620716282  5.909975e-02  0.065043805\n",
       "alc_freq_filter             0.0007258070 -1.413490e-03  0.002865099\n",
       "smok_stat                  -0.0009106565 -3.242131e-03  0.001421710\n",
       "bmi_filter                 -0.0460072018 -4.897999e-02 -0.043034397\n",
       "full_screen_time_filter    -0.0310604553 -3.490660e-02 -0.027211669\n",
       "employ_status_array_filter  0.0158289198  1.289646e-02  0.018762268\n",
       "comorb_sum                  0.0088165169  6.633291e-03  0.011001112\n",
       "gov_assistance_filter       0.0584522799  4.812876e-02  0.068805503"
      ]
     },
     "metadata": {},
     "output_type": "display_data"
    },
    {
     "data": {
      "text/html": [
       "<table class=\"dataframe\">\n",
       "<caption>A matrix: 11 × 3 of type dbl</caption>\n",
       "<thead>\n",
       "\t<tr><th></th><th scope=col>Estimate</th><th scope=col>2.5 %</th><th scope=col>97.5 %</th></tr>\n",
       "</thead>\n",
       "<tbody>\n",
       "\t<tr><th scope=row>(Intercept)</th><td>555.4405629</td><td>552.3786052</td><td>558.5202431</td></tr>\n",
       "\t<tr><th scope=row>cevd_event</th><td>  1.0089213</td><td>  0.9999906</td><td>  1.0179541</td></tr>\n",
       "\t<tr><th scope=row>age_levels</th><td>  0.9919548</td><td>  0.9885765</td><td>  0.9953457</td></tr>\n",
       "\t<tr><th scope=row>male</th><td>  1.0640386</td><td>  1.0608811</td><td>  1.0672058</td></tr>\n",
       "\t<tr><th scope=row>alc_freq_filter</th><td>  1.0007261</td><td>  0.9985875</td><td>  1.0028692</td></tr>\n",
       "\t<tr><th scope=row>smok_stat</th><td>  0.9990898</td><td>  0.9967631</td><td>  1.0014227</td></tr>\n",
       "\t<tr><th scope=row>bmi_filter</th><td>  0.9550351</td><td>  0.9522002</td><td>  0.9578784</td></tr>\n",
       "\t<tr><th scope=row>full_screen_time_filter</th><td>  0.9694170</td><td>  0.9656956</td><td>  0.9731552</td></tr>\n",
       "\t<tr><th scope=row>employ_status_array_filter</th><td>  1.0159549</td><td>  1.0129800</td><td>  1.0189394</td></tr>\n",
       "\t<tr><th scope=row>comorb_sum</th><td>  1.0088555</td><td>  1.0066553</td><td>  1.0110618</td></tr>\n",
       "\t<tr><th scope=row>gov_assistance_filter</th><td>  1.0601944</td><td>  1.0493058</td><td>  1.0712278</td></tr>\n",
       "</tbody>\n",
       "</table>\n"
      ],
      "text/latex": [
       "A matrix: 11 × 3 of type dbl\n",
       "\\begin{tabular}{r|lll}\n",
       "  & Estimate & 2.5 \\% & 97.5 \\%\\\\\n",
       "\\hline\n",
       "\t(Intercept) & 555.4405629 & 552.3786052 & 558.5202431\\\\\n",
       "\tcevd\\_event &   1.0089213 &   0.9999906 &   1.0179541\\\\\n",
       "\tage\\_levels &   0.9919548 &   0.9885765 &   0.9953457\\\\\n",
       "\tmale &   1.0640386 &   1.0608811 &   1.0672058\\\\\n",
       "\talc\\_freq\\_filter &   1.0007261 &   0.9985875 &   1.0028692\\\\\n",
       "\tsmok\\_stat &   0.9990898 &   0.9967631 &   1.0014227\\\\\n",
       "\tbmi\\_filter &   0.9550351 &   0.9522002 &   0.9578784\\\\\n",
       "\tfull\\_screen\\_time\\_filter &   0.9694170 &   0.9656956 &   0.9731552\\\\\n",
       "\temploy\\_status\\_array\\_filter &   1.0159549 &   1.0129800 &   1.0189394\\\\\n",
       "\tcomorb\\_sum &   1.0088555 &   1.0066553 &   1.0110618\\\\\n",
       "\tgov\\_assistance\\_filter &   1.0601944 &   1.0493058 &   1.0712278\\\\\n",
       "\\end{tabular}\n"
      ],
      "text/markdown": [
       "\n",
       "A matrix: 11 × 3 of type dbl\n",
       "\n",
       "| <!--/--> | Estimate | 2.5 % | 97.5 % |\n",
       "|---|---|---|---|\n",
       "| (Intercept) | 555.4405629 | 552.3786052 | 558.5202431 |\n",
       "| cevd_event |   1.0089213 |   0.9999906 |   1.0179541 |\n",
       "| age_levels |   0.9919548 |   0.9885765 |   0.9953457 |\n",
       "| male |   1.0640386 |   1.0608811 |   1.0672058 |\n",
       "| alc_freq_filter |   1.0007261 |   0.9985875 |   1.0028692 |\n",
       "| smok_stat |   0.9990898 |   0.9967631 |   1.0014227 |\n",
       "| bmi_filter |   0.9550351 |   0.9522002 |   0.9578784 |\n",
       "| full_screen_time_filter |   0.9694170 |   0.9656956 |   0.9731552 |\n",
       "| employ_status_array_filter |   1.0159549 |   1.0129800 |   1.0189394 |\n",
       "| comorb_sum |   1.0088555 |   1.0066553 |   1.0110618 |\n",
       "| gov_assistance_filter |   1.0601944 |   1.0493058 |   1.0712278 |\n",
       "\n"
      ],
      "text/plain": [
       "                           Estimate    2.5 %       97.5 %     \n",
       "(Intercept)                555.4405629 552.3786052 558.5202431\n",
       "cevd_event                   1.0089213   0.9999906   1.0179541\n",
       "age_levels                   0.9919548   0.9885765   0.9953457\n",
       "male                         1.0640386   1.0608811   1.0672058\n",
       "alc_freq_filter              1.0007261   0.9985875   1.0028692\n",
       "smok_stat                    0.9990898   0.9967631   1.0014227\n",
       "bmi_filter                   0.9550351   0.9522002   0.9578784\n",
       "full_screen_time_filter      0.9694170   0.9656956   0.9731552\n",
       "employ_status_array_filter   1.0159549   1.0129800   1.0189394\n",
       "comorb_sum                   1.0088555   1.0066553   1.0110618\n",
       "gov_assistance_filter        1.0601944   1.0493058   1.0712278"
      ]
     },
     "metadata": {},
     "output_type": "display_data"
    }
   ],
   "source": [
    "summary(m1 <- glm.nb(pa_sed_convert ~ cevd_event + age_levels + male + alc_freq_filter + smok_stat + bmi_filter + full_screen_time_filter + employ_status_array_filter + comorb_sum +gov_assistance_filter, data = data_dep_2))\n",
    "(est <- cbind(Estimate = coef(m1), confint(m1)))\n",
    "exp(est)"
   ]
  },
  {
   "cell_type": "code",
   "execution_count": 50,
   "id": "1a116462-30c6-446e-ab2a-f0faa84d2eb1",
   "metadata": {
    "tags": []
   },
   "outputs": [
    {
     "data": {
      "text/plain": [
       "\n",
       "Call:\n",
       "glm.nb(formula = pa_sed_convert ~ cevd_event + age_levels + male + \n",
       "    alc_freq_filter + smok_stat + bmi_filter + full_screen_time_filter + \n",
       "    employ_status_array_filter + comorb_sum + gov_assistance_filter, \n",
       "    data = data_dep_3, init.theta = 28.37938607, link = log)\n",
       "\n",
       "Coefficients:\n",
       "                             Estimate Std. Error  z value Pr(>|z|)    \n",
       "(Intercept)                 6.3204703  0.0027459 2301.754  < 2e-16 ***\n",
       "cevd_event                  0.0084803  0.0044472    1.907   0.0565 .  \n",
       "age_levels                 -0.0079629  0.0016956   -4.696 2.65e-06 ***\n",
       "male                        0.0610850  0.0014892   41.018  < 2e-16 ***\n",
       "alc_freq_filter             0.0003159  0.0010672    0.296   0.7672    \n",
       "smok_stat                  -0.0002936  0.0011632   -0.252   0.8007    \n",
       "bmi_filter                 -0.0457090  0.0014867  -30.746  < 2e-16 ***\n",
       "full_screen_time_filter    -0.0310529  0.0019211  -16.164  < 2e-16 ***\n",
       "employ_status_array_filter  0.0157648  0.0014446   10.913  < 2e-16 ***\n",
       "comorb_sum                  0.0096406  0.0010889    8.853  < 2e-16 ***\n",
       "gov_assistance_filter       0.0579783  0.0048514   11.951  < 2e-16 ***\n",
       "---\n",
       "Signif. codes:  0 ‘***’ 0.001 ‘**’ 0.01 ‘*’ 0.05 ‘.’ 0.1 ‘ ’ 1\n",
       "\n",
       "(Dispersion parameter for Negative Binomial(28.3794) family taken to be 1)\n",
       "\n",
       "    Null deviance: 77623  on 72727  degrees of freedom\n",
       "Residual deviance: 73288  on 72717  degrees of freedom\n",
       "  (1 observation deleted due to missingness)\n",
       "AIC: 886327\n",
       "\n",
       "Number of Fisher Scoring iterations: 1\n",
       "\n",
       "\n",
       "              Theta:  28.379 \n",
       "          Std. Err.:  0.156 \n",
       "\n",
       " 2 x log-likelihood:  -886302.941 "
      ]
     },
     "metadata": {},
     "output_type": "display_data"
    },
    {
     "name": "stderr",
     "output_type": "stream",
     "text": [
      "Waiting for profiling to be done...\n",
      "\n"
     ]
    },
    {
     "data": {
      "text/html": [
       "<table class=\"dataframe\">\n",
       "<caption>A matrix: 11 × 3 of type dbl</caption>\n",
       "<thead>\n",
       "\t<tr><th></th><th scope=col>Estimate</th><th scope=col>2.5 %</th><th scope=col>97.5 %</th></tr>\n",
       "</thead>\n",
       "<tbody>\n",
       "\t<tr><th scope=row>(Intercept)</th><td> 6.3204703046</td><td> 6.3150780272</td><td> 6.325863875</td></tr>\n",
       "\t<tr><th scope=row>cevd_event</th><td> 0.0084803401</td><td>-0.0002274207</td><td> 0.017209216</td></tr>\n",
       "\t<tr><th scope=row>age_levels</th><td>-0.0079628517</td><td>-0.0112958197</td><td>-0.004628983</td></tr>\n",
       "\t<tr><th scope=row>male</th><td> 0.0610850402</td><td> 0.0581704861</td><td> 0.063999914</td></tr>\n",
       "\t<tr><th scope=row>alc_freq_filter</th><td> 0.0003159111</td><td>-0.0017752161</td><td> 0.002407038</td></tr>\n",
       "\t<tr><th scope=row>smok_stat</th><td>-0.0002935756</td><td>-0.0025676204</td><td> 0.001981312</td></tr>\n",
       "\t<tr><th scope=row>bmi_filter</th><td>-0.0457089649</td><td>-0.0486222999</td><td>-0.042795604</td></tr>\n",
       "\t<tr><th scope=row>full_screen_time_filter</th><td>-0.0310529173</td><td>-0.0348188545</td><td>-0.027284442</td></tr>\n",
       "\t<tr><th scope=row>employ_status_array_filter</th><td> 0.0157648258</td><td> 0.0129094501</td><td> 0.018621044</td></tr>\n",
       "\t<tr><th scope=row>comorb_sum</th><td> 0.0096405886</td><td> 0.0075069667</td><td> 0.011775513</td></tr>\n",
       "\t<tr><th scope=row>gov_assistance_filter</th><td> 0.0579782817</td><td> 0.0484769748</td><td> 0.067504325</td></tr>\n",
       "</tbody>\n",
       "</table>\n"
      ],
      "text/latex": [
       "A matrix: 11 × 3 of type dbl\n",
       "\\begin{tabular}{r|lll}\n",
       "  & Estimate & 2.5 \\% & 97.5 \\%\\\\\n",
       "\\hline\n",
       "\t(Intercept) &  6.3204703046 &  6.3150780272 &  6.325863875\\\\\n",
       "\tcevd\\_event &  0.0084803401 & -0.0002274207 &  0.017209216\\\\\n",
       "\tage\\_levels & -0.0079628517 & -0.0112958197 & -0.004628983\\\\\n",
       "\tmale &  0.0610850402 &  0.0581704861 &  0.063999914\\\\\n",
       "\talc\\_freq\\_filter &  0.0003159111 & -0.0017752161 &  0.002407038\\\\\n",
       "\tsmok\\_stat & -0.0002935756 & -0.0025676204 &  0.001981312\\\\\n",
       "\tbmi\\_filter & -0.0457089649 & -0.0486222999 & -0.042795604\\\\\n",
       "\tfull\\_screen\\_time\\_filter & -0.0310529173 & -0.0348188545 & -0.027284442\\\\\n",
       "\temploy\\_status\\_array\\_filter &  0.0157648258 &  0.0129094501 &  0.018621044\\\\\n",
       "\tcomorb\\_sum &  0.0096405886 &  0.0075069667 &  0.011775513\\\\\n",
       "\tgov\\_assistance\\_filter &  0.0579782817 &  0.0484769748 &  0.067504325\\\\\n",
       "\\end{tabular}\n"
      ],
      "text/markdown": [
       "\n",
       "A matrix: 11 × 3 of type dbl\n",
       "\n",
       "| <!--/--> | Estimate | 2.5 % | 97.5 % |\n",
       "|---|---|---|---|\n",
       "| (Intercept) |  6.3204703046 |  6.3150780272 |  6.325863875 |\n",
       "| cevd_event |  0.0084803401 | -0.0002274207 |  0.017209216 |\n",
       "| age_levels | -0.0079628517 | -0.0112958197 | -0.004628983 |\n",
       "| male |  0.0610850402 |  0.0581704861 |  0.063999914 |\n",
       "| alc_freq_filter |  0.0003159111 | -0.0017752161 |  0.002407038 |\n",
       "| smok_stat | -0.0002935756 | -0.0025676204 |  0.001981312 |\n",
       "| bmi_filter | -0.0457089649 | -0.0486222999 | -0.042795604 |\n",
       "| full_screen_time_filter | -0.0310529173 | -0.0348188545 | -0.027284442 |\n",
       "| employ_status_array_filter |  0.0157648258 |  0.0129094501 |  0.018621044 |\n",
       "| comorb_sum |  0.0096405886 |  0.0075069667 |  0.011775513 |\n",
       "| gov_assistance_filter |  0.0579782817 |  0.0484769748 |  0.067504325 |\n",
       "\n"
      ],
      "text/plain": [
       "                           Estimate      2.5 %         97.5 %      \n",
       "(Intercept)                 6.3204703046  6.3150780272  6.325863875\n",
       "cevd_event                  0.0084803401 -0.0002274207  0.017209216\n",
       "age_levels                 -0.0079628517 -0.0112958197 -0.004628983\n",
       "male                        0.0610850402  0.0581704861  0.063999914\n",
       "alc_freq_filter             0.0003159111 -0.0017752161  0.002407038\n",
       "smok_stat                  -0.0002935756 -0.0025676204  0.001981312\n",
       "bmi_filter                 -0.0457089649 -0.0486222999 -0.042795604\n",
       "full_screen_time_filter    -0.0310529173 -0.0348188545 -0.027284442\n",
       "employ_status_array_filter  0.0157648258  0.0129094501  0.018621044\n",
       "comorb_sum                  0.0096405886  0.0075069667  0.011775513\n",
       "gov_assistance_filter       0.0579782817  0.0484769748  0.067504325"
      ]
     },
     "metadata": {},
     "output_type": "display_data"
    },
    {
     "data": {
      "text/html": [
       "<table class=\"dataframe\">\n",
       "<caption>A matrix: 11 × 3 of type dbl</caption>\n",
       "<thead>\n",
       "\t<tr><th></th><th scope=col>Estimate</th><th scope=col>2.5 %</th><th scope=col>97.5 %</th></tr>\n",
       "</thead>\n",
       "<tbody>\n",
       "\t<tr><th scope=row>(Intercept)</th><td>555.8343424</td><td>552.8451959</td><td>558.8403736</td></tr>\n",
       "\t<tr><th scope=row>cevd_event</th><td>  1.0085164</td><td>  0.9997726</td><td>  1.0173581</td></tr>\n",
       "\t<tr><th scope=row>age_levels</th><td>  0.9920688</td><td>  0.9887677</td><td>  0.9953817</td></tr>\n",
       "\t<tr><th scope=row>male</th><td>  1.0629893</td><td>  1.0598957</td><td>  1.0660923</td></tr>\n",
       "\t<tr><th scope=row>alc_freq_filter</th><td>  1.0003160</td><td>  0.9982264</td><td>  1.0024099</td></tr>\n",
       "\t<tr><th scope=row>smok_stat</th><td>  0.9997065</td><td>  0.9974357</td><td>  1.0019833</td></tr>\n",
       "\t<tr><th scope=row>bmi_filter</th><td>  0.9553200</td><td>  0.9525408</td><td>  0.9581072</td></tr>\n",
       "\t<tr><th scope=row>full_screen_time_filter</th><td>  0.9694243</td><td>  0.9657803</td><td>  0.9730844</td></tr>\n",
       "\t<tr><th scope=row>employ_status_array_filter</th><td>  1.0158897</td><td>  1.0129931</td><td>  1.0187955</td></tr>\n",
       "\t<tr><th scope=row>comorb_sum</th><td>  1.0096872</td><td>  1.0075352</td><td>  1.0118451</td></tr>\n",
       "\t<tr><th scope=row>gov_assistance_filter</th><td>  1.0596920</td><td>  1.0496712</td><td>  1.0698349</td></tr>\n",
       "</tbody>\n",
       "</table>\n"
      ],
      "text/latex": [
       "A matrix: 11 × 3 of type dbl\n",
       "\\begin{tabular}{r|lll}\n",
       "  & Estimate & 2.5 \\% & 97.5 \\%\\\\\n",
       "\\hline\n",
       "\t(Intercept) & 555.8343424 & 552.8451959 & 558.8403736\\\\\n",
       "\tcevd\\_event &   1.0085164 &   0.9997726 &   1.0173581\\\\\n",
       "\tage\\_levels &   0.9920688 &   0.9887677 &   0.9953817\\\\\n",
       "\tmale &   1.0629893 &   1.0598957 &   1.0660923\\\\\n",
       "\talc\\_freq\\_filter &   1.0003160 &   0.9982264 &   1.0024099\\\\\n",
       "\tsmok\\_stat &   0.9997065 &   0.9974357 &   1.0019833\\\\\n",
       "\tbmi\\_filter &   0.9553200 &   0.9525408 &   0.9581072\\\\\n",
       "\tfull\\_screen\\_time\\_filter &   0.9694243 &   0.9657803 &   0.9730844\\\\\n",
       "\temploy\\_status\\_array\\_filter &   1.0158897 &   1.0129931 &   1.0187955\\\\\n",
       "\tcomorb\\_sum &   1.0096872 &   1.0075352 &   1.0118451\\\\\n",
       "\tgov\\_assistance\\_filter &   1.0596920 &   1.0496712 &   1.0698349\\\\\n",
       "\\end{tabular}\n"
      ],
      "text/markdown": [
       "\n",
       "A matrix: 11 × 3 of type dbl\n",
       "\n",
       "| <!--/--> | Estimate | 2.5 % | 97.5 % |\n",
       "|---|---|---|---|\n",
       "| (Intercept) | 555.8343424 | 552.8451959 | 558.8403736 |\n",
       "| cevd_event |   1.0085164 |   0.9997726 |   1.0173581 |\n",
       "| age_levels |   0.9920688 |   0.9887677 |   0.9953817 |\n",
       "| male |   1.0629893 |   1.0598957 |   1.0660923 |\n",
       "| alc_freq_filter |   1.0003160 |   0.9982264 |   1.0024099 |\n",
       "| smok_stat |   0.9997065 |   0.9974357 |   1.0019833 |\n",
       "| bmi_filter |   0.9553200 |   0.9525408 |   0.9581072 |\n",
       "| full_screen_time_filter |   0.9694243 |   0.9657803 |   0.9730844 |\n",
       "| employ_status_array_filter |   1.0158897 |   1.0129931 |   1.0187955 |\n",
       "| comorb_sum |   1.0096872 |   1.0075352 |   1.0118451 |\n",
       "| gov_assistance_filter |   1.0596920 |   1.0496712 |   1.0698349 |\n",
       "\n"
      ],
      "text/plain": [
       "                           Estimate    2.5 %       97.5 %     \n",
       "(Intercept)                555.8343424 552.8451959 558.8403736\n",
       "cevd_event                   1.0085164   0.9997726   1.0173581\n",
       "age_levels                   0.9920688   0.9887677   0.9953817\n",
       "male                         1.0629893   1.0598957   1.0660923\n",
       "alc_freq_filter              1.0003160   0.9982264   1.0024099\n",
       "smok_stat                    0.9997065   0.9974357   1.0019833\n",
       "bmi_filter                   0.9553200   0.9525408   0.9581072\n",
       "full_screen_time_filter      0.9694243   0.9657803   0.9730844\n",
       "employ_status_array_filter   1.0158897   1.0129931   1.0187955\n",
       "comorb_sum                   1.0096872   1.0075352   1.0118451\n",
       "gov_assistance_filter        1.0596920   1.0496712   1.0698349"
      ]
     },
     "metadata": {},
     "output_type": "display_data"
    }
   ],
   "source": [
    "summary(m1 <- glm.nb(pa_sed_convert ~ cevd_event + age_levels + male + alc_freq_filter + smok_stat + bmi_filter + full_screen_time_filter + employ_status_array_filter + comorb_sum +gov_assistance_filter, data = data_dep_3))\n",
    "(est <- cbind(Estimate = coef(m1), confint(m1)))\n",
    "exp(est)"
   ]
  },
  {
   "cell_type": "code",
   "execution_count": 51,
   "id": "89bcc665-d2bf-4e62-b038-5aba2e69cb02",
   "metadata": {
    "tags": []
   },
   "outputs": [
    {
     "data": {
      "text/plain": [
       "\n",
       "Call:\n",
       "glm.nb(formula = pa_sleep_convert ~ cevd_event + age_levels + \n",
       "    male + alc_freq_filter + smok_stat + bmi_filter + full_screen_time_filter + \n",
       "    employ_status_array_filter + comorb_sum + gov_assistance_filter, \n",
       "    data = data_dep_1, init.theta = 45.4604338, link = log)\n",
       "\n",
       "Coefficients:\n",
       "                             Estimate Std. Error  z value Pr(>|z|)    \n",
       "(Intercept)                 6.2836919  0.0022482 2794.944  < 2e-16 ***\n",
       "cevd_event                 -0.0015431  0.0035469   -0.435  0.66352    \n",
       "age_levels                  0.0134269  0.0013852    9.693  < 2e-16 ***\n",
       "male                       -0.0139639  0.0012136  -11.506  < 2e-16 ***\n",
       "alc_freq_filter            -0.0049931  0.0008720   -5.726 1.03e-08 ***\n",
       "smok_stat                   0.0028049  0.0009507    2.950  0.00317 ** \n",
       "bmi_filter                  0.0025435  0.0012116    2.099  0.03579 *  \n",
       "full_screen_time_filter    -0.0170165  0.0015683  -10.850  < 2e-16 ***\n",
       "employ_status_array_filter -0.0134130  0.0011844  -11.325  < 2e-16 ***\n",
       "comorb_sum                  0.0061153  0.0008882    6.885 5.78e-12 ***\n",
       "gov_assistance_filter       0.0108103  0.0041068    2.632  0.00848 ** \n",
       "---\n",
       "Signif. codes:  0 ‘***’ 0.001 ‘**’ 0.01 ‘*’ 0.05 ‘.’ 0.1 ‘ ’ 1\n",
       "\n",
       "(Dispersion parameter for Negative Binomial(45.4604) family taken to be 1)\n",
       "\n",
       "    Null deviance: 73306  on 70634  degrees of freedom\n",
       "Residual deviance: 72427  on 70624  degrees of freedom\n",
       "  (1 observation deleted due to missingness)\n",
       "AIC: 822267\n",
       "\n",
       "Number of Fisher Scoring iterations: 1\n",
       "\n",
       "\n",
       "              Theta:  45.460 \n",
       "          Std. Err.:  0.267 \n",
       "\n",
       " 2 x log-likelihood:  -822242.988 "
      ]
     },
     "metadata": {},
     "output_type": "display_data"
    },
    {
     "name": "stderr",
     "output_type": "stream",
     "text": [
      "Waiting for profiling to be done...\n",
      "\n"
     ]
    },
    {
     "data": {
      "text/html": [
       "<table class=\"dataframe\">\n",
       "<caption>A matrix: 11 × 3 of type dbl</caption>\n",
       "<thead>\n",
       "\t<tr><th></th><th scope=col>Estimate</th><th scope=col>2.5 %</th><th scope=col>97.5 %</th></tr>\n",
       "</thead>\n",
       "<tbody>\n",
       "\t<tr><th scope=row>(Intercept)</th><td> 6.283691938</td><td> 6.2792865465</td><td> 6.288098134</td></tr>\n",
       "\t<tr><th scope=row>cevd_event</th><td>-0.001543137</td><td>-0.0084887199</td><td> 0.005414885</td></tr>\n",
       "\t<tr><th scope=row>age_levels</th><td> 0.013426870</td><td> 0.0107141921</td><td> 0.016140093</td></tr>\n",
       "\t<tr><th scope=row>male</th><td>-0.013963907</td><td>-0.0163433925</td><td>-0.011584237</td></tr>\n",
       "\t<tr><th scope=row>alc_freq_filter</th><td>-0.004993065</td><td>-0.0067029805</td><td>-0.003283153</td></tr>\n",
       "\t<tr><th scope=row>smok_stat</th><td> 0.002804893</td><td> 0.0009433871</td><td> 0.004666923</td></tr>\n",
       "\t<tr><th scope=row>bmi_filter</th><td> 0.002543474</td><td> 0.0001688083</td><td> 0.004918151</td></tr>\n",
       "\t<tr><th scope=row>full_screen_time_filter</th><td>-0.017016543</td><td>-0.0200894616</td><td>-0.013942046</td></tr>\n",
       "\t<tr><th scope=row>employ_status_array_filter</th><td>-0.013412978</td><td>-0.0157297554</td><td>-0.011095688</td></tr>\n",
       "\t<tr><th scope=row>comorb_sum</th><td> 0.006115333</td><td> 0.0043741936</td><td> 0.007857279</td></tr>\n",
       "\t<tr><th scope=row>gov_assistance_filter</th><td> 0.010810269</td><td> 0.0027693886</td><td> 0.018867801</td></tr>\n",
       "</tbody>\n",
       "</table>\n"
      ],
      "text/latex": [
       "A matrix: 11 × 3 of type dbl\n",
       "\\begin{tabular}{r|lll}\n",
       "  & Estimate & 2.5 \\% & 97.5 \\%\\\\\n",
       "\\hline\n",
       "\t(Intercept) &  6.283691938 &  6.2792865465 &  6.288098134\\\\\n",
       "\tcevd\\_event & -0.001543137 & -0.0084887199 &  0.005414885\\\\\n",
       "\tage\\_levels &  0.013426870 &  0.0107141921 &  0.016140093\\\\\n",
       "\tmale & -0.013963907 & -0.0163433925 & -0.011584237\\\\\n",
       "\talc\\_freq\\_filter & -0.004993065 & -0.0067029805 & -0.003283153\\\\\n",
       "\tsmok\\_stat &  0.002804893 &  0.0009433871 &  0.004666923\\\\\n",
       "\tbmi\\_filter &  0.002543474 &  0.0001688083 &  0.004918151\\\\\n",
       "\tfull\\_screen\\_time\\_filter & -0.017016543 & -0.0200894616 & -0.013942046\\\\\n",
       "\temploy\\_status\\_array\\_filter & -0.013412978 & -0.0157297554 & -0.011095688\\\\\n",
       "\tcomorb\\_sum &  0.006115333 &  0.0043741936 &  0.007857279\\\\\n",
       "\tgov\\_assistance\\_filter &  0.010810269 &  0.0027693886 &  0.018867801\\\\\n",
       "\\end{tabular}\n"
      ],
      "text/markdown": [
       "\n",
       "A matrix: 11 × 3 of type dbl\n",
       "\n",
       "| <!--/--> | Estimate | 2.5 % | 97.5 % |\n",
       "|---|---|---|---|\n",
       "| (Intercept) |  6.283691938 |  6.2792865465 |  6.288098134 |\n",
       "| cevd_event | -0.001543137 | -0.0084887199 |  0.005414885 |\n",
       "| age_levels |  0.013426870 |  0.0107141921 |  0.016140093 |\n",
       "| male | -0.013963907 | -0.0163433925 | -0.011584237 |\n",
       "| alc_freq_filter | -0.004993065 | -0.0067029805 | -0.003283153 |\n",
       "| smok_stat |  0.002804893 |  0.0009433871 |  0.004666923 |\n",
       "| bmi_filter |  0.002543474 |  0.0001688083 |  0.004918151 |\n",
       "| full_screen_time_filter | -0.017016543 | -0.0200894616 | -0.013942046 |\n",
       "| employ_status_array_filter | -0.013412978 | -0.0157297554 | -0.011095688 |\n",
       "| comorb_sum |  0.006115333 |  0.0043741936 |  0.007857279 |\n",
       "| gov_assistance_filter |  0.010810269 |  0.0027693886 |  0.018867801 |\n",
       "\n"
      ],
      "text/plain": [
       "                           Estimate     2.5 %         97.5 %      \n",
       "(Intercept)                 6.283691938  6.2792865465  6.288098134\n",
       "cevd_event                 -0.001543137 -0.0084887199  0.005414885\n",
       "age_levels                  0.013426870  0.0107141921  0.016140093\n",
       "male                       -0.013963907 -0.0163433925 -0.011584237\n",
       "alc_freq_filter            -0.004993065 -0.0067029805 -0.003283153\n",
       "smok_stat                   0.002804893  0.0009433871  0.004666923\n",
       "bmi_filter                  0.002543474  0.0001688083  0.004918151\n",
       "full_screen_time_filter    -0.017016543 -0.0200894616 -0.013942046\n",
       "employ_status_array_filter -0.013412978 -0.0157297554 -0.011095688\n",
       "comorb_sum                  0.006115333  0.0043741936  0.007857279\n",
       "gov_assistance_filter       0.010810269  0.0027693886  0.018867801"
      ]
     },
     "metadata": {},
     "output_type": "display_data"
    },
    {
     "data": {
      "text/html": [
       "<table class=\"dataframe\">\n",
       "<caption>A matrix: 11 × 3 of type dbl</caption>\n",
       "<thead>\n",
       "\t<tr><th></th><th scope=col>Estimate</th><th scope=col>2.5 %</th><th scope=col>97.5 %</th></tr>\n",
       "</thead>\n",
       "<tbody>\n",
       "\t<tr><th scope=row>(Intercept)</th><td>535.7630207</td><td>533.4079663</td><td>538.1289062</td></tr>\n",
       "\t<tr><th scope=row>cevd_event</th><td>  0.9984581</td><td>  0.9915472</td><td>  1.0054296</td></tr>\n",
       "\t<tr><th scope=row>age_levels</th><td>  1.0135174</td><td>  1.0107718</td><td>  1.0162710</td></tr>\n",
       "\t<tr><th scope=row>male</th><td>  0.9861331</td><td>  0.9837894</td><td>  0.9884826</td></tr>\n",
       "\t<tr><th scope=row>alc_freq_filter</th><td>  0.9950194</td><td>  0.9933194</td><td>  0.9967222</td></tr>\n",
       "\t<tr><th scope=row>smok_stat</th><td>  1.0028088</td><td>  1.0009438</td><td>  1.0046778</td></tr>\n",
       "\t<tr><th scope=row>bmi_filter</th><td>  1.0025467</td><td>  1.0001688</td><td>  1.0049303</td></tr>\n",
       "\t<tr><th scope=row>full_screen_time_filter</th><td>  0.9831274</td><td>  0.9801110</td><td>  0.9861547</td></tr>\n",
       "\t<tr><th scope=row>employ_status_array_filter</th><td>  0.9866766</td><td>  0.9843933</td><td>  0.9889656</td></tr>\n",
       "\t<tr><th scope=row>comorb_sum</th><td>  1.0061341</td><td>  1.0043838</td><td>  1.0078882</td></tr>\n",
       "\t<tr><th scope=row>gov_assistance_filter</th><td>  1.0108689</td><td>  1.0027732</td><td>  1.0190469</td></tr>\n",
       "</tbody>\n",
       "</table>\n"
      ],
      "text/latex": [
       "A matrix: 11 × 3 of type dbl\n",
       "\\begin{tabular}{r|lll}\n",
       "  & Estimate & 2.5 \\% & 97.5 \\%\\\\\n",
       "\\hline\n",
       "\t(Intercept) & 535.7630207 & 533.4079663 & 538.1289062\\\\\n",
       "\tcevd\\_event &   0.9984581 &   0.9915472 &   1.0054296\\\\\n",
       "\tage\\_levels &   1.0135174 &   1.0107718 &   1.0162710\\\\\n",
       "\tmale &   0.9861331 &   0.9837894 &   0.9884826\\\\\n",
       "\talc\\_freq\\_filter &   0.9950194 &   0.9933194 &   0.9967222\\\\\n",
       "\tsmok\\_stat &   1.0028088 &   1.0009438 &   1.0046778\\\\\n",
       "\tbmi\\_filter &   1.0025467 &   1.0001688 &   1.0049303\\\\\n",
       "\tfull\\_screen\\_time\\_filter &   0.9831274 &   0.9801110 &   0.9861547\\\\\n",
       "\temploy\\_status\\_array\\_filter &   0.9866766 &   0.9843933 &   0.9889656\\\\\n",
       "\tcomorb\\_sum &   1.0061341 &   1.0043838 &   1.0078882\\\\\n",
       "\tgov\\_assistance\\_filter &   1.0108689 &   1.0027732 &   1.0190469\\\\\n",
       "\\end{tabular}\n"
      ],
      "text/markdown": [
       "\n",
       "A matrix: 11 × 3 of type dbl\n",
       "\n",
       "| <!--/--> | Estimate | 2.5 % | 97.5 % |\n",
       "|---|---|---|---|\n",
       "| (Intercept) | 535.7630207 | 533.4079663 | 538.1289062 |\n",
       "| cevd_event |   0.9984581 |   0.9915472 |   1.0054296 |\n",
       "| age_levels |   1.0135174 |   1.0107718 |   1.0162710 |\n",
       "| male |   0.9861331 |   0.9837894 |   0.9884826 |\n",
       "| alc_freq_filter |   0.9950194 |   0.9933194 |   0.9967222 |\n",
       "| smok_stat |   1.0028088 |   1.0009438 |   1.0046778 |\n",
       "| bmi_filter |   1.0025467 |   1.0001688 |   1.0049303 |\n",
       "| full_screen_time_filter |   0.9831274 |   0.9801110 |   0.9861547 |\n",
       "| employ_status_array_filter |   0.9866766 |   0.9843933 |   0.9889656 |\n",
       "| comorb_sum |   1.0061341 |   1.0043838 |   1.0078882 |\n",
       "| gov_assistance_filter |   1.0108689 |   1.0027732 |   1.0190469 |\n",
       "\n"
      ],
      "text/plain": [
       "                           Estimate    2.5 %       97.5 %     \n",
       "(Intercept)                535.7630207 533.4079663 538.1289062\n",
       "cevd_event                   0.9984581   0.9915472   1.0054296\n",
       "age_levels                   1.0135174   1.0107718   1.0162710\n",
       "male                         0.9861331   0.9837894   0.9884826\n",
       "alc_freq_filter              0.9950194   0.9933194   0.9967222\n",
       "smok_stat                    1.0028088   1.0009438   1.0046778\n",
       "bmi_filter                   1.0025467   1.0001688   1.0049303\n",
       "full_screen_time_filter      0.9831274   0.9801110   0.9861547\n",
       "employ_status_array_filter   0.9866766   0.9843933   0.9889656\n",
       "comorb_sum                   1.0061341   1.0043838   1.0078882\n",
       "gov_assistance_filter        1.0108689   1.0027732   1.0190469"
      ]
     },
     "metadata": {},
     "output_type": "display_data"
    }
   ],
   "source": [
    "summary(m1 <- glm.nb(pa_sleep_convert ~ cevd_event + age_levels + male + alc_freq_filter + smok_stat + bmi_filter + full_screen_time_filter + employ_status_array_filter + comorb_sum +gov_assistance_filter, data = data_dep_1))\n",
    "(est <- cbind(Estimate = coef(m1), confint(m1)))\n",
    "exp(est)"
   ]
  },
  {
   "cell_type": "code",
   "execution_count": 52,
   "id": "a00a3e4f-fe69-4d73-be06-8bc7a513632b",
   "metadata": {
    "tags": []
   },
   "outputs": [
    {
     "data": {
      "text/plain": [
       "\n",
       "Call:\n",
       "glm.nb(formula = pa_sleep_convert ~ cevd_event + age_levels + \n",
       "    male + alc_freq_filter + smok_stat + bmi_filter + full_screen_time_filter + \n",
       "    employ_status_array_filter + comorb_sum + gov_assistance_filter, \n",
       "    data = data_dep_2, init.theta = 45.43876818, link = log)\n",
       "\n",
       "Coefficients:\n",
       "                             Estimate Std. Error  z value Pr(>|z|)    \n",
       "(Intercept)                 6.2835269  0.0022677 2770.917  < 2e-16 ***\n",
       "cevd_event                 -0.0029518  0.0036585   -0.807  0.41977    \n",
       "age_levels                  0.0135636  0.0013977    9.704  < 2e-16 ***\n",
       "male                       -0.0139398  0.0012236  -11.393  < 2e-16 ***\n",
       "alc_freq_filter            -0.0050540  0.0008796   -5.746 9.14e-09 ***\n",
       "smok_stat                   0.0026888  0.0009606    2.799  0.00512 ** \n",
       "bmi_filter                  0.0023395  0.0012220    1.914  0.05556 .  \n",
       "full_screen_time_filter    -0.0172102  0.0015800  -10.892  < 2e-16 ***\n",
       "employ_status_array_filter -0.0128932  0.0011950  -10.789  < 2e-16 ***\n",
       "comorb_sum                  0.0059312  0.0008975    6.609 3.88e-11 ***\n",
       "gov_assistance_filter       0.0102353  0.0042495    2.409  0.01601 *  \n",
       "---\n",
       "Signif. codes:  0 ‘***’ 0.001 ‘**’ 0.01 ‘*’ 0.05 ‘.’ 0.1 ‘ ’ 1\n",
       "\n",
       "(Dispersion parameter for Negative Binomial(45.4388) family taken to be 1)\n",
       "\n",
       "    Null deviance: 72122  on 69510  degrees of freedom\n",
       "Residual deviance: 71281  on 69500  degrees of freedom\n",
       "  (1 observation deleted due to missingness)\n",
       "AIC: 809185\n",
       "\n",
       "Number of Fisher Scoring iterations: 1\n",
       "\n",
       "\n",
       "              Theta:  45.439 \n",
       "          Std. Err.:  0.269 \n",
       "\n",
       " 2 x log-likelihood:  -809161.117 "
      ]
     },
     "metadata": {},
     "output_type": "display_data"
    },
    {
     "name": "stderr",
     "output_type": "stream",
     "text": [
      "Waiting for profiling to be done...\n",
      "\n"
     ]
    },
    {
     "data": {
      "text/html": [
       "<table class=\"dataframe\">\n",
       "<caption>A matrix: 11 × 3 of type dbl</caption>\n",
       "<thead>\n",
       "\t<tr><th></th><th scope=col>Estimate</th><th scope=col>2.5 %</th><th scope=col>97.5 %</th></tr>\n",
       "</thead>\n",
       "<tbody>\n",
       "\t<tr><th scope=row>(Intercept)</th><td> 6.283526925</td><td> 6.279084e+00</td><td> 6.287971106</td></tr>\n",
       "\t<tr><th scope=row>cevd_event</th><td>-0.002951792</td><td>-1.011577e-02</td><td> 0.004225474</td></tr>\n",
       "\t<tr><th scope=row>age_levels</th><td> 0.013563613</td><td> 1.082611e-02</td><td> 0.016301670</td></tr>\n",
       "\t<tr><th scope=row>male</th><td>-0.013939758</td><td>-1.633888e-02</td><td>-0.011540451</td></tr>\n",
       "\t<tr><th scope=row>alc_freq_filter</th><td>-0.005053998</td><td>-6.778589e-03</td><td>-0.003329409</td></tr>\n",
       "\t<tr><th scope=row>smok_stat</th><td> 0.002688789</td><td> 8.078410e-04</td><td> 0.004570274</td></tr>\n",
       "\t<tr><th scope=row>bmi_filter</th><td> 0.002339515</td><td>-5.555587e-05</td><td> 0.004734594</td></tr>\n",
       "\t<tr><th scope=row>full_screen_time_filter</th><td>-0.017210176</td><td>-2.030604e-02</td><td>-0.014112718</td></tr>\n",
       "\t<tr><th scope=row>employ_status_array_filter</th><td>-0.012893245</td><td>-1.523108e-02</td><td>-0.010554892</td></tr>\n",
       "\t<tr><th scope=row>comorb_sum</th><td> 0.005931219</td><td> 4.172164e-03</td><td> 0.007691102</td></tr>\n",
       "\t<tr><th scope=row>gov_assistance_filter</th><td> 0.010235312</td><td> 1.916332e-03</td><td> 0.018572224</td></tr>\n",
       "</tbody>\n",
       "</table>\n"
      ],
      "text/latex": [
       "A matrix: 11 × 3 of type dbl\n",
       "\\begin{tabular}{r|lll}\n",
       "  & Estimate & 2.5 \\% & 97.5 \\%\\\\\n",
       "\\hline\n",
       "\t(Intercept) &  6.283526925 &  6.279084e+00 &  6.287971106\\\\\n",
       "\tcevd\\_event & -0.002951792 & -1.011577e-02 &  0.004225474\\\\\n",
       "\tage\\_levels &  0.013563613 &  1.082611e-02 &  0.016301670\\\\\n",
       "\tmale & -0.013939758 & -1.633888e-02 & -0.011540451\\\\\n",
       "\talc\\_freq\\_filter & -0.005053998 & -6.778589e-03 & -0.003329409\\\\\n",
       "\tsmok\\_stat &  0.002688789 &  8.078410e-04 &  0.004570274\\\\\n",
       "\tbmi\\_filter &  0.002339515 & -5.555587e-05 &  0.004734594\\\\\n",
       "\tfull\\_screen\\_time\\_filter & -0.017210176 & -2.030604e-02 & -0.014112718\\\\\n",
       "\temploy\\_status\\_array\\_filter & -0.012893245 & -1.523108e-02 & -0.010554892\\\\\n",
       "\tcomorb\\_sum &  0.005931219 &  4.172164e-03 &  0.007691102\\\\\n",
       "\tgov\\_assistance\\_filter &  0.010235312 &  1.916332e-03 &  0.018572224\\\\\n",
       "\\end{tabular}\n"
      ],
      "text/markdown": [
       "\n",
       "A matrix: 11 × 3 of type dbl\n",
       "\n",
       "| <!--/--> | Estimate | 2.5 % | 97.5 % |\n",
       "|---|---|---|---|\n",
       "| (Intercept) |  6.283526925 |  6.279084e+00 |  6.287971106 |\n",
       "| cevd_event | -0.002951792 | -1.011577e-02 |  0.004225474 |\n",
       "| age_levels |  0.013563613 |  1.082611e-02 |  0.016301670 |\n",
       "| male | -0.013939758 | -1.633888e-02 | -0.011540451 |\n",
       "| alc_freq_filter | -0.005053998 | -6.778589e-03 | -0.003329409 |\n",
       "| smok_stat |  0.002688789 |  8.078410e-04 |  0.004570274 |\n",
       "| bmi_filter |  0.002339515 | -5.555587e-05 |  0.004734594 |\n",
       "| full_screen_time_filter | -0.017210176 | -2.030604e-02 | -0.014112718 |\n",
       "| employ_status_array_filter | -0.012893245 | -1.523108e-02 | -0.010554892 |\n",
       "| comorb_sum |  0.005931219 |  4.172164e-03 |  0.007691102 |\n",
       "| gov_assistance_filter |  0.010235312 |  1.916332e-03 |  0.018572224 |\n",
       "\n"
      ],
      "text/plain": [
       "                           Estimate     2.5 %         97.5 %      \n",
       "(Intercept)                 6.283526925  6.279084e+00  6.287971106\n",
       "cevd_event                 -0.002951792 -1.011577e-02  0.004225474\n",
       "age_levels                  0.013563613  1.082611e-02  0.016301670\n",
       "male                       -0.013939758 -1.633888e-02 -0.011540451\n",
       "alc_freq_filter            -0.005053998 -6.778589e-03 -0.003329409\n",
       "smok_stat                   0.002688789  8.078410e-04  0.004570274\n",
       "bmi_filter                  0.002339515 -5.555587e-05  0.004734594\n",
       "full_screen_time_filter    -0.017210176 -2.030604e-02 -0.014112718\n",
       "employ_status_array_filter -0.012893245 -1.523108e-02 -0.010554892\n",
       "comorb_sum                  0.005931219  4.172164e-03  0.007691102\n",
       "gov_assistance_filter       0.010235312  1.916332e-03  0.018572224"
      ]
     },
     "metadata": {},
     "output_type": "display_data"
    },
    {
     "data": {
      "text/html": [
       "<table class=\"dataframe\">\n",
       "<caption>A matrix: 11 × 3 of type dbl</caption>\n",
       "<thead>\n",
       "\t<tr><th></th><th scope=col>Estimate</th><th scope=col>2.5 %</th><th scope=col>97.5 %</th></tr>\n",
       "</thead>\n",
       "<tbody>\n",
       "\t<tr><th scope=row>(Intercept)</th><td>535.6746202</td><td>533.2997075</td><td>538.0605529</td></tr>\n",
       "\t<tr><th scope=row>cevd_event</th><td>  0.9970526</td><td>  0.9899352</td><td>  1.0042344</td></tr>\n",
       "\t<tr><th scope=row>age_levels</th><td>  1.0136560</td><td>  1.0108849</td><td>  1.0164353</td></tr>\n",
       "\t<tr><th scope=row>male</th><td>  0.9861570</td><td>  0.9837939</td><td>  0.9885259</td></tr>\n",
       "\t<tr><th scope=row>alc_freq_filter</th><td>  0.9949588</td><td>  0.9932443</td><td>  0.9966761</td></tr>\n",
       "\t<tr><th scope=row>smok_stat</th><td>  1.0026924</td><td>  1.0008082</td><td>  1.0045807</td></tr>\n",
       "\t<tr><th scope=row>bmi_filter</th><td>  1.0023423</td><td>  0.9999444</td><td>  1.0047458</td></tr>\n",
       "\t<tr><th scope=row>full_screen_time_filter</th><td>  0.9829371</td><td>  0.9798987</td><td>  0.9859864</td></tr>\n",
       "\t<tr><th scope=row>employ_status_array_filter</th><td>  0.9871895</td><td>  0.9848843</td><td>  0.9895006</td></tr>\n",
       "\t<tr><th scope=row>comorb_sum</th><td>  1.0059488</td><td>  1.0041809</td><td>  1.0077208</td></tr>\n",
       "\t<tr><th scope=row>gov_assistance_filter</th><td>  1.0102879</td><td>  1.0019182</td><td>  1.0187458</td></tr>\n",
       "</tbody>\n",
       "</table>\n"
      ],
      "text/latex": [
       "A matrix: 11 × 3 of type dbl\n",
       "\\begin{tabular}{r|lll}\n",
       "  & Estimate & 2.5 \\% & 97.5 \\%\\\\\n",
       "\\hline\n",
       "\t(Intercept) & 535.6746202 & 533.2997075 & 538.0605529\\\\\n",
       "\tcevd\\_event &   0.9970526 &   0.9899352 &   1.0042344\\\\\n",
       "\tage\\_levels &   1.0136560 &   1.0108849 &   1.0164353\\\\\n",
       "\tmale &   0.9861570 &   0.9837939 &   0.9885259\\\\\n",
       "\talc\\_freq\\_filter &   0.9949588 &   0.9932443 &   0.9966761\\\\\n",
       "\tsmok\\_stat &   1.0026924 &   1.0008082 &   1.0045807\\\\\n",
       "\tbmi\\_filter &   1.0023423 &   0.9999444 &   1.0047458\\\\\n",
       "\tfull\\_screen\\_time\\_filter &   0.9829371 &   0.9798987 &   0.9859864\\\\\n",
       "\temploy\\_status\\_array\\_filter &   0.9871895 &   0.9848843 &   0.9895006\\\\\n",
       "\tcomorb\\_sum &   1.0059488 &   1.0041809 &   1.0077208\\\\\n",
       "\tgov\\_assistance\\_filter &   1.0102879 &   1.0019182 &   1.0187458\\\\\n",
       "\\end{tabular}\n"
      ],
      "text/markdown": [
       "\n",
       "A matrix: 11 × 3 of type dbl\n",
       "\n",
       "| <!--/--> | Estimate | 2.5 % | 97.5 % |\n",
       "|---|---|---|---|\n",
       "| (Intercept) | 535.6746202 | 533.2997075 | 538.0605529 |\n",
       "| cevd_event |   0.9970526 |   0.9899352 |   1.0042344 |\n",
       "| age_levels |   1.0136560 |   1.0108849 |   1.0164353 |\n",
       "| male |   0.9861570 |   0.9837939 |   0.9885259 |\n",
       "| alc_freq_filter |   0.9949588 |   0.9932443 |   0.9966761 |\n",
       "| smok_stat |   1.0026924 |   1.0008082 |   1.0045807 |\n",
       "| bmi_filter |   1.0023423 |   0.9999444 |   1.0047458 |\n",
       "| full_screen_time_filter |   0.9829371 |   0.9798987 |   0.9859864 |\n",
       "| employ_status_array_filter |   0.9871895 |   0.9848843 |   0.9895006 |\n",
       "| comorb_sum |   1.0059488 |   1.0041809 |   1.0077208 |\n",
       "| gov_assistance_filter |   1.0102879 |   1.0019182 |   1.0187458 |\n",
       "\n"
      ],
      "text/plain": [
       "                           Estimate    2.5 %       97.5 %     \n",
       "(Intercept)                535.6746202 533.2997075 538.0605529\n",
       "cevd_event                   0.9970526   0.9899352   1.0042344\n",
       "age_levels                   1.0136560   1.0108849   1.0164353\n",
       "male                         0.9861570   0.9837939   0.9885259\n",
       "alc_freq_filter              0.9949588   0.9932443   0.9966761\n",
       "smok_stat                    1.0026924   1.0008082   1.0045807\n",
       "bmi_filter                   1.0023423   0.9999444   1.0047458\n",
       "full_screen_time_filter      0.9829371   0.9798987   0.9859864\n",
       "employ_status_array_filter   0.9871895   0.9848843   0.9895006\n",
       "comorb_sum                   1.0059488   1.0041809   1.0077208\n",
       "gov_assistance_filter        1.0102879   1.0019182   1.0187458"
      ]
     },
     "metadata": {},
     "output_type": "display_data"
    }
   ],
   "source": [
    "summary(m1 <- glm.nb(pa_sleep_convert ~ cevd_event + age_levels + male + alc_freq_filter + smok_stat + bmi_filter + full_screen_time_filter + employ_status_array_filter + comorb_sum +gov_assistance_filter, data = data_dep_2))\n",
    "(est <- cbind(Estimate = coef(m1), confint(m1)))\n",
    "exp(est)"
   ]
  },
  {
   "cell_type": "code",
   "execution_count": 53,
   "id": "21c25841-141b-44af-897f-daff5add8714",
   "metadata": {
    "tags": []
   },
   "outputs": [
    {
     "data": {
      "text/plain": [
       "\n",
       "Call:\n",
       "glm.nb(formula = pa_sleep_convert ~ cevd_event + age_levels + \n",
       "    male + alc_freq_filter + smok_stat + bmi_filter + full_screen_time_filter + \n",
       "    employ_status_array_filter + comorb_sum + gov_assistance_filter, \n",
       "    data = data_dep_3, init.theta = 45.01042487, link = log)\n",
       "\n",
       "Coefficients:\n",
       "                             Estimate Std. Error  z value Pr(>|z|)    \n",
       "(Intercept)                 6.2859244  0.0022163 2836.288  < 2e-16 ***\n",
       "cevd_event                 -0.0021196  0.0035904   -0.590  0.55496    \n",
       "age_levels                  0.0119511  0.0013686    8.732  < 2e-16 ***\n",
       "male                       -0.0139534  0.0012025  -11.604  < 2e-16 ***\n",
       "alc_freq_filter            -0.0055839  0.0008614   -6.482 9.03e-11 ***\n",
       "smok_stat                   0.0030627  0.0009390    3.262  0.00111 ** \n",
       "bmi_filter                  0.0027736  0.0012000    2.311  0.02082 *  \n",
       "full_screen_time_filter    -0.0169561  0.0015503  -10.937  < 2e-16 ***\n",
       "employ_status_array_filter -0.0137611  0.0011661  -11.801  < 2e-16 ***\n",
       "comorb_sum                  0.0058734  0.0008791    6.681 2.37e-11 ***\n",
       "gov_assistance_filter       0.0164060  0.0039171    4.188 2.81e-05 ***\n",
       "---\n",
       "Signif. codes:  0 ‘***’ 0.001 ‘**’ 0.01 ‘*’ 0.05 ‘.’ 0.1 ‘ ’ 1\n",
       "\n",
       "(Dispersion parameter for Negative Binomial(45.0104) family taken to be 1)\n",
       "\n",
       "    Null deviance: 75452  on 72727  degrees of freedom\n",
       "Residual deviance: 74564  on 72717  degrees of freedom\n",
       "  (1 observation deleted due to missingness)\n",
       "AIC: 847360\n",
       "\n",
       "Number of Fisher Scoring iterations: 1\n",
       "\n",
       "\n",
       "              Theta:  45.010 \n",
       "          Std. Err.:  0.260 \n",
       "\n",
       " 2 x log-likelihood:  -847335.709 "
      ]
     },
     "metadata": {},
     "output_type": "display_data"
    },
    {
     "name": "stderr",
     "output_type": "stream",
     "text": [
      "Waiting for profiling to be done...\n",
      "\n"
     ]
    },
    {
     "data": {
      "text/html": [
       "<table class=\"dataframe\">\n",
       "<caption>A matrix: 11 × 3 of type dbl</caption>\n",
       "<thead>\n",
       "\t<tr><th></th><th scope=col>Estimate</th><th scope=col>2.5 %</th><th scope=col>97.5 %</th></tr>\n",
       "</thead>\n",
       "<tbody>\n",
       "\t<tr><th scope=row>(Intercept)</th><td> 6.285924432</td><td> 6.2815824655</td><td> 6.290267198</td></tr>\n",
       "\t<tr><th scope=row>cevd_event</th><td>-0.002119594</td><td>-0.0091502526</td><td> 0.004923887</td></tr>\n",
       "\t<tr><th scope=row>age_levels</th><td> 0.011951064</td><td> 0.0092709312</td><td> 0.014631731</td></tr>\n",
       "\t<tr><th scope=row>male</th><td>-0.013953373</td><td>-0.0163112149</td><td>-0.011595336</td></tr>\n",
       "\t<tr><th scope=row>alc_freq_filter</th><td>-0.005583917</td><td>-0.0072727448</td><td>-0.003895088</td></tr>\n",
       "\t<tr><th scope=row>smok_stat</th><td> 0.003062686</td><td> 0.0012240308</td><td> 0.004901852</td></tr>\n",
       "\t<tr><th scope=row>bmi_filter</th><td> 0.002773571</td><td> 0.0004216685</td><td> 0.005125488</td></tr>\n",
       "\t<tr><th scope=row>full_screen_time_filter</th><td>-0.016956071</td><td>-0.0199935894</td><td>-0.013917009</td></tr>\n",
       "\t<tr><th scope=row>employ_status_array_filter</th><td>-0.013761060</td><td>-0.0160418721</td><td>-0.011479755</td></tr>\n",
       "\t<tr><th scope=row>comorb_sum</th><td> 0.005873432</td><td> 0.0041503079</td><td> 0.007597346</td></tr>\n",
       "\t<tr><th scope=row>gov_assistance_filter</th><td> 0.016406011</td><td> 0.0087363793</td><td> 0.024090671</td></tr>\n",
       "</tbody>\n",
       "</table>\n"
      ],
      "text/latex": [
       "A matrix: 11 × 3 of type dbl\n",
       "\\begin{tabular}{r|lll}\n",
       "  & Estimate & 2.5 \\% & 97.5 \\%\\\\\n",
       "\\hline\n",
       "\t(Intercept) &  6.285924432 &  6.2815824655 &  6.290267198\\\\\n",
       "\tcevd\\_event & -0.002119594 & -0.0091502526 &  0.004923887\\\\\n",
       "\tage\\_levels &  0.011951064 &  0.0092709312 &  0.014631731\\\\\n",
       "\tmale & -0.013953373 & -0.0163112149 & -0.011595336\\\\\n",
       "\talc\\_freq\\_filter & -0.005583917 & -0.0072727448 & -0.003895088\\\\\n",
       "\tsmok\\_stat &  0.003062686 &  0.0012240308 &  0.004901852\\\\\n",
       "\tbmi\\_filter &  0.002773571 &  0.0004216685 &  0.005125488\\\\\n",
       "\tfull\\_screen\\_time\\_filter & -0.016956071 & -0.0199935894 & -0.013917009\\\\\n",
       "\temploy\\_status\\_array\\_filter & -0.013761060 & -0.0160418721 & -0.011479755\\\\\n",
       "\tcomorb\\_sum &  0.005873432 &  0.0041503079 &  0.007597346\\\\\n",
       "\tgov\\_assistance\\_filter &  0.016406011 &  0.0087363793 &  0.024090671\\\\\n",
       "\\end{tabular}\n"
      ],
      "text/markdown": [
       "\n",
       "A matrix: 11 × 3 of type dbl\n",
       "\n",
       "| <!--/--> | Estimate | 2.5 % | 97.5 % |\n",
       "|---|---|---|---|\n",
       "| (Intercept) |  6.285924432 |  6.2815824655 |  6.290267198 |\n",
       "| cevd_event | -0.002119594 | -0.0091502526 |  0.004923887 |\n",
       "| age_levels |  0.011951064 |  0.0092709312 |  0.014631731 |\n",
       "| male | -0.013953373 | -0.0163112149 | -0.011595336 |\n",
       "| alc_freq_filter | -0.005583917 | -0.0072727448 | -0.003895088 |\n",
       "| smok_stat |  0.003062686 |  0.0012240308 |  0.004901852 |\n",
       "| bmi_filter |  0.002773571 |  0.0004216685 |  0.005125488 |\n",
       "| full_screen_time_filter | -0.016956071 | -0.0199935894 | -0.013917009 |\n",
       "| employ_status_array_filter | -0.013761060 | -0.0160418721 | -0.011479755 |\n",
       "| comorb_sum |  0.005873432 |  0.0041503079 |  0.007597346 |\n",
       "| gov_assistance_filter |  0.016406011 |  0.0087363793 |  0.024090671 |\n",
       "\n"
      ],
      "text/plain": [
       "                           Estimate     2.5 %         97.5 %      \n",
       "(Intercept)                 6.285924432  6.2815824655  6.290267198\n",
       "cevd_event                 -0.002119594 -0.0091502526  0.004923887\n",
       "age_levels                  0.011951064  0.0092709312  0.014631731\n",
       "male                       -0.013953373 -0.0163112149 -0.011595336\n",
       "alc_freq_filter            -0.005583917 -0.0072727448 -0.003895088\n",
       "smok_stat                   0.003062686  0.0012240308  0.004901852\n",
       "bmi_filter                  0.002773571  0.0004216685  0.005125488\n",
       "full_screen_time_filter    -0.016956071 -0.0199935894 -0.013917009\n",
       "employ_status_array_filter -0.013761060 -0.0160418721 -0.011479755\n",
       "comorb_sum                  0.005873432  0.0041503079  0.007597346\n",
       "gov_assistance_filter       0.016406011  0.0087363793  0.024090671"
      ]
     },
     "metadata": {},
     "output_type": "display_data"
    },
    {
     "data": {
      "text/html": [
       "<table class=\"dataframe\">\n",
       "<caption>A matrix: 11 × 3 of type dbl</caption>\n",
       "<thead>\n",
       "\t<tr><th></th><th scope=col>Estimate</th><th scope=col>2.5 %</th><th scope=col>97.5 %</th></tr>\n",
       "</thead>\n",
       "<tbody>\n",
       "\t<tr><th scope=row>(Intercept)</th><td>536.9604446</td><td>534.6340347</td><td>539.2974089</td></tr>\n",
       "\t<tr><th scope=row>cevd_event</th><td>  0.9978827</td><td>  0.9908915</td><td>  1.0049360</td></tr>\n",
       "\t<tr><th scope=row>age_levels</th><td>  1.0120228</td><td>  1.0093140</td><td>  1.0147393</td></tr>\n",
       "\t<tr><th scope=row>male</th><td>  0.9861435</td><td>  0.9838211</td><td>  0.9884716</td></tr>\n",
       "\t<tr><th scope=row>alc_freq_filter</th><td>  0.9944316</td><td>  0.9927536</td><td>  0.9961125</td></tr>\n",
       "\t<tr><th scope=row>smok_stat</th><td>  1.0030674</td><td>  1.0012248</td><td>  1.0049139</td></tr>\n",
       "\t<tr><th scope=row>bmi_filter</th><td>  1.0027774</td><td>  1.0004218</td><td>  1.0051386</td></tr>\n",
       "\t<tr><th scope=row>full_screen_time_filter</th><td>  0.9831869</td><td>  0.9802050</td><td>  0.9861794</td></tr>\n",
       "\t<tr><th scope=row>employ_status_array_filter</th><td>  0.9863332</td><td>  0.9840861</td><td>  0.9885859</td></tr>\n",
       "\t<tr><th scope=row>comorb_sum</th><td>  1.0058907</td><td>  1.0041589</td><td>  1.0076263</td></tr>\n",
       "\t<tr><th scope=row>gov_assistance_filter</th><td>  1.0165413</td><td>  1.0087747</td><td>  1.0243832</td></tr>\n",
       "</tbody>\n",
       "</table>\n"
      ],
      "text/latex": [
       "A matrix: 11 × 3 of type dbl\n",
       "\\begin{tabular}{r|lll}\n",
       "  & Estimate & 2.5 \\% & 97.5 \\%\\\\\n",
       "\\hline\n",
       "\t(Intercept) & 536.9604446 & 534.6340347 & 539.2974089\\\\\n",
       "\tcevd\\_event &   0.9978827 &   0.9908915 &   1.0049360\\\\\n",
       "\tage\\_levels &   1.0120228 &   1.0093140 &   1.0147393\\\\\n",
       "\tmale &   0.9861435 &   0.9838211 &   0.9884716\\\\\n",
       "\talc\\_freq\\_filter &   0.9944316 &   0.9927536 &   0.9961125\\\\\n",
       "\tsmok\\_stat &   1.0030674 &   1.0012248 &   1.0049139\\\\\n",
       "\tbmi\\_filter &   1.0027774 &   1.0004218 &   1.0051386\\\\\n",
       "\tfull\\_screen\\_time\\_filter &   0.9831869 &   0.9802050 &   0.9861794\\\\\n",
       "\temploy\\_status\\_array\\_filter &   0.9863332 &   0.9840861 &   0.9885859\\\\\n",
       "\tcomorb\\_sum &   1.0058907 &   1.0041589 &   1.0076263\\\\\n",
       "\tgov\\_assistance\\_filter &   1.0165413 &   1.0087747 &   1.0243832\\\\\n",
       "\\end{tabular}\n"
      ],
      "text/markdown": [
       "\n",
       "A matrix: 11 × 3 of type dbl\n",
       "\n",
       "| <!--/--> | Estimate | 2.5 % | 97.5 % |\n",
       "|---|---|---|---|\n",
       "| (Intercept) | 536.9604446 | 534.6340347 | 539.2974089 |\n",
       "| cevd_event |   0.9978827 |   0.9908915 |   1.0049360 |\n",
       "| age_levels |   1.0120228 |   1.0093140 |   1.0147393 |\n",
       "| male |   0.9861435 |   0.9838211 |   0.9884716 |\n",
       "| alc_freq_filter |   0.9944316 |   0.9927536 |   0.9961125 |\n",
       "| smok_stat |   1.0030674 |   1.0012248 |   1.0049139 |\n",
       "| bmi_filter |   1.0027774 |   1.0004218 |   1.0051386 |\n",
       "| full_screen_time_filter |   0.9831869 |   0.9802050 |   0.9861794 |\n",
       "| employ_status_array_filter |   0.9863332 |   0.9840861 |   0.9885859 |\n",
       "| comorb_sum |   1.0058907 |   1.0041589 |   1.0076263 |\n",
       "| gov_assistance_filter |   1.0165413 |   1.0087747 |   1.0243832 |\n",
       "\n"
      ],
      "text/plain": [
       "                           Estimate    2.5 %       97.5 %     \n",
       "(Intercept)                536.9604446 534.6340347 539.2974089\n",
       "cevd_event                   0.9978827   0.9908915   1.0049360\n",
       "age_levels                   1.0120228   1.0093140   1.0147393\n",
       "male                         0.9861435   0.9838211   0.9884716\n",
       "alc_freq_filter              0.9944316   0.9927536   0.9961125\n",
       "smok_stat                    1.0030674   1.0012248   1.0049139\n",
       "bmi_filter                   1.0027774   1.0004218   1.0051386\n",
       "full_screen_time_filter      0.9831869   0.9802050   0.9861794\n",
       "employ_status_array_filter   0.9863332   0.9840861   0.9885859\n",
       "comorb_sum                   1.0058907   1.0041589   1.0076263\n",
       "gov_assistance_filter        1.0165413   1.0087747   1.0243832"
      ]
     },
     "metadata": {},
     "output_type": "display_data"
    }
   ],
   "source": [
    "summary(m1 <- glm.nb(pa_sleep_convert ~ cevd_event + age_levels + male + alc_freq_filter + smok_stat + bmi_filter + full_screen_time_filter + employ_status_array_filter + comorb_sum +gov_assistance_filter, data = data_dep_3))\n",
    "(est <- cbind(Estimate = coef(m1), confint(m1)))\n",
    "exp(est)"
   ]
  },
  {
   "cell_type": "code",
   "execution_count": null,
   "id": "d2fef341-8792-430d-986f-29c0f11951f8",
   "metadata": {},
   "outputs": [],
   "source": []
  }
 ],
 "metadata": {
  "kernelspec": {
   "display_name": "R",
   "language": "R",
   "name": "ir"
  },
  "language_info": {
   "codemirror_mode": "r",
   "file_extension": ".r",
   "mimetype": "text/x-r-source",
   "name": "R",
   "pygments_lexer": "r",
   "version": "4.3.1"
  }
 },
 "nbformat": 4,
 "nbformat_minor": 5
}
