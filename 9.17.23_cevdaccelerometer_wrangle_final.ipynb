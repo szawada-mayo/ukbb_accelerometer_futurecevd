{
 "cells": [
  {
   "cell_type": "code",
   "execution_count": 1,
   "metadata": {
    "tags": []
   },
   "outputs": [
    {
     "name": "stderr",
     "output_type": "stream",
     "text": [
      "SLF4J: Class path contains multiple SLF4J bindings.\n",
      "SLF4J: Found binding in [jar:file:/cluster/dnax/jars/dnanexus-api-0.1.0-SNAPSHOT-jar-with-dependencies.jar!/org/slf4j/impl/StaticLoggerBinder.class]\n",
      "SLF4J: Found binding in [jar:file:/cluster/spark/jars/log4j-slf4j-impl-2.17.2.jar!/org/slf4j/impl/StaticLoggerBinder.class]\n",
      "SLF4J: See http://www.slf4j.org/codes.html#multiple_bindings for an explanation.\n",
      "SLF4J: Actual binding is of type [org.slf4j.impl.Log4jLoggerFactory]\n",
      "Setting default log level to \"WARN\".\n",
      "To adjust logging level use sc.setLogLevel(newLevel). For SparkR, use setLogLevel(newLevel).\n"
     ]
    },
    {
     "name": "stdout",
     "output_type": "stream",
     "text": [
      "2023-09-18 02:33:01.287 WARN  NativeCodeLoader:60 - Unable to load native-hadoop library for your platform... using builtin-java classes where applicable\n",
      "2023-09-18 02:33:02.369 WARN  Utils:69 - Service 'org.apache.spark.network.netty.NettyBlockTransferService' could not bind on port 43000. Attempting port 43001.\n",
      "2023-09-18 02:33:02.608 WARN  MetricsReporter:84 - No metrics configured for reporting\n",
      "2023-09-18 02:33:02.609 WARN  LineProtoUsageReporter:48 - Telegraf configurations: url [metrics.push.telegraf.hostport], user [metrics.push.telegraf.user] or password [metrics.push.telegraf.password] missing.\n",
      "2023-09-18 02:33:02.610 WARN  MetricsReporter:117 - metrics.scraping.httpserver.port\n"
     ]
    }
   ],
   "source": [
    "#run pip install fancyimpute\n",
    "#launch spark \n",
    "import pyspark\n",
    "import dxpy\n",
    "import dxdata\n",
    "import pandas as pd\n",
    "import numpy as np\n",
    "import datetime\n",
    "import matplotlib.pyplot as plt\n",
    "from scipy import stats\n",
    "from fancyimpute import IterativeImputer\n",
    "from scipy.stats import chi2_contingency\n",
    "sc = pyspark.SparkContext()\n",
    "spark = pyspark.sql.SparkSession(sc)"
   ]
  },
  {
   "cell_type": "code",
   "execution_count": 2,
   "metadata": {
    "tags": []
   },
   "outputs": [],
   "source": [
    "#prep database \n",
    "dispensed_database_name = dxpy.find_one_data_object(classname=\"database\", name=\"app*\", folder=\"/\", name_mode=\"glob\", describe=True)[\"describe\"][\"name\"]\n",
    "dispensed_dataset_id = dxpy.find_one_data_object(typename=\"Dataset\", name=\"app*.dataset\", folder=\"/\", name_mode=\"glob\")[\"id\"]"
   ]
  },
  {
   "cell_type": "code",
   "execution_count": 3,
   "metadata": {
    "tags": []
   },
   "outputs": [],
   "source": [
    "#prep dataset\n",
    "dataset = dxdata.load_dataset(id=dispensed_dataset_id)\n",
    "participant = dataset[\"participant\"]"
   ]
  },
  {
   "cell_type": "code",
   "execution_count": 4,
   "metadata": {
    "tags": []
   },
   "outputs": [
    {
     "name": "stdout",
     "output_type": "stream",
     "text": [
      "2023-09-18 02:33:13.900 WARN  ShellBasedUnixGroupsMapping:210 - unable to return groups for user pQgXFYVQy25Yk5kKPgYB9pJ2z5qgXPJpBjPXZkgf__project-GG7jpPjJ4VK0VKqV89494XV5\n",
      "PartialGroupNameException The user name 'pQgXFYVQy25Yk5kKPgYB9pJ2z5qgXPJpBjPXZkgf__project-GG7jpPjJ4VK0VKqV89494XV5' is not found. id: ‘pQgXFYVQy25Yk5kKPgYB9pJ2z5qgXPJpBjPXZkgf__project-GG7jpPjJ4VK0VKqV89494XV5’: no such user\n",
      "id: ‘pQgXFYVQy25Yk5kKPgYB9pJ2z5qgXPJpBjPXZkgf__project-GG7jpPjJ4VK0VKqV89494XV5’: no such user\n",
      "\n",
      "\tat org.apache.hadoop.security.ShellBasedUnixGroupsMapping.resolvePartialGroupNames(ShellBasedUnixGroupsMapping.java:294)\n",
      "\tat org.apache.hadoop.security.ShellBasedUnixGroupsMapping.getUnixGroups(ShellBasedUnixGroupsMapping.java:207)\n",
      "\tat org.apache.hadoop.security.ShellBasedUnixGroupsMapping.getGroups(ShellBasedUnixGroupsMapping.java:97)\n",
      "\tat org.apache.hadoop.security.JniBasedUnixGroupsMappingWithFallback.getGroups(JniBasedUnixGroupsMappingWithFallback.java:51)\n",
      "\tat org.apache.hadoop.security.Groups$GroupCacheLoader.fetchGroupList(Groups.java:387)\n",
      "\tat org.apache.hadoop.security.Groups$GroupCacheLoader.load(Groups.java:321)\n",
      "\tat org.apache.hadoop.security.Groups$GroupCacheLoader.load(Groups.java:270)\n",
      "\tat org.apache.hadoop.thirdparty.com.google.common.cache.LocalCache$LoadingValueReference.loadFuture(LocalCache.java:3529)\n",
      "\tat org.apache.hadoop.thirdparty.com.google.common.cache.LocalCache$Segment.loadSync(LocalCache.java:2278)\n",
      "\tat org.apache.hadoop.thirdparty.com.google.common.cache.LocalCache$Segment.lockedGetOrLoad(LocalCache.java:2155)\n",
      "\tat org.apache.hadoop.thirdparty.com.google.common.cache.LocalCache$Segment.get(LocalCache.java:2045)\n",
      "\tat org.apache.hadoop.thirdparty.com.google.common.cache.LocalCache.get(LocalCache.java:3962)\n",
      "\tat org.apache.hadoop.thirdparty.com.google.common.cache.LocalCache.getOrLoad(LocalCache.java:3985)\n",
      "\tat org.apache.hadoop.thirdparty.com.google.common.cache.LocalCache$LocalLoadingCache.get(LocalCache.java:4946)\n",
      "\tat org.apache.hadoop.security.Groups.getGroups(Groups.java:228)\n",
      "\tat org.apache.hadoop.security.UserGroupInformation.getGroups(UserGroupInformation.java:1734)\n",
      "\tat org.apache.hadoop.security.UserGroupInformation.getGroupNames(UserGroupInformation.java:1722)\n",
      "\tat org.apache.hadoop.hive.metastore.HiveMetaStoreClient.open(HiveMetaStoreClient.java:517)\n",
      "\tat org.apache.hadoop.hive.metastore.HiveMetaStoreClient.<init>(HiveMetaStoreClient.java:254)\n",
      "\tat org.apache.hadoop.hive.ql.metadata.SessionHiveMetaStoreClient.<init>(SessionHiveMetaStoreClient.java:70)\n",
      "\tat sun.reflect.NativeConstructorAccessorImpl.newInstance0(Native Method)\n",
      "\tat sun.reflect.NativeConstructorAccessorImpl.newInstance(NativeConstructorAccessorImpl.java:62)\n",
      "\tat sun.reflect.DelegatingConstructorAccessorImpl.newInstance(DelegatingConstructorAccessorImpl.java:45)\n",
      "\tat java.lang.reflect.Constructor.newInstance(Constructor.java:423)\n",
      "\tat org.apache.hadoop.hive.metastore.MetaStoreUtils.newInstance(MetaStoreUtils.java:1740)\n",
      "\tat org.apache.hadoop.hive.metastore.RetryingMetaStoreClient.<init>(RetryingMetaStoreClient.java:83)\n",
      "\tat org.apache.hadoop.hive.metastore.RetryingMetaStoreClient.getProxy(RetryingMetaStoreClient.java:133)\n",
      "\tat org.apache.hadoop.hive.metastore.RetryingMetaStoreClient.getProxy(RetryingMetaStoreClient.java:104)\n",
      "\tat org.apache.hadoop.hive.ql.metadata.Hive.createMetaStoreClient(Hive.java:3650)\n",
      "\tat org.apache.hadoop.hive.ql.metadata.Hive.getMetaStoreClient(Hive.java:3696)\n",
      "\tat org.apache.hadoop.hive.ql.metadata.Hive.lambda$getMSC$0(Hive.java:3770)\n",
      "\tat java.security.AccessController.doPrivileged(Native Method)\n",
      "\tat javax.security.auth.Subject.doAs(Subject.java:422)\n",
      "\tat org.apache.hadoop.security.UserGroupInformation.doAs(UserGroupInformation.java:1878)\n",
      "\tat org.apache.hadoop.hive.ql.metadata.Hive.getMSC(Hive.java:3768)\n",
      "\tat org.apache.hadoop.hive.ql.metadata.Hive.getMSC(Hive.java:3682)\n",
      "\tat org.apache.hadoop.hive.ql.metadata.Hive.getDatabase(Hive.java:1600)\n",
      "\tat org.apache.hadoop.hive.ql.metadata.Hive.databaseExists(Hive.java:1588)\n",
      "\tat org.apache.spark.sql.hive.client.HiveClientImpl.$anonfun$databaseExists$1(HiveClientImpl.scala:396)\n",
      "\tat scala.runtime.java8.JFunction0$mcZ$sp.apply(JFunction0$mcZ$sp.java:23)\n",
      "\tat org.apache.spark.sql.hive.client.HiveClientImpl.$anonfun$withHiveState$1(HiveClientImpl.scala:305)\n",
      "\tat org.apache.spark.sql.hive.client.HiveClientImpl.liftedTree1$1(HiveClientImpl.scala:236)\n",
      "\tat org.apache.spark.sql.hive.client.HiveClientImpl.retryLocked(HiveClientImpl.scala:235)\n",
      "\tat org.apache.spark.sql.hive.client.HiveClientImpl.withHiveState(HiveClientImpl.scala:285)\n",
      "\tat org.apache.spark.sql.hive.client.HiveClientImpl.databaseExists(HiveClientImpl.scala:396)\n",
      "\tat org.apache.spark.sql.hive.HiveExternalCatalog.$anonfun$databaseExists$1(HiveExternalCatalog.scala:224)\n",
      "\tat scala.runtime.java8.JFunction0$mcZ$sp.apply(JFunction0$mcZ$sp.java:23)\n",
      "\tat org.apache.spark.sql.hive.HiveExternalCatalog.withClient(HiveExternalCatalog.scala:102)\n",
      "\tat org.apache.spark.sql.hive.HiveExternalCatalog.databaseExists(HiveExternalCatalog.scala:224)\n",
      "\tat org.apache.spark.sql.internal.SharedState.externalCatalog$lzycompute(SharedState.scala:150)\n",
      "\tat org.apache.spark.sql.internal.SharedState.externalCatalog(SharedState.scala:140)\n",
      "\tat org.apache.spark.sql.internal.SharedState.globalTempViewManager$lzycompute(SharedState.scala:170)\n",
      "\tat org.apache.spark.sql.internal.SharedState.globalTempViewManager(SharedState.scala:168)\n",
      "\tat org.apache.spark.sql.hive.HiveSessionStateBuilder.$anonfun$catalog$2(HiveSessionStateBuilder.scala:61)\n",
      "\tat org.apache.spark.sql.catalyst.catalog.SessionCatalog.globalTempViewManager$lzycompute(SessionCatalog.scala:119)\n",
      "\tat org.apache.spark.sql.catalyst.catalog.SessionCatalog.globalTempViewManager(SessionCatalog.scala:119)\n",
      "\tat org.apache.spark.sql.catalyst.catalog.SessionCatalog.lookupGlobalTempView(SessionCatalog.scala:940)\n",
      "\tat org.apache.spark.sql.catalyst.analysis.Analyzer$ResolveTempViews$.org$apache$spark$sql$catalyst$analysis$Analyzer$ResolveTempViews$$lookupTempView(Analyzer.scala:950)\n",
      "\tat org.apache.spark.sql.catalyst.analysis.Analyzer$ResolveTempViews$.org$apache$spark$sql$catalyst$analysis$Analyzer$ResolveTempViews$$lookupAndResolveTempView(Analyzer.scala:963)\n",
      "\tat org.apache.spark.sql.catalyst.analysis.Analyzer$ResolveTempViews$$anonfun$apply$12.applyOrElse(Analyzer.scala:901)\n",
      "\tat org.apache.spark.sql.catalyst.analysis.Analyzer$ResolveTempViews$$anonfun$apply$12.applyOrElse(Analyzer.scala:899)\n",
      "\tat org.apache.spark.sql.catalyst.plans.logical.AnalysisHelper.$anonfun$resolveOperatorsUpWithPruning$3(AnalysisHelper.scala:138)\n",
      "\tat org.apache.spark.sql.catalyst.trees.CurrentOrigin$.withOrigin(TreeNode.scala:82)\n",
      "\tat org.apache.spark.sql.catalyst.plans.logical.AnalysisHelper.$anonfun$resolveOperatorsUpWithPruning$1(AnalysisHelper.scala:138)\n",
      "\tat org.apache.spark.sql.catalyst.plans.logical.AnalysisHelper$.allowInvokingTransformsInAnalyzer(AnalysisHelper.scala:323)\n",
      "\tat org.apache.spark.sql.catalyst.plans.logical.AnalysisHelper.resolveOperatorsUpWithPruning(AnalysisHelper.scala:134)\n",
      "\tat org.apache.spark.sql.catalyst.plans.logical.AnalysisHelper.resolveOperatorsUpWithPruning$(AnalysisHelper.scala:130)\n",
      "\tat org.apache.spark.sql.catalyst.plans.logical.LogicalPlan.resolveOperatorsUpWithPruning(LogicalPlan.scala:30)\n",
      "\tat org.apache.spark.sql.catalyst.plans.logical.AnalysisHelper.$anonfun$resolveOperatorsUpWithPruning$2(AnalysisHelper.scala:135)\n",
      "\tat org.apache.spark.sql.catalyst.trees.UnaryLike.mapChildren(TreeNode.scala:1122)\n",
      "\tat org.apache.spark.sql.catalyst.trees.UnaryLike.mapChildren$(TreeNode.scala:1121)\n",
      "\tat org.apache.spark.sql.catalyst.plans.logical.OrderPreservingUnaryNode.mapChildren(LogicalPlan.scala:206)\n",
      "\tat org.apache.spark.sql.catalyst.plans.logical.AnalysisHelper.$anonfun$resolveOperatorsUpWithPruning$1(AnalysisHelper.scala:135)\n",
      "\tat org.apache.spark.sql.catalyst.plans.logical.AnalysisHelper$.allowInvokingTransformsInAnalyzer(AnalysisHelper.scala:323)\n",
      "\tat org.apache.spark.sql.catalyst.plans.logical.AnalysisHelper.resolveOperatorsUpWithPruning(AnalysisHelper.scala:134)\n",
      "\tat org.apache.spark.sql.catalyst.plans.logical.AnalysisHelper.resolveOperatorsUpWithPruning$(AnalysisHelper.scala:130)\n",
      "\tat org.apache.spark.sql.catalyst.plans.logical.LogicalPlan.resolveOperatorsUpWithPruning(LogicalPlan.scala:30)\n",
      "\tat org.apache.spark.sql.catalyst.plans.logical.AnalysisHelper.$anonfun$resolveOperatorsUpWithPruning$2(AnalysisHelper.scala:135)\n",
      "\tat org.apache.spark.sql.catalyst.trees.BinaryLike.mapChildren(TreeNode.scala:1148)\n",
      "\tat org.apache.spark.sql.catalyst.trees.BinaryLike.mapChildren$(TreeNode.scala:1147)\n",
      "\tat org.apache.spark.sql.catalyst.plans.logical.Join.mapChildren(basicLogicalOperators.scala:390)\n",
      "\tat org.apache.spark.sql.catalyst.plans.logical.AnalysisHelper.$anonfun$resolveOperatorsUpWithPruning$1(AnalysisHelper.scala:135)\n",
      "\tat org.apache.spark.sql.catalyst.plans.logical.AnalysisHelper$.allowInvokingTransformsInAnalyzer(AnalysisHelper.scala:323)\n",
      "\tat org.apache.spark.sql.catalyst.plans.logical.AnalysisHelper.resolveOperatorsUpWithPruning(AnalysisHelper.scala:134)\n",
      "\tat org.apache.spark.sql.catalyst.plans.logical.AnalysisHelper.resolveOperatorsUpWithPruning$(AnalysisHelper.scala:130)\n",
      "\tat org.apache.spark.sql.catalyst.plans.logical.LogicalPlan.resolveOperatorsUpWithPruning(LogicalPlan.scala:30)\n",
      "\tat org.apache.spark.sql.catalyst.plans.logical.AnalysisHelper.$anonfun$resolveOperatorsUpWithPruning$2(AnalysisHelper.scala:135)\n",
      "\tat org.apache.spark.sql.catalyst.trees.BinaryLike.mapChildren(TreeNode.scala:1148)\n",
      "\tat org.apache.spark.sql.catalyst.trees.BinaryLike.mapChildren$(TreeNode.scala:1147)\n",
      "\tat org.apache.spark.sql.catalyst.plans.logical.Join.mapChildren(basicLogicalOperators.scala:390)\n",
      "\tat org.apache.spark.sql.catalyst.plans.logical.AnalysisHelper.$anonfun$resolveOperatorsUpWithPruning$1(AnalysisHelper.scala:135)\n",
      "\tat org.apache.spark.sql.catalyst.plans.logical.AnalysisHelper$.allowInvokingTransformsInAnalyzer(AnalysisHelper.scala:323)\n",
      "\tat org.apache.spark.sql.catalyst.plans.logical.AnalysisHelper.resolveOperatorsUpWithPruning(AnalysisHelper.scala:134)\n",
      "\tat org.apache.spark.sql.catalyst.plans.logical.AnalysisHelper.resolveOperatorsUpWithPruning$(AnalysisHelper.scala:130)\n",
      "\tat org.apache.spark.sql.catalyst.plans.logical.LogicalPlan.resolveOperatorsUpWithPruning(LogicalPlan.scala:30)\n",
      "\tat org.apache.spark.sql.catalyst.plans.logical.AnalysisHelper.$anonfun$resolveOperatorsUpWithPruning$2(AnalysisHelper.scala:135)\n",
      "\tat org.apache.spark.sql.catalyst.trees.BinaryLike.mapChildren(TreeNode.scala:1148)\n",
      "\tat org.apache.spark.sql.catalyst.trees.BinaryLike.mapChildren$(TreeNode.scala:1147)\n",
      "\tat org.apache.spark.sql.catalyst.plans.logical.Join.mapChildren(basicLogicalOperators.scala:390)\n",
      "\tat org.apache.spark.sql.catalyst.plans.logical.AnalysisHelper.$anonfun$resolveOperatorsUpWithPruning$1(AnalysisHelper.scala:135)\n",
      "\tat org.apache.spark.sql.catalyst.plans.logical.AnalysisHelper$.allowInvokingTransformsInAnalyzer(AnalysisHelper.scala:323)\n",
      "\tat org.apache.spark.sql.catalyst.plans.logical.AnalysisHelper.resolveOperatorsUpWithPruning(AnalysisHelper.scala:134)\n",
      "\tat org.apache.spark.sql.catalyst.plans.logical.AnalysisHelper.resolveOperatorsUpWithPruning$(AnalysisHelper.scala:130)\n",
      "\tat org.apache.spark.sql.catalyst.plans.logical.LogicalPlan.resolveOperatorsUpWithPruning(LogicalPlan.scala:30)\n",
      "\tat org.apache.spark.sql.catalyst.plans.logical.AnalysisHelper.$anonfun$resolveOperatorsUpWithPruning$2(AnalysisHelper.scala:135)\n",
      "\tat org.apache.spark.sql.catalyst.trees.BinaryLike.mapChildren(TreeNode.scala:1148)\n",
      "\tat org.apache.spark.sql.catalyst.trees.BinaryLike.mapChildren$(TreeNode.scala:1147)\n",
      "\tat org.apache.spark.sql.catalyst.plans.logical.Join.mapChildren(basicLogicalOperators.scala:390)\n",
      "\tat org.apache.spark.sql.catalyst.plans.logical.AnalysisHelper.$anonfun$resolveOperatorsUpWithPruning$1(AnalysisHelper.scala:135)\n",
      "\tat org.apache.spark.sql.catalyst.plans.logical.AnalysisHelper$.allowInvokingTransformsInAnalyzer(AnalysisHelper.scala:323)\n",
      "\tat org.apache.spark.sql.catalyst.plans.logical.AnalysisHelper.resolveOperatorsUpWithPruning(AnalysisHelper.scala:134)\n",
      "\tat org.apache.spark.sql.catalyst.plans.logical.AnalysisHelper.resolveOperatorsUpWithPruning$(AnalysisHelper.scala:130)\n",
      "\tat org.apache.spark.sql.catalyst.plans.logical.LogicalPlan.resolveOperatorsUpWithPruning(LogicalPlan.scala:30)\n",
      "\tat org.apache.spark.sql.catalyst.plans.logical.AnalysisHelper.$anonfun$resolveOperatorsUpWithPruning$2(AnalysisHelper.scala:135)\n",
      "\tat org.apache.spark.sql.catalyst.trees.BinaryLike.mapChildren(TreeNode.scala:1148)\n",
      "\tat org.apache.spark.sql.catalyst.trees.BinaryLike.mapChildren$(TreeNode.scala:1147)\n",
      "\tat org.apache.spark.sql.catalyst.plans.logical.Join.mapChildren(basicLogicalOperators.scala:390)\n",
      "\tat org.apache.spark.sql.catalyst.plans.logical.AnalysisHelper.$anonfun$resolveOperatorsUpWithPruning$1(AnalysisHelper.scala:135)\n",
      "\tat org.apache.spark.sql.catalyst.plans.logical.AnalysisHelper$.allowInvokingTransformsInAnalyzer(AnalysisHelper.scala:323)\n",
      "\tat org.apache.spark.sql.catalyst.plans.logical.AnalysisHelper.resolveOperatorsUpWithPruning(AnalysisHelper.scala:134)\n",
      "\tat org.apache.spark.sql.catalyst.plans.logical.AnalysisHelper.resolveOperatorsUpWithPruning$(AnalysisHelper.scala:130)\n",
      "\tat org.apache.spark.sql.catalyst.plans.logical.LogicalPlan.resolveOperatorsUpWithPruning(LogicalPlan.scala:30)\n",
      "\tat org.apache.spark.sql.catalyst.plans.logical.AnalysisHelper.$anonfun$resolveOperatorsUpWithPruning$2(AnalysisHelper.scala:135)\n",
      "\tat org.apache.spark.sql.catalyst.trees.BinaryLike.mapChildren(TreeNode.scala:1148)\n",
      "\tat org.apache.spark.sql.catalyst.trees.BinaryLike.mapChildren$(TreeNode.scala:1147)\n",
      "\tat org.apache.spark.sql.catalyst.plans.logical.Join.mapChildren(basicLogicalOperators.scala:390)\n",
      "\tat org.apache.spark.sql.catalyst.plans.logical.AnalysisHelper.$anonfun$resolveOperatorsUpWithPruning$1(AnalysisHelper.scala:135)\n",
      "\tat org.apache.spark.sql.catalyst.plans.logical.AnalysisHelper$.allowInvokingTransformsInAnalyzer(AnalysisHelper.scala:323)\n",
      "\tat org.apache.spark.sql.catalyst.plans.logical.AnalysisHelper.resolveOperatorsUpWithPruning(AnalysisHelper.scala:134)\n",
      "\tat org.apache.spark.sql.catalyst.plans.logical.AnalysisHelper.resolveOperatorsUpWithPruning$(AnalysisHelper.scala:130)\n",
      "\tat org.apache.spark.sql.catalyst.plans.logical.LogicalPlan.resolveOperatorsUpWithPruning(LogicalPlan.scala:30)\n",
      "\tat org.apache.spark.sql.catalyst.plans.logical.AnalysisHelper.$anonfun$resolveOperatorsUpWithPruning$2(AnalysisHelper.scala:135)\n",
      "\tat org.apache.spark.sql.catalyst.trees.BinaryLike.mapChildren(TreeNode.scala:1148)\n",
      "\tat org.apache.spark.sql.catalyst.trees.BinaryLike.mapChildren$(TreeNode.scala:1147)\n",
      "\tat org.apache.spark.sql.catalyst.plans.logical.Join.mapChildren(basicLogicalOperators.scala:390)\n",
      "\tat org.apache.spark.sql.catalyst.plans.logical.AnalysisHelper.$anonfun$resolveOperatorsUpWithPruning$1(AnalysisHelper.scala:135)\n",
      "\tat org.apache.spark.sql.catalyst.plans.logical.AnalysisHelper$.allowInvokingTransformsInAnalyzer(AnalysisHelper.scala:323)\n",
      "\tat org.apache.spark.sql.catalyst.plans.logical.AnalysisHelper.resolveOperatorsUpWithPruning(AnalysisHelper.scala:134)\n",
      "\tat org.apache.spark.sql.catalyst.plans.logical.AnalysisHelper.resolveOperatorsUpWithPruning$(AnalysisHelper.scala:130)\n",
      "\tat org.apache.spark.sql.catalyst.plans.logical.LogicalPlan.resolveOperatorsUpWithPruning(LogicalPlan.scala:30)\n",
      "\tat org.apache.spark.sql.catalyst.plans.logical.AnalysisHelper.$anonfun$resolveOperatorsUpWithPruning$2(AnalysisHelper.scala:135)\n",
      "\tat org.apache.spark.sql.catalyst.trees.BinaryLike.mapChildren(TreeNode.scala:1148)\n",
      "\tat org.apache.spark.sql.catalyst.trees.BinaryLike.mapChildren$(TreeNode.scala:1147)\n",
      "\tat org.apache.spark.sql.catalyst.plans.logical.Join.mapChildren(basicLogicalOperators.scala:390)\n",
      "\tat org.apache.spark.sql.catalyst.plans.logical.AnalysisHelper.$anonfun$resolveOperatorsUpWithPruning$1(AnalysisHelper.scala:135)\n",
      "\tat org.apache.spark.sql.catalyst.plans.logical.AnalysisHelper$.allowInvokingTransformsInAnalyzer(AnalysisHelper.scala:323)\n",
      "\tat org.apache.spark.sql.catalyst.plans.logical.AnalysisHelper.resolveOperatorsUpWithPruning(AnalysisHelper.scala:134)\n",
      "\tat org.apache.spark.sql.catalyst.plans.logical.AnalysisHelper.resolveOperatorsUpWithPruning$(AnalysisHelper.scala:130)\n",
      "\tat org.apache.spark.sql.catalyst.plans.logical.LogicalPlan.resolveOperatorsUpWithPruning(LogicalPlan.scala:30)\n",
      "\tat org.apache.spark.sql.catalyst.plans.logical.AnalysisHelper.$anonfun$resolveOperatorsUpWithPruning$2(AnalysisHelper.scala:135)\n",
      "\tat org.apache.spark.sql.catalyst.trees.BinaryLike.mapChildren(TreeNode.scala:1148)\n",
      "\tat org.apache.spark.sql.catalyst.trees.BinaryLike.mapChildren$(TreeNode.scala:1147)\n",
      "\tat org.apache.spark.sql.catalyst.plans.logical.Join.mapChildren(basicLogicalOperators.scala:390)\n",
      "\tat org.apache.spark.sql.catalyst.plans.logical.AnalysisHelper.$anonfun$resolveOperatorsUpWithPruning$1(AnalysisHelper.scala:135)\n",
      "\tat org.apache.spark.sql.catalyst.plans.logical.AnalysisHelper$.allowInvokingTransformsInAnalyzer(AnalysisHelper.scala:323)\n",
      "\tat org.apache.spark.sql.catalyst.plans.logical.AnalysisHelper.resolveOperatorsUpWithPruning(AnalysisHelper.scala:134)\n",
      "\tat org.apache.spark.sql.catalyst.plans.logical.AnalysisHelper.resolveOperatorsUpWithPruning$(AnalysisHelper.scala:130)\n",
      "\tat org.apache.spark.sql.catalyst.plans.logical.LogicalPlan.resolveOperatorsUpWithPruning(LogicalPlan.scala:30)\n",
      "\tat org.apache.spark.sql.catalyst.plans.logical.AnalysisHelper.$anonfun$resolveOperatorsUpWithPruning$2(AnalysisHelper.scala:135)\n",
      "\tat org.apache.spark.sql.catalyst.trees.BinaryLike.mapChildren(TreeNode.scala:1148)\n",
      "\tat org.apache.spark.sql.catalyst.trees.BinaryLike.mapChildren$(TreeNode.scala:1147)\n",
      "\tat org.apache.spark.sql.catalyst.plans.logical.Join.mapChildren(basicLogicalOperators.scala:390)\n",
      "\tat org.apache.spark.sql.catalyst.plans.logical.AnalysisHelper.$anonfun$resolveOperatorsUpWithPruning$1(AnalysisHelper.scala:135)\n",
      "\tat org.apache.spark.sql.catalyst.plans.logical.AnalysisHelper$.allowInvokingTransformsInAnalyzer(AnalysisHelper.scala:323)\n",
      "\tat org.apache.spark.sql.catalyst.plans.logical.AnalysisHelper.resolveOperatorsUpWithPruning(AnalysisHelper.scala:134)\n",
      "\tat org.apache.spark.sql.catalyst.plans.logical.AnalysisHelper.resolveOperatorsUpWithPruning$(AnalysisHelper.scala:130)\n",
      "\tat org.apache.spark.sql.catalyst.plans.logical.LogicalPlan.resolveOperatorsUpWithPruning(LogicalPlan.scala:30)\n",
      "\tat org.apache.spark.sql.catalyst.plans.logical.AnalysisHelper.$anonfun$resolveOperatorsUpWithPruning$2(AnalysisHelper.scala:135)\n",
      "\tat org.apache.spark.sql.catalyst.trees.BinaryLike.mapChildren(TreeNode.scala:1148)\n",
      "\tat org.apache.spark.sql.catalyst.trees.BinaryLike.mapChildren$(TreeNode.scala:1147)\n",
      "\tat org.apache.spark.sql.catalyst.plans.logical.Join.mapChildren(basicLogicalOperators.scala:390)\n",
      "\tat org.apache.spark.sql.catalyst.plans.logical.AnalysisHelper.$anonfun$resolveOperatorsUpWithPruning$1(AnalysisHelper.scala:135)\n",
      "\tat org.apache.spark.sql.catalyst.plans.logical.AnalysisHelper$.allowInvokingTransformsInAnalyzer(AnalysisHelper.scala:323)\n",
      "\tat org.apache.spark.sql.catalyst.plans.logical.AnalysisHelper.resolveOperatorsUpWithPruning(AnalysisHelper.scala:134)\n",
      "\tat org.apache.spark.sql.catalyst.plans.logical.AnalysisHelper.resolveOperatorsUpWithPruning$(AnalysisHelper.scala:130)\n",
      "\tat org.apache.spark.sql.catalyst.plans.logical.LogicalPlan.resolveOperatorsUpWithPruning(LogicalPlan.scala:30)\n",
      "\tat org.apache.spark.sql.catalyst.plans.logical.AnalysisHelper.$anonfun$resolveOperatorsUpWithPruning$2(AnalysisHelper.scala:135)\n",
      "\tat org.apache.spark.sql.catalyst.trees.BinaryLike.mapChildren(TreeNode.scala:1148)\n",
      "\tat org.apache.spark.sql.catalyst.trees.BinaryLike.mapChildren$(TreeNode.scala:1147)\n",
      "\tat org.apache.spark.sql.catalyst.plans.logical.Join.mapChildren(basicLogicalOperators.scala:390)\n",
      "\tat org.apache.spark.sql.catalyst.plans.logical.AnalysisHelper.$anonfun$resolveOperatorsUpWithPruning$1(AnalysisHelper.scala:135)\n",
      "\tat org.apache.spark.sql.catalyst.plans.logical.AnalysisHelper$.allowInvokingTransformsInAnalyzer(AnalysisHelper.scala:323)\n",
      "\tat org.apache.spark.sql.catalyst.plans.logical.AnalysisHelper.resolveOperatorsUpWithPruning(AnalysisHelper.scala:134)\n",
      "\tat org.apache.spark.sql.catalyst.plans.logical.AnalysisHelper.resolveOperatorsUpWithPruning$(AnalysisHelper.scala:130)\n",
      "\tat org.apache.spark.sql.catalyst.plans.logical.LogicalPlan.resolveOperatorsUpWithPruning(LogicalPlan.scala:30)\n",
      "\tat org.apache.spark.sql.catalyst.plans.logical.AnalysisHelper.$anonfun$resolveOperatorsUpWithPruning$2(AnalysisHelper.scala:135)\n",
      "\tat org.apache.spark.sql.catalyst.trees.BinaryLike.mapChildren(TreeNode.scala:1148)\n",
      "\tat org.apache.spark.sql.catalyst.trees.BinaryLike.mapChildren$(TreeNode.scala:1147)\n",
      "\tat org.apache.spark.sql.catalyst.plans.logical.Join.mapChildren(basicLogicalOperators.scala:390)\n",
      "\tat org.apache.spark.sql.catalyst.plans.logical.AnalysisHelper.$anonfun$resolveOperatorsUpWithPruning$1(AnalysisHelper.scala:135)\n",
      "\tat org.apache.spark.sql.catalyst.plans.logical.AnalysisHelper$.allowInvokingTransformsInAnalyzer(AnalysisHelper.scala:323)\n",
      "\tat org.apache.spark.sql.catalyst.plans.logical.AnalysisHelper.resolveOperatorsUpWithPruning(AnalysisHelper.scala:134)\n",
      "\tat org.apache.spark.sql.catalyst.plans.logical.AnalysisHelper.resolveOperatorsUpWithPruning$(AnalysisHelper.scala:130)\n",
      "\tat org.apache.spark.sql.catalyst.plans.logical.LogicalPlan.resolveOperatorsUpWithPruning(LogicalPlan.scala:30)\n",
      "\tat org.apache.spark.sql.catalyst.plans.logical.AnalysisHelper.$anonfun$resolveOperatorsUpWithPruning$2(AnalysisHelper.scala:135)\n",
      "\tat org.apache.spark.sql.catalyst.trees.BinaryLike.mapChildren(TreeNode.scala:1148)\n",
      "\tat org.apache.spark.sql.catalyst.trees.BinaryLike.mapChildren$(TreeNode.scala:1147)\n",
      "\tat org.apache.spark.sql.catalyst.plans.logical.Join.mapChildren(basicLogicalOperators.scala:390)\n",
      "\tat org.apache.spark.sql.catalyst.plans.logical.AnalysisHelper.$anonfun$resolveOperatorsUpWithPruning$1(AnalysisHelper.scala:135)\n",
      "\tat org.apache.spark.sql.catalyst.plans.logical.AnalysisHelper$.allowInvokingTransformsInAnalyzer(AnalysisHelper.scala:323)\n",
      "\tat org.apache.spark.sql.catalyst.plans.logical.AnalysisHelper.resolveOperatorsUpWithPruning(AnalysisHelper.scala:134)\n",
      "\tat org.apache.spark.sql.catalyst.plans.logical.AnalysisHelper.resolveOperatorsUpWithPruning$(AnalysisHelper.scala:130)\n",
      "\tat org.apache.spark.sql.catalyst.plans.logical.LogicalPlan.resolveOperatorsUpWithPruning(LogicalPlan.scala:30)\n",
      "\tat org.apache.spark.sql.catalyst.plans.logical.AnalysisHelper.$anonfun$resolveOperatorsUpWithPruning$2(AnalysisHelper.scala:135)\n",
      "\tat org.apache.spark.sql.catalyst.trees.BinaryLike.mapChildren(TreeNode.scala:1148)\n",
      "\tat org.apache.spark.sql.catalyst.trees.BinaryLike.mapChildren$(TreeNode.scala:1147)\n",
      "\tat org.apache.spark.sql.catalyst.plans.logical.Join.mapChildren(basicLogicalOperators.scala:390)\n",
      "\tat org.apache.spark.sql.catalyst.plans.logical.AnalysisHelper.$anonfun$resolveOperatorsUpWithPruning$1(AnalysisHelper.scala:135)\n",
      "\tat org.apache.spark.sql.catalyst.plans.logical.AnalysisHelper$.allowInvokingTransformsInAnalyzer(AnalysisHelper.scala:323)\n",
      "\tat org.apache.spark.sql.catalyst.plans.logical.AnalysisHelper.resolveOperatorsUpWithPruning(AnalysisHelper.scala:134)\n",
      "\tat org.apache.spark.sql.catalyst.plans.logical.AnalysisHelper.resolveOperatorsUpWithPruning$(AnalysisHelper.scala:130)\n",
      "\tat org.apache.spark.sql.catalyst.plans.logical.LogicalPlan.resolveOperatorsUpWithPruning(LogicalPlan.scala:30)\n",
      "\tat org.apache.spark.sql.catalyst.plans.logical.AnalysisHelper.$anonfun$resolveOperatorsUpWithPruning$2(AnalysisHelper.scala:135)\n",
      "\tat org.apache.spark.sql.catalyst.trees.BinaryLike.mapChildren(TreeNode.scala:1148)\n",
      "\tat org.apache.spark.sql.catalyst.trees.BinaryLike.mapChildren$(TreeNode.scala:1147)\n",
      "\tat org.apache.spark.sql.catalyst.plans.logical.Join.mapChildren(basicLogicalOperators.scala:390)\n",
      "\tat org.apache.spark.sql.catalyst.plans.logical.AnalysisHelper.$anonfun$resolveOperatorsUpWithPruning$1(AnalysisHelper.scala:135)\n",
      "\tat org.apache.spark.sql.catalyst.plans.logical.AnalysisHelper$.allowInvokingTransformsInAnalyzer(AnalysisHelper.scala:323)\n",
      "\tat org.apache.spark.sql.catalyst.plans.logical.AnalysisHelper.resolveOperatorsUpWithPruning(AnalysisHelper.scala:134)\n",
      "\tat org.apache.spark.sql.catalyst.plans.logical.AnalysisHelper.resolveOperatorsUpWithPruning$(AnalysisHelper.scala:130)\n",
      "\tat org.apache.spark.sql.catalyst.plans.logical.LogicalPlan.resolveOperatorsUpWithPruning(LogicalPlan.scala:30)\n",
      "\tat org.apache.spark.sql.catalyst.plans.logical.AnalysisHelper.$anonfun$resolveOperatorsUpWithPruning$2(AnalysisHelper.scala:135)\n",
      "\tat org.apache.spark.sql.catalyst.trees.BinaryLike.mapChildren(TreeNode.scala:1148)\n",
      "\tat org.apache.spark.sql.catalyst.trees.BinaryLike.mapChildren$(TreeNode.scala:1147)\n",
      "\tat org.apache.spark.sql.catalyst.plans.logical.Join.mapChildren(basicLogicalOperators.scala:390)\n",
      "\tat org.apache.spark.sql.catalyst.plans.logical.AnalysisHelper.$anonfun$resolveOperatorsUpWithPruning$1(AnalysisHelper.scala:135)\n",
      "\tat org.apache.spark.sql.catalyst.plans.logical.AnalysisHelper$.allowInvokingTransformsInAnalyzer(AnalysisHelper.scala:323)\n",
      "\tat org.apache.spark.sql.catalyst.plans.logical.AnalysisHelper.resolveOperatorsUpWithPruning(AnalysisHelper.scala:134)\n",
      "\tat org.apache.spark.sql.catalyst.plans.logical.AnalysisHelper.resolveOperatorsUpWithPruning$(AnalysisHelper.scala:130)\n",
      "\tat org.apache.spark.sql.catalyst.plans.logical.LogicalPlan.resolveOperatorsUpWithPruning(LogicalPlan.scala:30)\n",
      "\tat org.apache.spark.sql.catalyst.plans.logical.AnalysisHelper.$anonfun$resolveOperatorsUpWithPruning$2(AnalysisHelper.scala:135)\n",
      "\tat org.apache.spark.sql.catalyst.trees.BinaryLike.mapChildren(TreeNode.scala:1148)\n",
      "\tat org.apache.spark.sql.catalyst.trees.BinaryLike.mapChildren$(TreeNode.scala:1147)\n",
      "\tat org.apache.spark.sql.catalyst.plans.logical.Join.mapChildren(basicLogicalOperators.scala:390)\n",
      "\tat org.apache.spark.sql.catalyst.plans.logical.AnalysisHelper.$anonfun$resolveOperatorsUpWithPruning$1(AnalysisHelper.scala:135)\n",
      "\tat org.apache.spark.sql.catalyst.plans.logical.AnalysisHelper$.allowInvokingTransformsInAnalyzer(AnalysisHelper.scala:323)\n",
      "\tat org.apache.spark.sql.catalyst.plans.logical.AnalysisHelper.resolveOperatorsUpWithPruning(AnalysisHelper.scala:134)\n",
      "\tat org.apache.spark.sql.catalyst.plans.logical.AnalysisHelper.resolveOperatorsUpWithPruning$(AnalysisHelper.scala:130)\n",
      "\tat org.apache.spark.sql.catalyst.plans.logical.LogicalPlan.resolveOperatorsUpWithPruning(LogicalPlan.scala:30)\n",
      "\tat org.apache.spark.sql.catalyst.plans.logical.AnalysisHelper.$anonfun$resolveOperatorsUpWithPruning$2(AnalysisHelper.scala:135)\n",
      "\tat org.apache.spark.sql.catalyst.trees.UnaryLike.mapChildren(TreeNode.scala:1122)\n",
      "\tat org.apache.spark.sql.catalyst.trees.UnaryLike.mapChildren$(TreeNode.scala:1121)\n",
      "\tat org.apache.spark.sql.catalyst.plans.logical.OrderPreservingUnaryNode.mapChildren(LogicalPlan.scala:206)\n",
      "\tat org.apache.spark.sql.catalyst.plans.logical.AnalysisHelper.$anonfun$resolveOperatorsUpWithPruning$1(AnalysisHelper.scala:135)\n",
      "\tat org.apache.spark.sql.catalyst.plans.logical.AnalysisHelper$.allowInvokingTransformsInAnalyzer(AnalysisHelper.scala:323)\n",
      "\tat org.apache.spark.sql.catalyst.plans.logical.AnalysisHelper.resolveOperatorsUpWithPruning(AnalysisHelper.scala:134)\n",
      "\tat org.apache.spark.sql.catalyst.plans.logical.AnalysisHelper.resolveOperatorsUpWithPruning$(AnalysisHelper.scala:130)\n",
      "\tat org.apache.spark.sql.catalyst.plans.logical.LogicalPlan.resolveOperatorsUpWithPruning(LogicalPlan.scala:30)\n",
      "\tat org.apache.spark.sql.catalyst.analysis.Analyzer$ResolveTempViews$.apply(Analyzer.scala:899)\n",
      "\tat org.apache.spark.sql.catalyst.analysis.Analyzer$ResolveRelations$.apply(Analyzer.scala:1164)\n",
      "\tat org.apache.spark.sql.catalyst.analysis.Analyzer$ResolveRelations$.apply(Analyzer.scala:1131)\n",
      "\tat org.apache.spark.sql.catalyst.rules.RuleExecutor.$anonfun$execute$2(RuleExecutor.scala:211)\n",
      "\tat scala.collection.LinearSeqOptimized.foldLeft(LinearSeqOptimized.scala:126)\n",
      "\tat scala.collection.LinearSeqOptimized.foldLeft$(LinearSeqOptimized.scala:122)\n",
      "\tat scala.collection.immutable.List.foldLeft(List.scala:91)\n",
      "\tat org.apache.spark.sql.catalyst.rules.RuleExecutor.$anonfun$execute$1(RuleExecutor.scala:208)\n",
      "\tat org.apache.spark.sql.catalyst.rules.RuleExecutor.$anonfun$execute$1$adapted(RuleExecutor.scala:200)\n",
      "\tat scala.collection.immutable.List.foreach(List.scala:431)\n",
      "\tat org.apache.spark.sql.catalyst.rules.RuleExecutor.execute(RuleExecutor.scala:200)\n",
      "\tat org.apache.spark.sql.catalyst.analysis.Analyzer.org$apache$spark$sql$catalyst$analysis$Analyzer$$executeSameContext(Analyzer.scala:222)\n",
      "\tat org.apache.spark.sql.catalyst.analysis.Analyzer.$anonfun$execute$1(Analyzer.scala:218)\n",
      "\tat org.apache.spark.sql.catalyst.analysis.AnalysisContext$.withNewAnalysisContext(Analyzer.scala:167)\n",
      "\tat org.apache.spark.sql.catalyst.analysis.Analyzer.execute(Analyzer.scala:218)\n",
      "\tat org.apache.spark.sql.catalyst.analysis.Analyzer.execute(Analyzer.scala:182)\n",
      "\tat org.apache.spark.sql.catalyst.rules.RuleExecutor.$anonfun$executeAndTrack$1(RuleExecutor.scala:179)\n",
      "\tat org.apache.spark.sql.catalyst.QueryPlanningTracker$.withTracker(QueryPlanningTracker.scala:88)\n",
      "\tat org.apache.spark.sql.catalyst.rules.RuleExecutor.executeAndTrack(RuleExecutor.scala:179)\n",
      "\tat org.apache.spark.sql.catalyst.analysis.Analyzer.$anonfun$executeAndCheck$1(Analyzer.scala:203)\n",
      "\tat org.apache.spark.sql.catalyst.plans.logical.AnalysisHelper$.markInAnalyzer(AnalysisHelper.scala:330)\n",
      "\tat org.apache.spark.sql.catalyst.analysis.Analyzer.executeAndCheck(Analyzer.scala:202)\n",
      "\tat org.apache.spark.sql.execution.QueryExecution.$anonfun$analyzed$1(QueryExecution.scala:75)\n",
      "\tat org.apache.spark.sql.catalyst.QueryPlanningTracker.measurePhase(QueryPlanningTracker.scala:111)\n",
      "\tat org.apache.spark.sql.execution.QueryExecution.$anonfun$executePhase$1(QueryExecution.scala:183)\n",
      "\tat org.apache.spark.sql.SparkSession.withActive(SparkSession.scala:775)\n",
      "\tat org.apache.spark.sql.execution.QueryExecution.executePhase(QueryExecution.scala:183)\n",
      "\tat org.apache.spark.sql.execution.QueryExecution.analyzed$lzycompute(QueryExecution.scala:75)\n",
      "\tat org.apache.spark.sql.execution.QueryExecution.analyzed(QueryExecution.scala:73)\n",
      "\tat org.apache.spark.sql.execution.QueryExecution.assertAnalyzed(QueryExecution.scala:65)\n",
      "\tat org.apache.spark.sql.Dataset$.$anonfun$ofRows$2(Dataset.scala:98)\n",
      "\tat org.apache.spark.sql.SparkSession.withActive(SparkSession.scala:775)\n",
      "\tat org.apache.spark.sql.Dataset$.ofRows(Dataset.scala:96)\n",
      "\tat org.apache.spark.sql.SparkSession.$anonfun$sql$1(SparkSession.scala:618)\n",
      "\tat org.apache.spark.sql.SparkSession.withActive(SparkSession.scala:775)\n",
      "\tat org.apache.spark.sql.SparkSession.sql(SparkSession.scala:613)\n",
      "\tat sun.reflect.NativeMethodAccessorImpl.invoke0(Native Method)\n",
      "\tat sun.reflect.NativeMethodAccessorImpl.invoke(NativeMethodAccessorImpl.java:62)\n",
      "\tat sun.reflect.DelegatingMethodAccessorImpl.invoke(DelegatingMethodAccessorImpl.java:43)\n",
      "\tat java.lang.reflect.Method.invoke(Method.java:498)\n",
      "\tat py4j.reflection.MethodInvoker.invoke(MethodInvoker.java:244)\n",
      "\tat py4j.reflection.ReflectionEngine.invoke(ReflectionEngine.java:357)\n",
      "\tat py4j.Gateway.invoke(Gateway.java:282)\n",
      "\tat py4j.commands.AbstractCommand.invokeMethod(AbstractCommand.java:132)\n",
      "\tat py4j.commands.CallCommand.execute(CallCommand.java:79)\n",
      "\tat py4j.ClientServerConnection.waitForCommands(ClientServerConnection.java:182)\n",
      "\tat py4j.ClientServerConnection.run(ClientServerConnection.java:106)\n",
      "\tat java.lang.Thread.run(Thread.java:750)\n"
     ]
    }
   ],
   "source": [
    "#pull all relevant columns\n",
    "field_names = [\"eid\", \"p31\", \"p22189\", \"p21000_i0\", \"p21001_i0\", 'p21001_i1', 'p21003_i0',  'p21003_i1', \"p1558_i0\",\"p1558_i1\", \"p20002_i0\",  \"p131298\", \"p6150_i0\", \"p131286\", \"p131294\", \"p130814\", \"p130706\", \"p130708\", \"p53_i0\",  \"p53_i1\",  \"p130892\", \"p130894\", \"p130896\", \"p2050_i0\", \"p2060_i0\",  \"p2050_i1\",  \"p130838\", \"p131056\", \"p131058\", \"p131180\", \"p131360\", \"p131362\", \"p131364\", \"p131366\", \"p131368\", \"p131370\", \"p131372\", \"p131374\", \"p131376\", \"p131378\", \"p22032_i0\", 'p21001_i1', 'p1558_i1', 'p21003_i1',  'p21003_i1', 'p20116_i0', 'p20116_i1', 'p20003_i0', 'p1160_i0', 'p20003_i1', 'p1160_i1', 'p1070_i0', 'p1070_i1', 'p1080_i0', 'p1080_i1', 'p1120_i0', 'p1120_i1', 'p110005', 'p90051' , 'p90016', 'p90017', 'p90185', 'p90187', 'p90012', 'p90010', 'p90011', 'p6142_i0' , 'p134_i0', 'p131354', 'p131306', 'p40046_i0', 'p40047_i0', 'p40048_i0', 'p40049_i0', 'p90027', 'p90028', 'p90029', 'p90030', 'p90031', 'p90032', 'p90033', 'p90034', 'p90035', 'p90036', 'p90037', 'p90038', 'p90039', 'p90040', 'p90041', 'p90042', 'p90043', 'p90044', 'p90045', 'p90046', 'p90047', 'p90048', 'p90049', 'p90050', 'p90051', 'p40030_i0', 'p40031_i0', 'p40032_i0', 'p40033_i0', 'p6146_i0']\n",
    "df = participant.retrieve_fields(names=field_names, engine=dxdata.connect())"
   ]
  },
  {
   "cell_type": "code",
   "execution_count": 5,
   "metadata": {
    "tags": []
   },
   "outputs": [
    {
     "name": "stdout",
     "output_type": "stream",
     "text": [
      "2023-09-18 02:33:44.730 WARN  package:69 - Truncated the string representation of a plan since it was too large. This behavior can be adjusted by setting 'spark.sql.debug.maxToStringFields'.\n"
     ]
    },
    {
     "name": "stderr",
     "output_type": "stream",
     "text": [
      "/cluster/spark/python/pyspark/sql/pandas/conversion.py:194: FutureWarning: Passing unit-less datetime64 dtype to .astype is deprecated and will raise in a future version. Pass 'datetime64[ns]' instead\n",
      "  series = series.astype(t, copy=False)\n",
      "/cluster/spark/python/pyspark/sql/pandas/conversion.py:194: FutureWarning: Passing unit-less datetime64 dtype to .astype is deprecated and will raise in a future version. Pass 'datetime64[ns]' instead\n",
      "  series = series.astype(t, copy=False)\n"
     ]
    }
   ],
   "source": [
    "#create pandas dataframe\n",
    "pdf = df.toPandas()"
   ]
  },
  {
   "cell_type": "code",
   "execution_count": 6,
   "metadata": {
    "tags": []
   },
   "outputs": [
    {
     "data": {
      "text/plain": [
       "502364"
      ]
     },
     "execution_count": 6,
     "metadata": {},
     "output_type": "execute_result"
    }
   ],
   "source": [
    "#check that pandas conversion worked - this is the full UKBB rows of px\n",
    "#pdf.head(10)\n",
    "len(pdf)"
   ]
  },
  {
   "cell_type": "code",
   "execution_count": 7,
   "metadata": {
    "tags": []
   },
   "outputs": [
    {
     "data": {
      "text/plain": [
       "103660"
      ]
     },
     "execution_count": 7,
     "metadata": {},
     "output_type": "execute_result"
    }
   ],
   "source": [
    "#drop any row/participant who does not have lifestyle data\n",
    "#pdf_lifestyle = pdf.dropna(subset=['p20116_i0',  'p1558_i0', 'p1160_i0', 'p1070_i0', 'p1080_i0', 'p1120_i0', 'p2050_i0'])\n",
    "#drop any row/participant who does not have wear duration data, aka accelerometer data\n",
    "pdf_lifestyle = pdf.dropna(subset=['p90051'])\n",
    "#check DF length\n",
    "len(pdf_lifestyle)"
   ]
  },
  {
   "cell_type": "code",
   "execution_count": 8,
   "metadata": {
    "tags": []
   },
   "outputs": [],
   "source": [
    "#accelerometer cohort and quality control below"
   ]
  },
  {
   "cell_type": "code",
   "execution_count": 9,
   "metadata": {
    "tags": []
   },
   "outputs": [
    {
     "name": "stdout",
     "output_type": "stream",
     "text": [
      "after dropping px with less than 72 hours of wear time 97123\n"
     ]
    }
   ],
   "source": [
    "pdf_lifestyle = pdf[pdf['p90051'] >= 3.0]\n",
    "print('after dropping px with less than 72 hours of wear time', len(pdf_lifestyle))"
   ]
  },
  {
   "cell_type": "code",
   "execution_count": 10,
   "metadata": {
    "tags": []
   },
   "outputs": [
    {
     "name": "stdout",
     "output_type": "stream",
     "text": [
      "after dropping px with poor calibration (outer) 97119\n"
     ]
    }
   ],
   "source": [
    "pdf_lifestyle = pdf_lifestyle[pdf_lifestyle['p90016'] == 1]\n",
    "print('after dropping px with poor calibration (outer)', len(pdf_lifestyle))"
   ]
  },
  {
   "cell_type": "code",
   "execution_count": 11,
   "metadata": {
    "tags": []
   },
   "outputs": [
    {
     "name": "stdout",
     "output_type": "stream",
     "text": [
      "after dropping px with poor calibration (self) 96956\n"
     ]
    }
   ],
   "source": [
    "pdf_lifestyle = pdf_lifestyle[pdf_lifestyle['p90017'] == 1]\n",
    "print('after dropping px with poor calibration (self)', len(pdf_lifestyle))"
   ]
  },
  {
   "cell_type": "code",
   "execution_count": 12,
   "metadata": {
    "tags": []
   },
   "outputs": [
    {
     "name": "stdout",
     "output_type": "stream",
     "text": [
      "after dropping px with more than 1% clips 96956\n"
     ]
    }
   ],
   "source": [
    "pdf_lifestyle['clip_perc'] = pdf_lifestyle['p90185']/pdf_lifestyle['p90187']\n",
    "pdf_lifestyle['clip_perc'].head(10)\n",
    "pdf_lifestyle = pdf_lifestyle[pdf_lifestyle['clip_perc'] <= 0.01]\n",
    "print('after dropping px with more than 1% clips', len(pdf_lifestyle))"
   ]
  },
  {
   "cell_type": "code",
   "execution_count": 13,
   "metadata": {
    "tags": []
   },
   "outputs": [
    {
     "name": "stdout",
     "output_type": "stream",
     "text": [
      "after dropping px with avg acceleration > 100 mg 96949\n"
     ]
    }
   ],
   "source": [
    "pdf_lifestyle = pdf_lifestyle[pdf_lifestyle['p90012'] <= 100]\n",
    "print('after dropping px with avg acceleration > 100 mg', len(pdf_lifestyle))"
   ]
  },
  {
   "cell_type": "code",
   "execution_count": 14,
   "metadata": {
    "tags": []
   },
   "outputs": [],
   "source": [
    "#accelerometer quality check completed"
   ]
  },
  {
   "cell_type": "code",
   "execution_count": 15,
   "metadata": {
    "tags": []
   },
   "outputs": [
    {
     "data": {
      "text/html": [
       "<div>\n",
       "<style scoped>\n",
       "    .dataframe tbody tr th:only-of-type {\n",
       "        vertical-align: middle;\n",
       "    }\n",
       "\n",
       "    .dataframe tbody tr th {\n",
       "        vertical-align: top;\n",
       "    }\n",
       "\n",
       "    .dataframe thead th {\n",
       "        text-align: right;\n",
       "    }\n",
       "</style>\n",
       "<table border=\"1\" class=\"dataframe\">\n",
       "  <thead>\n",
       "    <tr style=\"text-align: right;\">\n",
       "      <th></th>\n",
       "      <th>pID</th>\n",
       "      <th>male</th>\n",
       "      <th>tdi</th>\n",
       "      <th>ethnicity</th>\n",
       "      <th>bmi</th>\n",
       "      <th>bmi_1</th>\n",
       "      <th>age_i0</th>\n",
       "      <th>age_i1</th>\n",
       "      <th>alc_freq</th>\n",
       "      <th>alc_freq_1</th>\n",
       "      <th>...</th>\n",
       "      <th>pa_time_21</th>\n",
       "      <th>pa_time_22</th>\n",
       "      <th>pa_time_23</th>\n",
       "      <th>pa_time_24</th>\n",
       "      <th>pa_sleep_day_hour</th>\n",
       "      <th>pa_sed_day_hour</th>\n",
       "      <th>pa_light_day_hour</th>\n",
       "      <th>pa_mv_day_hour</th>\n",
       "      <th>gov_assistance</th>\n",
       "      <th>clip_perc</th>\n",
       "    </tr>\n",
       "  </thead>\n",
       "  <tbody>\n",
       "    <tr>\n",
       "      <th>0</th>\n",
       "      <td>5545411</td>\n",
       "      <td>1</td>\n",
       "      <td>-4.62</td>\n",
       "      <td>1001.0</td>\n",
       "      <td>28.8906</td>\n",
       "      <td>NaN</td>\n",
       "      <td>59</td>\n",
       "      <td>NaN</td>\n",
       "      <td>3.0</td>\n",
       "      <td>NaN</td>\n",
       "      <td>...</td>\n",
       "      <td>9.82</td>\n",
       "      <td>15.90</td>\n",
       "      <td>15.48</td>\n",
       "      <td>8.51</td>\n",
       "      <td>0.96,0.97,0.95,0.96,1,1,0.95,0.57,0.17,0.07,0,...</td>\n",
       "      <td>0.01,0.03,0.05,0.04,0,0,0.01,0.34,0.62,0.45,0....</td>\n",
       "      <td>0.03,0,0,0,0,0,0.04,0.09,0.21,0.35,0.33,0.22,0...</td>\n",
       "      <td>0,0,0,0,0,0,0,0,0,0.13,0.15,0.34,0.16,0,0.02,0...</td>\n",
       "      <td>[-7]</td>\n",
       "      <td>3.292736e-05</td>\n",
       "    </tr>\n",
       "    <tr>\n",
       "      <th>1</th>\n",
       "      <td>5180517</td>\n",
       "      <td>0</td>\n",
       "      <td>-0.42</td>\n",
       "      <td>1001.0</td>\n",
       "      <td>22.7933</td>\n",
       "      <td>NaN</td>\n",
       "      <td>52</td>\n",
       "      <td>NaN</td>\n",
       "      <td>5.0</td>\n",
       "      <td>NaN</td>\n",
       "      <td>...</td>\n",
       "      <td>33.53</td>\n",
       "      <td>28.41</td>\n",
       "      <td>31.26</td>\n",
       "      <td>32.41</td>\n",
       "      <td>0.98,1,1,1,1,1,1,0.44,0.02,0.14,0,0,0.04,0.12,...</td>\n",
       "      <td>0.02,0,0,0,0,0,0,0.46,0.52,0.22,0.28,0.33,0.5,...</td>\n",
       "      <td>0,0,0,0,0,0,0,0.11,0.46,0.58,0.57,0.57,0.35,0....</td>\n",
       "      <td>0,0,0,0,0,0,0,0,0,0.05,0.15,0.1,0.1,0.13,0.07,...</td>\n",
       "      <td>[-7]</td>\n",
       "      <td>3.599349e-06</td>\n",
       "    </tr>\n",
       "    <tr>\n",
       "      <th>8</th>\n",
       "      <td>3530112</td>\n",
       "      <td>0</td>\n",
       "      <td>-2.74</td>\n",
       "      <td>1001.0</td>\n",
       "      <td>26.6137</td>\n",
       "      <td>NaN</td>\n",
       "      <td>52</td>\n",
       "      <td>NaN</td>\n",
       "      <td>5.0</td>\n",
       "      <td>NaN</td>\n",
       "      <td>...</td>\n",
       "      <td>18.45</td>\n",
       "      <td>14.58</td>\n",
       "      <td>7.09</td>\n",
       "      <td>3.58</td>\n",
       "      <td>1,0.99,1,1,1,0.85,0.34,0.47,0.1,0,0,0,0,0,0,0,...</td>\n",
       "      <td>0,0.01,0,0,0,0.03,0.15,0.07,0.15,0.08,0.05,0.4...</td>\n",
       "      <td>0,0,0,0,0,0.11,0.29,0.46,0.75,0.87,0.78,0.56,0...</td>\n",
       "      <td>0,0,0,0,0,0,0.22,0,0,0.06,0.18,0.04,0,0.02,0.0...</td>\n",
       "      <td>[-7]</td>\n",
       "      <td>5.219251e-06</td>\n",
       "    </tr>\n",
       "    <tr>\n",
       "      <th>11</th>\n",
       "      <td>3176117</td>\n",
       "      <td>0</td>\n",
       "      <td>-0.36</td>\n",
       "      <td>1001.0</td>\n",
       "      <td>20.0918</td>\n",
       "      <td>NaN</td>\n",
       "      <td>50</td>\n",
       "      <td>NaN</td>\n",
       "      <td>2.0</td>\n",
       "      <td>NaN</td>\n",
       "      <td>...</td>\n",
       "      <td>32.56</td>\n",
       "      <td>38.86</td>\n",
       "      <td>36.33</td>\n",
       "      <td>29.51</td>\n",
       "      <td>0.47,0.5,0.45,0.4,0.51,0.44,0.4,0.43,0.46,0.43...</td>\n",
       "      <td>0.19,0.23,0.35,0.25,0.27,0.18,0.1,0.06,0.12,0....</td>\n",
       "      <td>0.28,0.18,0.2,0.31,0.22,0.39,0.5,0.5,0.4,0.19,...</td>\n",
       "      <td>0.06,0.08,0,0.04,0,0,0,0,0.02,0.04,0,0,0.02,0....</td>\n",
       "      <td>[-7]</td>\n",
       "      <td>4.263014e-06</td>\n",
       "    </tr>\n",
       "    <tr>\n",
       "      <th>13</th>\n",
       "      <td>3429176</td>\n",
       "      <td>0</td>\n",
       "      <td>-1.93</td>\n",
       "      <td>3001.0</td>\n",
       "      <td>23.2577</td>\n",
       "      <td>NaN</td>\n",
       "      <td>47</td>\n",
       "      <td>NaN</td>\n",
       "      <td>3.0</td>\n",
       "      <td>NaN</td>\n",
       "      <td>...</td>\n",
       "      <td>39.91</td>\n",
       "      <td>22.84</td>\n",
       "      <td>12.52</td>\n",
       "      <td>18.10</td>\n",
       "      <td>0.73,1,1,1,1,0.98,0.88,0.84,0.66,0.2,0.14,0.05...</td>\n",
       "      <td>0.09,0,0,0,0,0,0,0.11,0.18,0.36,0.42,0.32,0.31...</td>\n",
       "      <td>0.18,0,0,0,0,0.02,0.12,0.05,0.16,0.44,0.45,0.6...</td>\n",
       "      <td>0,0,0,0,0,0,0,0,0,0,0,0,0.14,0.01,0.02,0.04,0....</td>\n",
       "      <td>[-7]</td>\n",
       "      <td>9.191687e-07</td>\n",
       "    </tr>\n",
       "  </tbody>\n",
       "</table>\n",
       "<p>5 rows × 100 columns</p>\n",
       "</div>"
      ],
      "text/plain": [
       "        pID  male   tdi  ethnicity      bmi  bmi_1  age_i0  age_i1  alc_freq  \\\n",
       "0   5545411     1 -4.62     1001.0  28.8906    NaN      59     NaN       3.0   \n",
       "1   5180517     0 -0.42     1001.0  22.7933    NaN      52     NaN       5.0   \n",
       "8   3530112     0 -2.74     1001.0  26.6137    NaN      52     NaN       5.0   \n",
       "11  3176117     0 -0.36     1001.0  20.0918    NaN      50     NaN       2.0   \n",
       "13  3429176     0 -1.93     3001.0  23.2577    NaN      47     NaN       3.0   \n",
       "\n",
       "    alc_freq_1  ... pa_time_21 pa_time_22 pa_time_23 pa_time_24  \\\n",
       "0          NaN  ...       9.82      15.90      15.48       8.51   \n",
       "1          NaN  ...      33.53      28.41      31.26      32.41   \n",
       "8          NaN  ...      18.45      14.58       7.09       3.58   \n",
       "11         NaN  ...      32.56      38.86      36.33      29.51   \n",
       "13         NaN  ...      39.91      22.84      12.52      18.10   \n",
       "\n",
       "                                    pa_sleep_day_hour  \\\n",
       "0   0.96,0.97,0.95,0.96,1,1,0.95,0.57,0.17,0.07,0,...   \n",
       "1   0.98,1,1,1,1,1,1,0.44,0.02,0.14,0,0,0.04,0.12,...   \n",
       "8   1,0.99,1,1,1,0.85,0.34,0.47,0.1,0,0,0,0,0,0,0,...   \n",
       "11  0.47,0.5,0.45,0.4,0.51,0.44,0.4,0.43,0.46,0.43...   \n",
       "13  0.73,1,1,1,1,0.98,0.88,0.84,0.66,0.2,0.14,0.05...   \n",
       "\n",
       "                                      pa_sed_day_hour  \\\n",
       "0   0.01,0.03,0.05,0.04,0,0,0.01,0.34,0.62,0.45,0....   \n",
       "1   0.02,0,0,0,0,0,0,0.46,0.52,0.22,0.28,0.33,0.5,...   \n",
       "8   0,0.01,0,0,0,0.03,0.15,0.07,0.15,0.08,0.05,0.4...   \n",
       "11  0.19,0.23,0.35,0.25,0.27,0.18,0.1,0.06,0.12,0....   \n",
       "13  0.09,0,0,0,0,0,0,0.11,0.18,0.36,0.42,0.32,0.31...   \n",
       "\n",
       "                                    pa_light_day_hour  \\\n",
       "0   0.03,0,0,0,0,0,0.04,0.09,0.21,0.35,0.33,0.22,0...   \n",
       "1   0,0,0,0,0,0,0,0.11,0.46,0.58,0.57,0.57,0.35,0....   \n",
       "8   0,0,0,0,0,0.11,0.29,0.46,0.75,0.87,0.78,0.56,0...   \n",
       "11  0.28,0.18,0.2,0.31,0.22,0.39,0.5,0.5,0.4,0.19,...   \n",
       "13  0.18,0,0,0,0,0.02,0.12,0.05,0.16,0.44,0.45,0.6...   \n",
       "\n",
       "                                       pa_mv_day_hour gov_assistance  \\\n",
       "0   0,0,0,0,0,0,0,0,0,0.13,0.15,0.34,0.16,0,0.02,0...           [-7]   \n",
       "1   0,0,0,0,0,0,0,0,0,0.05,0.15,0.1,0.1,0.13,0.07,...           [-7]   \n",
       "8   0,0,0,0,0,0,0.22,0,0,0.06,0.18,0.04,0,0.02,0.0...           [-7]   \n",
       "11  0.06,0.08,0,0.04,0,0,0,0,0.02,0.04,0,0,0.02,0....           [-7]   \n",
       "13  0,0,0,0,0,0,0,0,0,0,0,0,0.14,0.01,0.02,0.04,0....           [-7]   \n",
       "\n",
       "       clip_perc  \n",
       "0   3.292736e-05  \n",
       "1   3.599349e-06  \n",
       "8   5.219251e-06  \n",
       "11  4.263014e-06  \n",
       "13  9.191687e-07  \n",
       "\n",
       "[5 rows x 100 columns]"
      ]
     },
     "execution_count": 15,
     "metadata": {},
     "output_type": "execute_result"
    }
   ],
   "source": [
    "#rename columns\n",
    "pdf_rename = pdf_lifestyle.rename(columns={'eid': 'pID', 'p31': 'male', 'p22189': 'tdi', 'p21000_i0': 'ethnicity', 'p21001_i0': 'bmi', 'p21001_i1': 'bmi_1', 'p1558_i0': 'alc_freq', 'p1558_i1': 'alc_freq_1', 'p20002_i0': 'sr_illness', 'p21003_i0': 'age_i0', 'p21003_i1': 'age_i1',  'p131298': 'i21_date', 'p6150_i0': 'vasc_diag', 'p131298': 'i21_date', 'p131286': 'i10_date', 'p131294': 'i15_date', 'p130814': 'e78_date', 'p130706': 'e10_date', 'p130708': 'e11_date', 'p53_i0': 'date_i0', 'p53_i1': 'date_i1', 'p41271': 'icd9', 'p41270': 'icd10', 'p130892': 'f31_date',  'p130894': 'f32_date', 'p130896': 'f33_date', 'p2050_i0': 'phq2_1', 'p130838': 'f01_date', 'p131056': 'g45_date', 'p131058': 'g46_date', 'p131180': 'h34_date', 'p131360': 'i60_date', 'p131362': 'i61_date', 'p131364': 'i62_date', 'p131366': 'i63_date', 'p131368': 'i64_date', 'p131370': 'i65_date', 'p131372': 'i66_date', 'p131374': 'i67_date', 'p131376': 'i68_date', 'p131378': 'i69_date', 'p20116_i0': 'smok_stat', \"p20116_i1\": 'smok_stat_1', 'p1160_i0': 'sleep', 'p1160_i1': 'sleep_1', 'p1070_i0':'tv', 'p1070_i1':'tv_1', 'p1080_i0':'computer', 'p1080_i1':'computer_1', 'p1120_i0': 'mobile phone', 'p1120_i1': 'mobile phone_1', 'p20510': 'phq2_1_1', 'p22032_i0': 'ipaq', 'p2050_i1': 'phq2_1_followup', 'p90012': 'aac_overall_avg', 'p90185': 'acc_exceed8g_aftercal', 'p90187': 'acc_total_data_read', 'p90017': 'acc_calib_own', 'p90016': 'acc_calib_all', 'p90051': 'acc_weartime', 'p90010': 'acc_start_date', 'p90011': 'acc_end_date', 'p6142_i0': 'employ_status',  'p131354': 'i50_date', 'p131306': 'i25_date', 'p40046_i0': 'pa_sleep_over_avg', 'p40047_i0': 'pa_seden_over_avg', 'p40048_i0': 'pa_light_over_avg',  'p40049_i0': 'pa_mv_over_avg', 'p40049_i0': 'pa_mv_over_avg', 'p90027':'pa_time_1', 'p90028':'pa_time_2', 'p90029':'pa_time_3', 'p90030':'pa_time_4', 'p90031':'pa_time_5', 'p90032':'pa_time_6', 'p90033':'pa_time_7', 'p90034':'pa_time_8', 'p90035':'pa_time_9', 'p90036':'pa_time_10', 'p90037':'pa_time_11', 'p90038':'pa_time_12', 'p90039':'pa_time_13', 'p90040':'pa_time_14', 'p90041':'pa_time_15', 'p90042':'pa_time_16', 'p90043':'pa_time_17', 'p90044':'pa_time_18', 'p90045':'pa_time_19', 'p90046':'pa_time_20', 'p90047':'pa_time_21', 'p90048':'pa_time_22', 'p90049':'pa_time_23', 'p90050':'pa_time_24', 'p90051': 'pa_sum_wear', 'p40030_i0': 'pa_sleep_day_hour', 'p40031_i0': 'pa_sed_day_hour', 'p40032_i0': 'pa_light_day_hour', 'p40033_i0': 'pa_mv_day_hour', 'p6146_i0': 'gov_assistance'})\n",
    "#check that rename worked\n",
    "pdf_rename.head(5)"
   ]
  },
  {
   "cell_type": "code",
   "execution_count": 16,
   "metadata": {
    "tags": []
   },
   "outputs": [
    {
     "data": {
      "text/plain": [
       "0      4.66\n",
       "1      2.15\n",
       "8      5.36\n",
       "11    30.74\n",
       "13    11.81\n",
       "Name: pa_time_1, dtype: float64"
      ]
     },
     "execution_count": 16,
     "metadata": {},
     "output_type": "execute_result"
    }
   ],
   "source": [
    "#check that rename worked\n",
    "pdf_rename['pa_time_1'].head(5)"
   ]
  },
  {
   "cell_type": "code",
   "execution_count": 17,
   "metadata": {
    "tags": []
   },
   "outputs": [
    {
     "data": {
      "text/plain": [
       "0     584.0208\n",
       "1     475.6176\n",
       "8     603.6336\n",
       "11    442.9296\n",
       "Name: pa_sleep_convert, dtype: float64"
      ]
     },
     "execution_count": 17,
     "metadata": {},
     "output_type": "execute_result"
    }
   ],
   "source": [
    "#convert physical activity (pa) data to numeric\n",
    "pdf_rename['pa_sum_wear'] = pd.to_numeric(pdf_rename['pa_sum_wear'], errors='coerce')\n",
    "pdf_rename['pa_seden_over_avg'] = pd.to_numeric(pdf_rename['pa_seden_over_avg'], errors='coerce')\n",
    "pdf_rename['pa_sleep_over_avg'] = pd.to_numeric(pdf_rename['pa_sleep_over_avg'], errors='coerce')\n",
    "pdf_rename['pa_light_over_avg'] = pd.to_numeric(pdf_rename['pa_light_over_avg'], errors='coerce')\n",
    "pdf_rename['pa_mv_over_avg'] = pd.to_numeric(pdf_rename['pa_mv_over_avg'], errors='coerce')\n",
    "#; convert total wear value/day to minutes\n",
    "pdf_rename['pa_sum_wear_min'] = pdf_rename['pa_sum_wear']*24*60\n",
    "#convert PA type to minutes/day/week = daily minutes in PA type\n",
    "pdf_rename['pa_sed_convert'] = (pdf_rename['pa_sum_wear_min']*pdf_rename['pa_seden_over_avg'])/pdf_rename['pa_sum_wear']\n",
    "pdf_rename['pa_sleep_convert'] = (pdf_rename['pa_sum_wear_min']*pdf_rename['pa_sleep_over_avg'])/pdf_rename['pa_sum_wear']\n",
    "pdf_rename['pa_light_convert'] = (pdf_rename['pa_sum_wear_min']*pdf_rename['pa_light_over_avg'])/pdf_rename['pa_sum_wear']\n",
    "pdf_rename['pa_mv_convert'] = (pdf_rename['pa_sum_wear_min']*pdf_rename['pa_mv_over_avg'])/pdf_rename['pa_sum_wear']\n",
    "#check conversion\n",
    "pdf_rename['pa_sleep_convert'].head(4)"
   ]
  },
  {
   "cell_type": "code",
   "execution_count": 18,
   "metadata": {
    "tags": []
   },
   "outputs": [],
   "source": [
    "#convert ethnicity data to be workable\n",
    "pdf_rename['ethnicity'].dtype\n",
    "pdf_rename['ethnicity'] = pd.to_numeric(pdf_rename['ethnicity'], errors='coerce')\n",
    "pdf_rename['ethnicity'].dtype\n",
    "for index, row in pdf_rename.iterrows():\n",
    "    if row['ethnicity'] == 1.0 or row['ethnicity'] == 1001.0 or row['ethnicity'] == 1002.0 or row['ethnicity'] == 1003.0:\n",
    "        pdf_rename.at[index, 'white_yes'] = 1"
   ]
  },
  {
   "cell_type": "code",
   "execution_count": 19,
   "metadata": {
    "tags": []
   },
   "outputs": [],
   "source": [
    "#create 4 seasons of accelerometer wear using accelerometer wear start date\n",
    "def filter_accwear_month(date):\n",
    "    if date.month in [12, 1, 2]:\n",
    "        return 1\n",
    "    elif date.month in [3, 4, 5]:\n",
    "        return 2\n",
    "    elif date.month in [6, 7, 8]:\n",
    "        return 3\n",
    "    else:\n",
    "        return 4  \n",
    "\n",
    "pdf_rename['acc_wearmonth'] = pdf_rename['acc_start_date'].apply(filter_accwear_month)"
   ]
  },
  {
   "cell_type": "code",
   "execution_count": 20,
   "metadata": {
    "tags": []
   },
   "outputs": [
    {
     "name": "stdout",
     "output_type": "stream",
     "text": [
      "after dropping px with missing sleep survey data 96703\n"
     ]
    }
   ],
   "source": [
    "#drop -1 (\"do not know\") and -3 (\"prefer not to answer\") from sleep duration survey\n",
    "pdf_rename = pdf_rename[~(pdf_rename['sleep'] == -3)]\n",
    "pdf_rename = pdf_rename[~(pdf_rename['sleep'] == -1)]\n",
    "print('after dropping px with missing sleep survey data', len(pdf_rename))"
   ]
  },
  {
   "cell_type": "code",
   "execution_count": 21,
   "metadata": {
    "tags": []
   },
   "outputs": [],
   "source": [
    "#clean employment survey arrays\n",
    "pdf_rename['employ_status'].head(10)\n",
    "pdf_rename['employ_status'].dtype\n",
    "def employ_array(lst):\n",
    "    if isinstance(lst, list):\n",
    "        return np.array(lst)\n",
    "    else:\n",
    "        return None \n",
    "\n",
    "pdf_rename['employ_status_array'] = pdf_rename['employ_status'].apply(employ_array)"
   ]
  },
  {
   "cell_type": "code",
   "execution_count": 22,
   "metadata": {
    "tags": []
   },
   "outputs": [],
   "source": [
    "#continue cleaning employment covariate\n",
    "pdf_rename['employ_status_array'].head(10)\n",
    "pdf_rename['employ_status_array'].dtype\n",
    "#drop missing survey data/chose not to respond\n",
    "pdf_rename = pdf_rename[~(pdf_rename['employ_status'] == -3)]\n",
    "pdf_rename = pdf_rename[~(pdf_rename['employ_status'] == -7)]\n",
    "\n",
    "def create_employ_array_filter(arr):\n",
    "    if isinstance(arr, np.ndarray):\n",
    "        setA = set(arr).intersection({2, 3, 4, 5, 6})\n",
    "        setB = set(arr).intersection({1, 7})\n",
    "\n",
    "        if setA and setB:\n",
    "            return 2\n",
    "        elif setA:\n",
    "            return 0\n",
    "        elif setB:\n",
    "            return 1\n",
    "        else:\n",
    "            return None\n",
    "    else:\n",
    "        return None \n",
    "    \n",
    "pdf_rename['employ_status_array_filter'] = pdf_rename['employ_status_array'].apply(create_employ_array_filter)"
   ]
  },
  {
   "cell_type": "code",
   "execution_count": 23,
   "metadata": {
    "tags": []
   },
   "outputs": [],
   "source": [
    "#if px did not respond/chose to say they don't want to respond, drop these patients from df\n",
    "def drop_employ_nonresponse(arr):\n",
    "    if isinstance(arr, np.ndarray):\n",
    "        return any(x in arr for x in [-3, -7])\n",
    "    else:\n",
    "        return False  \n",
    "\n",
    "for index, row in pdf_rename.iterrows():\n",
    "    if drop_employ_nonresponse(row['employ_status_array']):\n",
    "        pdf_rename.drop(index, inplace=True)\n",
    "\n",
    "pdf_rename.reset_index(drop=True, inplace=True)"
   ]
  },
  {
   "cell_type": "code",
   "execution_count": 24,
   "metadata": {
    "tags": []
   },
   "outputs": [
    {
     "name": "stdout",
     "output_type": "stream",
     "text": [
      "after dropping px with missing smoking survey data 95893\n"
     ]
    }
   ],
   "source": [
    "#for smoking status, drop anyone who answered \"-3/prefer not to answer\"\n",
    "pdf_rename['smok_stat'] = pdf_rename['smok_stat'].astype(str)\n",
    "pdf_rename = pdf_rename[~pdf_rename['smok_stat'].str.contains('-3')]\n",
    "print('after dropping px with missing smoking survey data', len(pdf_rename))"
   ]
  },
  {
   "cell_type": "code",
   "execution_count": 25,
   "metadata": {
    "tags": []
   },
   "outputs": [
    {
     "name": "stdout",
     "output_type": "stream",
     "text": [
      "after dropping px with incomplete screen surveys data 94936\n"
     ]
    }
   ],
   "source": [
    "#drop -1 and -3 from tv and computer and mobile phone use; fix tv use value of -10\n",
    "pdf_rename = pdf_rename[~(pdf_rename['tv'] == -3)]\n",
    "pdf_rename = pdf_rename[~(pdf_rename['tv'] == -1)]\n",
    "pdf_rename = pdf_rename[~(pdf_rename['computer'] == -3)]\n",
    "pdf_rename = pdf_rename[~(pdf_rename['computer'] == -1)]\n",
    "pdf_rename = pdf_rename[~(pdf_rename['mobile phone'] == -3)]\n",
    "pdf_rename = pdf_rename[~(pdf_rename['mobile phone'] == -1)]\n",
    "pdf_rename['tv'] = pdf_rename['tv'].replace(-10, 0.5)\n",
    "print('after dropping px with incomplete screen surveys data', len(pdf_rename))"
   ]
  },
  {
   "cell_type": "code",
   "execution_count": 26,
   "metadata": {
    "tags": []
   },
   "outputs": [
    {
     "name": "stdout",
     "output_type": "stream",
     "text": [
      "after dropping px with missing sleep survey data 80704\n"
     ]
    }
   ],
   "source": [
    "pdf_rename.dropna(subset=['computer', 'tv', 'mobile phone'], inplace=True)\n",
    "print('after dropping px with missing sleep survey data', len(pdf_rename))"
   ]
  },
  {
   "cell_type": "code",
   "execution_count": 27,
   "metadata": {
    "tags": []
   },
   "outputs": [
    {
     "name": "stdout",
     "output_type": "stream",
     "text": [
      "after dropping px with incomplete alcohol survey data 80679\n"
     ]
    }
   ],
   "source": [
    "#drop alc_freq values for \"prefer not to answer\"/-3\n",
    "pdf_rename = pdf_rename[~(pdf_rename['alc_freq'] == -3)]\n",
    "print('after dropping px with incomplete alcohol survey data', len(pdf_rename))"
   ]
  },
  {
   "cell_type": "code",
   "execution_count": 28,
   "metadata": {
    "tags": []
   },
   "outputs": [],
   "source": [
    "#reorder alc_freq values \n",
    "#if 4\tOne to three times a month | 5\tSpecial occasions only | 6\tNever, then make seldom=1\n",
    "#if 2\tThree or four times a week | 3\tOnce or twice a week, then make sometimes=2\n",
    "#if 1\tDaily or almost daily, then make daily=3\n",
    "pdf_rename['alc_freq_filter'] = np.where(pdf_rename['alc_freq'].isin([4, 5, 6]), 1, \n",
    "                    np.where(pdf_rename['alc_freq'].isin([2, 3]), 2, \n",
    "                             np.where(pdf_rename['alc_freq'].isin([1]), 3, np.nan)))"
   ]
  },
  {
   "cell_type": "code",
   "execution_count": 29,
   "metadata": {
    "tags": []
   },
   "outputs": [
    {
     "name": "stdout",
     "output_type": "stream",
     "text": [
      "after dropping px with incomplete and missing disability assistance survey data 80428\n"
     ]
    }
   ],
   "source": [
    "#fix government assistance covariate\n",
    "pdf_rename['gov_assistance'] = pdf_rename['gov_assistance'].astype(str)\n",
    "def gov_assist_filter(row):\n",
    "    if '-3' in row['gov_assistance']:\n",
    "        return None\n",
    "    elif '-1' in row['gov_assistance']:\n",
    "        return None\n",
    "    elif '-7' in row['gov_assistance']:\n",
    "        return 0\n",
    "    elif '1' in row['gov_assistance']:\n",
    "        return 1\n",
    "    elif '2' in row['gov_assistance']:\n",
    "        return 1\n",
    "    elif '3' in row['gov_assistance']:\n",
    "        return 1\n",
    "    else:\n",
    "        return None \n",
    "\n",
    "pdf_rename['gov_assistance_filter'] = pdf_rename.apply(gov_assist_filter, axis=1)\n",
    "#drop rows with missing government assistance info\n",
    "pdf_rename.dropna(subset=['gov_assistance_filter'], inplace=True)\n",
    "print('after dropping px with incomplete and missing disability assistance survey data', len(pdf_rename))"
   ]
  },
  {
   "cell_type": "code",
   "execution_count": 30,
   "metadata": {
    "tags": []
   },
   "outputs": [
    {
     "name": "stdout",
     "output_type": "stream",
     "text": [
      "after dropping px with self-reported HA or CeVD prior to baseline 78350\n"
     ]
    }
   ],
   "source": [
    "#convert sr_illness to string\n",
    "pdf_rename['sr_illness'].dtype\n",
    "pdf_rename['sr_illness'] = pdf_rename['sr_illness'].astype(str)\n",
    "#remove 1075= heart attack, 1081= stroke, 1082= tia, 1086= sah, 1282= brao/crao, 1491= brain hemorrhage, 1583= ischemic stroke\n",
    "pdf_rename = pdf_rename[~pdf_rename['sr_illness'].str.contains('1075|1081|1082|1086|1282|1491|1583')]\n",
    "print('after dropping px with self-reported HA or CeVD prior to baseline', len(pdf_rename))"
   ]
  },
  {
   "cell_type": "code",
   "execution_count": 31,
   "metadata": {
    "tags": []
   },
   "outputs": [],
   "source": [
    "#convert dates to datetime values or analysis\n",
    "pdf_rename[\"date_i0\"] = pd.to_datetime(pdf_rename[\"date_i0\"])\n",
    "pdf_rename[\"i21_date\"] = pd.to_datetime(pdf_rename[\"i21_date\"])\n",
    "pdf_rename[\"f01_date\"] = pd.to_datetime(pdf_rename[\"f01_date\"])\n",
    "pdf_rename[\"g45_date\"] = pd.to_datetime(pdf_rename[\"g45_date\"])\n",
    "pdf_rename[\"g46_date\"] = pd.to_datetime(pdf_rename[\"g46_date\"])\n",
    "pdf_rename[\"h34_date\"] = pd.to_datetime(pdf_rename[\"h34_date\"])\n",
    "pdf_rename[\"i60_date\"] = pd.to_datetime(pdf_rename[\"i60_date\"])\n",
    "pdf_rename[\"i61_date\"] = pd.to_datetime(pdf_rename[\"i61_date\"])\n",
    "pdf_rename[\"i62_date\"] = pd.to_datetime(pdf_rename[\"i62_date\"])\n",
    "pdf_rename[\"i63_date\"] = pd.to_datetime(pdf_rename[\"i63_date\"])\n",
    "pdf_rename[\"i64_date\"] = pd.to_datetime(pdf_rename[\"i64_date\"])\n",
    "pdf_rename[\"i65_date\"] = pd.to_datetime(pdf_rename[\"i65_date\"])\n",
    "pdf_rename[\"i66_date\"] = pd.to_datetime(pdf_rename[\"i66_date\"])\n",
    "pdf_rename[\"i67_date\"] = pd.to_datetime(pdf_rename[\"i67_date\"])\n",
    "pdf_rename[\"i68_date\"] = pd.to_datetime(pdf_rename[\"i68_date\"])\n",
    "pdf_rename[\"i69_date\"] = pd.to_datetime(pdf_rename[\"i69_date\"])\n",
    "pdf_rename[\"f31_date\"] = pd.to_datetime(pdf_rename[\"f31_date\"])\n",
    "pdf_rename[\"f32_date\"] = pd.to_datetime(pdf_rename[\"f32_date\"])\n",
    "pdf_rename[\"f33_date\"] = pd.to_datetime(pdf_rename[\"f33_date\"])\n",
    "pdf_rename[\"acc_end_date\"] = pd.to_datetime(pdf_rename[\"acc_end_date\"])"
   ]
  },
  {
   "cell_type": "code",
   "execution_count": 32,
   "metadata": {},
   "outputs": [
    {
     "name": "stdout",
     "output_type": "stream",
     "text": [
      "after dropping px with medical record HA prior to baseline 78296\n"
     ]
    }
   ],
   "source": [
    "#drop px with prior heart attack (HA) \n",
    "#convert date columns to days format\n",
    "pdf_rename['i21_time'] = (pdf_rename['date_i0'] - pdf_rename['i21_date']).dt.days\n",
    "#drop cases with a prior heart attack (I21)\n",
    "pdf_rename = pdf_rename.loc[(pdf_rename['i21_time'] < 0) | (pdf_rename['i21_time'].isna())]\n",
    "print('after dropping px with medical record HA prior to baseline', len(pdf_rename))"
   ]
  },
  {
   "cell_type": "code",
   "execution_count": 33,
   "metadata": {
    "tags": []
   },
   "outputs": [
    {
     "name": "stdout",
     "output_type": "stream",
     "text": [
      "after dropping px with other self-report question on HA/stroke/prefer not to answer prior to baseline 77609\n"
     ]
    }
   ],
   "source": [
    "#convert vasc_diag to string\n",
    "pdf_rename['vasc_diag'].dtype\n",
    "pdf_rename['vasc_diag'] = pdf_rename['vasc_diag'].astype(str)\n",
    "#drop px who report prior vascular diagnoses of HA, STROKE, PREFER NOT TO ANSWER\n",
    "pdf_rename = pdf_rename.loc[(pdf_rename['vasc_diag'] == '[-7]') | (pdf_rename['vasc_diag']  == '[4]') | (pdf_rename['vasc_diag']  == '[2]')]\n",
    "print('after dropping px with other self-report question on HA/stroke/prefer not to answer prior to baseline', len(pdf_rename))"
   ]
  },
  {
   "cell_type": "code",
   "execution_count": 34,
   "metadata": {
    "tags": []
   },
   "outputs": [
    {
     "name": "stdout",
     "output_type": "stream",
     "text": [
      "check number of px with TIA prior to baseline 405\n",
      "check number of px with I63 prior to baseline 172\n",
      "check number of px with I64  prior to baseline 139\n"
     ]
    }
   ],
   "source": [
    "#check cases with a prior vascular brain syndromes of CeVD (G46)\n",
    "pdf_rename['g45_time'] = (pdf_rename['acc_end_date'] - pdf_rename['g45_date']).dt.days\n",
    "pdf_rename_check_g45 = pdf_rename.loc[(pdf_rename['g45_time'] > 0)]\n",
    "print('check number of px with TIA prior to baseline', len(pdf_rename_check_g45))\n",
    "#drop cases with a prior vascular brain syndromes of CeVD (G46)\n",
    "pdf_rename['i63_time'] = (pdf_rename['acc_end_date'] - pdf_rename['i63_date']).dt.days\n",
    "pdf_rename_check_i63 = pdf_rename.loc[(pdf_rename['i63_time'] > 0)]\n",
    "print('check number of px with I63 prior to baseline', len(pdf_rename_check_i63))\n",
    "#drop cases with a prior vascular brain syndromes of CeVD (G46)\n",
    "pdf_rename['i64_time'] = (pdf_rename['acc_end_date'] - pdf_rename['i64_date']).dt.days\n",
    "pdf_rename_check_i64 = pdf_rename.loc[(pdf_rename['i64_time'] > 0)]\n",
    "print('check number of px with I64  prior to baseline', len(pdf_rename_check_i64))"
   ]
  },
  {
   "cell_type": "code",
   "execution_count": 35,
   "metadata": {
    "tags": []
   },
   "outputs": [
    {
     "name": "stdout",
     "output_type": "stream",
     "text": [
      "after dropping px with CeVD diagnoses in medical records prior to baseline 76505\n"
     ]
    }
   ],
   "source": [
    "#drop prior CevD px who have recorded diagnosis in medical records\n",
    "#drop cases with a prior vascular dementia (F01)\n",
    "pdf_rename['f01_time'] = (pdf_rename['acc_end_date'] - pdf_rename['f01_date']).dt.days\n",
    "pdf_rename = pdf_rename.loc[(pdf_rename['f01_time'] < 0) | (pdf_rename['f01_time'].isna())]\n",
    "\n",
    "#drop cases with a prior TIA (G45)\n",
    "pdf_rename['g45_time'] = (pdf_rename['acc_end_date'] - pdf_rename['g45_date']).dt.days\n",
    "pdf_rename = pdf_rename.loc[(pdf_rename['g45_time'] < 0) | (pdf_rename['g45_time'].isna())]\n",
    "\n",
    "#drop cases with a prior vascular brain syndromes of CeVD (G46)\n",
    "pdf_rename['g46_time'] = (pdf_rename['acc_end_date'] - pdf_rename['g46_date']).dt.days\n",
    "pdf_rename = pdf_rename.loc[(pdf_rename['g46_time'] < 0) | (pdf_rename['g46_time'].isna())]\n",
    "\n",
    "#drop cases with a prior RAO (H34)\n",
    "pdf_rename['h34_time'] = (pdf_rename['acc_end_date'] - pdf_rename['h34_date']).dt.days\n",
    "pdf_rename = pdf_rename.loc[(pdf_rename['h34_time'] < 0) | (pdf_rename['h34_time'].isna())]\n",
    "\n",
    "#drop cases with a prior Nontraumatic subarachnoid hemorrhage (I60)\n",
    "pdf_rename['i60_time'] = (pdf_rename['acc_end_date'] - pdf_rename['i60_date']).dt.days\n",
    "pdf_rename = pdf_rename.loc[(pdf_rename['i60_time'] < 0) | (pdf_rename['i60_time'].isna())]\n",
    "\n",
    "#drop cases with a prior Nontraumatic intracerebral hemorrhage (I61)\n",
    "pdf_rename['i61_time'] = (pdf_rename['acc_end_date'] - pdf_rename['i61_date']).dt.days\n",
    "pdf_rename = pdf_rename.loc[(pdf_rename['i61_time'] < 0) | (pdf_rename['i61_time'].isna())]\n",
    "\n",
    "#drop cases with a prior Other and unspecified nontraumatic intracranial hemorrhage (I62)\n",
    "pdf_rename['i62_time'] = (pdf_rename['acc_end_date'] - pdf_rename['i62_date']).dt.days\n",
    "pdf_rename = pdf_rename.loc[(pdf_rename['i62_time'] < 0) | (pdf_rename['i62_time'].isna())]\n",
    "\n",
    "#drop cases with a prior intracerebral infarction (I63)\n",
    "pdf_rename['i63_time'] = (pdf_rename['acc_end_date'] - pdf_rename['i63_date']).dt.days\n",
    "pdf_rename = pdf_rename.loc[(pdf_rename['i63_time'] < 0) | (pdf_rename['i63_time'].isna())]\n",
    "\n",
    "#drop cases with a prior unspecified stroke (I64)\n",
    "pdf_rename['i64_time'] = (pdf_rename['acc_end_date'] - pdf_rename['i64_date']).dt.days\n",
    "pdf_rename = pdf_rename.loc[(pdf_rename['i64_time'] < 0) | (pdf_rename['i64_time'].isna())]\n",
    "\n",
    "#drop cases with a prior occlusion/stenosis precerebral arteries (I65)\n",
    "pdf_rename['i65_time'] = (pdf_rename['acc_end_date'] - pdf_rename['i65_date']).dt.days\n",
    "pdf_rename = pdf_rename.loc[(pdf_rename['i65_time'] < 0) | (pdf_rename['i65_time'].isna())]\n",
    "\n",
    "#drop cases with a prior occlusion/stenosis cerebral arteries (I66)\n",
    "pdf_rename['i66_time'] = (pdf_rename['acc_end_date'] - pdf_rename['i66_date']).dt.days\n",
    "pdf_rename = pdf_rename.loc[(pdf_rename['i66_time'] < 0) | (pdf_rename['i66_time'].isna())]\n",
    "\n",
    "#drop cases with a prior Other cerebrovascular diseases (I67)\n",
    "pdf_rename['i67_time'] = (pdf_rename['acc_end_date'] - pdf_rename['i67_date']).dt.days\n",
    "pdf_rename = pdf_rename.loc[(pdf_rename['i67_time'] < 0) | (pdf_rename['i67_time'].isna())]\n",
    "\n",
    "#drop cases with a prior Cerebrovascular disorders in diseases classified elsewhere (I68)\n",
    "pdf_rename['i68_time'] = (pdf_rename['acc_end_date'] - pdf_rename['i68_date']).dt.days\n",
    "pdf_rename = pdf_rename.loc[(pdf_rename['i68_time'] < 0) | (pdf_rename['i68_time'].isna())]\n",
    "\n",
    "#drop cases with a prior Sequelae of cerebrovascular disease (I69)\n",
    "pdf_rename['i69_time'] = (pdf_rename['acc_end_date'] - pdf_rename['i69_date']).dt.days\n",
    "pdf_rename = pdf_rename.loc[(pdf_rename['i69_time'] < 0) | (pdf_rename['i69_time'].isna())]\n",
    "\n",
    "print('after dropping px with CeVD diagnoses in medical records prior to baseline', len(pdf_rename))"
   ]
  },
  {
   "cell_type": "code",
   "execution_count": 36,
   "metadata": {
    "tags": []
   },
   "outputs": [
    {
     "name": "stdout",
     "output_type": "stream",
     "text": [
      "Number of px with depression diagnosis (F31, F32, F33): 6737\n"
     ]
    }
   ],
   "source": [
    "#prep depression cases in \"days\" format\n",
    "pdf_rename['f31_time'] = (pdf_rename['acc_end_date'] - pdf_rename['f31_date']).dt.days\n",
    "pdf_rename['f32_time'] = (pdf_rename['acc_end_date'] - pdf_rename['f32_date']).dt.days\n",
    "pdf_rename['f33_time'] = (pdf_rename['acc_end_date'] - pdf_rename['f33_date']).dt.days\n",
    "# check for diagnosed depression; if yes, return 1\n",
    "def check_for_dep_diag(row):\n",
    "    if row['f31_time'] > 0 or row['f32_time'] > 0 or row['f33_time'] > 0:\n",
    "        return 1\n",
    "    else:\n",
    "        return 0\n",
    "\n",
    "pdf_rename['dep_diag_yes'] = pdf_rename.apply(check_for_dep_diag, axis=1)\n",
    "check_dep_diag = pdf_rename['dep_diag_yes'].sum()\n",
    "print(\"Number of px with depression diagnosis (F31, F32, F33):\", check_dep_diag)"
   ]
  },
  {
   "cell_type": "code",
   "execution_count": 37,
   "metadata": {
    "tags": []
   },
   "outputs": [
    {
     "name": "stdout",
     "output_type": "stream",
     "text": [
      "median depression duration: 4163.0\n"
     ]
    }
   ],
   "source": [
    "#pull earliest depression diagnosis per row; make depression duration variable\n",
    "pdf_rename['dep_dur'] = pdf_rename[['f31_time', 'f32_time', 'f33_time']].max(axis=1)\n",
    "print(\"median depression duration:\", pdf_rename['dep_dur'].median())"
   ]
  },
  {
   "cell_type": "code",
   "execution_count": 38,
   "metadata": {
    "tags": []
   },
   "outputs": [
    {
     "data": {
      "image/png": "[encoded data removed]",
      "text/plain": [
       "<Figure size 640x480 with 1 Axes>"
      ]
     },
     "metadata": {},
     "output_type": "display_data"
    }
   ],
   "source": [
    "#check depression duration variable with histogram\n",
    "plt.hist(pdf_rename['dep_dur'], bins=20, color='blue', alpha=0.7) \n",
    "plt.xlabel('Depression Duration (Days)')\n",
    "plt.ylabel('Frequency')\n",
    "plt.title('Histogram')\n",
    "plt.show()"
   ]
  },
  {
   "cell_type": "code",
   "execution_count": 39,
   "metadata": {
    "tags": []
   },
   "outputs": [],
   "source": [
    "#fill empty rows in white_yes with 0; some 0 variables did not convert correctly and need manual imput\n",
    "pdf_rename['white_yes'].fillna(0, inplace=True)"
   ]
  },
  {
   "cell_type": "code",
   "execution_count": 40,
   "metadata": {
    "tags": []
   },
   "outputs": [],
   "source": [
    "#calculate sum values of time spent in exercise for the 4 divided times per day (0:00-5:59; 6:00-11:59,etc)\n",
    "for index, row in pdf_rename.iterrows():\n",
    "    pdf_rename.at[index, 'pa_time_a'] = row['pa_time_1'] + row['pa_time_2'] + row['pa_time_3'] + row['pa_time_4'] + row['pa_time_5'] + row['pa_time_6']\n",
    "\n",
    "for index, row in pdf_rename.iterrows():\n",
    "    pdf_rename.at[index, 'pa_time_b'] = row['pa_time_7'] + row['pa_time_8'] + row['pa_time_9'] + row['pa_time_10'] + row['pa_time_11'] + row['pa_time_12']\n",
    "\n",
    "for index, row in pdf_rename.iterrows():\n",
    "    pdf_rename.at[index, 'pa_time_c'] = row['pa_time_13'] + row['pa_time_14'] + row['pa_time_15'] + row['pa_time_16'] + row['pa_time_17'] + row['pa_time_18']\n",
    "\n",
    "for index, row in pdf_rename.iterrows():\n",
    "    pdf_rename.at[index, 'pa_time_d'] = row['pa_time_19'] + row['pa_time_20'] + row['pa_time_21'] + row['pa_time_22'] + row['pa_time_23'] + row['pa_time_24']\n",
    "   "
   ]
  },
  {
   "cell_type": "code",
   "execution_count": 41,
   "metadata": {
    "tags": []
   },
   "outputs": [
    {
     "data": {
      "text/plain": [
       "0    [0.96, 0.97, 0.95, 0.96, 1, 1, 0.95, 0.57, 0.1...\n",
       "1    [0.98, 1, 1, 1, 1, 1, 1, 0.44, 0.02, 0.14, 0, ...\n",
       "2    [1, 0.99, 1, 1, 1, 0.85, 0.34, 0.47, 0.1, 0, 0...\n",
       "3    [0.47, 0.5, 0.45, 0.4, 0.51, 0.44, 0.4, 0.43, ...\n",
       "4    [0.73, 1, 1, 1, 1, 0.98, 0.88, 0.84, 0.66, 0.2...\n",
       "Name: pa_sleep_day_hour_array, dtype: object"
      ]
     },
     "execution_count": 41,
     "metadata": {},
     "output_type": "execute_result"
    }
   ],
   "source": [
    "#check pa types are in object non-array format\n",
    "pdf_rename['pa_sleep_day_hour'].head(5)\n",
    "#convert pa types to array for iterating\n",
    "def convert_patypes_array(x):\n",
    "    if pd.notna(x):\n",
    "        return np.array(x.split(','))\n",
    "    else:\n",
    "        return np.array([])\n",
    "\n",
    "pdf_rename['pa_sleep_day_hour_array'] = pdf_rename['pa_sleep_day_hour'].apply(convert_patypes_array)\n",
    "pdf_rename['pa_sed_day_hour_array'] = pdf_rename['pa_sed_day_hour'].apply(convert_patypes_array)\n",
    "pdf_rename['pa_light_day_hour_array'] = pdf_rename['pa_light_day_hour'].apply(convert_patypes_array)\n",
    "pdf_rename['pa_mv_day_hour_array'] = pdf_rename['pa_mv_day_hour'].apply(convert_patypes_array)\n",
    "#check array conversion successful\n",
    "pdf_rename['pa_sleep_day_hour_array'].head(5)"
   ]
  },
  {
   "cell_type": "code",
   "execution_count": 42,
   "metadata": {
    "tags": []
   },
   "outputs": [],
   "source": [
    "#convert all values in arrays to numeric\n",
    "def array_to_numeric(arr):\n",
    "    return [pd.to_numeric(val, errors='coerce') for val in arr]\n",
    "\n",
    "pdf_rename['pa_sleep_day_hour_array'] = pdf_rename['pa_sleep_day_hour_array'].apply(array_to_numeric)\n",
    "pdf_rename['pa_sed_day_hour_array'] = pdf_rename['pa_sed_day_hour_array'].apply(array_to_numeric)\n",
    "pdf_rename['pa_light_day_hour_array'] = pdf_rename['pa_light_day_hour_array'].apply(array_to_numeric)\n",
    "pdf_rename['pa_mv_day_hour_array'] = pdf_rename['pa_mv_day_hour_array'].apply(array_to_numeric)"
   ]
  },
  {
   "cell_type": "code",
   "execution_count": 43,
   "metadata": {
    "tags": []
   },
   "outputs": [
    {
     "data": {
      "text/plain": [
       "0    [57.599999999999994, 58.199999999999996, 57.0,...\n",
       "1    [58.8, 60, 60, 60, 60, 60, 60, 26.4, 1.2, 8.4,...\n",
       "2    [60, 59.4, 60, 60, 60, 51.0, 20.40000000000000...\n",
       "3    [28.2, 30.0, 27.0, 24.0, 30.6, 26.4, 24.0, 25....\n",
       "4    [43.8, 60, 60, 60, 60, 58.8, 52.8, 50.4, 39.6,...\n",
       "Name: pa_sleep_day_hour_array_clean, dtype: object"
      ]
     },
     "execution_count": 43,
     "metadata": {},
     "output_type": "execute_result"
    }
   ],
   "source": [
    "#convert values in arrays from % per hour per day to total minutes per hour per day\n",
    "def array_perc_to_min(arr):\n",
    "    return [x * 60 for x in arr]\n",
    "pdf_rename['pa_sleep_day_hour_array_clean'] = pdf_rename['pa_sleep_day_hour_array'].apply(array_perc_to_min)\n",
    "pdf_rename['pa_sed_day_hour_array_clean'] = pdf_rename['pa_sed_day_hour_array'].apply(array_perc_to_min)\n",
    "pdf_rename['pa_light_day_hour_array_clean'] = pdf_rename['pa_light_day_hour_array'].apply(array_perc_to_min)\n",
    "pdf_rename['pa_mv_day_hour_array_clean'] = pdf_rename['pa_mv_day_hour_array'].apply(array_perc_to_min)\n",
    "#check conversion to min is successful\n",
    "pdf_rename['pa_sleep_day_hour_array_clean'].head(5)"
   ]
  },
  {
   "cell_type": "code",
   "execution_count": 44,
   "metadata": {
    "tags": []
   },
   "outputs": [
    {
     "name": "stderr",
     "output_type": "stream",
     "text": [
      "/tmp/ipykernel_2564/997299406.py:10: FutureWarning: The default dtype for empty Series will be 'object' instead of 'float64' in a future version. Specify a dtype explicitly to silence this warning.\n",
      "  pdf_rename[['pa_sleep_day_1', 'pa_sleep_day_2', 'pa_sleep_day_3', 'pa_sleep_day_4']] = pdf_rename['pa_sleep_day_hour_array_clean'].apply(create_pa_timeepochs).apply(pd.Series)\n",
      "/tmp/ipykernel_2564/997299406.py:11: FutureWarning: The default dtype for empty Series will be 'object' instead of 'float64' in a future version. Specify a dtype explicitly to silence this warning.\n",
      "  pdf_rename[['pa_sed_day_1', 'pa_sed_day_2', 'pa_sed_day_3', 'pa_sed_day_4']] = pdf_rename['pa_sed_day_hour_array_clean'].apply(create_pa_timeepochs).apply(pd.Series)\n",
      "/tmp/ipykernel_2564/997299406.py:12: FutureWarning: The default dtype for empty Series will be 'object' instead of 'float64' in a future version. Specify a dtype explicitly to silence this warning.\n",
      "  pdf_rename[['pa_light_day_1', 'pa_light_day_2', 'pa_light_day_3', 'pa_light_day_4']] = pdf_rename['pa_light_day_hour_array_clean'].apply(create_pa_timeepochs).apply(pd.Series)\n",
      "/tmp/ipykernel_2564/997299406.py:13: FutureWarning: The default dtype for empty Series will be 'object' instead of 'float64' in a future version. Specify a dtype explicitly to silence this warning.\n",
      "  pdf_rename[['pa_mv_day_1', 'pa_mv_day_2', 'pa_mv_day_3', 'pa_mv_day_4']] = pdf_rename['pa_mv_day_hour_array_clean'].apply(create_pa_timeepochs).apply(pd.Series)\n"
     ]
    },
    {
     "data": {
      "text/plain": [
       "0     0.0\n",
       "1     0.0\n",
       "2     0.0\n",
       "3    10.8\n",
       "4     0.0\n",
       "Name: pa_mv_day_1, dtype: float64"
      ]
     },
     "execution_count": 44,
     "metadata": {},
     "output_type": "execute_result"
    }
   ],
   "source": [
    "#create variables stratified by time of day (4 groups) consisting of 6 hours each\n",
    "def create_pa_timeepochs(arr):\n",
    "    sums = []\n",
    "    for i in range(0, len(arr), 6):\n",
    "        block = arr[i:i+6]\n",
    "        sum_block = sum(block)\n",
    "        sums.append(sum_block)\n",
    "    return sums\n",
    "\n",
    "pdf_rename[['pa_sleep_day_1', 'pa_sleep_day_2', 'pa_sleep_day_3', 'pa_sleep_day_4']] = pdf_rename['pa_sleep_day_hour_array_clean'].apply(create_pa_timeepochs).apply(pd.Series)\n",
    "pdf_rename[['pa_sed_day_1', 'pa_sed_day_2', 'pa_sed_day_3', 'pa_sed_day_4']] = pdf_rename['pa_sed_day_hour_array_clean'].apply(create_pa_timeepochs).apply(pd.Series)\n",
    "pdf_rename[['pa_light_day_1', 'pa_light_day_2', 'pa_light_day_3', 'pa_light_day_4']] = pdf_rename['pa_light_day_hour_array_clean'].apply(create_pa_timeepochs).apply(pd.Series)\n",
    "pdf_rename[['pa_mv_day_1', 'pa_mv_day_2', 'pa_mv_day_3', 'pa_mv_day_4']] = pdf_rename['pa_mv_day_hour_array_clean'].apply(create_pa_timeepochs).apply(pd.Series)\n",
    "#check conversion successful\n",
    "pdf_rename['pa_mv_day_1'].head(5)"
   ]
  },
  {
   "cell_type": "code",
   "execution_count": 45,
   "metadata": {
    "tags": []
   },
   "outputs": [
    {
     "data": {
      "text/plain": [
       "0    105.6\n",
       "1     96.0\n",
       "2     54.6\n",
       "3    144.0\n",
       "4    166.2\n",
       "Name: pa_sleep_day_2, dtype: float64"
      ]
     },
     "execution_count": 45,
     "metadata": {},
     "output_type": "execute_result"
    }
   ],
   "source": [
    "#check creation successful\n",
    "pdf_rename['pa_sleep_day_2'].head(5)"
   ]
  },
  {
   "cell_type": "code",
   "execution_count": 46,
   "metadata": {
    "tags": []
   },
   "outputs": [
    {
     "data": {
      "text/plain": [
       "0    229.8\n",
       "1    162.0\n",
       "2    133.8\n",
       "3    165.0\n",
       "4    127.2\n",
       "Name: pa_sed_day_3, dtype: float64"
      ]
     },
     "execution_count": 46,
     "metadata": {},
     "output_type": "execute_result"
    }
   ],
   "source": [
    "#check creation successful\n",
    "pdf_rename['pa_sed_day_3'].head(5)"
   ]
  },
  {
   "cell_type": "code",
   "execution_count": 47,
   "metadata": {
    "tags": []
   },
   "outputs": [
    {
     "data": {
      "text/plain": [
       "0    109.2\n",
       "1      9.0\n",
       "2    199.2\n",
       "3     70.2\n",
       "4     75.6\n",
       "Name: pa_sleep_day_4, dtype: float64"
      ]
     },
     "execution_count": 47,
     "metadata": {},
     "output_type": "execute_result"
    }
   ],
   "source": [
    "#check creation successful\n",
    "pdf_rename['pa_sleep_day_4'].head(5)"
   ]
  },
  {
   "cell_type": "code",
   "execution_count": 48,
   "metadata": {
    "tags": []
   },
   "outputs": [],
   "source": [
    "#"
   ]
  },
  {
   "cell_type": "code",
   "execution_count": 49,
   "metadata": {
    "tags": []
   },
   "outputs": [],
   "source": [
    "#calculate baseline data"
   ]
  },
  {
   "cell_type": "code",
   "execution_count": 50,
   "metadata": {
    "tags": []
   },
   "outputs": [],
   "source": [
    "#create comorbidity covariate in multiple steps"
   ]
  },
  {
   "cell_type": "code",
   "execution_count": 51,
   "metadata": {
    "tags": []
   },
   "outputs": [],
   "source": [
    "#convert comorbidity diagnosis dates to datetime format\n",
    "pdf_rename[\"i10_date\"] = pd.to_datetime(pdf_rename[\"i10_date\"])\n",
    "pdf_rename[\"i15_date\"] = pd.to_datetime(pdf_rename[\"i15_date\"])\n",
    "pdf_rename[\"e78_date\"] = pd.to_datetime(pdf_rename[\"e78_date\"])\n",
    "pdf_rename[\"e10_date\"] = pd.to_datetime(pdf_rename[\"e10_date\"])\n",
    "pdf_rename[\"e11_date\"] = pd.to_datetime(pdf_rename[\"e11_date\"])\n",
    "pdf_rename[\"i50_date\"] = pd.to_datetime(pdf_rename[\"i50_date\"])\n",
    "pdf_rename[\"i25_date\"] = pd.to_datetime(pdf_rename[\"i25_date\"])"
   ]
  },
  {
   "cell_type": "code",
   "execution_count": 52,
   "metadata": {
    "tags": []
   },
   "outputs": [],
   "source": [
    "#create hypertension category\n",
    "#prep htn cases\n",
    "pdf_rename['i10_time'] = (pdf_rename['date_i0'] - pdf_rename['i10_date']).dt.days\n",
    "pdf_rename['i15_time'] = (pdf_rename['date_i0'] - pdf_rename['i15_date']).dt.days\n",
    "\n",
    "# check for htn; if yes, return 1\n",
    "def check_htn_criteria(row):\n",
    "    if row['i10_time'] > 0 or row['i15_time'] > 0 or '1065' in row['sr_illness'] or '1072' in row['sr_illness']:\n",
    "        return 1\n",
    "    else:\n",
    "        return 0\n",
    "\n",
    "pdf_rename['htn_yes'] = pdf_rename.apply(check_htn_criteria, axis=1)"
   ]
  },
  {
   "cell_type": "code",
   "execution_count": 53,
   "metadata": {
    "tags": []
   },
   "outputs": [],
   "source": [
    "#create heart failure category\n",
    "#prep  cases\n",
    "pdf_rename['i50_time'] = (pdf_rename['date_i0'] - pdf_rename['i50_date']).dt.days\n",
    "\n",
    "# check for htn; if yes, return 1\n",
    "def check_htn_criteria(row):\n",
    "    if row['i50_time'] > 0  or '1076' in row['sr_illness']:\n",
    "        return 1\n",
    "    else:\n",
    "        return 0\n",
    "\n",
    "pdf_rename['hf_yes'] = pdf_rename.apply(check_htn_criteria, axis=1)"
   ]
  },
  {
   "cell_type": "code",
   "execution_count": 54,
   "metadata": {
    "tags": []
   },
   "outputs": [],
   "source": [
    "#create cad category\n",
    "#prep  cases\n",
    "pdf_rename['i25_time'] = (pdf_rename['date_i0'] - pdf_rename['i25_date']).dt.days\n",
    "\n",
    "# check for htn; if yes, return 1\n",
    "def check_htn_criteria(row):\n",
    "    if row['i25_time'] > 0:\n",
    "        return 1\n",
    "    else:\n",
    "        return 0\n",
    "\n",
    "pdf_rename['cad_yes'] = pdf_rename.apply(check_htn_criteria, axis=1)"
   ]
  },
  {
   "cell_type": "code",
   "execution_count": 55,
   "metadata": {
    "tags": []
   },
   "outputs": [],
   "source": [
    "#create cancer covariate\n",
    "pdf_rename['cancer_yes'] = pdf_rename['p134_i0'].apply(lambda x: 1 if x > 0 else 0)"
   ]
  },
  {
   "cell_type": "code",
   "execution_count": 56,
   "metadata": {
    "tags": []
   },
   "outputs": [],
   "source": [
    "#create hyperlipidemia category\n",
    "#prep hchol cases\n",
    "pdf_rename['e78_time'] = (pdf_rename['date_i0'] - pdf_rename['e78_date']).dt.days\n",
    "def check_hchol_criteria(row):\n",
    "    if row['e78_time'] > 0 or '1473' in row['sr_illness']:\n",
    "        return 1\n",
    "    else:\n",
    "        return 0\n",
    "    \n",
    "pdf_rename['hchol_yes'] = pdf_rename.apply(check_hchol_criteria, axis=1)"
   ]
  },
  {
   "cell_type": "code",
   "execution_count": 57,
   "metadata": {
    "tags": []
   },
   "outputs": [],
   "source": [
    "#create diabetes category\n",
    "#prep diabetes cases\n",
    "pdf_rename['e10_date'] = pd.to_datetime(pdf_rename['e10_date'])\n",
    "pdf_rename['e11_date'] = pd.to_datetime(pdf_rename['e11_date'])\n",
    "pdf_rename['date_i0'] = pd.to_datetime(pdf_rename['date_i0'])\n",
    "pdf_rename['e10_time'] = (pdf_rename['date_i0'] - pdf_rename['e10_date']).dt.days\n",
    "pdf_rename['e11_time'] = (pdf_rename['date_i0'] - pdf_rename['e11_date']).dt.days\n",
    "\n",
    "def check_diab_criteria(row):\n",
    "    if row['e10_time'] > 0 or row['e11_time'] > 0 or '1222' in row['sr_illness'] or '1223' in row['sr_illness']:\n",
    "        return 1\n",
    "    else:\n",
    "        return 0\n",
    "\n",
    "pdf_rename['diab_yes'] = pdf_rename.apply(check_diab_criteria, axis=1)"
   ]
  },
  {
   "cell_type": "code",
   "execution_count": 58,
   "metadata": {
    "tags": []
   },
   "outputs": [],
   "source": [
    "#create comorbidity covariate for analysis and filter covariate for baseline characteristics table considering set of comorbidities created above\n",
    "pdf_rename['comorb_sum'] = pdf_rename[['htn_yes', 'hf_yes', 'cad_yes', 'cancer_yes', 'hchol_yes', 'diab_yes']].sum(axis=1)\n",
    "pdf_rename['comorb_sum_filter'] = pdf_rename['comorb_sum'].apply(lambda x: 0 if x == 0 else (1 if x == 1 else 2))"
   ]
  },
  {
   "cell_type": "code",
   "execution_count": 59,
   "metadata": {
    "tags": []
   },
   "outputs": [],
   "source": [
    "#prep clean cevd endpoint variable as first day in px chart with CeVD diagnosis after accelerometer study"
   ]
  },
  {
   "cell_type": "code",
   "execution_count": 60,
   "metadata": {
    "tags": []
   },
   "outputs": [],
   "source": [
    "#if assessment date - event date < 0, then copy absolute value to corresponding column\n",
    "pdf_rename.loc[pdf_rename['f01_time'] < 0, 'f01_t2e'] = abs(pdf_rename['f01_time'])\n",
    "pdf_rename.loc[pdf_rename['g45_time'] < 0, 'g45_t2e'] = abs(pdf_rename['g45_time'])\n",
    "pdf_rename.loc[pdf_rename['g46_time'] < 0, 'g46_t2e'] = abs(pdf_rename['g46_time'])\n",
    "pdf_rename.loc[pdf_rename['h34_time'] < 0, 'h34_t2e'] = abs(pdf_rename['h34_time'])\n",
    "pdf_rename.loc[pdf_rename['i60_time'] < 0, 'i60_t2e'] = abs(pdf_rename['i60_time'])\n",
    "pdf_rename.loc[pdf_rename['i61_time'] < 0, 'i61_t2e'] = abs(pdf_rename['i61_time'])\n",
    "pdf_rename.loc[pdf_rename['i62_time'] < 0, 'i62_t2e'] = abs(pdf_rename['i62_time'])\n",
    "pdf_rename.loc[pdf_rename['i63_time'] < 0, 'i63_t2e'] = abs(pdf_rename['i63_time'])\n",
    "pdf_rename.loc[pdf_rename['i64_time'] < 0, 'i64_t2e'] = abs(pdf_rename['i64_time'])\n",
    "pdf_rename.loc[pdf_rename['i65_time'] < 0, 'i65_t2e'] = abs(pdf_rename['i65_time'])\n",
    "pdf_rename.loc[pdf_rename['i66_time'] < 0, 'i66_t2e'] = abs(pdf_rename['i66_time'])\n",
    "pdf_rename.loc[pdf_rename['i67_time'] < 0, 'i67_t2e'] = abs(pdf_rename['i67_time'])\n",
    "pdf_rename.loc[pdf_rename['i68_time'] < 0, 'i68_t2e'] = abs(pdf_rename['i68_time'])\n",
    "pdf_rename.loc[pdf_rename['i69_time'] < 0, 'i69_t2e'] = abs(pdf_rename['i69_time'])"
   ]
  },
  {
   "cell_type": "code",
   "execution_count": 61,
   "metadata": {
    "tags": []
   },
   "outputs": [],
   "source": [
    "#if there is a time-to-event in XXX_t2e, then place 1 in outcome column for each CeVD\n",
    "pdf_rename.loc[pdf_rename['f01_t2e'].notna(), 'f01_event'] = 1\n",
    "pdf_rename.loc[pdf_rename['g45_t2e'].notna(), 'g45_event'] = 1\n",
    "pdf_rename.loc[pdf_rename['g46_t2e'].notna(), 'g46_event'] = 1\n",
    "pdf_rename.loc[pdf_rename['h34_t2e'].notna(), 'h34_event'] = 1\n",
    "pdf_rename.loc[pdf_rename['i60_t2e'].notna(), 'i60_event'] = 1\n",
    "pdf_rename.loc[pdf_rename['i61_t2e'].notna(), 'i61_event'] = 1\n",
    "pdf_rename.loc[pdf_rename['i62_t2e'].notna(), 'i62_event'] = 1\n",
    "pdf_rename.loc[pdf_rename['i63_t2e'].notna(), 'i63_event'] = 1\n",
    "pdf_rename.loc[pdf_rename['i64_t2e'].notna(), 'i64_event'] = 1\n",
    "pdf_rename.loc[pdf_rename['i65_t2e'].notna(), 'i65_event'] = 1\n",
    "pdf_rename.loc[pdf_rename['i66_t2e'].notna(), 'i66_event'] = 1\n",
    "pdf_rename.loc[pdf_rename['i67_t2e'].notna(), 'i67_event'] = 1\n",
    "pdf_rename.loc[pdf_rename['i68_t2e'].notna(), 'i68_event'] = 1\n",
    "pdf_rename.loc[pdf_rename['i69_t2e'].notna(), 'i69_event'] = 1"
   ]
  },
  {
   "cell_type": "code",
   "execution_count": 62,
   "metadata": {
    "tags": []
   },
   "outputs": [
    {
     "name": "stdout",
     "output_type": "stream",
     "text": [
      "Number of CeVD events (total) 2163.0\n"
     ]
    }
   ],
   "source": [
    "#create composite cevd outcome value\n",
    "pdf_rename.loc[(pdf_rename['f01_event'].notna()) | (pdf_rename['g45_event'].notna()) | (pdf_rename['g46_event'].notna()) | (pdf_rename['h34_event'].notna()) | (pdf_rename['i60_event'].notna()) | (pdf_rename['i61_event'].notna()) | (pdf_rename['i62_event'].notna()) | (pdf_rename['i63_event'].notna()) | (pdf_rename['i64_event'].notna()) | (pdf_rename['i65_event'].notna()) | (pdf_rename['i66_event'].notna()) | (pdf_rename['i67_event'].notna()) | (pdf_rename['i68_event'].notna()) | (pdf_rename['i69_event'].notna()), 'cevd_event'] = 1\n",
    "pdf_rename['cevd_event'] = pdf_rename['cevd_event'].fillna(0)\n",
    "\n",
    "#check number of future cevd_events \n",
    "sum_cevdevents = pdf_rename['cevd_event'].sum()\n",
    "print('Number of CeVD events (total)', sum_cevdevents)"
   ]
  },
  {
   "cell_type": "code",
   "execution_count": 63,
   "metadata": {
    "tags": []
   },
   "outputs": [],
   "source": [
    "#create cevd time-to-event value for earliest cevd event\n",
    "pdf_rename['cevd_t2e'] = pdf_rename[['f01_t2e', 'g45_t2e', 'g46_t2e', 'h34_t2e', 'i60_t2e', 'i61_t2e', 'i62_t2e', 'i63_t2e', 'i64_t2e', 'i65_t2e', 'i66_t2e', 'i67_t2e', 'i68_t2e', 'i69_t2e']].min(axis=1)"
   ]
  },
  {
   "cell_type": "code",
   "execution_count": 64,
   "metadata": {
    "tags": []
   },
   "outputs": [],
   "source": [
    "#convert all t2e columns to numeric for filtering\n",
    "def convert_t2e_to_numeric(df):\n",
    "    df['f01_t2e'] = pd.to_numeric(df['f01_t2e'], errors='coerce').astype(pd.Int64Dtype())\n",
    "    df['g45_t2e'] = pd.to_numeric(df['g45_t2e'], errors='coerce').astype(pd.Int64Dtype())\n",
    "    df['g46_t2e'] = pd.to_numeric(df['g46_t2e'], errors='coerce').astype(pd.Int64Dtype())\n",
    "    df['h34_t2e'] = pd.to_numeric(df['h34_t2e'], errors='coerce').astype(pd.Int64Dtype())\n",
    "    df['i60_t2e'] = pd.to_numeric(df['i60_t2e'], errors='coerce').astype(pd.Int64Dtype())\n",
    "    df['i61_t2e'] = pd.to_numeric(df['i61_t2e'], errors='coerce').astype(pd.Int64Dtype())\n",
    "    df['i62_t2e'] = pd.to_numeric(df['i62_t2e'], errors='coerce').astype(pd.Int64Dtype())\n",
    "    df['i63_t2e'] = pd.to_numeric(df['i63_t2e'], errors='coerce').astype(pd.Int64Dtype())\n",
    "    df['i64_t2e'] = pd.to_numeric(df['i64_t2e'], errors='coerce').astype(pd.Int64Dtype())\n",
    "    df['i65_t2e'] = pd.to_numeric(df['i65_t2e'], errors='coerce').astype(pd.Int64Dtype())\n",
    "    df['i66_t2e'] = pd.to_numeric(df['i66_t2e'], errors='coerce').astype(pd.Int64Dtype())\n",
    "    df['i67_t2e'] = pd.to_numeric(df['i67_t2e'], errors='coerce').astype(pd.Int64Dtype())\n",
    "    df['i68_t2e'] = pd.to_numeric(df['i68_t2e'], errors='coerce').astype(pd.Int64Dtype())\n",
    "    df['i69_t2e'] = pd.to_numeric(df['i69_t2e'], errors='coerce').astype(pd.Int64Dtype())\n",
    "    df['cevd_t2e'] = pd.to_numeric(df['cevd_t2e'], errors='coerce').astype(pd.Int64Dtype())\n",
    "    return df\n",
    "\n",
    "pdf_rename = convert_t2e_to_numeric(pdf_rename)"
   ]
  },
  {
   "cell_type": "code",
   "execution_count": 65,
   "metadata": {
    "tags": []
   },
   "outputs": [],
   "source": [
    "#clean all cevd types to only have t2e for the initial CeVD diagnosis after accelerometer study commencement\n",
    "def check_cevd_types(df):\n",
    "    for index, row in df.iterrows():\n",
    "        if pd.notna(row['f01_t2e']):\n",
    "            if row['f01_t2e'] != row['cevd_t2e']:\n",
    "                df.at[index, 'f01_t2e'] = None\n",
    "        if pd.notna(row['g45_t2e']):\n",
    "            if row['g45_t2e'] != row['cevd_t2e']:\n",
    "                 df.at[index, 'g45_t2e'] = None\n",
    "        if pd.notna(row['g46_t2e']):\n",
    "            if row['g46_t2e'] != row['cevd_t2e']:\n",
    "                 df.at[index, 'g46_t2e'] = None\n",
    "        if pd.notna(row['h34_t2e']):\n",
    "            if row['h34_t2e'] != row['cevd_t2e']:\n",
    "                 df.at[index, 'h34_t2e'] = None\n",
    "        if pd.notna(row['i60_t2e']):\n",
    "            if row['i60_t2e'] != row['cevd_t2e']:\n",
    "                 df.at[index, 'i60_t2e'] = None\n",
    "        if pd.notna(row['i61_t2e']):\n",
    "            if row['i61_t2e'] != row['cevd_t2e']:\n",
    "                 df.at[index, 'i61_t2e'] = None\n",
    "        if pd.notna(row['i62_t2e']):\n",
    "            if row['i62_t2e'] != row['cevd_t2e']:\n",
    "                 df.at[index, 'i62_t2e'] = None\n",
    "        if pd.notna(row['i63_t2e']):\n",
    "            if row['i63_t2e'] != row['cevd_t2e']:\n",
    "                 df.at[index, 'i63_t2e'] = None\n",
    "        if pd.notna(row['i64_t2e']):\n",
    "            if row['i64_t2e'] != row['cevd_t2e']:\n",
    "                 df.at[index, 'i64_t2e'] = None\n",
    "        if pd.notna(row['i65_t2e']):\n",
    "            if row['i65_t2e'] != row['cevd_t2e']:\n",
    "                 df.at[index, 'i65_t2e'] = None\n",
    "        if pd.notna(row['i66_t2e']):\n",
    "            if row['i66_t2e'] != row['cevd_t2e']:\n",
    "                 df.at[index, 'i66_t2e'] = None\n",
    "        if pd.notna(row['i67_t2e']):\n",
    "            if row['i67_t2e'] != row['cevd_t2e']:\n",
    "                 df.at[index, 'i67_t2e'] = None\n",
    "        if pd.notna(row['i68_t2e']):\n",
    "            if row['i68_t2e'] != row['cevd_t2e']:\n",
    "                 df.at[index, 'i68_t2e'] = None\n",
    "        if pd.notna(row['i69_t2e']):\n",
    "            if row['i69_t2e'] != row['cevd_t2e']:\n",
    "                 df.at[index, 'i69_t2e'] = None\n",
    "    return df\n",
    "\n",
    "cevd_df_first = check_cevd_types(pdf_rename)"
   ]
  },
  {
   "cell_type": "code",
   "execution_count": 66,
   "metadata": {
    "tags": []
   },
   "outputs": [
    {
     "name": "stdout",
     "output_type": "stream",
     "text": [
      "number of rows with missing BMI data: 142\n"
     ]
    }
   ],
   "source": [
    "#get the number of missing BMI values for imputation\n",
    "missing_bmi = cevd_df_first['bmi'].isna().sum()\n",
    "print('number of rows with missing BMI data:', missing_bmi)"
   ]
  },
  {
   "cell_type": "code",
   "execution_count": 67,
   "metadata": {
    "tags": []
   },
   "outputs": [],
   "source": [
    "#USE MUTIPLE CHAIN IMPUTATION FOR MISSING BMI DATA\n",
    "cols_to_impute = ['bmi']\n",
    "# create an instance of the IterativeImputer class with MICE algorithm\n",
    "imputer = IterativeImputer(max_iter=10, sample_posterior=True)\n",
    "# impute the selected columns using multiple chains\n",
    "cevd_df_first[cols_to_impute] = imputer.fit_transform(cevd_df_first[cols_to_impute])"
   ]
  },
  {
   "cell_type": "code",
   "execution_count": 68,
   "metadata": {
    "tags": []
   },
   "outputs": [],
   "source": [
    "#create a value with the day of intitial CeVD diagnosis after accelerometer study commencement\n",
    "def find_firstday_cevd(row):\n",
    "    dates = [row['f01_date'], row['g45_date'], row['g46_date'], row['h34_date'], row['i60_date'], row['i61_date'], row['i62_date'], row['i63_date'], row['i64_date'], row['i65_date'], row['i66_date'], row['i67_date'], row['i68_date'], row['i69_date']]\n",
    "    non_empty_dates = [date for date in dates if not pd.isnull(date)]\n",
    "    return min(non_empty_dates) if non_empty_dates else pd.NaT\n",
    "\n",
    "cevd_df_first['cevd_day'] = cevd_df_first.apply(find_firstday_cevd, axis=1)"
   ]
  },
  {
   "cell_type": "code",
   "execution_count": 69,
   "metadata": {
    "tags": []
   },
   "outputs": [
    {
     "name": "stdout",
     "output_type": "stream",
     "text": [
      "confirming the df length is 76,505 (complete) after wrangling 76505\n"
     ]
    }
   ],
   "source": [
    "print('confirming the df length is 76,505 (complete) after wrangling', len(cevd_df_first))"
   ]
  },
  {
   "cell_type": "code",
   "execution_count": 70,
   "metadata": {
    "tags": []
   },
   "outputs": [
    {
     "name": "stdout",
     "output_type": "stream",
     "text": [
      "Number of patients in cohort with a future CeVD: 2163\n"
     ]
    }
   ],
   "source": [
    "#check the number of px with a future CeVD in cohort\n",
    "total_futurecevd = cevd_df_first[cevd_df_first['cevd_event']==1]\n",
    "print('Number of patients in cohort with a future CeVD:', len(total_futurecevd))"
   ]
  },
  {
   "cell_type": "code",
   "execution_count": 71,
   "metadata": {
    "tags": []
   },
   "outputs": [],
   "source": [
    "#create screen use covariate in multiple steps\n",
    "screen_column = ['computer', 'tv', 'mobile phone']\n",
    "cevd_df_first['tv'] = cevd_df_first['tv'].replace(-10, 0.5)\n",
    "cevd_df_first['computer'] = cevd_df_first['computer'].replace(-10, 0.5)\n",
    "cevd_df_first[screen_column] = cevd_df_first[screen_column].astype(int)"
   ]
  },
  {
   "cell_type": "code",
   "execution_count": 72,
   "metadata": {
    "tags": []
   },
   "outputs": [],
   "source": [
    "#reorder mobile phone use per week values \n",
    "#convert to hours or percentage of hours tied to \n",
    "cevd_df_first['mobile phone_filter'] = np.where(cevd_df_first['mobile phone'].isin([5]), 6, \n",
    "                    np.where(cevd_df_first['mobile phone'].isin([4]), 4,\n",
    "                    np.where(cevd_df_first['mobile phone'].isin([3]), 2,\n",
    "                    np.where(cevd_df_first['mobile phone'].isin([2]), 0.742, \n",
    "                    np.where(cevd_df_first['mobile phone'].isin([1]), 0.2, \n",
    "                             np.where(cevd_df_first['mobile phone'].isin([0]), 0.083, np.nan))))))"
   ]
  },
  {
   "cell_type": "code",
   "execution_count": 73,
   "metadata": {
    "tags": []
   },
   "outputs": [
    {
     "data": {
      "text/plain": [
       "0    3.000000\n",
       "1    0.000000\n",
       "2    7.142857\n",
       "3    3.142857\n",
       "Name: full_screen_time, dtype: float64"
      ]
     },
     "execution_count": 73,
     "metadata": {},
     "output_type": "execute_result"
    }
   ],
   "source": [
    "#screentime per day\n",
    "cevd_df_first['full_screen_time'] = (cevd_df_first['computer']*1) + (cevd_df_first['tv']*1) + (cevd_df_first['mobile phone']/7)\n",
    "cevd_df_first['full_screen_time'].head(4)"
   ]
  },
  {
   "cell_type": "code",
   "execution_count": 74,
   "metadata": {
    "tags": []
   },
   "outputs": [
    {
     "name": "stdout",
     "output_type": "stream",
     "text": [
      "number of non-future CeVD px: 74342\n"
     ]
    }
   ],
   "source": [
    "total_futurecevd = cevd_df_first[cevd_df_first['cevd_event']==0]\n",
    "print('number of non-future CeVD px:', len(total_futurecevd))"
   ]
  },
  {
   "cell_type": "code",
   "execution_count": 75,
   "metadata": {
    "tags": []
   },
   "outputs": [],
   "source": [
    "#screen time per day filter; greater than 2 = 0\n",
    "def assign_value(x):\n",
    "    if x <= 2:\n",
    "        return 1\n",
    "    else:\n",
    "        return 0\n",
    "\n",
    "cevd_df_first['full_screen_time_filter'] = cevd_df_first['full_screen_time'].apply(assign_value)"
   ]
  },
  {
   "cell_type": "code",
   "execution_count": 76,
   "metadata": {
    "tags": []
   },
   "outputs": [],
   "source": [
    "#"
   ]
  },
  {
   "cell_type": "code",
   "execution_count": 77,
   "metadata": {
    "tags": []
   },
   "outputs": [],
   "source": [
    "#get baseline characteristics table"
   ]
  },
  {
   "cell_type": "code",
   "execution_count": 78,
   "metadata": {
    "tags": []
   },
   "outputs": [],
   "source": [
    "#"
   ]
  },
  {
   "cell_type": "code",
   "execution_count": 79,
   "metadata": {
    "tags": []
   },
   "outputs": [
    {
     "data": {
      "text/plain": [
       "76505"
      ]
     },
     "execution_count": 79,
     "metadata": {},
     "output_type": "execute_result"
    }
   ],
   "source": [
    "cevd_df_first_onlycevd = cevd_df_first\n",
    "len(cevd_df_first_onlycevd)"
   ]
  },
  {
   "cell_type": "code",
   "execution_count": 80,
   "metadata": {
    "tags": []
   },
   "outputs": [
    {
     "data": {
      "text/plain": [
       "2163"
      ]
     },
     "execution_count": 80,
     "metadata": {},
     "output_type": "execute_result"
    }
   ],
   "source": [
    "len(cevd_df_first_onlycevd[cevd_df_first_onlycevd['cevd_event'] == 1])"
   ]
  },
  {
   "cell_type": "code",
   "execution_count": 81,
   "metadata": {
    "tags": []
   },
   "outputs": [
    {
     "name": "stdout",
     "output_type": "stream",
     "text": [
      "Mean Age with exp cohort: 60.562644475265834\n",
      "Standard Deviation of Age with exp cohort: 6.533209183525972\n",
      "P-value for tdi:\n",
      "Mean Age with control cohort: 55.169433160259345\n",
      "Standard Deviation of Age with control cohort: 7.784338581110335\n",
      "P-value for tdi:\n"
     ]
    },
    {
     "data": {
      "text/plain": [
       "MannwhitneyuResult(statistic=5853015025.0, pvalue=0.0)"
      ]
     },
     "execution_count": 81,
     "metadata": {},
     "output_type": "execute_result"
    }
   ],
   "source": [
    "subset = cevd_df_first_onlycevd[cevd_df_first_onlycevd['cevd_event'] == 1]\n",
    "mean_age = subset['age_i0'].mean()\n",
    "std_dev_age = subset['age_i0'].std()\n",
    "\n",
    "print(\"Mean Age with exp cohort:\", mean_age)\n",
    "print(\"Standard Deviation of Age with exp cohort:\", std_dev_age)\n",
    "print('P-value for tdi:')\n",
    "stats.mannwhitneyu(x=cevd_df_first_onlycevd['age_i0'], y=cevd_df_first_onlycevd['dep_diag_yes'], alternative = 'two-sided')\n",
    "subset = cevd_df_first_onlycevd[cevd_df_first_onlycevd['cevd_event'] == 0]\n",
    "mean_age = subset['age_i0'].mean()\n",
    "std_dev_age = subset['age_i0'].std()\n",
    "\n",
    "print(\"Mean Age with control cohort:\", mean_age)\n",
    "print(\"Standard Deviation of Age with control cohort:\", std_dev_age)\n",
    "print('P-value for tdi:')\n",
    "stats.mannwhitneyu(x=cevd_df_first_onlycevd['age_i0'], y=cevd_df_first_onlycevd['cevd_event'], alternative = 'two-sided')"
   ]
  },
  {
   "cell_type": "code",
   "execution_count": 82,
   "metadata": {
    "tags": []
   },
   "outputs": [
    {
     "name": "stdout",
     "output_type": "stream",
     "text": [
      "exp Cohort Percent male: 53.07443365695793\n",
      "exp Cohort Total male: 1148\n",
      "Control Cohort Percent male: 42.313900621452206\n",
      "Control Cohort Total male: 31457\n",
      "% of men in total 76,505 cohort 42.618129534017385\n",
      "MALE - Chi-square test statistic: 99.0779667583258\n",
      "MALE - P-value: 2.4275405775932333e-23\n"
     ]
    }
   ],
   "source": [
    "#get male/female data\n",
    "percent_male_d = cevd_df_first_onlycevd.loc[cevd_df_first_onlycevd['cevd_event'] == 1, 'male'].mean() * 100\n",
    "male_sum_d = cevd_df_first_onlycevd.loc[cevd_df_first_onlycevd['cevd_event'] == 1, 'male'].sum()\n",
    "print('exp Cohort Percent male:', percent_male_d)\n",
    "print('exp Cohort Total male:', male_sum_d)\n",
    "percent_male_c = cevd_df_first_onlycevd.loc[cevd_df_first_onlycevd['cevd_event'] == 0, 'male'].mean() * 100\n",
    "male_sum_c = cevd_df_first_onlycevd.loc[cevd_df_first_onlycevd['cevd_event'] == 0, 'male'].sum()\n",
    "print('Control Cohort Percent male:', percent_male_c)\n",
    "print('Control Cohort Total male:', male_sum_c)\n",
    "perc_men_total = ((male_sum_d+male_sum_c)/76505)*100\n",
    "print('% of men in total 76,505 cohort', perc_men_total)\n",
    "data = pd.crosstab(cevd_df_first_onlycevd['male'], cevd_df_first_onlycevd['cevd_event']).to_numpy()\n",
    "# chi-square test for independence for male data\n",
    "chi2_stat, p_val, dof, expected = chi2_contingency(data)\n",
    "print('MALE - Chi-square test statistic:', chi2_stat)\n",
    "print('MALE - P-value:', p_val)"
   ]
  },
  {
   "cell_type": "code",
   "execution_count": 83,
   "metadata": {
    "tags": []
   },
   "outputs": [
    {
     "name": "stdout",
     "output_type": "stream",
     "text": [
      "exp Cohort Percent white: 96.9486823855756\n",
      "exp Cohort Total white: 2097.0\n",
      "Control Cohort Percent white: 96.47305695300099\n",
      "Control Cohort Total white: 71720.0\n",
      "% of white in total 76505 cohort 96.48650415005555\n",
      "white - Chi-square test statistic: 1.2657798165183423\n",
      "white - P-value: 0.26055987895621857\n"
     ]
    }
   ],
   "source": [
    "#get white/ethnicity data\n",
    "percent_male_d = cevd_df_first_onlycevd.loc[cevd_df_first_onlycevd['cevd_event'] == 1, 'white_yes'].mean() * 100\n",
    "male_sum_d = cevd_df_first_onlycevd.loc[cevd_df_first_onlycevd['cevd_event'] == 1, 'white_yes'].sum()\n",
    "print('exp Cohort Percent white:', percent_male_d)\n",
    "print('exp Cohort Total white:', male_sum_d)\n",
    "percent_male_c = cevd_df_first_onlycevd.loc[cevd_df_first_onlycevd['cevd_event'] == 0, 'white_yes'].mean() * 100\n",
    "male_sum_c = cevd_df_first_onlycevd.loc[cevd_df_first_onlycevd['cevd_event'] == 0, 'white_yes'].sum()\n",
    "print('Control Cohort Percent white:', percent_male_c)\n",
    "print('Control Cohort Total white:', male_sum_c)\n",
    "perc_men_total = ((male_sum_d+male_sum_c)/76505)*100\n",
    "print('% of white in total 76505 cohort', perc_men_total)\n",
    "data = pd.crosstab(cevd_df_first_onlycevd['white_yes'], cevd_df_first_onlycevd['cevd_event']).to_numpy()\n",
    "# chi-square test for independence for male data\n",
    "chi2_stat, p_val, dof, expected = chi2_contingency(data)\n",
    "print('white - Chi-square test statistic:', chi2_stat)\n",
    "print('white - P-value:', p_val)"
   ]
  },
  {
   "cell_type": "code",
   "execution_count": 84,
   "metadata": {
    "tags": []
   },
   "outputs": [
    {
     "name": "stdout",
     "output_type": "stream",
     "text": [
      "exp Percentages of smoke\n",
      "0    47.434119\n",
      "1    44.290337\n",
      "2     8.275543\n",
      "Name: smok_stat, dtype: Float64\n",
      "CONTROL Percentages of smoke\n",
      "0    56.814452\n",
      "1    36.108794\n",
      "2     7.076753\n",
      "Name: smok_stat, dtype: Float64\n",
      "smoke - Chi-square test statistic: 75.66819572483115\n",
      "smoke - P-value: 3.705613079037276e-17\n"
     ]
    }
   ],
   "source": [
    "#get smoking data\n",
    "cevd_df_first_onlycevd['smok_stat'] = pd.to_numeric(cevd_df_first_onlycevd['smok_stat'], errors='coerce').astype(pd.Int64Dtype())\n",
    "cevd_df_first_onlycevd['smok_filter'] = cevd_df_first_onlycevd['smok_stat'].apply(lambda x: 1 if (x > 0) else 0)\n",
    "perc_alc_freq_d = cevd_df_first_onlycevd.loc[cevd_df_first_onlycevd['cevd_event'] == 1, 'smok_stat'].value_counts(normalize=True)\n",
    "print('exp Percentages of smoke')\n",
    "print(perc_alc_freq_d * 100)\n",
    "perc_alc_freq_c = cevd_df_first_onlycevd.loc[cevd_df_first_onlycevd['cevd_event'] == 0, 'smok_stat'].value_counts(normalize=True)\n",
    "# print the value counts as percentages\n",
    "print('CONTROL Percentages of smoke')\n",
    "print(perc_alc_freq_c * 100)\n",
    "\n",
    "data = pd.crosstab(cevd_df_first_onlycevd['smok_stat'], cevd_df_first_onlycevd['cevd_event']).to_numpy()\n",
    "# chi-square test for independence\n",
    "chi2_stat, p_val, dof, expected = chi2_contingency(data)\n",
    "print('smoke - Chi-square test statistic:', chi2_stat)\n",
    "print('smoke - P-value:', p_val)"
   ]
  },
  {
   "cell_type": "code",
   "execution_count": 85,
   "metadata": {
    "tags": []
   },
   "outputs": [
    {
     "name": "stdout",
     "output_type": "stream",
     "text": [
      "exp Cohort Percent bmi: 43.45815996301433\n",
      "exp Cohort Total bmi: 940\n",
      "Control Cohort Percent bmi: 49.0530252078233\n",
      "Control Cohort Total bmi: 36467\n",
      "bmi - Chi-square test statistic: 26.10666658931236\n",
      "bmi - P-value: 3.2306664090705215e-07\n"
     ]
    }
   ],
   "source": [
    "#get bmi data\n",
    "cevd_df_first_onlycevd['bmi_filter'] = cevd_df_first_onlycevd['bmi'].apply(lambda x: 1 if (x > 18.4 and x < 26) else 0)\n",
    "percent_male_d = cevd_df_first_onlycevd.loc[cevd_df_first_onlycevd['cevd_event'] == 1, 'bmi_filter'].mean() * 100\n",
    "male_sum_d = cevd_df_first_onlycevd.loc[cevd_df_first_onlycevd['cevd_event'] == 1, 'bmi_filter'].sum()\n",
    "print('exp Cohort Percent bmi:', percent_male_d)\n",
    "print('exp Cohort Total bmi:', male_sum_d)\n",
    "percent_male_c = cevd_df_first_onlycevd.loc[cevd_df_first_onlycevd['cevd_event'] == 0, 'bmi_filter'].mean() * 100\n",
    "male_sum_c = cevd_df_first_onlycevd.loc[cevd_df_first_onlycevd['cevd_event'] == 0, 'bmi_filter'].sum()\n",
    "print('Control Cohort Percent bmi:', percent_male_c)\n",
    "print('Control Cohort Total bmi:', male_sum_c)\n",
    "data = pd.crosstab(cevd_df_first_onlycevd['bmi_filter'], cevd_df_first_onlycevd['cevd_event']).to_numpy()\n",
    "# chi-square test for independence for bmi data\n",
    "chi2_stat, p_val, dof, expected = chi2_contingency(data)\n",
    "print('bmi - Chi-square test statistic:', chi2_stat)\n",
    "print('bmi - P-value:', p_val)"
   ]
  },
  {
   "cell_type": "code",
   "execution_count": 86,
   "metadata": {
    "tags": []
   },
   "outputs": [
    {
     "name": "stdout",
     "output_type": "stream",
     "text": [
      "exp Cohort Percent disability $: 5.224225612575127\n",
      "exp Cohort Total disability $: 113.0\n",
      "Control Cohort Percent disability $: 2.395684808049286\n",
      "Control Cohort Total disability $: 1781.0\n",
      "disability $ - Chi-square test statistic: 68.48362446190052\n",
      "disability $ - P-value: 1.2793558883069255e-16\n"
     ]
    }
   ],
   "source": [
    "#get disability assistance status data\n",
    "percent_male_d = cevd_df_first_onlycevd.loc[cevd_df_first_onlycevd['cevd_event'] == 1, 'gov_assistance_filter'].mean() * 100\n",
    "male_sum_d = cevd_df_first_onlycevd.loc[cevd_df_first_onlycevd['cevd_event'] == 1, 'gov_assistance_filter'].sum()\n",
    "print('exp Cohort Percent disability $:', percent_male_d)\n",
    "print('exp Cohort Total disability $:', male_sum_d)\n",
    "percent_male_c = cevd_df_first_onlycevd.loc[cevd_df_first_onlycevd['cevd_event'] == 0, 'gov_assistance_filter'].mean() * 100\n",
    "male_sum_c = cevd_df_first_onlycevd.loc[cevd_df_first_onlycevd['cevd_event'] == 0, 'gov_assistance_filter'].sum()\n",
    "print('Control Cohort Percent disability $:', percent_male_c)\n",
    "print('Control Cohort Total disability $:', male_sum_c)\n",
    "data = pd.crosstab(cevd_df_first_onlycevd['gov_assistance_filter'], cevd_df_first_onlycevd['cevd_event']).to_numpy()\n",
    "# chi-square test for independence for male data\n",
    "chi2_stat, p_val, dof, expected = chi2_contingency(data)\n",
    "print('disability $ - Chi-square test statistic:', chi2_stat)\n",
    "print('disability $ - P-value:', p_val)"
   ]
  },
  {
   "cell_type": "code",
   "execution_count": 87,
   "metadata": {
    "tags": []
   },
   "outputs": [
    {
     "name": "stdout",
     "output_type": "stream",
     "text": [
      "exp Cohort Percent screen: 13.407304669440592\n",
      "exp Cohort Total screen: 290\n",
      "Control Cohort Percent screen: 17.47733448118157\n",
      "Control Cohort Total screen: 12993\n",
      "screen - Chi-square test statistic: 23.98389491325269\n",
      "screen - P-value: 9.714490196618309e-07\n"
     ]
    }
   ],
   "source": [
    "#get screen use data\n",
    "percent_male_d = cevd_df_first_onlycevd.loc[cevd_df_first_onlycevd['cevd_event'] == 1, 'full_screen_time_filter'].mean() * 100\n",
    "male_sum_d = cevd_df_first_onlycevd.loc[cevd_df_first_onlycevd['cevd_event'] == 1, 'full_screen_time_filter'].sum()\n",
    "print('exp Cohort Percent screen:', percent_male_d)\n",
    "print('exp Cohort Total screen:', male_sum_d)\n",
    "percent_male_c = cevd_df_first_onlycevd.loc[cevd_df_first_onlycevd['cevd_event'] == 0, 'full_screen_time_filter'].mean() * 100\n",
    "male_sum_c = cevd_df_first_onlycevd.loc[cevd_df_first_onlycevd['cevd_event'] == 0, 'full_screen_time_filter'].sum()\n",
    "print('Control Cohort Percent screen:', percent_male_c)\n",
    "print('Control Cohort Total screen:', male_sum_c)\n",
    "data = pd.crosstab(cevd_df_first_onlycevd['full_screen_time_filter'], cevd_df_first_onlycevd['cevd_event']).to_numpy()\n",
    "# chi-square test for independence for male data\n",
    "chi2_stat, p_val, dof, expected = chi2_contingency(data)\n",
    "print('screen - Chi-square test statistic:', chi2_stat)\n",
    "print('screen - P-value:', p_val)"
   ]
  },
  {
   "cell_type": "code",
   "execution_count": 88,
   "metadata": {
    "tags": []
   },
   "outputs": [
    {
     "name": "stdout",
     "output_type": "stream",
     "text": [
      "exp Percentages of alc freq\n",
      "2.0    44.983819\n",
      "3.0    29.311142\n",
      "1.0    25.705039\n",
      "Name: alc_freq_filter, dtype: float64\n",
      "econtrol Percentages of alc freq\n",
      "2.0    52.606871\n",
      "1.0    24.685911\n",
      "3.0    22.707218\n",
      "Name: alc_freq_filter, dtype: float64\n",
      "ALC FREQ - Chi-square test statistic: 64.23548285408448\n",
      "ALC FREQ - P-value: 1.1257504443053055e-14\n"
     ]
    }
   ],
   "source": [
    "# get the %s of each category for alcohol frequency \n",
    "perc_alc_freq_d = cevd_df_first_onlycevd.loc[cevd_df_first_onlycevd['cevd_event'] == 1, 'alc_freq_filter'].value_counts(normalize=True)\n",
    "print('exp Percentages of alc freq')\n",
    "print(perc_alc_freq_d * 100)\n",
    "perc_alc_freq_c = cevd_df_first_onlycevd.loc[cevd_df_first_onlycevd['cevd_event'] == 0, 'alc_freq_filter'].value_counts(normalize=True)\n",
    "# print the value counts as percentages\n",
    "print('econtrol Percentages of alc freq')\n",
    "print(perc_alc_freq_c * 100)\n",
    "data = pd.crosstab(cevd_df_first_onlycevd['alc_freq_filter'], cevd_df_first_onlycevd['cevd_event']).to_numpy()\n",
    "# chi-square test for independence\n",
    "chi2_stat, p_val, dof, expected = chi2_contingency(data)\n",
    "print('ALC FREQ - Chi-square test statistic:', chi2_stat)\n",
    "print('ALC FREQ - P-value:', p_val)"
   ]
  },
  {
   "cell_type": "code",
   "execution_count": 89,
   "metadata": {
    "tags": []
   },
   "outputs": [
    {
     "name": "stdout",
     "output_type": "stream",
     "text": [
      "Mean screen time with exp cohort: 4.095172049402286\n",
      "Standard Deviation of screen time with exp cohort: 2.1654528679634337\n",
      "P-value:\n"
     ]
    },
    {
     "data": {
      "text/plain": [
       "MannwhitneyuResult(statistic=5816505042.0, pvalue=0.0)"
      ]
     },
     "execution_count": 89,
     "metadata": {},
     "output_type": "execute_result"
    }
   ],
   "source": [
    "subset = cevd_df_first_onlycevd[cevd_df_first_onlycevd['cevd_event'] == 1]\n",
    "mean_age = subset['full_screen_time'].mean()\n",
    "std_dev_age = subset['full_screen_time'].std()\n",
    "\n",
    "print(\"Mean screen time with exp cohort:\", mean_age)\n",
    "print(\"Standard Deviation of screen time with exp cohort:\", std_dev_age)\n",
    "print('P-value:')\n",
    "stats.mannwhitneyu(x=cevd_df_first_onlycevd['full_screen_time'], y=cevd_df_first_onlycevd['cevd_event'], alternative = 'two-sided')\n"
   ]
  },
  {
   "cell_type": "code",
   "execution_count": 90,
   "metadata": {
    "tags": []
   },
   "outputs": [
    {
     "name": "stdout",
     "output_type": "stream",
     "text": [
      "Mean screen with control cohort: 3.7692459943811807\n",
      "Standard Deviation of screenwith control cohort: 2.1503716063728913\n",
      "P-value:\n"
     ]
    },
    {
     "data": {
      "text/plain": [
       "MannwhitneyuResult(statistic=5816505042.0, pvalue=0.0)"
      ]
     },
     "execution_count": 90,
     "metadata": {},
     "output_type": "execute_result"
    }
   ],
   "source": [
    "subset = cevd_df_first_onlycevd[cevd_df_first_onlycevd['cevd_event'] == 0]\n",
    "mean_age = subset['full_screen_time'].mean()\n",
    "std_dev_age = subset['full_screen_time'].std()\n",
    "\n",
    "print(\"Mean screen with control cohort:\", mean_age)\n",
    "print(\"Standard Deviation of screenwith control cohort:\", std_dev_age)\n",
    "print('P-value:')\n",
    "stats.mannwhitneyu(x=cevd_df_first_onlycevd['full_screen_time'], y=cevd_df_first_onlycevd['cevd_event'], alternative = 'two-sided')\n"
   ]
  },
  {
   "cell_type": "code",
   "execution_count": 91,
   "metadata": {
    "tags": []
   },
   "outputs": [
    {
     "name": "stdout",
     "output_type": "stream",
     "text": [
      "exp Cohort Percent employment: 51.87239944521498\n",
      "exp Cohort Total employment: 1122.0\n",
      "Control Cohort Percent employment: 73.34346668101477\n",
      "Control Cohort Total employment: 54525.0\n",
      "employment - Chi-square test statistic: 469.3123170426571\n",
      "employment - P-value: 1.2306235154399097e-102\n"
     ]
    }
   ],
   "source": [
    "#get employment filter data\n",
    "percent_male_d = cevd_df_first_onlycevd.loc[cevd_df_first_onlycevd['cevd_event'] == 1, 'employ_status_array_filter'].mean() * 100\n",
    "male_sum_d = cevd_df_first_onlycevd.loc[cevd_df_first_onlycevd['cevd_event'] == 1, 'employ_status_array_filter'].sum()\n",
    "print('exp Cohort Percent employment:', percent_male_d)\n",
    "print('exp Cohort Total employment:', male_sum_d)\n",
    "percent_male_c = cevd_df_first_onlycevd.loc[cevd_df_first_onlycevd['cevd_event'] == 0, 'employ_status_array_filter'].mean() * 100\n",
    "male_sum_c = cevd_df_first_onlycevd.loc[cevd_df_first_onlycevd['cevd_event'] == 0, 'employ_status_array_filter'].sum()\n",
    "print('Control Cohort Percent employment:', percent_male_c)\n",
    "print('Control Cohort Total employment:', male_sum_c)\n",
    "data = pd.crosstab(cevd_df_first_onlycevd['employ_status_array_filter'], cevd_df_first_onlycevd['cevd_event']).to_numpy()\n",
    "# chi-square test for independence for male data\n",
    "chi2_stat, p_val, dof, expected = chi2_contingency(data)\n",
    "print('employment - Chi-square test statistic:', chi2_stat)\n",
    "print('employment - P-value:', p_val)"
   ]
  },
  {
   "cell_type": "code",
   "execution_count": 92,
   "metadata": {
    "tags": []
   },
   "outputs": [
    {
     "name": "stdout",
     "output_type": "stream",
     "text": [
      "exp Percentages of comorbid\n",
      "0    49.976884\n",
      "1    33.009709\n",
      "2    17.013407\n",
      "Name: comorb_sum_filter, dtype: float64\n",
      "CONTROL Percentages of comorbid\n",
      "0    68.010008\n",
      "1    23.611148\n",
      "2     8.378844\n",
      "Name: comorb_sum_filter, dtype: float64\n",
      "comorbid - Chi-square test statistic: 360.74757205587184\n",
      "comorbid - P-value: 4.6201922583704023e-79\n"
     ]
    }
   ],
   "source": [
    "# get comorbid filter data\n",
    "perc_alc_freq_d = cevd_df_first_onlycevd.loc[cevd_df_first_onlycevd['cevd_event'] == 1, 'comorb_sum_filter'].value_counts(normalize=True)\n",
    "print('exp Percentages of comorbid')\n",
    "print(perc_alc_freq_d * 100)\n",
    "perc_alc_freq_c = cevd_df_first_onlycevd.loc[cevd_df_first_onlycevd['cevd_event'] == 0, 'comorb_sum_filter'].value_counts(normalize=True)\n",
    "print('CONTROL Percentages of comorbid')\n",
    "print(perc_alc_freq_c * 100)\n",
    "data = pd.crosstab(cevd_df_first_onlycevd['comorb_sum_filter'], cevd_df_first_onlycevd['cevd_event']).to_numpy()\n",
    "# chi-square test for independence\n",
    "chi2_stat, p_val, dof, expected = chi2_contingency(data)\n",
    "print('comorbid - Chi-square test statistic:', chi2_stat)\n",
    "print('comorbid - P-value:', p_val)"
   ]
  },
  {
   "cell_type": "code",
   "execution_count": 93,
   "metadata": {
    "tags": []
   },
   "outputs": [
    {
     "name": "stdout",
     "output_type": "stream",
     "text": [
      "exp Percentages of acc wear month\n",
      "4    30.097087\n",
      "3    26.490985\n",
      "2    21.729080\n",
      "1    21.682848\n",
      "Name: acc_wearmonth, dtype: float64\n",
      "CONTROL Percentages of acc wear month\n",
      "4    29.568750\n",
      "3    26.269135\n",
      "2    22.923785\n",
      "1    21.238331\n",
      "Name: acc_wearmonth, dtype: float64\n",
      "acc wear month - Chi-square test statistic: 1.7437449650655716\n",
      "acc wear month - P-value: 0.6272524783297337\n"
     ]
    }
   ],
   "source": [
    "# get the accelerometer wear month data \n",
    "perc_alc_freq_d = cevd_df_first_onlycevd.loc[cevd_df_first_onlycevd['cevd_event'] == 1, 'acc_wearmonth'].value_counts(normalize=True)\n",
    "print('exp Percentages of acc wear month')\n",
    "print(perc_alc_freq_d * 100)\n",
    "perc_alc_freq_c = cevd_df_first_onlycevd.loc[cevd_df_first_onlycevd['cevd_event'] == 0, 'acc_wearmonth'].value_counts(normalize=True)\n",
    "# print the value counts as percentages\n",
    "print('CONTROL Percentages of acc wear month')\n",
    "print(perc_alc_freq_c * 100)\n",
    "data = pd.crosstab(cevd_df_first_onlycevd['acc_wearmonth'], cevd_df_first_onlycevd['cevd_event']).to_numpy()\n",
    "# chi-square test for independence\n",
    "chi2_stat, p_val, dof, expected = chi2_contingency(data)\n",
    "print('acc wear month - Chi-square test statistic:', chi2_stat)\n",
    "print('acc wear month - P-value:', p_val)"
   ]
  },
  {
   "cell_type": "code",
   "execution_count": 94,
   "metadata": {
    "tags": []
   },
   "outputs": [
    {
     "name": "stdout",
     "output_type": "stream",
     "text": [
      "exp Cohort Percent depressed: 9.939898289412854\n",
      "exp Cohort Total depressed: 215\n",
      "Control Cohort Percent depressed: 8.77296817411423\n",
      "Control Cohort Total depressed: 6522\n",
      "depressed - Chi-square test statistic: 3.4202491662271077\n",
      "depressed - P-value: 0.06440129232624256\n"
     ]
    }
   ],
   "source": [
    "#get male/female data\n",
    "percent_male_d = cevd_df_first_onlycevd.loc[cevd_df_first_onlycevd['cevd_event'] == 1, 'dep_diag_yes'].mean() * 100\n",
    "male_sum_d = cevd_df_first_onlycevd.loc[cevd_df_first_onlycevd['cevd_event'] == 1, 'dep_diag_yes'].sum()\n",
    "print('exp Cohort Percent depressed:', percent_male_d)\n",
    "print('exp Cohort Total depressed:', male_sum_d)\n",
    "percent_male_c = cevd_df_first_onlycevd.loc[cevd_df_first_onlycevd['cevd_event'] == 0, 'dep_diag_yes'].mean() * 100\n",
    "male_sum_c = cevd_df_first_onlycevd.loc[cevd_df_first_onlycevd['cevd_event'] == 0, 'dep_diag_yes'].sum()\n",
    "print('Control Cohort Percent depressed:', percent_male_c)\n",
    "print('Control Cohort Total depressed:', male_sum_c)\n",
    "data = pd.crosstab(cevd_df_first_onlycevd['dep_diag_yes'], cevd_df_first_onlycevd['cevd_event']).to_numpy()\n",
    "# chi-square test for independence for male data\n",
    "chi2_stat, p_val, dof, expected = chi2_contingency(data)\n",
    "print('depressed - Chi-square test statistic:', chi2_stat)\n",
    "print('depressed - P-value:', p_val)"
   ]
  },
  {
   "cell_type": "code",
   "execution_count": 95,
   "metadata": {
    "tags": []
   },
   "outputs": [],
   "source": [
    "#export data for accelerometer study to .csv file to transfer to R\n",
    "cevd_df_first.to_csv('cevd_first_model.csv', index=False)"
   ]
  },
  {
   "cell_type": "code",
   "execution_count": 96,
   "metadata": {
    "tags": []
   },
   "outputs": [],
   "source": [
    "#person year calculation if needed\n",
    "#i69_days = cevd_df_first['i69_t2e'].sum()\n",
    "#i69_personyears = i69_days/365\n",
    "#print(i69_personyears)"
   ]
  },
  {
   "cell_type": "code",
   "execution_count": 97,
   "metadata": {},
   "outputs": [],
   "source": [
    "#"
   ]
  },
  {
   "cell_type": "code",
   "execution_count": 98,
   "metadata": {},
   "outputs": [],
   "source": [
    "#sensitivity analysis 1"
   ]
  },
  {
   "cell_type": "code",
   "execution_count": 99,
   "metadata": {},
   "outputs": [],
   "source": [
    "#"
   ]
  },
  {
   "cell_type": "code",
   "execution_count": 100,
   "metadata": {
    "tags": []
   },
   "outputs": [
    {
     "data": {
      "text/plain": [
       "74611"
      ]
     },
     "execution_count": 100,
     "metadata": {},
     "output_type": "execute_result"
    }
   ],
   "source": [
    "#drop all px on disability assistance\n",
    "cevd_df_noassist = cevd_df_first[cevd_df_first['gov_assistance_filter']==0]\n",
    "len(cevd_df_noassist)"
   ]
  },
  {
   "cell_type": "code",
   "execution_count": 101,
   "metadata": {
    "tags": []
   },
   "outputs": [
    {
     "data": {
      "text/plain": [
       "50749"
      ]
     },
     "execution_count": 101,
     "metadata": {},
     "output_type": "execute_result"
    }
   ],
   "source": [
    "#drop all px with comorbidities\n",
    "cevd_df_noassist_nocomor = cevd_df_noassist[cevd_df_noassist['comorb_sum_filter']==0]\n",
    "len(cevd_df_noassist_nocomor)"
   ]
  },
  {
   "cell_type": "code",
   "execution_count": 102,
   "metadata": {
    "tags": []
   },
   "outputs": [],
   "source": [
    "cevd_df_noassist_nocomor.to_csv('cevd_first_model_sa.csv', index=False)"
   ]
  },
  {
   "cell_type": "code",
   "execution_count": 103,
   "metadata": {
    "tags": []
   },
   "outputs": [],
   "source": [
    "#"
   ]
  },
  {
   "cell_type": "code",
   "execution_count": 104,
   "metadata": {
    "tags": []
   },
   "outputs": [],
   "source": [
    "#sensitivity analysis 2"
   ]
  },
  {
   "cell_type": "code",
   "execution_count": 105,
   "metadata": {
    "tags": []
   },
   "outputs": [],
   "source": [
    "#"
   ]
  },
  {
   "cell_type": "code",
   "execution_count": 106,
   "metadata": {
    "tags": []
   },
   "outputs": [],
   "source": [
    "#filter time to event for cevd for sa"
   ]
  },
  {
   "cell_type": "code",
   "execution_count": 107,
   "metadata": {
    "tags": []
   },
   "outputs": [],
   "source": [
    "def filter_cevd_t2e(value):\n",
    "    if pd.isna(value):\n",
    "        return 0\n",
    "    elif value < 1096:\n",
    "        return 1\n",
    "    elif 1096 <= value <= 1825:\n",
    "        return 2\n",
    "    else:\n",
    "        return 3\n",
    "\n",
    "cevd_df_first['cevd_t2e_filter'] = cevd_df_first['cevd_t2e'].apply(filter_cevd_t2e)"
   ]
  },
  {
   "cell_type": "code",
   "execution_count": 108,
   "metadata": {
    "tags": []
   },
   "outputs": [
    {
     "name": "stdout",
     "output_type": "stream",
     "text": [
      "Number of px with no cevd: 74342\n"
     ]
    }
   ],
   "source": [
    "cevd_0 = cevd_df_first[cevd_df_first['cevd_t2e_filter']==0]\n",
    "print('Number of px with no cevd:',len(cevd_0))"
   ]
  },
  {
   "cell_type": "code",
   "execution_count": 109,
   "metadata": {
    "tags": []
   },
   "outputs": [
    {
     "name": "stdout",
     "output_type": "stream",
     "text": [
      "Number of px with cevd within 3 years of accelerometer study: 636\n"
     ]
    }
   ],
   "source": [
    "cevd_1 = cevd_df_first[cevd_df_first['cevd_t2e_filter']==1]\n",
    "print('Number of px with cevd within 3 years of accelerometer study:',len(cevd_1))"
   ]
  },
  {
   "cell_type": "code",
   "execution_count": 110,
   "metadata": {
    "tags": []
   },
   "outputs": [
    {
     "name": "stdout",
     "output_type": "stream",
     "text": [
      "Number of px with cevd between 3-5 years after accelerometer study: 524\n"
     ]
    }
   ],
   "source": [
    "cevd_2 = cevd_df_first[cevd_df_first['cevd_t2e_filter']==2]\n",
    "print('Number of px with cevd between 3-5 years after accelerometer study:',len(cevd_2))"
   ]
  },
  {
   "cell_type": "code",
   "execution_count": 111,
   "metadata": {
    "tags": []
   },
   "outputs": [
    {
     "name": "stdout",
     "output_type": "stream",
     "text": [
      "Number of px with cevd 5 or more years after accelerometer study: 1003\n"
     ]
    }
   ],
   "source": [
    "cevd_3 = cevd_df_first[cevd_df_first['cevd_t2e_filter']==3]\n",
    "print('Number of px with cevd 5 or more years after accelerometer study:',len(cevd_3))"
   ]
  },
  {
   "cell_type": "code",
   "execution_count": 112,
   "metadata": {},
   "outputs": [],
   "source": [
    "cevd_df_first.to_csv('cevd_first_model_sa_cevdt2e.csv', index=False)"
   ]
  },
  {
   "cell_type": "code",
   "execution_count": 113,
   "metadata": {
    "tags": []
   },
   "outputs": [
    {
     "name": "stdout",
     "output_type": "stream",
     "text": [
      "mean years from end of study to CeVD: 4.507348368260724\n",
      "std: 2.3530434375238425\n"
     ]
    }
   ],
   "source": [
    "mean_t2e_cevd = cevd_df_first['cevd_t2e'].mean()\n",
    "std_t2e_cevd = cevd_df_first['cevd_t2e'].std()\n",
    "\n",
    "print('mean years from end of study to CeVD:', (mean_t2e_cevd/365))\n",
    "print('std:', (std_t2e_cevd/365))"
   ]
  },
  {
   "cell_type": "code",
   "execution_count": 114,
   "metadata": {},
   "outputs": [],
   "source": [
    "#"
   ]
  },
  {
   "cell_type": "code",
   "execution_count": 115,
   "metadata": {},
   "outputs": [],
   "source": [
    "#sensitvity analysis 3"
   ]
  },
  {
   "cell_type": "code",
   "execution_count": 116,
   "metadata": {},
   "outputs": [],
   "source": [
    "#"
   ]
  },
  {
   "cell_type": "code",
   "execution_count": 117,
   "metadata": {
    "tags": []
   },
   "outputs": [],
   "source": [
    "def filter_dep_dur(value):\n",
    "    if pd.isna(value):\n",
    "        return 0\n",
    "    elif value < 1896:\n",
    "        return 1\n",
    "    elif 1896 <= value <= 3650:\n",
    "        return 2\n",
    "    else:\n",
    "        return 3\n",
    "\n",
    "cevd_df_first['dep_dur_filter'] = cevd_df_first['dep_dur'].apply(filter_dep_dur)"
   ]
  },
  {
   "cell_type": "code",
   "execution_count": 118,
   "metadata": {
    "tags": []
   },
   "outputs": [
    {
     "name": "stdout",
     "output_type": "stream",
     "text": [
      "number of patients without depression diagnosis prior to accelerometer study: 68186\n"
     ]
    }
   ],
   "source": [
    "dep_0 = cevd_df_first[cevd_df_first['dep_dur_filter']==0]\n",
    "print('number of patients without depression diagnosis prior to accelerometer study:', len(dep_0))"
   ]
  },
  {
   "cell_type": "code",
   "execution_count": 119,
   "metadata": {
    "tags": []
   },
   "outputs": [
    {
     "name": "stdout",
     "output_type": "stream",
     "text": [
      "number of patients with depression diagnosis within 5 yrs before accelerometer study: 2450\n"
     ]
    }
   ],
   "source": [
    "dep_1 = cevd_df_first[cevd_df_first['dep_dur_filter']==1]\n",
    "print('number of patients with depression diagnosis within 5 yrs before accelerometer study:', len(dep_1))"
   ]
  },
  {
   "cell_type": "code",
   "execution_count": 120,
   "metadata": {
    "tags": []
   },
   "outputs": [
    {
     "name": "stdout",
     "output_type": "stream",
     "text": [
      "number of patients with depression diagnosis conferred between 5 and 10 yrs before accelerometer study: 1326\n"
     ]
    }
   ],
   "source": [
    "dep_2 = cevd_df_first[cevd_df_first['dep_dur_filter']==2]\n",
    "print('number of patients with depression diagnosis conferred between 5 and 10 yrs before accelerometer study:', len(dep_2))"
   ]
  },
  {
   "cell_type": "code",
   "execution_count": 121,
   "metadata": {
    "tags": []
   },
   "outputs": [
    {
     "name": "stdout",
     "output_type": "stream",
     "text": [
      "number of patients with depression diagnosis conferred 10 or more yrs before accelerometer study: 4543\n"
     ]
    }
   ],
   "source": [
    "dep_3 = cevd_df_first[cevd_df_first['dep_dur_filter']==3]\n",
    "print('number of patients with depression diagnosis conferred 10 or more yrs before accelerometer study:', len(dep_3))"
   ]
  },
  {
   "cell_type": "code",
   "execution_count": 122,
   "metadata": {
    "tags": []
   },
   "outputs": [
    {
     "name": "stdout",
     "output_type": "stream",
     "text": [
      "mean years from dep diag to start of study: 13.539068348243912\n",
      "std: 14.262918013429811\n"
     ]
    }
   ],
   "source": [
    "mean_t2e_dep = cevd_df_first['dep_dur'].mean()\n",
    "std_t2e_dep = cevd_df_first['dep_dur'].std()\n",
    "\n",
    "print('mean years from dep diag to start of study:', (mean_t2e_dep/365))\n",
    "print('std:', (std_t2e_dep/365))"
   ]
  },
  {
   "cell_type": "code",
   "execution_count": 123,
   "metadata": {
    "tags": []
   },
   "outputs": [],
   "source": [
    "cevd_df_first.to_csv('cevd_first_model_sa_cevdt2eanddep.csv', index=False)"
   ]
  },
  {
   "cell_type": "code",
   "execution_count": 124,
   "metadata": {
    "tags": []
   },
   "outputs": [],
   "source": [
    "#to upload on RAP UKBB\n",
    "#%%bash\n",
    "#dx upload <insert file name here>.ipynb --dest /"
   ]
  },
  {
   "cell_type": "code",
   "execution_count": 125,
   "metadata": {
    "tags": []
   },
   "outputs": [],
   "source": [
    "#"
   ]
  }
 ],
 "metadata": {
  "kernelspec": {
   "display_name": "Python 3 (ipykernel)",
   "language": "python",
   "name": "python3"
  },
  "language_info": {
   "codemirror_mode": {
    "name": "ipython",
    "version": 3
   },
   "file_extension": ".py",
   "mimetype": "text/x-python",
   "name": "python",
   "nbconvert_exporter": "python",
   "pygments_lexer": "ipython3",
   "version": "3.9.16"
  }
 },
 "nbformat": 4,
 "nbformat_minor": 4
}
